{
 "cells": [
  {
   "cell_type": "code",
   "execution_count": 13,
   "metadata": {},
   "outputs": [],
   "source": [
    "# Make the following code support python2 and python3\n",
    "from __future__ import division, print_function, unicode_literals\n",
    "\n",
    "# Check if the version of python is 3.5 and above\n",
    "import sys\n",
    "assert sys.version_info >= (3, 5)\n",
    "\n",
    "# Check to see if sklearn is version 0.20 and above\n",
    "import sklearn\n",
    "assert sklearn.__version__ >= \"0.20\"\n",
    "\n",
    "import numpy as np\n",
    "import pandas as pd\n",
    "import os \n",
    "\n",
    "# The result obtained after each run is the same as that of this notebook\n",
    "np.random.seed(42) \n",
    "\n",
    "# Make matplotlib diagrams work better\n",
    "%matplotlib inline\n",
    "import matplotlib as mpl\n",
    "mpl.rc('axes', labelsize=14)\n",
    "mpl.rc('xtick', labelsize=12)\n",
    "mpl.rc('ytick', labelsize=12)\n",
    "\n",
    "# Setting the route to save the image\n",
    "PROJECT_ROOT_DIR = \".\"\n",
    "IMAGE_PATH = os.path.join(PROJECT_ROOT_DIR, \"images\")\n",
    "os.makedirs(IMAGE_PATH, exist_ok=True)\n",
    "\n",
    "def save_fig(fig_id, tight_layout=True):\n",
    "    '''\n",
    "    Run to save automatic pictures\n",
    "    \n",
    "    fig_id : Picture Name\n",
    "    '''\n",
    "    path = os.path.join(PROJECT_ROOT_DIR, \"images\", fig_id + \".png\")\n",
    "    print(\"Saving figure\", fig_id)\n",
    "    if tight_layout:\n",
    "        plt.tight_layout()\n",
    "    plt.savefig(path, format='png', dpi=300)\n",
    "    \n",
    "# Ignore the useless warnings (Scipy issue #5998)\n",
    "import warnings\n",
    "warnings.filterwarnings(action=\"ignore\", message=\"^internal gelsd\")"
   ]
  },
  {
   "cell_type": "code",
   "execution_count": 14,
   "metadata": {},
   "outputs": [],
   "source": [
    "df = pd.read_excel(\"data.xlsx\", engine=\"openpyxl\")"
   ]
  },
  {
   "cell_type": "markdown",
   "metadata": {},
   "source": [
    "## Data Exploration"
   ]
  },
  {
   "cell_type": "code",
   "execution_count": 15,
   "metadata": {},
   "outputs": [
    {
     "data": {
      "text/html": [
       "<div>\n",
       "<style scoped>\n",
       "    .dataframe tbody tr th:only-of-type {\n",
       "        vertical-align: middle;\n",
       "    }\n",
       "\n",
       "    .dataframe tbody tr th {\n",
       "        vertical-align: top;\n",
       "    }\n",
       "\n",
       "    .dataframe thead th {\n",
       "        text-align: right;\n",
       "    }\n",
       "</style>\n",
       "<table border=\"1\" class=\"dataframe\">\n",
       "  <thead>\n",
       "    <tr style=\"text-align: right;\">\n",
       "      <th></th>\n",
       "      <th>Sample type</th>\n",
       "      <th>天然：1</th>\n",
       "      <th>SiO2</th>\n",
       "      <th>TiO2</th>\n",
       "      <th>Al2O3</th>\n",
       "      <th>Cr2O3</th>\n",
       "      <th>FeOtot</th>\n",
       "      <th>MnO</th>\n",
       "      <th>MgO</th>\n",
       "      <th>CaO</th>\n",
       "      <th>Na2O</th>\n",
       "      <th>K2O</th>\n",
       "      <th>P2O5</th>\n",
       "      <th>NiO</th>\n",
       "      <th>ZnO</th>\n",
       "      <th>Li2O</th>\n",
       "      <th>ZrO2</th>\n",
       "      <th>V2O5</th>\n",
       "      <th>Fe3+/Fetot</th>\n",
       "    </tr>\n",
       "  </thead>\n",
       "  <tbody>\n",
       "    <tr>\n",
       "      <th>0</th>\n",
       "      <td>hedenbergite (CaFeSi2O6)–petedunnite (CaZnSi2O...</td>\n",
       "      <td>2.0</td>\n",
       "      <td>48.09</td>\n",
       "      <td>NaN</td>\n",
       "      <td>NaN</td>\n",
       "      <td>NaN</td>\n",
       "      <td>29.61</td>\n",
       "      <td>NaN</td>\n",
       "      <td>NaN</td>\n",
       "      <td>21.60</td>\n",
       "      <td>NaN</td>\n",
       "      <td>NaN</td>\n",
       "      <td>NaN</td>\n",
       "      <td>NaN</td>\n",
       "      <td>NaN</td>\n",
       "      <td>NaN</td>\n",
       "      <td>NaN</td>\n",
       "      <td>NaN</td>\n",
       "      <td>0.000</td>\n",
       "    </tr>\n",
       "    <tr>\n",
       "      <th>1</th>\n",
       "      <td>hedenbergite (CaFeSi2O6)–petedunnite (CaZnSi2O...</td>\n",
       "      <td>2.0</td>\n",
       "      <td>48.18</td>\n",
       "      <td>NaN</td>\n",
       "      <td>NaN</td>\n",
       "      <td>NaN</td>\n",
       "      <td>29.17</td>\n",
       "      <td>NaN</td>\n",
       "      <td>NaN</td>\n",
       "      <td>22.95</td>\n",
       "      <td>NaN</td>\n",
       "      <td>NaN</td>\n",
       "      <td>NaN</td>\n",
       "      <td>NaN</td>\n",
       "      <td>NaN</td>\n",
       "      <td>NaN</td>\n",
       "      <td>NaN</td>\n",
       "      <td>NaN</td>\n",
       "      <td>0.000</td>\n",
       "    </tr>\n",
       "    <tr>\n",
       "      <th>2</th>\n",
       "      <td>hedenbergite (CaFeSi2O6)–petedunnite (CaZnSi2O...</td>\n",
       "      <td>2.0</td>\n",
       "      <td>48.41</td>\n",
       "      <td>NaN</td>\n",
       "      <td>NaN</td>\n",
       "      <td>NaN</td>\n",
       "      <td>24.42</td>\n",
       "      <td>NaN</td>\n",
       "      <td>NaN</td>\n",
       "      <td>22.53</td>\n",
       "      <td>NaN</td>\n",
       "      <td>NaN</td>\n",
       "      <td>NaN</td>\n",
       "      <td>NaN</td>\n",
       "      <td>5.16</td>\n",
       "      <td>NaN</td>\n",
       "      <td>NaN</td>\n",
       "      <td>NaN</td>\n",
       "      <td>0.000</td>\n",
       "    </tr>\n",
       "    <tr>\n",
       "      <th>3</th>\n",
       "      <td>hedenbergite (CaFeSi2O6)–petedunnite (CaZnSi2O...</td>\n",
       "      <td>2.0</td>\n",
       "      <td>47.37</td>\n",
       "      <td>NaN</td>\n",
       "      <td>NaN</td>\n",
       "      <td>NaN</td>\n",
       "      <td>22.81</td>\n",
       "      <td>NaN</td>\n",
       "      <td>NaN</td>\n",
       "      <td>22.12</td>\n",
       "      <td>NaN</td>\n",
       "      <td>NaN</td>\n",
       "      <td>NaN</td>\n",
       "      <td>NaN</td>\n",
       "      <td>7.61</td>\n",
       "      <td>NaN</td>\n",
       "      <td>NaN</td>\n",
       "      <td>NaN</td>\n",
       "      <td>0.000</td>\n",
       "    </tr>\n",
       "    <tr>\n",
       "      <th>4</th>\n",
       "      <td>hedenbergite (CaFeSi2O6)–petedunnite (CaZnSi2O...</td>\n",
       "      <td>2.0</td>\n",
       "      <td>47.47</td>\n",
       "      <td>NaN</td>\n",
       "      <td>NaN</td>\n",
       "      <td>NaN</td>\n",
       "      <td>18.96</td>\n",
       "      <td>NaN</td>\n",
       "      <td>NaN</td>\n",
       "      <td>22.49</td>\n",
       "      <td>NaN</td>\n",
       "      <td>NaN</td>\n",
       "      <td>NaN</td>\n",
       "      <td>NaN</td>\n",
       "      <td>10.81</td>\n",
       "      <td>NaN</td>\n",
       "      <td>NaN</td>\n",
       "      <td>NaN</td>\n",
       "      <td>0.106</td>\n",
       "    </tr>\n",
       "  </tbody>\n",
       "</table>\n",
       "</div>"
      ],
      "text/plain": [
       "                                         Sample type  天然：1   SiO2  TiO2  \\\n",
       "0  hedenbergite (CaFeSi2O6)–petedunnite (CaZnSi2O...   2.0  48.09   NaN   \n",
       "1  hedenbergite (CaFeSi2O6)–petedunnite (CaZnSi2O...   2.0  48.18   NaN   \n",
       "2  hedenbergite (CaFeSi2O6)–petedunnite (CaZnSi2O...   2.0  48.41   NaN   \n",
       "3  hedenbergite (CaFeSi2O6)–petedunnite (CaZnSi2O...   2.0  47.37   NaN   \n",
       "4  hedenbergite (CaFeSi2O6)–petedunnite (CaZnSi2O...   2.0  47.47   NaN   \n",
       "\n",
       "   Al2O3  Cr2O3  FeOtot  MnO  MgO    CaO  Na2O  K2O  P2O5  NiO    ZnO  Li2O  \\\n",
       "0    NaN    NaN   29.61  NaN  NaN  21.60   NaN  NaN   NaN  NaN    NaN   NaN   \n",
       "1    NaN    NaN   29.17  NaN  NaN  22.95   NaN  NaN   NaN  NaN    NaN   NaN   \n",
       "2    NaN    NaN   24.42  NaN  NaN  22.53   NaN  NaN   NaN  NaN   5.16   NaN   \n",
       "3    NaN    NaN   22.81  NaN  NaN  22.12   NaN  NaN   NaN  NaN   7.61   NaN   \n",
       "4    NaN    NaN   18.96  NaN  NaN  22.49   NaN  NaN   NaN  NaN  10.81   NaN   \n",
       "\n",
       "   ZrO2  V2O5  Fe3+/Fetot  \n",
       "0   NaN   NaN       0.000  \n",
       "1   NaN   NaN       0.000  \n",
       "2   NaN   NaN       0.000  \n",
       "3   NaN   NaN       0.000  \n",
       "4   NaN   NaN       0.106  "
      ]
     },
     "execution_count": 15,
     "metadata": {},
     "output_type": "execute_result"
    }
   ],
   "source": [
    "df.head()"
   ]
  },
  {
   "cell_type": "code",
   "execution_count": 16,
   "metadata": {},
   "outputs": [
    {
     "data": {
      "text/plain": [
       "Index(['Sample type', '天然：1', 'SiO2', 'TiO2', 'Al2O3', 'Cr2O3', 'FeOtot',\n",
       "       'MnO', 'MgO', 'CaO', 'Na2O', 'K2O', 'P2O5', 'NiO', 'ZnO', 'Li2O',\n",
       "       'ZrO2', 'V2O5', 'Fe3+/Fetot'],\n",
       "      dtype='object')"
      ]
     },
     "execution_count": 16,
     "metadata": {},
     "output_type": "execute_result"
    }
   ],
   "source": [
    "df.columns"
   ]
  },
  {
   "cell_type": "code",
   "execution_count": 17,
   "metadata": {},
   "outputs": [],
   "source": [
    "# create a duplicate in case to in case that the original data set is modified\n",
    "dataset = df.iloc[:, 2:]"
   ]
  },
  {
   "cell_type": "code",
   "execution_count": 18,
   "metadata": {},
   "outputs": [
    {
     "name": "stdout",
     "output_type": "stream",
     "text": [
      "<class 'pandas.core.frame.DataFrame'>\n",
      "RangeIndex: 390 entries, 0 to 389\n",
      "Data columns (total 17 columns):\n",
      " #   Column      Non-Null Count  Dtype  \n",
      "---  ------      --------------  -----  \n",
      " 0   SiO2        390 non-null    float64\n",
      " 1   TiO2        354 non-null    float64\n",
      " 2   Al2O3       364 non-null    float64\n",
      " 3   Cr2O3       348 non-null    float64\n",
      " 4   FeOtot      390 non-null    float64\n",
      " 5   MnO         330 non-null    float64\n",
      " 6   MgO         379 non-null    float64\n",
      " 7   CaO         390 non-null    float64\n",
      " 8   Na2O        380 non-null    float64\n",
      " 9   K2O         169 non-null    float64\n",
      " 10  P2O5        5 non-null      float64\n",
      " 11  NiO         171 non-null    float64\n",
      " 12  ZnO         15 non-null     float64\n",
      " 13  Li2O        5 non-null      float64\n",
      " 14  ZrO2        3 non-null      float64\n",
      " 15  V2O5        8 non-null      float64\n",
      " 16  Fe3+/Fetot  390 non-null    float64\n",
      "dtypes: float64(17)\n",
      "memory usage: 51.9 KB\n"
     ]
    }
   ],
   "source": [
    "dataset.info()"
   ]
  },
  {
   "cell_type": "code",
   "execution_count": 19,
   "metadata": {},
   "outputs": [
    {
     "data": {
      "text/html": [
       "<div>\n",
       "<style scoped>\n",
       "    .dataframe tbody tr th:only-of-type {\n",
       "        vertical-align: middle;\n",
       "    }\n",
       "\n",
       "    .dataframe tbody tr th {\n",
       "        vertical-align: top;\n",
       "    }\n",
       "\n",
       "    .dataframe thead th {\n",
       "        text-align: right;\n",
       "    }\n",
       "</style>\n",
       "<table border=\"1\" class=\"dataframe\">\n",
       "  <thead>\n",
       "    <tr style=\"text-align: right;\">\n",
       "      <th></th>\n",
       "      <th>SiO2</th>\n",
       "      <th>TiO2</th>\n",
       "      <th>Al2O3</th>\n",
       "      <th>Cr2O3</th>\n",
       "      <th>FeOtot</th>\n",
       "      <th>MnO</th>\n",
       "      <th>MgO</th>\n",
       "      <th>CaO</th>\n",
       "      <th>Na2O</th>\n",
       "      <th>K2O</th>\n",
       "      <th>P2O5</th>\n",
       "      <th>NiO</th>\n",
       "      <th>ZnO</th>\n",
       "      <th>Li2O</th>\n",
       "      <th>ZrO2</th>\n",
       "      <th>V2O5</th>\n",
       "      <th>Fe3+/Fetot</th>\n",
       "    </tr>\n",
       "  </thead>\n",
       "  <tbody>\n",
       "    <tr>\n",
       "      <th>count</th>\n",
       "      <td>390.000000</td>\n",
       "      <td>354.000000</td>\n",
       "      <td>3.640000e+02</td>\n",
       "      <td>348.000000</td>\n",
       "      <td>390.000000</td>\n",
       "      <td>330.000000</td>\n",
       "      <td>3.790000e+02</td>\n",
       "      <td>3.900000e+02</td>\n",
       "      <td>380.000000</td>\n",
       "      <td>1.690000e+02</td>\n",
       "      <td>5.000000</td>\n",
       "      <td>171.000000</td>\n",
       "      <td>1.500000e+01</td>\n",
       "      <td>5.000000</td>\n",
       "      <td>3.000000</td>\n",
       "      <td>8.000000e+00</td>\n",
       "      <td>390.000000</td>\n",
       "    </tr>\n",
       "    <tr>\n",
       "      <th>mean</th>\n",
       "      <td>52.588121</td>\n",
       "      <td>0.683474</td>\n",
       "      <td>5.634114e+00</td>\n",
       "      <td>0.804728</td>\n",
       "      <td>5.821023</td>\n",
       "      <td>0.112056</td>\n",
       "      <td>1.436257e+01</td>\n",
       "      <td>1.817262e+01</td>\n",
       "      <td>2.171707</td>\n",
       "      <td>3.023375e-02</td>\n",
       "      <td>0.205200</td>\n",
       "      <td>0.050912</td>\n",
       "      <td>7.260000e+00</td>\n",
       "      <td>7.684000</td>\n",
       "      <td>0.640000</td>\n",
       "      <td>4.200004e-02</td>\n",
       "      <td>0.277177</td>\n",
       "    </tr>\n",
       "    <tr>\n",
       "      <th>std</th>\n",
       "      <td>3.169816</td>\n",
       "      <td>1.334923</td>\n",
       "      <td>4.238189e+00</td>\n",
       "      <td>1.418578</td>\n",
       "      <td>7.056935</td>\n",
       "      <td>0.130789</td>\n",
       "      <td>4.487865e+00</td>\n",
       "      <td>5.577510e+00</td>\n",
       "      <td>2.221430</td>\n",
       "      <td>7.362901e-02</td>\n",
       "      <td>0.321835</td>\n",
       "      <td>0.070330</td>\n",
       "      <td>9.673504e+00</td>\n",
       "      <td>0.122558</td>\n",
       "      <td>0.372424</td>\n",
       "      <td>3.600392e-02</td>\n",
       "      <td>0.214405</td>\n",
       "    </tr>\n",
       "    <tr>\n",
       "      <th>min</th>\n",
       "      <td>41.620000</td>\n",
       "      <td>0.000000</td>\n",
       "      <td>1.000000e-07</td>\n",
       "      <td>0.000000</td>\n",
       "      <td>0.040000</td>\n",
       "      <td>0.000000</td>\n",
       "      <td>1.000000e-07</td>\n",
       "      <td>1.000000e-07</td>\n",
       "      <td>0.000000</td>\n",
       "      <td>0.000000e+00</td>\n",
       "      <td>0.040000</td>\n",
       "      <td>0.000000</td>\n",
       "      <td>1.000000e-07</td>\n",
       "      <td>7.500000</td>\n",
       "      <td>0.420000</td>\n",
       "      <td>1.000000e-07</td>\n",
       "      <td>0.000000</td>\n",
       "    </tr>\n",
       "    <tr>\n",
       "      <th>25%</th>\n",
       "      <td>51.220000</td>\n",
       "      <td>0.090000</td>\n",
       "      <td>2.460000e+00</td>\n",
       "      <td>0.070000</td>\n",
       "      <td>2.542500</td>\n",
       "      <td>0.040000</td>\n",
       "      <td>1.246000e+01</td>\n",
       "      <td>1.780750e+01</td>\n",
       "      <td>1.000000</td>\n",
       "      <td>1.000000e-07</td>\n",
       "      <td>0.055000</td>\n",
       "      <td>0.020000</td>\n",
       "      <td>1.000000e-07</td>\n",
       "      <td>7.621000</td>\n",
       "      <td>0.425000</td>\n",
       "      <td>1.000000e-07</td>\n",
       "      <td>0.154775</td>\n",
       "    </tr>\n",
       "    <tr>\n",
       "      <th>50%</th>\n",
       "      <td>52.415000</td>\n",
       "      <td>0.340000</td>\n",
       "      <td>5.795000e+00</td>\n",
       "      <td>0.710000</td>\n",
       "      <td>3.295000</td>\n",
       "      <td>0.090000</td>\n",
       "      <td>1.510000e+01</td>\n",
       "      <td>1.980000e+01</td>\n",
       "      <td>1.570000</td>\n",
       "      <td>5.000000e-03</td>\n",
       "      <td>0.061000</td>\n",
       "      <td>0.040000</td>\n",
       "      <td>1.000000e-07</td>\n",
       "      <td>7.739000</td>\n",
       "      <td>0.430000</td>\n",
       "      <td>5.650000e-02</td>\n",
       "      <td>0.230000</td>\n",
       "    </tr>\n",
       "    <tr>\n",
       "      <th>75%</th>\n",
       "      <td>54.777500</td>\n",
       "      <td>0.630000</td>\n",
       "      <td>7.102500e+00</td>\n",
       "      <td>1.160000</td>\n",
       "      <td>6.662500</td>\n",
       "      <td>0.120000</td>\n",
       "      <td>1.637000e+01</td>\n",
       "      <td>2.107250e+01</td>\n",
       "      <td>2.112500</td>\n",
       "      <td>3.000000e-02</td>\n",
       "      <td>0.090000</td>\n",
       "      <td>0.060000</td>\n",
       "      <td>1.292500e+01</td>\n",
       "      <td>7.760000</td>\n",
       "      <td>0.750000</td>\n",
       "      <td>6.925000e-02</td>\n",
       "      <td>0.320000</td>\n",
       "    </tr>\n",
       "    <tr>\n",
       "      <th>max</th>\n",
       "      <td>64.960000</td>\n",
       "      <td>9.760000</td>\n",
       "      <td>2.821600e+01</td>\n",
       "      <td>23.670000</td>\n",
       "      <td>54.350000</td>\n",
       "      <td>0.930000</td>\n",
       "      <td>3.975000e+01</td>\n",
       "      <td>2.550000e+01</td>\n",
       "      <td>12.980000</td>\n",
       "      <td>6.300000e-01</td>\n",
       "      <td>0.780000</td>\n",
       "      <td>0.470000</td>\n",
       "      <td>2.690000e+01</td>\n",
       "      <td>7.800000</td>\n",
       "      <td>1.070000</td>\n",
       "      <td>8.400000e-02</td>\n",
       "      <td>1.000000</td>\n",
       "    </tr>\n",
       "  </tbody>\n",
       "</table>\n",
       "</div>"
      ],
      "text/plain": [
       "             SiO2        TiO2         Al2O3       Cr2O3      FeOtot  \\\n",
       "count  390.000000  354.000000  3.640000e+02  348.000000  390.000000   \n",
       "mean    52.588121    0.683474  5.634114e+00    0.804728    5.821023   \n",
       "std      3.169816    1.334923  4.238189e+00    1.418578    7.056935   \n",
       "min     41.620000    0.000000  1.000000e-07    0.000000    0.040000   \n",
       "25%     51.220000    0.090000  2.460000e+00    0.070000    2.542500   \n",
       "50%     52.415000    0.340000  5.795000e+00    0.710000    3.295000   \n",
       "75%     54.777500    0.630000  7.102500e+00    1.160000    6.662500   \n",
       "max     64.960000    9.760000  2.821600e+01   23.670000   54.350000   \n",
       "\n",
       "              MnO           MgO           CaO        Na2O           K2O  \\\n",
       "count  330.000000  3.790000e+02  3.900000e+02  380.000000  1.690000e+02   \n",
       "mean     0.112056  1.436257e+01  1.817262e+01    2.171707  3.023375e-02   \n",
       "std      0.130789  4.487865e+00  5.577510e+00    2.221430  7.362901e-02   \n",
       "min      0.000000  1.000000e-07  1.000000e-07    0.000000  0.000000e+00   \n",
       "25%      0.040000  1.246000e+01  1.780750e+01    1.000000  1.000000e-07   \n",
       "50%      0.090000  1.510000e+01  1.980000e+01    1.570000  5.000000e-03   \n",
       "75%      0.120000  1.637000e+01  2.107250e+01    2.112500  3.000000e-02   \n",
       "max      0.930000  3.975000e+01  2.550000e+01   12.980000  6.300000e-01   \n",
       "\n",
       "           P2O5         NiO           ZnO      Li2O      ZrO2          V2O5  \\\n",
       "count  5.000000  171.000000  1.500000e+01  5.000000  3.000000  8.000000e+00   \n",
       "mean   0.205200    0.050912  7.260000e+00  7.684000  0.640000  4.200004e-02   \n",
       "std    0.321835    0.070330  9.673504e+00  0.122558  0.372424  3.600392e-02   \n",
       "min    0.040000    0.000000  1.000000e-07  7.500000  0.420000  1.000000e-07   \n",
       "25%    0.055000    0.020000  1.000000e-07  7.621000  0.425000  1.000000e-07   \n",
       "50%    0.061000    0.040000  1.000000e-07  7.739000  0.430000  5.650000e-02   \n",
       "75%    0.090000    0.060000  1.292500e+01  7.760000  0.750000  6.925000e-02   \n",
       "max    0.780000    0.470000  2.690000e+01  7.800000  1.070000  8.400000e-02   \n",
       "\n",
       "       Fe3+/Fetot  \n",
       "count  390.000000  \n",
       "mean     0.277177  \n",
       "std      0.214405  \n",
       "min      0.000000  \n",
       "25%      0.154775  \n",
       "50%      0.230000  \n",
       "75%      0.320000  \n",
       "max      1.000000  "
      ]
     },
     "execution_count": 19,
     "metadata": {},
     "output_type": "execute_result"
    }
   ],
   "source": [
    "dataset.describe()"
   ]
  },
  {
   "cell_type": "code",
   "execution_count": 20,
   "metadata": {},
   "outputs": [
    {
     "name": "stdout",
     "output_type": "stream",
     "text": [
      "Saving figure data_describe\n"
     ]
    },
    {
     "data": {
      "image/png": "[encoded data removed]",
      "text/plain": [
       "<Figure size 1440x1080 with 20 Axes>"
      ]
     },
     "metadata": {
      "needs_background": "light"
     },
     "output_type": "display_data"
    }
   ],
   "source": [
    "%matplotlib inline\n",
    "import matplotlib.pyplot as plt\n",
    "\n",
    "# Represented as a histogram with horizontal coordinates for content and vertical coordinates for quantity\n",
    "dataset.hist(bins=50, figsize=(20, 15))\n",
    "save_fig('data_describe')\n",
    "plt.show()"
   ]
  },
  {
   "cell_type": "code",
   "execution_count": 21,
   "metadata": {},
   "outputs": [],
   "source": [
    "# Find the Pearson correlation coefficient between each pair of attributes, i.e., the correlation coefficient matrix\n",
    "corr_matrix = dataset.corr()"
   ]
  },
  {
   "cell_type": "code",
   "execution_count": 22,
   "metadata": {},
   "outputs": [
    {
     "data": {
      "text/html": [
       "<div>\n",
       "<style scoped>\n",
       "    .dataframe tbody tr th:only-of-type {\n",
       "        vertical-align: middle;\n",
       "    }\n",
       "\n",
       "    .dataframe tbody tr th {\n",
       "        vertical-align: top;\n",
       "    }\n",
       "\n",
       "    .dataframe thead th {\n",
       "        text-align: right;\n",
       "    }\n",
       "</style>\n",
       "<table border=\"1\" class=\"dataframe\">\n",
       "  <thead>\n",
       "    <tr style=\"text-align: right;\">\n",
       "      <th></th>\n",
       "      <th>SiO2</th>\n",
       "      <th>TiO2</th>\n",
       "      <th>Al2O3</th>\n",
       "      <th>Cr2O3</th>\n",
       "      <th>FeOtot</th>\n",
       "      <th>MnO</th>\n",
       "      <th>MgO</th>\n",
       "      <th>CaO</th>\n",
       "      <th>Na2O</th>\n",
       "      <th>K2O</th>\n",
       "      <th>P2O5</th>\n",
       "      <th>NiO</th>\n",
       "      <th>ZnO</th>\n",
       "      <th>Li2O</th>\n",
       "      <th>ZrO2</th>\n",
       "      <th>V2O5</th>\n",
       "      <th>Fe3+/Fetot</th>\n",
       "    </tr>\n",
       "  </thead>\n",
       "  <tbody>\n",
       "    <tr>\n",
       "      <th>SiO2</th>\n",
       "      <td>1.000000</td>\n",
       "      <td>-0.147970</td>\n",
       "      <td>0.086674</td>\n",
       "      <td>0.084975</td>\n",
       "      <td>-0.373479</td>\n",
       "      <td>-0.278171</td>\n",
       "      <td>0.053447</td>\n",
       "      <td>-0.298423</td>\n",
       "      <td>0.346860</td>\n",
       "      <td>0.041493</td>\n",
       "      <td>-0.547651</td>\n",
       "      <td>0.101765</td>\n",
       "      <td>-0.901960</td>\n",
       "      <td>0.387234</td>\n",
       "      <td>0.983195</td>\n",
       "      <td>0.291250</td>\n",
       "      <td>0.277212</td>\n",
       "    </tr>\n",
       "    <tr>\n",
       "      <th>TiO2</th>\n",
       "      <td>-0.147970</td>\n",
       "      <td>1.000000</td>\n",
       "      <td>-0.056922</td>\n",
       "      <td>-0.152735</td>\n",
       "      <td>-0.040777</td>\n",
       "      <td>-0.007273</td>\n",
       "      <td>-0.139259</td>\n",
       "      <td>0.128355</td>\n",
       "      <td>-0.009840</td>\n",
       "      <td>-0.057670</td>\n",
       "      <td>-0.188904</td>\n",
       "      <td>-0.152378</td>\n",
       "      <td>NaN</td>\n",
       "      <td>0.252945</td>\n",
       "      <td>-0.238957</td>\n",
       "      <td>0.151551</td>\n",
       "      <td>0.105109</td>\n",
       "    </tr>\n",
       "    <tr>\n",
       "      <th>Al2O3</th>\n",
       "      <td>0.086674</td>\n",
       "      <td>-0.056922</td>\n",
       "      <td>1.000000</td>\n",
       "      <td>-0.067491</td>\n",
       "      <td>-0.219126</td>\n",
       "      <td>-0.088014</td>\n",
       "      <td>-0.416861</td>\n",
       "      <td>-0.281077</td>\n",
       "      <td>0.262907</td>\n",
       "      <td>-0.039198</td>\n",
       "      <td>-0.416450</td>\n",
       "      <td>-0.007463</td>\n",
       "      <td>NaN</td>\n",
       "      <td>-0.017285</td>\n",
       "      <td>-0.557137</td>\n",
       "      <td>-0.733644</td>\n",
       "      <td>0.398238</td>\n",
       "    </tr>\n",
       "    <tr>\n",
       "      <th>Cr2O3</th>\n",
       "      <td>0.084975</td>\n",
       "      <td>-0.152735</td>\n",
       "      <td>-0.067491</td>\n",
       "      <td>1.000000</td>\n",
       "      <td>-0.185514</td>\n",
       "      <td>-0.060642</td>\n",
       "      <td>0.008497</td>\n",
       "      <td>-0.069348</td>\n",
       "      <td>0.173983</td>\n",
       "      <td>-0.045668</td>\n",
       "      <td>NaN</td>\n",
       "      <td>0.029392</td>\n",
       "      <td>NaN</td>\n",
       "      <td>NaN</td>\n",
       "      <td>NaN</td>\n",
       "      <td>0.847341</td>\n",
       "      <td>0.136139</td>\n",
       "    </tr>\n",
       "    <tr>\n",
       "      <th>FeOtot</th>\n",
       "      <td>-0.373479</td>\n",
       "      <td>-0.040777</td>\n",
       "      <td>-0.219126</td>\n",
       "      <td>-0.185514</td>\n",
       "      <td>1.000000</td>\n",
       "      <td>0.344348</td>\n",
       "      <td>-0.358755</td>\n",
       "      <td>-0.475406</td>\n",
       "      <td>0.023268</td>\n",
       "      <td>0.080445</td>\n",
       "      <td>0.506131</td>\n",
       "      <td>-0.133151</td>\n",
       "      <td>0.348216</td>\n",
       "      <td>0.004801</td>\n",
       "      <td>0.784918</td>\n",
       "      <td>-0.438791</td>\n",
       "      <td>-0.060955</td>\n",
       "    </tr>\n",
       "    <tr>\n",
       "      <th>MnO</th>\n",
       "      <td>-0.278171</td>\n",
       "      <td>-0.007273</td>\n",
       "      <td>-0.088014</td>\n",
       "      <td>-0.060642</td>\n",
       "      <td>0.344348</td>\n",
       "      <td>1.000000</td>\n",
       "      <td>-0.183629</td>\n",
       "      <td>-0.043607</td>\n",
       "      <td>-0.045479</td>\n",
       "      <td>-0.025438</td>\n",
       "      <td>0.618937</td>\n",
       "      <td>-0.152764</td>\n",
       "      <td>NaN</td>\n",
       "      <td>-0.245729</td>\n",
       "      <td>0.594172</td>\n",
       "      <td>0.286214</td>\n",
       "      <td>0.088149</td>\n",
       "    </tr>\n",
       "    <tr>\n",
       "      <th>MgO</th>\n",
       "      <td>0.053447</td>\n",
       "      <td>-0.139259</td>\n",
       "      <td>-0.416861</td>\n",
       "      <td>0.008497</td>\n",
       "      <td>-0.358755</td>\n",
       "      <td>-0.183629</td>\n",
       "      <td>1.000000</td>\n",
       "      <td>0.189288</td>\n",
       "      <td>-0.586601</td>\n",
       "      <td>-0.051134</td>\n",
       "      <td>0.375507</td>\n",
       "      <td>0.145662</td>\n",
       "      <td>NaN</td>\n",
       "      <td>0.602549</td>\n",
       "      <td>0.094267</td>\n",
       "      <td>0.411657</td>\n",
       "      <td>-0.423090</td>\n",
       "    </tr>\n",
       "    <tr>\n",
       "      <th>CaO</th>\n",
       "      <td>-0.298423</td>\n",
       "      <td>0.128355</td>\n",
       "      <td>-0.281077</td>\n",
       "      <td>-0.069348</td>\n",
       "      <td>-0.475406</td>\n",
       "      <td>-0.043607</td>\n",
       "      <td>0.189288</td>\n",
       "      <td>1.000000</td>\n",
       "      <td>-0.354904</td>\n",
       "      <td>-0.023971</td>\n",
       "      <td>0.576144</td>\n",
       "      <td>-0.015756</td>\n",
       "      <td>0.526712</td>\n",
       "      <td>0.224392</td>\n",
       "      <td>0.147530</td>\n",
       "      <td>0.074784</td>\n",
       "      <td>-0.195911</td>\n",
       "    </tr>\n",
       "    <tr>\n",
       "      <th>Na2O</th>\n",
       "      <td>0.346860</td>\n",
       "      <td>-0.009840</td>\n",
       "      <td>0.262907</td>\n",
       "      <td>0.173983</td>\n",
       "      <td>0.023268</td>\n",
       "      <td>-0.045479</td>\n",
       "      <td>-0.586601</td>\n",
       "      <td>-0.354904</td>\n",
       "      <td>1.000000</td>\n",
       "      <td>0.052979</td>\n",
       "      <td>-0.149329</td>\n",
       "      <td>-0.019380</td>\n",
       "      <td>NaN</td>\n",
       "      <td>0.042606</td>\n",
       "      <td>0.054443</td>\n",
       "      <td>-0.672321</td>\n",
       "      <td>0.443645</td>\n",
       "    </tr>\n",
       "    <tr>\n",
       "      <th>K2O</th>\n",
       "      <td>0.041493</td>\n",
       "      <td>-0.057670</td>\n",
       "      <td>-0.039198</td>\n",
       "      <td>-0.045668</td>\n",
       "      <td>0.080445</td>\n",
       "      <td>-0.025438</td>\n",
       "      <td>-0.051134</td>\n",
       "      <td>-0.023971</td>\n",
       "      <td>0.052979</td>\n",
       "      <td>1.000000</td>\n",
       "      <td>0.959983</td>\n",
       "      <td>0.254495</td>\n",
       "      <td>NaN</td>\n",
       "      <td>0.240925</td>\n",
       "      <td>NaN</td>\n",
       "      <td>NaN</td>\n",
       "      <td>-0.133499</td>\n",
       "    </tr>\n",
       "    <tr>\n",
       "      <th>P2O5</th>\n",
       "      <td>-0.547651</td>\n",
       "      <td>-0.188904</td>\n",
       "      <td>-0.416450</td>\n",
       "      <td>NaN</td>\n",
       "      <td>0.506131</td>\n",
       "      <td>0.618937</td>\n",
       "      <td>0.375507</td>\n",
       "      <td>0.576144</td>\n",
       "      <td>-0.149329</td>\n",
       "      <td>0.959983</td>\n",
       "      <td>1.000000</td>\n",
       "      <td>NaN</td>\n",
       "      <td>NaN</td>\n",
       "      <td>1.000000</td>\n",
       "      <td>NaN</td>\n",
       "      <td>NaN</td>\n",
       "      <td>-0.564129</td>\n",
       "    </tr>\n",
       "    <tr>\n",
       "      <th>NiO</th>\n",
       "      <td>0.101765</td>\n",
       "      <td>-0.152378</td>\n",
       "      <td>-0.007463</td>\n",
       "      <td>0.029392</td>\n",
       "      <td>-0.133151</td>\n",
       "      <td>-0.152764</td>\n",
       "      <td>0.145662</td>\n",
       "      <td>-0.015756</td>\n",
       "      <td>-0.019380</td>\n",
       "      <td>0.254495</td>\n",
       "      <td>NaN</td>\n",
       "      <td>1.000000</td>\n",
       "      <td>NaN</td>\n",
       "      <td>NaN</td>\n",
       "      <td>NaN</td>\n",
       "      <td>0.011223</td>\n",
       "      <td>0.132259</td>\n",
       "    </tr>\n",
       "    <tr>\n",
       "      <th>ZnO</th>\n",
       "      <td>-0.901960</td>\n",
       "      <td>NaN</td>\n",
       "      <td>NaN</td>\n",
       "      <td>NaN</td>\n",
       "      <td>0.348216</td>\n",
       "      <td>NaN</td>\n",
       "      <td>NaN</td>\n",
       "      <td>0.526712</td>\n",
       "      <td>NaN</td>\n",
       "      <td>NaN</td>\n",
       "      <td>NaN</td>\n",
       "      <td>NaN</td>\n",
       "      <td>1.000000</td>\n",
       "      <td>NaN</td>\n",
       "      <td>NaN</td>\n",
       "      <td>NaN</td>\n",
       "      <td>-0.634439</td>\n",
       "    </tr>\n",
       "    <tr>\n",
       "      <th>Li2O</th>\n",
       "      <td>0.387234</td>\n",
       "      <td>0.252945</td>\n",
       "      <td>-0.017285</td>\n",
       "      <td>NaN</td>\n",
       "      <td>0.004801</td>\n",
       "      <td>-0.245729</td>\n",
       "      <td>0.602549</td>\n",
       "      <td>0.224392</td>\n",
       "      <td>0.042606</td>\n",
       "      <td>0.240925</td>\n",
       "      <td>1.000000</td>\n",
       "      <td>NaN</td>\n",
       "      <td>NaN</td>\n",
       "      <td>1.000000</td>\n",
       "      <td>NaN</td>\n",
       "      <td>NaN</td>\n",
       "      <td>0.220511</td>\n",
       "    </tr>\n",
       "    <tr>\n",
       "      <th>ZrO2</th>\n",
       "      <td>0.983195</td>\n",
       "      <td>-0.238957</td>\n",
       "      <td>-0.557137</td>\n",
       "      <td>NaN</td>\n",
       "      <td>0.784918</td>\n",
       "      <td>0.594172</td>\n",
       "      <td>0.094267</td>\n",
       "      <td>0.147530</td>\n",
       "      <td>0.054443</td>\n",
       "      <td>NaN</td>\n",
       "      <td>NaN</td>\n",
       "      <td>NaN</td>\n",
       "      <td>NaN</td>\n",
       "      <td>NaN</td>\n",
       "      <td>1.000000</td>\n",
       "      <td>NaN</td>\n",
       "      <td>0.511582</td>\n",
       "    </tr>\n",
       "    <tr>\n",
       "      <th>V2O5</th>\n",
       "      <td>0.291250</td>\n",
       "      <td>0.151551</td>\n",
       "      <td>-0.733644</td>\n",
       "      <td>0.847341</td>\n",
       "      <td>-0.438791</td>\n",
       "      <td>0.286214</td>\n",
       "      <td>0.411657</td>\n",
       "      <td>0.074784</td>\n",
       "      <td>-0.672321</td>\n",
       "      <td>NaN</td>\n",
       "      <td>NaN</td>\n",
       "      <td>0.011223</td>\n",
       "      <td>NaN</td>\n",
       "      <td>NaN</td>\n",
       "      <td>NaN</td>\n",
       "      <td>1.000000</td>\n",
       "      <td>-0.393636</td>\n",
       "    </tr>\n",
       "    <tr>\n",
       "      <th>Fe3+/Fetot</th>\n",
       "      <td>0.277212</td>\n",
       "      <td>0.105109</td>\n",
       "      <td>0.398238</td>\n",
       "      <td>0.136139</td>\n",
       "      <td>-0.060955</td>\n",
       "      <td>0.088149</td>\n",
       "      <td>-0.423090</td>\n",
       "      <td>-0.195911</td>\n",
       "      <td>0.443645</td>\n",
       "      <td>-0.133499</td>\n",
       "      <td>-0.564129</td>\n",
       "      <td>0.132259</td>\n",
       "      <td>-0.634439</td>\n",
       "      <td>0.220511</td>\n",
       "      <td>0.511582</td>\n",
       "      <td>-0.393636</td>\n",
       "      <td>1.000000</td>\n",
       "    </tr>\n",
       "  </tbody>\n",
       "</table>\n",
       "</div>"
      ],
      "text/plain": [
       "                SiO2      TiO2     Al2O3     Cr2O3    FeOtot       MnO  \\\n",
       "SiO2        1.000000 -0.147970  0.086674  0.084975 -0.373479 -0.278171   \n",
       "TiO2       -0.147970  1.000000 -0.056922 -0.152735 -0.040777 -0.007273   \n",
       "Al2O3       0.086674 -0.056922  1.000000 -0.067491 -0.219126 -0.088014   \n",
       "Cr2O3       0.084975 -0.152735 -0.067491  1.000000 -0.185514 -0.060642   \n",
       "FeOtot     -0.373479 -0.040777 -0.219126 -0.185514  1.000000  0.344348   \n",
       "MnO        -0.278171 -0.007273 -0.088014 -0.060642  0.344348  1.000000   \n",
       "MgO         0.053447 -0.139259 -0.416861  0.008497 -0.358755 -0.183629   \n",
       "CaO        -0.298423  0.128355 -0.281077 -0.069348 -0.475406 -0.043607   \n",
       "Na2O        0.346860 -0.009840  0.262907  0.173983  0.023268 -0.045479   \n",
       "K2O         0.041493 -0.057670 -0.039198 -0.045668  0.080445 -0.025438   \n",
       "P2O5       -0.547651 -0.188904 -0.416450       NaN  0.506131  0.618937   \n",
       "NiO         0.101765 -0.152378 -0.007463  0.029392 -0.133151 -0.152764   \n",
       "ZnO        -0.901960       NaN       NaN       NaN  0.348216       NaN   \n",
       "Li2O        0.387234  0.252945 -0.017285       NaN  0.004801 -0.245729   \n",
       "ZrO2        0.983195 -0.238957 -0.557137       NaN  0.784918  0.594172   \n",
       "V2O5        0.291250  0.151551 -0.733644  0.847341 -0.438791  0.286214   \n",
       "Fe3+/Fetot  0.277212  0.105109  0.398238  0.136139 -0.060955  0.088149   \n",
       "\n",
       "                 MgO       CaO      Na2O       K2O      P2O5       NiO  \\\n",
       "SiO2        0.053447 -0.298423  0.346860  0.041493 -0.547651  0.101765   \n",
       "TiO2       -0.139259  0.128355 -0.009840 -0.057670 -0.188904 -0.152378   \n",
       "Al2O3      -0.416861 -0.281077  0.262907 -0.039198 -0.416450 -0.007463   \n",
       "Cr2O3       0.008497 -0.069348  0.173983 -0.045668       NaN  0.029392   \n",
       "FeOtot     -0.358755 -0.475406  0.023268  0.080445  0.506131 -0.133151   \n",
       "MnO        -0.183629 -0.043607 -0.045479 -0.025438  0.618937 -0.152764   \n",
       "MgO         1.000000  0.189288 -0.586601 -0.051134  0.375507  0.145662   \n",
       "CaO         0.189288  1.000000 -0.354904 -0.023971  0.576144 -0.015756   \n",
       "Na2O       -0.586601 -0.354904  1.000000  0.052979 -0.149329 -0.019380   \n",
       "K2O        -0.051134 -0.023971  0.052979  1.000000  0.959983  0.254495   \n",
       "P2O5        0.375507  0.576144 -0.149329  0.959983  1.000000       NaN   \n",
       "NiO         0.145662 -0.015756 -0.019380  0.254495       NaN  1.000000   \n",
       "ZnO              NaN  0.526712       NaN       NaN       NaN       NaN   \n",
       "Li2O        0.602549  0.224392  0.042606  0.240925  1.000000       NaN   \n",
       "ZrO2        0.094267  0.147530  0.054443       NaN       NaN       NaN   \n",
       "V2O5        0.411657  0.074784 -0.672321       NaN       NaN  0.011223   \n",
       "Fe3+/Fetot -0.423090 -0.195911  0.443645 -0.133499 -0.564129  0.132259   \n",
       "\n",
       "                 ZnO      Li2O      ZrO2      V2O5  Fe3+/Fetot  \n",
       "SiO2       -0.901960  0.387234  0.983195  0.291250    0.277212  \n",
       "TiO2             NaN  0.252945 -0.238957  0.151551    0.105109  \n",
       "Al2O3            NaN -0.017285 -0.557137 -0.733644    0.398238  \n",
       "Cr2O3            NaN       NaN       NaN  0.847341    0.136139  \n",
       "FeOtot      0.348216  0.004801  0.784918 -0.438791   -0.060955  \n",
       "MnO              NaN -0.245729  0.594172  0.286214    0.088149  \n",
       "MgO              NaN  0.602549  0.094267  0.411657   -0.423090  \n",
       "CaO         0.526712  0.224392  0.147530  0.074784   -0.195911  \n",
       "Na2O             NaN  0.042606  0.054443 -0.672321    0.443645  \n",
       "K2O              NaN  0.240925       NaN       NaN   -0.133499  \n",
       "P2O5             NaN  1.000000       NaN       NaN   -0.564129  \n",
       "NiO              NaN       NaN       NaN  0.011223    0.132259  \n",
       "ZnO         1.000000       NaN       NaN       NaN   -0.634439  \n",
       "Li2O             NaN  1.000000       NaN       NaN    0.220511  \n",
       "ZrO2             NaN       NaN  1.000000       NaN    0.511582  \n",
       "V2O5             NaN       NaN       NaN  1.000000   -0.393636  \n",
       "Fe3+/Fetot -0.634439  0.220511  0.511582 -0.393636    1.000000  "
      ]
     },
     "execution_count": 22,
     "metadata": {},
     "output_type": "execute_result"
    }
   ],
   "source": [
    "corr_matrix"
   ]
  },
  {
   "cell_type": "code",
   "execution_count": 23,
   "metadata": {},
   "outputs": [
    {
     "data": {
      "text/plain": [
       "Fe3+/Fetot    1.000000\n",
       "ZrO2          0.511582\n",
       "Na2O          0.443645\n",
       "Al2O3         0.398238\n",
       "SiO2          0.277212\n",
       "Li2O          0.220511\n",
       "Cr2O3         0.136139\n",
       "NiO           0.132259\n",
       "TiO2          0.105109\n",
       "MnO           0.088149\n",
       "FeOtot       -0.060955\n",
       "K2O          -0.133499\n",
       "CaO          -0.195911\n",
       "V2O5         -0.393636\n",
       "MgO          -0.423090\n",
       "P2O5         -0.564129\n",
       "ZnO          -0.634439\n",
       "Name: Fe3+/Fetot, dtype: float64"
      ]
     },
     "execution_count": 23,
     "metadata": {},
     "output_type": "execute_result"
    }
   ],
   "source": [
    "# View the correlation coefficient for each attribute and target value (only linear relationships are measured),\n",
    "# close to 1 indicates a strong positive correlation,\n",
    "# close to -1 indicates a strong negative correlation, close to 0 indicates no linear relationship\n",
    "corr_matrix[\"Fe3+/Fetot\"].sort_values(ascending=False)"
   ]
  },
  {
   "cell_type": "code",
   "execution_count": 24,
   "metadata": {},
   "outputs": [
    {
     "name": "stdout",
     "output_type": "stream",
     "text": [
      "Saving figure corr_four\n"
     ]
    },
    {
     "data": {
      "image/png": "[encoded data removed]",
      "text/plain": [
       "<Figure size 864x576 with 16 Axes>"
      ]
     },
     "metadata": {
      "needs_background": "light"
     },
     "output_type": "display_data"
    }
   ],
   "source": [
    "from pandas.plotting import scatter_matrix\n",
    "\n",
    "# View the distribution of the top four attributes with the largest correlation coefficients\n",
    "attributes = ['Fe3+/Fetot', 'Al2O3', 'SiO2', 'TiO2']\n",
    "scatter_matrix(dataset[attributes], figsize=(12, 8))\n",
    "save_fig('corr_four')"
   ]
  },
  {
   "cell_type": "code",
   "execution_count": 25,
   "metadata": {},
   "outputs": [
    {
     "data": {
      "text/plain": [
       "SiO2          False\n",
       "TiO2           True\n",
       "Al2O3          True\n",
       "Cr2O3          True\n",
       "FeOtot        False\n",
       "MnO            True\n",
       "MgO            True\n",
       "CaO           False\n",
       "Na2O           True\n",
       "K2O            True\n",
       "P2O5           True\n",
       "NiO            True\n",
       "ZnO            True\n",
       "Li2O           True\n",
       "ZrO2           True\n",
       "V2O5           True\n",
       "Fe3+/Fetot    False\n",
       "dtype: bool"
      ]
     },
     "execution_count": 25,
     "metadata": {},
     "output_type": "execute_result"
    }
   ],
   "source": [
    "# Check which column contains a null value\n",
    "dataset.isnull().any(axis=0)"
   ]
  },
  {
   "cell_type": "code",
   "execution_count": 26,
   "metadata": {},
   "outputs": [],
   "source": [
    "# fill the missing value\n",
    "dataset.fillna(0, inplace=True)"
   ]
  },
  {
   "cell_type": "code",
   "execution_count": 27,
   "metadata": {},
   "outputs": [],
   "source": [
    "# drop() creates a backup of the data and does not affect train_set,\n",
    "# X is the feature value and y is the corresponding label value\n",
    "X = dataset.drop(\"Fe3+/Fetot\", axis=1)\n",
    "y = dataset[\"Fe3+/Fetot\"].copy()"
   ]
  },
  {
   "cell_type": "code",
   "execution_count": 28,
   "metadata": {},
   "outputs": [],
   "source": [
    "from sklearn.model_selection import train_test_split\n",
    "\n",
    "# division of training and testing sets\n",
    "X_train, X_test, y_train, y_test = train_test_split(X, y, test_size=0.2, random_state=42)"
   ]
  },
  {
   "cell_type": "code",
   "execution_count": 29,
   "metadata": {},
   "outputs": [
    {
     "data": {
      "text/plain": [
       "(312, 16)"
      ]
     },
     "execution_count": 29,
     "metadata": {},
     "output_type": "execute_result"
    }
   ],
   "source": [
    "# the dimensionality of X_train\n",
    "X_train.shape"
   ]
  },
  {
   "cell_type": "code",
   "execution_count": 30,
   "metadata": {},
   "outputs": [
    {
     "data": {
      "text/plain": [
       "(312,)"
      ]
     },
     "execution_count": 30,
     "metadata": {},
     "output_type": "execute_result"
    }
   ],
   "source": [
    "# the dimensionality of y_train\n",
    "y_train.shape"
   ]
  },
  {
   "cell_type": "code",
   "execution_count": 31,
   "metadata": {},
   "outputs": [
    {
     "data": {
      "text/plain": [
       "\"\\nfrom sklearn.pipeline import Pipeline\\nfrom sklearn.impute import SimpleImputer\\nfrom sklearn.preprocessing import StandardScaler\\n\\n# Median, plural, etc. can be filled\\n# feature value can be standardized, i.e., transformed into a normal distribution\\nnum_pipeline = Pipeline([\\n        ('imputer', SimpleImputer(missing_values=np.nan, strategy='median')), \\n        ('std_scaler', StandardScaler())\\n    ])\\n\\nX_train_processed = num_pipeline.fit_transform(X_train)\\n\""
      ]
     },
     "execution_count": 31,
     "metadata": {},
     "output_type": "execute_result"
    }
   ],
   "source": [
    "\"\"\"\n",
    "from sklearn.pipeline import Pipeline\n",
    "from sklearn.impute import SimpleImputer\n",
    "from sklearn.preprocessing import StandardScaler\n",
    "\n",
    "# Median, plural, etc. can be filled\n",
    "# feature value can be standardized, i.e., transformed into a normal distribution\n",
    "num_pipeline = Pipeline([\n",
    "        ('imputer', SimpleImputer(missing_values=np.nan, strategy='median')), \n",
    "        ('std_scaler', StandardScaler())\n",
    "    ])\n",
    "\n",
    "X_train_processed = num_pipeline.fit_transform(X_train)\n",
    "\"\"\""
   ]
  },
  {
   "cell_type": "markdown",
   "metadata": {},
   "source": [
    "### Linear Rregression"
   ]
  },
  {
   "cell_type": "code",
   "execution_count": 32,
   "metadata": {},
   "outputs": [
    {
     "data": {
      "text/plain": [
       "LinearRegression()"
      ]
     },
     "execution_count": 32,
     "metadata": {},
     "output_type": "execute_result"
    }
   ],
   "source": [
    "from sklearn.linear_model import LinearRegression\n",
    "\n",
    "# linear regression model, y = a1x1 + a2x2 + ··· + a14x14 + b\n",
    "lin_reg = LinearRegression()\n",
    "lin_reg.fit(X_train, y_train)"
   ]
  },
  {
   "cell_type": "code",
   "execution_count": 33,
   "metadata": {},
   "outputs": [
    {
     "data": {
      "text/plain": [
       "array([-4.11985553e-02, -5.66815504e-03, -1.13629046e-02,  1.45832599e-03,\n",
       "        2.04571377e-02, -2.11231213e-01,  4.47910266e-02,  3.22198257e-02,\n",
       "        1.66929125e-01, -2.50454748e-01,  6.19943558e-02,  9.56561266e-02,\n",
       "        1.11144937e-02,  4.10704353e-01, -3.87202199e-01, -1.97846310e+00])"
      ]
     },
     "execution_count": 33,
     "metadata": {},
     "output_type": "execute_result"
    }
   ],
   "source": [
    "# Coefficients of linear regression models\n",
    "lin_reg.coef_"
   ]
  },
  {
   "cell_type": "code",
   "execution_count": 34,
   "metadata": {},
   "outputs": [
    {
     "data": {
      "text/plain": [
       "0.8030765342460157"
      ]
     },
     "execution_count": 34,
     "metadata": {},
     "output_type": "execute_result"
    }
   ],
   "source": [
    "# Intercept of linear regression model\n",
    "lin_reg.intercept_"
   ]
  },
  {
   "cell_type": "code",
   "execution_count": 35,
   "metadata": {},
   "outputs": [
    {
     "name": "stdout",
     "output_type": "stream",
     "text": [
      "Prediction: [-0.06257384  0.58894289  0.82488684  0.30165966  0.39406     1.07121093\n",
      "  0.24903501  0.20770954  0.29106375  0.30425776  0.39948493  0.28356756\n",
      "  0.20555357  0.3272181   0.29914064  0.16777754  0.239856    0.204059\n",
      "  0.27180087  0.07402682  0.12352209  0.24820978  0.37011707  0.28700968\n",
      "  0.22829521  0.23932608  0.26052133  0.30979713  0.2825402   1.18301761\n",
      "  0.993235    0.3372271   0.11671896  0.20029605  0.27479989  0.23964669\n",
      "  0.24786894  0.05341789  0.32286992  0.24620759  0.26170604  0.3660755\n",
      "  0.25995732  0.29954303  0.087314    0.4006292   0.20562297  0.2742204\n",
      "  0.28925168  0.2665049   0.17650619  0.24216496  0.20915131  0.0845473\n",
      "  0.78874585  0.27080565  0.28066868  0.53597757  0.18323824  1.14844462\n",
      "  0.25463152  0.34951085  0.34554113  0.21315057  0.20886274  0.264901\n",
      "  0.04172191  0.30280631  0.38631222  0.18179052  0.24748476  1.09129011\n",
      "  0.27284938  0.18333603  0.11541212  0.12257268  0.19745325  0.44124501]\n"
     ]
    }
   ],
   "source": [
    "# Predicted value of the test set\n",
    "y_test_prediction = lin_reg.predict(X_test)\n",
    "print(\"Prediction:\", y_test_prediction)"
   ]
  },
  {
   "cell_type": "code",
   "execution_count": 36,
   "metadata": {},
   "outputs": [
    {
     "name": "stdout",
     "output_type": "stream",
     "text": [
      "Real Value: [0.0, 1.0, 1.0, 0.261, 0.15, 0.929, 0.283, 0.19, 0.34, 0.228, 0.23, 0.285, 0.212, 0.433, 0.195, 0.21, 0.302, 0.033, 0.189, 0.07, 0.0, 0.18, 0.18, 0.195, 0.249, 0.168, 0.234, 0.32, 0.229, 0.938, 0.904, 0.88, 0.282, 0.185, 0.152, 0.198, 0.32, 0.0, 0.48, 0.18, 0.19, 0.59, 0.261, 0.3, 0.219, 0.88, 0.246, 0.16, 0.219, 0.191, 0.098, 0.18, 0.254, 0.0, 0.86, 0.256, 0.388, 0.627, 0.308, 0.86, 0.227, 0.54, 0.54, 0.176, 0.2339, 0.166, 0.038, 0.88, 0.35, 0.07, 0.18, 1.0, 0.494, 0.07, 0.0, 0.0, 0.105, 0.455]\n"
     ]
    }
   ],
   "source": [
    "# True value of the test set\n",
    "print(\"Real Value:\", list(y_test))"
   ]
  },
  {
   "cell_type": "code",
   "execution_count": 37,
   "metadata": {},
   "outputs": [
    {
     "data": {
      "text/plain": [
       "0.15694197802231352"
      ]
     },
     "execution_count": 37,
     "metadata": {},
     "output_type": "execute_result"
    }
   ],
   "source": [
    "from sklearn.metrics import mean_squared_error\n",
    "\n",
    "lin_mse = mean_squared_error(y_test, y_test_prediction)\n",
    "lin_rmse = np.sqrt(lin_mse) # Root mean square error\n",
    "lin_rmse"
   ]
  },
  {
   "cell_type": "code",
   "execution_count": 38,
   "metadata": {},
   "outputs": [
    {
     "data": {
      "text/plain": [
       "0.10955822804527471"
      ]
     },
     "execution_count": 38,
     "metadata": {},
     "output_type": "execute_result"
    }
   ],
   "source": [
    "from sklearn.metrics import mean_absolute_error\n",
    "\n",
    "lin_mbe = mean_absolute_error(y_test, y_test_prediction)\n",
    "lin_mbe"
   ]
  },
  {
   "cell_type": "code",
   "execution_count": 39,
   "metadata": {},
   "outputs": [],
   "source": [
    "from sklearn.model_selection import cross_val_score\n",
    "\n",
    "# five-fold cross-validation to evaluate model performance\n",
    "scores = cross_val_score(lin_reg, X_train, y_train,\n",
    "                        scoring=\"neg_mean_squared_error\", cv=5)\n",
    "lin_rmse_scores = np.sqrt(-scores)"
   ]
  },
  {
   "cell_type": "code",
   "execution_count": 40,
   "metadata": {},
   "outputs": [
    {
     "name": "stdout",
     "output_type": "stream",
     "text": [
      "Scores: [0.40386192 0.14154536 0.56943921 0.18854328 0.19856928]\n",
      "Mean: 0.30039180908813723\n",
      "Standard deviation: 0.16198930822729846\n"
     ]
    }
   ],
   "source": [
    "def display_scores(scores):\n",
    "    # Obtaining an assessment of model performance, \n",
    "    # and measuring the accuracy of the assessment (standard deviation)\n",
    "    print(\"Scores:\", scores)\n",
    "    print(\"Mean:\", scores.mean())\n",
    "    print(\"Standard deviation:\", scores.std())\n",
    "    \n",
    "display_scores(lin_rmse_scores)"
   ]
  },
  {
   "cell_type": "markdown",
   "metadata": {},
   "source": [
    "## Polynomial Regression"
   ]
  },
  {
   "cell_type": "code",
   "execution_count": 41,
   "metadata": {},
   "outputs": [],
   "source": [
    "from sklearn.preprocessing import PolynomialFeatures\n",
    "\n",
    "# Let the square of each feature in the training set be a new feature to obtain the extended set of features\n",
    "poly_features = PolynomialFeatures(degree=2, include_bias=False)\n",
    "# X_train_poly contains the original feature and adds the square of that feature\n",
    "X_train_poly = poly_features.fit_transform(X_train) "
   ]
  },
  {
   "cell_type": "code",
   "execution_count": 42,
   "metadata": {},
   "outputs": [
    {
     "data": {
      "text/plain": [
       "['x0',\n",
       " 'x1',\n",
       " 'x2',\n",
       " 'x3',\n",
       " 'x4',\n",
       " 'x5',\n",
       " 'x6',\n",
       " 'x7',\n",
       " 'x8',\n",
       " 'x9',\n",
       " 'x10',\n",
       " 'x11',\n",
       " 'x12',\n",
       " 'x13',\n",
       " 'x14',\n",
       " 'x15',\n",
       " 'x0^2',\n",
       " 'x0 x1',\n",
       " 'x0 x2',\n",
       " 'x0 x3',\n",
       " 'x0 x4',\n",
       " 'x0 x5',\n",
       " 'x0 x6',\n",
       " 'x0 x7',\n",
       " 'x0 x8',\n",
       " 'x0 x9',\n",
       " 'x0 x10',\n",
       " 'x0 x11',\n",
       " 'x0 x12',\n",
       " 'x0 x13',\n",
       " 'x0 x14',\n",
       " 'x0 x15',\n",
       " 'x1^2',\n",
       " 'x1 x2',\n",
       " 'x1 x3',\n",
       " 'x1 x4',\n",
       " 'x1 x5',\n",
       " 'x1 x6',\n",
       " 'x1 x7',\n",
       " 'x1 x8',\n",
       " 'x1 x9',\n",
       " 'x1 x10',\n",
       " 'x1 x11',\n",
       " 'x1 x12',\n",
       " 'x1 x13',\n",
       " 'x1 x14',\n",
       " 'x1 x15',\n",
       " 'x2^2',\n",
       " 'x2 x3',\n",
       " 'x2 x4',\n",
       " 'x2 x5',\n",
       " 'x2 x6',\n",
       " 'x2 x7',\n",
       " 'x2 x8',\n",
       " 'x2 x9',\n",
       " 'x2 x10',\n",
       " 'x2 x11',\n",
       " 'x2 x12',\n",
       " 'x2 x13',\n",
       " 'x2 x14',\n",
       " 'x2 x15',\n",
       " 'x3^2',\n",
       " 'x3 x4',\n",
       " 'x3 x5',\n",
       " 'x3 x6',\n",
       " 'x3 x7',\n",
       " 'x3 x8',\n",
       " 'x3 x9',\n",
       " 'x3 x10',\n",
       " 'x3 x11',\n",
       " 'x3 x12',\n",
       " 'x3 x13',\n",
       " 'x3 x14',\n",
       " 'x3 x15',\n",
       " 'x4^2',\n",
       " 'x4 x5',\n",
       " 'x4 x6',\n",
       " 'x4 x7',\n",
       " 'x4 x8',\n",
       " 'x4 x9',\n",
       " 'x4 x10',\n",
       " 'x4 x11',\n",
       " 'x4 x12',\n",
       " 'x4 x13',\n",
       " 'x4 x14',\n",
       " 'x4 x15',\n",
       " 'x5^2',\n",
       " 'x5 x6',\n",
       " 'x5 x7',\n",
       " 'x5 x8',\n",
       " 'x5 x9',\n",
       " 'x5 x10',\n",
       " 'x5 x11',\n",
       " 'x5 x12',\n",
       " 'x5 x13',\n",
       " 'x5 x14',\n",
       " 'x5 x15',\n",
       " 'x6^2',\n",
       " 'x6 x7',\n",
       " 'x6 x8',\n",
       " 'x6 x9',\n",
       " 'x6 x10',\n",
       " 'x6 x11',\n",
       " 'x6 x12',\n",
       " 'x6 x13',\n",
       " 'x6 x14',\n",
       " 'x6 x15',\n",
       " 'x7^2',\n",
       " 'x7 x8',\n",
       " 'x7 x9',\n",
       " 'x7 x10',\n",
       " 'x7 x11',\n",
       " 'x7 x12',\n",
       " 'x7 x13',\n",
       " 'x7 x14',\n",
       " 'x7 x15',\n",
       " 'x8^2',\n",
       " 'x8 x9',\n",
       " 'x8 x10',\n",
       " 'x8 x11',\n",
       " 'x8 x12',\n",
       " 'x8 x13',\n",
       " 'x8 x14',\n",
       " 'x8 x15',\n",
       " 'x9^2',\n",
       " 'x9 x10',\n",
       " 'x9 x11',\n",
       " 'x9 x12',\n",
       " 'x9 x13',\n",
       " 'x9 x14',\n",
       " 'x9 x15',\n",
       " 'x10^2',\n",
       " 'x10 x11',\n",
       " 'x10 x12',\n",
       " 'x10 x13',\n",
       " 'x10 x14',\n",
       " 'x10 x15',\n",
       " 'x11^2',\n",
       " 'x11 x12',\n",
       " 'x11 x13',\n",
       " 'x11 x14',\n",
       " 'x11 x15',\n",
       " 'x12^2',\n",
       " 'x12 x13',\n",
       " 'x12 x14',\n",
       " 'x12 x15',\n",
       " 'x13^2',\n",
       " 'x13 x14',\n",
       " 'x13 x15',\n",
       " 'x14^2',\n",
       " 'x14 x15',\n",
       " 'x15^2']"
      ]
     },
     "execution_count": 42,
     "metadata": {},
     "output_type": "execute_result"
    }
   ],
   "source": [
    "# Listing of extended feature sets\n",
    "column_names = poly_features.get_feature_names()\n",
    "column_names"
   ]
  },
  {
   "cell_type": "code",
   "execution_count": 43,
   "metadata": {},
   "outputs": [],
   "source": [
    "df1 = pd.DataFrame(X_train_poly)\n",
    "df1.columns = column_names"
   ]
  },
  {
   "cell_type": "code",
   "execution_count": 44,
   "metadata": {},
   "outputs": [
    {
     "data": {
      "text/html": [
       "<div>\n",
       "<style scoped>\n",
       "    .dataframe tbody tr th:only-of-type {\n",
       "        vertical-align: middle;\n",
       "    }\n",
       "\n",
       "    .dataframe tbody tr th {\n",
       "        vertical-align: top;\n",
       "    }\n",
       "\n",
       "    .dataframe thead th {\n",
       "        text-align: right;\n",
       "    }\n",
       "</style>\n",
       "<table border=\"1\" class=\"dataframe\">\n",
       "  <thead>\n",
       "    <tr style=\"text-align: right;\">\n",
       "      <th></th>\n",
       "      <th>x0</th>\n",
       "      <th>x1</th>\n",
       "      <th>x2</th>\n",
       "      <th>x3</th>\n",
       "      <th>x4</th>\n",
       "      <th>x5</th>\n",
       "      <th>x6</th>\n",
       "      <th>x7</th>\n",
       "      <th>x8</th>\n",
       "      <th>x9</th>\n",
       "      <th>...</th>\n",
       "      <th>x12^2</th>\n",
       "      <th>x12 x13</th>\n",
       "      <th>x12 x14</th>\n",
       "      <th>x12 x15</th>\n",
       "      <th>x13^2</th>\n",
       "      <th>x13 x14</th>\n",
       "      <th>x13 x15</th>\n",
       "      <th>x14^2</th>\n",
       "      <th>x14 x15</th>\n",
       "      <th>x15^2</th>\n",
       "    </tr>\n",
       "  </thead>\n",
       "  <tbody>\n",
       "    <tr>\n",
       "      <th>0</th>\n",
       "      <td>51.71</td>\n",
       "      <td>0.80</td>\n",
       "      <td>7.16</td>\n",
       "      <td>0.62</td>\n",
       "      <td>2.97</td>\n",
       "      <td>0.68</td>\n",
       "      <td>14.72</td>\n",
       "      <td>19.91</td>\n",
       "      <td>2.20</td>\n",
       "      <td>0.000000e+00</td>\n",
       "      <td>...</td>\n",
       "      <td>0.0</td>\n",
       "      <td>0.0</td>\n",
       "      <td>0.0</td>\n",
       "      <td>0.0</td>\n",
       "      <td>0.0</td>\n",
       "      <td>0.0</td>\n",
       "      <td>0.0</td>\n",
       "      <td>0.0</td>\n",
       "      <td>0.0</td>\n",
       "      <td>0.0</td>\n",
       "    </tr>\n",
       "    <tr>\n",
       "      <th>1</th>\n",
       "      <td>51.22</td>\n",
       "      <td>0.47</td>\n",
       "      <td>6.35</td>\n",
       "      <td>0.70</td>\n",
       "      <td>3.09</td>\n",
       "      <td>0.08</td>\n",
       "      <td>15.00</td>\n",
       "      <td>20.29</td>\n",
       "      <td>1.43</td>\n",
       "      <td>0.000000e+00</td>\n",
       "      <td>...</td>\n",
       "      <td>0.0</td>\n",
       "      <td>0.0</td>\n",
       "      <td>0.0</td>\n",
       "      <td>0.0</td>\n",
       "      <td>0.0</td>\n",
       "      <td>0.0</td>\n",
       "      <td>0.0</td>\n",
       "      <td>0.0</td>\n",
       "      <td>0.0</td>\n",
       "      <td>0.0</td>\n",
       "    </tr>\n",
       "    <tr>\n",
       "      <th>2</th>\n",
       "      <td>51.97</td>\n",
       "      <td>0.30</td>\n",
       "      <td>3.12</td>\n",
       "      <td>0.17</td>\n",
       "      <td>7.26</td>\n",
       "      <td>0.15</td>\n",
       "      <td>16.84</td>\n",
       "      <td>20.74</td>\n",
       "      <td>0.20</td>\n",
       "      <td>0.000000e+00</td>\n",
       "      <td>...</td>\n",
       "      <td>0.0</td>\n",
       "      <td>0.0</td>\n",
       "      <td>0.0</td>\n",
       "      <td>0.0</td>\n",
       "      <td>0.0</td>\n",
       "      <td>0.0</td>\n",
       "      <td>0.0</td>\n",
       "      <td>0.0</td>\n",
       "      <td>0.0</td>\n",
       "      <td>0.0</td>\n",
       "    </tr>\n",
       "    <tr>\n",
       "      <th>3</th>\n",
       "      <td>54.10</td>\n",
       "      <td>0.22</td>\n",
       "      <td>2.94</td>\n",
       "      <td>1.24</td>\n",
       "      <td>2.49</td>\n",
       "      <td>0.00</td>\n",
       "      <td>17.00</td>\n",
       "      <td>19.70</td>\n",
       "      <td>1.99</td>\n",
       "      <td>1.000000e-07</td>\n",
       "      <td>...</td>\n",
       "      <td>0.0</td>\n",
       "      <td>0.0</td>\n",
       "      <td>0.0</td>\n",
       "      <td>0.0</td>\n",
       "      <td>0.0</td>\n",
       "      <td>0.0</td>\n",
       "      <td>0.0</td>\n",
       "      <td>0.0</td>\n",
       "      <td>0.0</td>\n",
       "      <td>0.0</td>\n",
       "    </tr>\n",
       "    <tr>\n",
       "      <th>4</th>\n",
       "      <td>51.59</td>\n",
       "      <td>0.24</td>\n",
       "      <td>6.92</td>\n",
       "      <td>0.82</td>\n",
       "      <td>2.58</td>\n",
       "      <td>0.12</td>\n",
       "      <td>15.27</td>\n",
       "      <td>20.99</td>\n",
       "      <td>1.25</td>\n",
       "      <td>0.000000e+00</td>\n",
       "      <td>...</td>\n",
       "      <td>0.0</td>\n",
       "      <td>0.0</td>\n",
       "      <td>0.0</td>\n",
       "      <td>0.0</td>\n",
       "      <td>0.0</td>\n",
       "      <td>0.0</td>\n",
       "      <td>0.0</td>\n",
       "      <td>0.0</td>\n",
       "      <td>0.0</td>\n",
       "      <td>0.0</td>\n",
       "    </tr>\n",
       "  </tbody>\n",
       "</table>\n",
       "<p>5 rows × 152 columns</p>\n",
       "</div>"
      ],
      "text/plain": [
       "      x0    x1    x2    x3    x4    x5     x6     x7    x8            x9  ...  \\\n",
       "0  51.71  0.80  7.16  0.62  2.97  0.68  14.72  19.91  2.20  0.000000e+00  ...   \n",
       "1  51.22  0.47  6.35  0.70  3.09  0.08  15.00  20.29  1.43  0.000000e+00  ...   \n",
       "2  51.97  0.30  3.12  0.17  7.26  0.15  16.84  20.74  0.20  0.000000e+00  ...   \n",
       "3  54.10  0.22  2.94  1.24  2.49  0.00  17.00  19.70  1.99  1.000000e-07  ...   \n",
       "4  51.59  0.24  6.92  0.82  2.58  0.12  15.27  20.99  1.25  0.000000e+00  ...   \n",
       "\n",
       "   x12^2  x12 x13  x12 x14  x12 x15  x13^2  x13 x14  x13 x15  x14^2  x14 x15  \\\n",
       "0    0.0      0.0      0.0      0.0    0.0      0.0      0.0    0.0      0.0   \n",
       "1    0.0      0.0      0.0      0.0    0.0      0.0      0.0    0.0      0.0   \n",
       "2    0.0      0.0      0.0      0.0    0.0      0.0      0.0    0.0      0.0   \n",
       "3    0.0      0.0      0.0      0.0    0.0      0.0      0.0    0.0      0.0   \n",
       "4    0.0      0.0      0.0      0.0    0.0      0.0      0.0    0.0      0.0   \n",
       "\n",
       "   x15^2  \n",
       "0    0.0  \n",
       "1    0.0  \n",
       "2    0.0  \n",
       "3    0.0  \n",
       "4    0.0  \n",
       "\n",
       "[5 rows x 152 columns]"
      ]
     },
     "execution_count": 44,
     "metadata": {},
     "output_type": "execute_result"
    }
   ],
   "source": [
    "# x0~x9 refer to the features of X_train\n",
    "df1.head()"
   ]
  },
  {
   "cell_type": "code",
   "execution_count": 45,
   "metadata": {},
   "outputs": [
    {
     "data": {
      "text/html": [
       "<div>\n",
       "<style scoped>\n",
       "    .dataframe tbody tr th:only-of-type {\n",
       "        vertical-align: middle;\n",
       "    }\n",
       "\n",
       "    .dataframe tbody tr th {\n",
       "        vertical-align: top;\n",
       "    }\n",
       "\n",
       "    .dataframe thead th {\n",
       "        text-align: right;\n",
       "    }\n",
       "</style>\n",
       "<table border=\"1\" class=\"dataframe\">\n",
       "  <thead>\n",
       "    <tr style=\"text-align: right;\">\n",
       "      <th></th>\n",
       "      <th>SiO2</th>\n",
       "      <th>TiO2</th>\n",
       "      <th>Al2O3</th>\n",
       "      <th>Cr2O3</th>\n",
       "      <th>FeOtot</th>\n",
       "      <th>MnO</th>\n",
       "      <th>MgO</th>\n",
       "      <th>CaO</th>\n",
       "      <th>Na2O</th>\n",
       "      <th>K2O</th>\n",
       "      <th>P2O5</th>\n",
       "      <th>NiO</th>\n",
       "      <th>ZnO</th>\n",
       "      <th>Li2O</th>\n",
       "      <th>ZrO2</th>\n",
       "      <th>V2O5</th>\n",
       "    </tr>\n",
       "  </thead>\n",
       "  <tbody>\n",
       "    <tr>\n",
       "      <th>291</th>\n",
       "      <td>51.71</td>\n",
       "      <td>0.80</td>\n",
       "      <td>7.16</td>\n",
       "      <td>0.62</td>\n",
       "      <td>2.97</td>\n",
       "      <td>0.68</td>\n",
       "      <td>14.72</td>\n",
       "      <td>19.91</td>\n",
       "      <td>2.20</td>\n",
       "      <td>0.000000e+00</td>\n",
       "      <td>0.0</td>\n",
       "      <td>0.06</td>\n",
       "      <td>0.0</td>\n",
       "      <td>0.0</td>\n",
       "      <td>0.0</td>\n",
       "      <td>0.0</td>\n",
       "    </tr>\n",
       "    <tr>\n",
       "      <th>63</th>\n",
       "      <td>51.22</td>\n",
       "      <td>0.47</td>\n",
       "      <td>6.35</td>\n",
       "      <td>0.70</td>\n",
       "      <td>3.09</td>\n",
       "      <td>0.08</td>\n",
       "      <td>15.00</td>\n",
       "      <td>20.29</td>\n",
       "      <td>1.43</td>\n",
       "      <td>0.000000e+00</td>\n",
       "      <td>0.0</td>\n",
       "      <td>0.02</td>\n",
       "      <td>0.0</td>\n",
       "      <td>0.0</td>\n",
       "      <td>0.0</td>\n",
       "      <td>0.0</td>\n",
       "    </tr>\n",
       "    <tr>\n",
       "      <th>239</th>\n",
       "      <td>51.97</td>\n",
       "      <td>0.30</td>\n",
       "      <td>3.12</td>\n",
       "      <td>0.17</td>\n",
       "      <td>7.26</td>\n",
       "      <td>0.15</td>\n",
       "      <td>16.84</td>\n",
       "      <td>20.74</td>\n",
       "      <td>0.20</td>\n",
       "      <td>0.000000e+00</td>\n",
       "      <td>0.0</td>\n",
       "      <td>0.00</td>\n",
       "      <td>0.0</td>\n",
       "      <td>0.0</td>\n",
       "      <td>0.0</td>\n",
       "      <td>0.0</td>\n",
       "    </tr>\n",
       "    <tr>\n",
       "      <th>353</th>\n",
       "      <td>54.10</td>\n",
       "      <td>0.22</td>\n",
       "      <td>2.94</td>\n",
       "      <td>1.24</td>\n",
       "      <td>2.49</td>\n",
       "      <td>0.00</td>\n",
       "      <td>17.00</td>\n",
       "      <td>19.70</td>\n",
       "      <td>1.99</td>\n",
       "      <td>1.000000e-07</td>\n",
       "      <td>0.0</td>\n",
       "      <td>0.00</td>\n",
       "      <td>0.0</td>\n",
       "      <td>0.0</td>\n",
       "      <td>0.0</td>\n",
       "      <td>0.0</td>\n",
       "    </tr>\n",
       "    <tr>\n",
       "      <th>219</th>\n",
       "      <td>51.59</td>\n",
       "      <td>0.24</td>\n",
       "      <td>6.92</td>\n",
       "      <td>0.82</td>\n",
       "      <td>2.58</td>\n",
       "      <td>0.12</td>\n",
       "      <td>15.27</td>\n",
       "      <td>20.99</td>\n",
       "      <td>1.25</td>\n",
       "      <td>0.000000e+00</td>\n",
       "      <td>0.0</td>\n",
       "      <td>0.04</td>\n",
       "      <td>0.0</td>\n",
       "      <td>0.0</td>\n",
       "      <td>0.0</td>\n",
       "      <td>0.0</td>\n",
       "    </tr>\n",
       "  </tbody>\n",
       "</table>\n",
       "</div>"
      ],
      "text/plain": [
       "      SiO2  TiO2  Al2O3  Cr2O3  FeOtot   MnO    MgO    CaO  Na2O  \\\n",
       "291  51.71  0.80   7.16   0.62    2.97  0.68  14.72  19.91  2.20   \n",
       "63   51.22  0.47   6.35   0.70    3.09  0.08  15.00  20.29  1.43   \n",
       "239  51.97  0.30   3.12   0.17    7.26  0.15  16.84  20.74  0.20   \n",
       "353  54.10  0.22   2.94   1.24    2.49  0.00  17.00  19.70  1.99   \n",
       "219  51.59  0.24   6.92   0.82    2.58  0.12  15.27  20.99  1.25   \n",
       "\n",
       "              K2O  P2O5   NiO  ZnO  Li2O  ZrO2  V2O5  \n",
       "291  0.000000e+00   0.0  0.06  0.0   0.0   0.0   0.0  \n",
       "63   0.000000e+00   0.0  0.02  0.0   0.0   0.0   0.0  \n",
       "239  0.000000e+00   0.0  0.00  0.0   0.0   0.0   0.0  \n",
       "353  1.000000e-07   0.0  0.00  0.0   0.0   0.0   0.0  \n",
       "219  0.000000e+00   0.0  0.04  0.0   0.0   0.0   0.0  "
      ]
     },
     "execution_count": 45,
     "metadata": {},
     "output_type": "execute_result"
    }
   ],
   "source": [
    "X_train.head()"
   ]
  },
  {
   "cell_type": "code",
   "execution_count": 46,
   "metadata": {},
   "outputs": [
    {
     "data": {
      "text/plain": [
       "LinearRegression()"
      ]
     },
     "execution_count": 46,
     "metadata": {},
     "output_type": "execute_result"
    }
   ],
   "source": [
    "# obtaining a 152-dimensional quadratic polynomial regression equation\n",
    "poly_reg = LinearRegression()\n",
    "poly_reg.fit(X_train_poly, y_train)"
   ]
  },
  {
   "cell_type": "code",
   "execution_count": 47,
   "metadata": {},
   "outputs": [
    {
     "data": {
      "text/plain": [
       "array([ 4.83973909e-01,  9.22581277e-01, -1.07869280e-01,  1.97590112e+00,\n",
       "       -8.66679384e-01,  7.77210513e+00, -1.34234396e+00, -7.86162264e-01,\n",
       "       -3.69412549e+00,  7.36953884e+00, -1.91997750e-02, -4.33926964e+01,\n",
       "       -1.87571048e-01, -4.49053002e-04,  2.76683029e-01, -6.27339350e-02,\n",
       "       -5.25615606e-03,  2.55035136e-02,  4.80119945e-03,  2.46894084e-03,\n",
       "        2.06256188e-03,  2.03884090e-01,  5.12156932e-03, -7.51981834e-03,\n",
       "        2.14804021e-02, -2.10989192e-01, -1.88147143e+00,  6.77704359e-01,\n",
       "       -5.89845423e-03, -2.87623088e-02,  1.91566215e+00, -1.19541014e+00,\n",
       "       -1.04566300e-02,  1.23547769e-02, -5.50011337e-02, -4.77586653e-02,\n",
       "        9.54898312e-01, -8.42104332e-02, -3.08333836e-02, -1.46582100e-01,\n",
       "       -2.23740279e+00,  8.39998573e-02,  5.97361386e-01, -1.98694440e-06,\n",
       "       -1.34715666e-07,  5.33129417e-01, -3.22263422e+00, -4.51047042e-04,\n",
       "       -2.33611268e-02,  1.29257244e-03, -1.38412547e-01, -2.33119077e-03,\n",
       "       -5.52942003e-03, -8.05533314e-04,  3.36003789e-01, -1.73427233e-01,\n",
       "        6.72909560e-01,  2.15836768e-05, -1.25618149e-02,  4.46793738e+00,\n",
       "        1.19684797e-01,  2.75606968e-02, -1.25322800e-02, -3.14242573e-01,\n",
       "       -6.33294376e-02, -3.92228248e-02, -1.22343409e-01, -3.86659922e-01,\n",
       "       -4.01934034e+00,  1.43436267e+00,  2.76834239e-07, -8.47100168e-14,\n",
       "       -3.17523785e-14, -2.60842410e+00,  7.17090083e-03, -2.98578645e-01,\n",
       "        1.92336026e-02,  2.07377624e-02,  4.14073901e-02,  1.40672546e-01,\n",
       "        5.72122365e-01,  4.25261775e-01,  1.54967426e-02, -1.79621291e-05,\n",
       "       -2.91185233e+00, -3.33934303e+00,  5.52722186e-02, -5.17584948e-01,\n",
       "       -3.81715323e-01, -9.36240491e-01,  4.46926408e-01,  6.40204537e-02,\n",
       "       -1.00038168e+00, -1.51944202e-08, -3.11642951e-05, -6.24310965e-01,\n",
       "       -1.98790069e-01,  1.36993474e-02,  3.26392675e-02,  5.98874179e-02,\n",
       "        2.08563157e-01,  1.83954188e+00,  6.26289770e-03,  5.51678685e-05,\n",
       "        0.00000000e+00,  2.40896291e-01,  1.06546691e+00,  1.48703664e-02,\n",
       "        8.54496088e-02, -2.20673458e-02,  3.12614901e+00,  2.70738115e-01,\n",
       "        7.13052217e-03, -1.70415707e-04,  9.95410347e-01,  2.70760474e+00,\n",
       "        6.00678802e-02, -3.14558751e-01, -2.01370768e+00, -1.88822548e+00,\n",
       "        6.02119978e-06, -5.97240803e-05, -6.31195225e-01,  1.49834079e-01,\n",
       "        9.72322708e-01,  3.65615294e-02,  2.49538124e+00,  1.04266266e-12,\n",
       "       -6.73579856e-07,  0.00000000e+00,  4.74507043e-07,  1.75326851e-01,\n",
       "        0.00000000e+00,  0.00000000e+00, -2.46979283e-05,  0.00000000e+00,\n",
       "        0.00000000e+00, -4.72723380e+00,  2.35887121e-07,  0.00000000e+00,\n",
       "        0.00000000e+00,  6.21957633e-02,  5.64323630e-03,  0.00000000e+00,\n",
       "        0.00000000e+00, -6.27339350e-09, -3.42223478e-03,  0.00000000e+00,\n",
       "        0.00000000e+00, -5.55676211e+00,  0.00000000e+00, -1.96969913e-01])"
      ]
     },
     "execution_count": 47,
     "metadata": {},
     "output_type": "execute_result"
    }
   ],
   "source": [
    "# Coefficients of a polynomial regression equation\n",
    "poly_reg.coef_"
   ]
  },
  {
   "cell_type": "code",
   "execution_count": 48,
   "metadata": {},
   "outputs": [
    {
     "data": {
      "text/plain": [
       "9.80403552551376"
      ]
     },
     "execution_count": 48,
     "metadata": {},
     "output_type": "execute_result"
    }
   ],
   "source": [
    "# Intercept of a polynomial regression equation\n",
    "poly_reg.intercept_"
   ]
  },
  {
   "cell_type": "code",
   "execution_count": 49,
   "metadata": {},
   "outputs": [
    {
     "data": {
      "text/plain": [
       "[(0.484, 'x0'),\n",
       " (0.923, 'x1'),\n",
       " (-0.108, 'x2'),\n",
       " (1.976, 'x3'),\n",
       " (-0.867, 'x4'),\n",
       " (7.772, 'x5'),\n",
       " (-1.342, 'x6'),\n",
       " (-0.786, 'x7'),\n",
       " (-3.694, 'x8'),\n",
       " (7.37, 'x9'),\n",
       " (-0.019, 'x10'),\n",
       " (-43.393, 'x11'),\n",
       " (-0.188, 'x12'),\n",
       " (-0.0, 'x13'),\n",
       " (0.277, 'x14'),\n",
       " (-0.063, 'x15'),\n",
       " (-0.005, 'x0^2'),\n",
       " (0.026, 'x0 x1'),\n",
       " (0.005, 'x0 x2'),\n",
       " (0.002, 'x0 x3'),\n",
       " (0.002, 'x0 x4'),\n",
       " (0.204, 'x0 x5'),\n",
       " (0.005, 'x0 x6'),\n",
       " (-0.008, 'x0 x7'),\n",
       " (0.021, 'x0 x8'),\n",
       " (-0.211, 'x0 x9'),\n",
       " (-1.881, 'x0 x10'),\n",
       " (0.678, 'x0 x11'),\n",
       " (-0.006, 'x0 x12'),\n",
       " (-0.029, 'x0 x13'),\n",
       " (1.916, 'x0 x14'),\n",
       " (-1.195, 'x0 x15'),\n",
       " (-0.01, 'x1^2'),\n",
       " (0.012, 'x1 x2'),\n",
       " (-0.055, 'x1 x3'),\n",
       " (-0.048, 'x1 x4'),\n",
       " (0.955, 'x1 x5'),\n",
       " (-0.084, 'x1 x6'),\n",
       " (-0.031, 'x1 x7'),\n",
       " (-0.147, 'x1 x8'),\n",
       " (-2.237, 'x1 x9'),\n",
       " (0.084, 'x1 x10'),\n",
       " (0.597, 'x1 x11'),\n",
       " (-0.0, 'x1 x12'),\n",
       " (-0.0, 'x1 x13'),\n",
       " (0.533, 'x1 x14'),\n",
       " (-3.223, 'x1 x15'),\n",
       " (-0.0, 'x2^2'),\n",
       " (-0.023, 'x2 x3'),\n",
       " (0.001, 'x2 x4'),\n",
       " (-0.138, 'x2 x5'),\n",
       " (-0.002, 'x2 x6'),\n",
       " (-0.006, 'x2 x7'),\n",
       " (-0.001, 'x2 x8'),\n",
       " (0.336, 'x2 x9'),\n",
       " (-0.173, 'x2 x10'),\n",
       " (0.673, 'x2 x11'),\n",
       " (0.0, 'x2 x12'),\n",
       " (-0.013, 'x2 x13'),\n",
       " (4.468, 'x2 x14'),\n",
       " (0.12, 'x2 x15'),\n",
       " (0.028, 'x3^2'),\n",
       " (-0.013, 'x3 x4'),\n",
       " (-0.314, 'x3 x5'),\n",
       " (-0.063, 'x3 x6'),\n",
       " (-0.039, 'x3 x7'),\n",
       " (-0.122, 'x3 x8'),\n",
       " (-0.387, 'x3 x9'),\n",
       " (-4.019, 'x3 x10'),\n",
       " (1.434, 'x3 x11'),\n",
       " (0.0, 'x3 x12'),\n",
       " (-0.0, 'x3 x13'),\n",
       " (-0.0, 'x3 x14'),\n",
       " (-2.608, 'x3 x15'),\n",
       " (0.007, 'x4^2'),\n",
       " (-0.299, 'x4 x5'),\n",
       " (0.019, 'x4 x6'),\n",
       " (0.021, 'x4 x7'),\n",
       " (0.041, 'x4 x8'),\n",
       " (0.141, 'x4 x9'),\n",
       " (0.572, 'x4 x10'),\n",
       " (0.425, 'x4 x11'),\n",
       " (0.015, 'x4 x12'),\n",
       " (-0.0, 'x4 x13'),\n",
       " (-2.912, 'x4 x14'),\n",
       " (-3.339, 'x4 x15'),\n",
       " (0.055, 'x5^2'),\n",
       " (-0.518, 'x5 x6'),\n",
       " (-0.382, 'x5 x7'),\n",
       " (-0.936, 'x5 x8'),\n",
       " (0.447, 'x5 x9'),\n",
       " (0.064, 'x5 x10'),\n",
       " (-1.0, 'x5 x11'),\n",
       " (-0.0, 'x5 x12'),\n",
       " (-0.0, 'x5 x13'),\n",
       " (-0.624, 'x5 x14'),\n",
       " (-0.199, 'x5 x15'),\n",
       " (0.014, 'x6^2'),\n",
       " (0.033, 'x6 x7'),\n",
       " (0.06, 'x6 x8'),\n",
       " (0.209, 'x6 x9'),\n",
       " (1.84, 'x6 x10'),\n",
       " (0.006, 'x6 x11'),\n",
       " (0.0, 'x6 x12'),\n",
       " (0.0, 'x6 x13'),\n",
       " (0.241, 'x6 x14'),\n",
       " (1.065, 'x6 x15'),\n",
       " (0.015, 'x7^2'),\n",
       " (0.085, 'x7 x8'),\n",
       " (-0.022, 'x7 x9'),\n",
       " (3.126, 'x7 x10'),\n",
       " (0.271, 'x7 x11'),\n",
       " (0.007, 'x7 x12'),\n",
       " (-0.0, 'x7 x13'),\n",
       " (0.995, 'x7 x14'),\n",
       " (2.708, 'x7 x15'),\n",
       " (0.06, 'x8^2'),\n",
       " (-0.315, 'x8 x9'),\n",
       " (-2.014, 'x8 x10'),\n",
       " (-1.888, 'x8 x11'),\n",
       " (0.0, 'x8 x12'),\n",
       " (-0.0, 'x8 x13'),\n",
       " (-0.631, 'x8 x14'),\n",
       " (0.15, 'x8 x15'),\n",
       " (0.972, 'x9^2'),\n",
       " (0.037, 'x9 x10'),\n",
       " (2.495, 'x9 x11'),\n",
       " (0.0, 'x9 x12'),\n",
       " (-0.0, 'x9 x13'),\n",
       " (0.0, 'x9 x14'),\n",
       " (0.0, 'x9 x15'),\n",
       " (0.175, 'x10^2'),\n",
       " (0.0, 'x10 x11'),\n",
       " (0.0, 'x10 x12'),\n",
       " (-0.0, 'x10 x13'),\n",
       " (0.0, 'x10 x14'),\n",
       " (0.0, 'x10 x15'),\n",
       " (-4.727, 'x11^2'),\n",
       " (0.0, 'x11 x12'),\n",
       " (0.0, 'x11 x13'),\n",
       " (0.0, 'x11 x14'),\n",
       " (0.062, 'x11 x15'),\n",
       " (0.006, 'x12^2'),\n",
       " (0.0, 'x12 x13'),\n",
       " (0.0, 'x12 x14'),\n",
       " (-0.0, 'x12 x15'),\n",
       " (-0.003, 'x13^2'),\n",
       " (0.0, 'x13 x14'),\n",
       " (0.0, 'x13 x15'),\n",
       " (-5.557, 'x14^2'),\n",
       " (0.0, 'x14 x15'),\n",
       " (-0.197, 'x15^2')]"
      ]
     },
     "execution_count": 49,
     "metadata": {},
     "output_type": "execute_result"
    }
   ],
   "source": [
    "# pairing the coefficient with augmented features\n",
    "pairs = [(np.around(k, decimals=3), v) for k, v in zip(poly_reg.coef_, column_names)]\n",
    "pairs"
   ]
  },
  {
   "cell_type": "code",
   "execution_count": 50,
   "metadata": {},
   "outputs": [],
   "source": [
    "def poly_reg_formula(poly_reg_coef, poly_reg_intercept, column_names):\n",
    "    \"\"\"print out the polynomial regression formula\n",
    "    \n",
    "    :param poly_reg_coef: coefficient\n",
    "    :param poly_reg_intercept: intercept\n",
    "    :param column_names: feature\n",
    "    \"\"\"\n",
    "    \n",
    "    term = []\n",
    "    coef = list(np.around(poly_reg_coef, decimals=3))\n",
    "    for i in range(len(coef)):\n",
    "        # the first value stay the same\n",
    "        if i == 0:\n",
    "            # not append if zero\n",
    "            if coef[i] != 0:\n",
    "                temp = str(coef[i]) + column_names[i]\n",
    "                term.append(temp)\n",
    "        else:\n",
    "            # add plus symbol if positive, maintain if negative, not append if zero\n",
    "            if coef[i] > 0:\n",
    "                temp = '+' + str(coef[i]) + column_names[i]\n",
    "                term.append(temp)\n",
    "            elif coef[i] < 0:\n",
    "                temp = str(coef[i]) + column_names[i]\n",
    "                term.append(temp)\n",
    "    if poly_reg.intercept_ >= 0:\n",
    "        # formula of polynomial regression\n",
    "        formula = ''.join(term) + '+' + str(poly_reg_intercept)\n",
    "        print(formula)\n",
    "    else:\n",
    "        formula = ''.join(term) + str(poly_reg.intercept_)\n",
    "        print(formula)"
   ]
  },
  {
   "cell_type": "code",
   "execution_count": 51,
   "metadata": {},
   "outputs": [
    {
     "name": "stdout",
     "output_type": "stream",
     "text": [
      "0.484x0+0.923x1-0.108x2+1.976x3-0.867x4+7.772x5-1.342x6-0.786x7-3.694x8+7.37x9-0.019x10-43.393x11-0.188x12+0.277x14-0.063x15-0.005x0^2+0.026x0 x1+0.005x0 x2+0.002x0 x3+0.002x0 x4+0.204x0 x5+0.005x0 x6-0.008x0 x7+0.021x0 x8-0.211x0 x9-1.881x0 x10+0.678x0 x11-0.006x0 x12-0.029x0 x13+1.916x0 x14-1.195x0 x15-0.01x1^2+0.012x1 x2-0.055x1 x3-0.048x1 x4+0.955x1 x5-0.084x1 x6-0.031x1 x7-0.147x1 x8-2.237x1 x9+0.084x1 x10+0.597x1 x11+0.533x1 x14-3.223x1 x15-0.023x2 x3+0.001x2 x4-0.138x2 x5-0.002x2 x6-0.006x2 x7-0.001x2 x8+0.336x2 x9-0.173x2 x10+0.673x2 x11-0.013x2 x13+4.468x2 x14+0.12x2 x15+0.028x3^2-0.013x3 x4-0.314x3 x5-0.063x3 x6-0.039x3 x7-0.122x3 x8-0.387x3 x9-4.019x3 x10+1.434x3 x11-2.608x3 x15+0.007x4^2-0.299x4 x5+0.019x4 x6+0.021x4 x7+0.041x4 x8+0.141x4 x9+0.572x4 x10+0.425x4 x11+0.015x4 x12-2.912x4 x14-3.339x4 x15+0.055x5^2-0.518x5 x6-0.382x5 x7-0.936x5 x8+0.447x5 x9+0.064x5 x10-1.0x5 x11-0.624x5 x14-0.199x5 x15+0.014x6^2+0.033x6 x7+0.06x6 x8+0.209x6 x9+1.84x6 x10+0.006x6 x11+0.241x6 x14+1.065x6 x15+0.015x7^2+0.085x7 x8-0.022x7 x9+3.126x7 x10+0.271x7 x11+0.007x7 x12+0.995x7 x14+2.708x7 x15+0.06x8^2-0.315x8 x9-2.014x8 x10-1.888x8 x11-0.631x8 x14+0.15x8 x15+0.972x9^2+0.037x9 x10+2.495x9 x11+0.175x10^2-4.727x11^2+0.062x11 x15+0.006x12^2-0.003x13^2-5.557x14^2-0.197x15^2+9.80403552551376\n"
     ]
    }
   ],
   "source": [
    "poly_reg_formula(poly_reg.coef_, poly_reg.intercept_, column_names)"
   ]
  },
  {
   "cell_type": "code",
   "execution_count": 52,
   "metadata": {},
   "outputs": [
    {
     "data": {
      "text/plain": [
       "array([ 1.66761673e-01,  1.14026341e+00,  9.79305430e-01,  7.99393639e-01,\n",
       "        2.78386945e-01,  9.57053235e+00,  1.86990797e-01,  1.77450641e-01,\n",
       "        1.60754837e-01,  4.02249027e-01,  2.80729767e-01,  3.41065170e-01,\n",
       "        2.59510875e-01,  4.00117891e-01,  2.02741744e-01,  1.69394157e-01,\n",
       "        2.72023195e-01,  1.52971469e-01,  2.46161876e-01,  1.24858769e-01,\n",
       "       -1.06576076e-01,  1.77102410e-01,  3.92732517e-01,  2.49901255e-01,\n",
       "        2.29781532e-01,  1.20782936e-01,  2.55584364e-01,  2.41617566e-01,\n",
       "        2.87151818e-01,  5.35516396e+00,  9.79338400e+00,  6.01826348e-01,\n",
       "        3.93178987e-01,  2.30066361e-01,  2.35649640e-01,  2.27693302e-01,\n",
       "        2.48524635e-01, -8.00718411e-02,  4.60448912e-01,  2.36874888e-01,\n",
       "        2.74017061e-01,  3.82786730e-01,  2.52093071e-01,  2.90642191e-01,\n",
       "        3.13230437e-01,  8.26819979e-01,  1.69852249e-01,  2.51824515e-01,\n",
       "        2.94304917e-01,  2.97212709e-01,  1.34545229e-01,  2.38372532e-01,\n",
       "        1.72311316e-01,  5.80824892e-04,  1.06373485e+00,  2.48657456e-01,\n",
       "        4.58842008e-01,  2.06871667e-01,  1.60983303e-01, -9.60467447e-02,\n",
       "        1.80520570e-01,  5.49963676e-01,  5.12211173e-01,  1.01257406e-01,\n",
       "        2.53688258e-01,  2.76073679e-01,  1.56675869e-01,  5.34221375e-01,\n",
       "        3.73806655e-01,  1.58881788e-01,  2.66333838e-01,  1.12391642e+01,\n",
       "        3.88343786e-01,  7.28446704e-02,  2.59550508e-01,  3.88210617e-01,\n",
       "        1.26183842e-01,  4.73910351e-01])"
      ]
     },
     "execution_count": 52,
     "metadata": {},
     "output_type": "execute_result"
    }
   ],
   "source": [
    "# X_test_poly contains the original features and adds the square of the features\n",
    "X_test_poly = poly_features.fit_transform(X_test) \n",
    "# Predicted value of the test set\n",
    "y_test_poly_prediction = poly_reg.predict(X_test_poly)\n",
    "y_test_poly_prediction"
   ]
  },
  {
   "cell_type": "code",
   "execution_count": 53,
   "metadata": {},
   "outputs": [
    {
     "data": {
      "text/plain": [
       "array([0.    , 1.    , 1.    , 0.261 , 0.15  , 0.929 , 0.283 , 0.19  ,\n",
       "       0.34  , 0.228 , 0.23  , 0.285 , 0.212 , 0.433 , 0.195 , 0.21  ,\n",
       "       0.302 , 0.033 , 0.189 , 0.07  , 0.    , 0.18  , 0.18  , 0.195 ,\n",
       "       0.249 , 0.168 , 0.234 , 0.32  , 0.229 , 0.938 , 0.904 , 0.88  ,\n",
       "       0.282 , 0.185 , 0.152 , 0.198 , 0.32  , 0.    , 0.48  , 0.18  ,\n",
       "       0.19  , 0.59  , 0.261 , 0.3   , 0.219 , 0.88  , 0.246 , 0.16  ,\n",
       "       0.219 , 0.191 , 0.098 , 0.18  , 0.254 , 0.    , 0.86  , 0.256 ,\n",
       "       0.388 , 0.627 , 0.308 , 0.86  , 0.227 , 0.54  , 0.54  , 0.176 ,\n",
       "       0.2339, 0.166 , 0.038 , 0.88  , 0.35  , 0.07  , 0.18  , 1.    ,\n",
       "       0.494 , 0.07  , 0.    , 0.    , 0.105 , 0.455 ])"
      ]
     },
     "execution_count": 53,
     "metadata": {},
     "output_type": "execute_result"
    }
   ],
   "source": [
    "# True value of the test set\n",
    "np.array((y_test))"
   ]
  },
  {
   "cell_type": "code",
   "execution_count": 54,
   "metadata": {},
   "outputs": [
    {
     "data": {
      "text/plain": [
       "1.8958742903025627"
      ]
     },
     "execution_count": 54,
     "metadata": {},
     "output_type": "execute_result"
    }
   ],
   "source": [
    "# Root mean square error\n",
    "poly_reg_mse = mean_squared_error(y_test, y_test_poly_prediction)\n",
    "poly_reg_rmse = np.sqrt(poly_reg_mse) \n",
    "poly_reg_rmse"
   ]
  },
  {
   "cell_type": "code",
   "execution_count": 55,
   "metadata": {},
   "outputs": [
    {
     "data": {
      "text/plain": [
       "0.513539254935632"
      ]
     },
     "execution_count": 55,
     "metadata": {},
     "output_type": "execute_result"
    }
   ],
   "source": [
    "# Average absolute error\n",
    "poly_reg_mae = mean_absolute_error(y_test, y_test_poly_prediction) \n",
    "poly_reg_mae"
   ]
  },
  {
   "cell_type": "code",
   "execution_count": 56,
   "metadata": {},
   "outputs": [],
   "source": [
    "# 5-fold cross-validation to evaluate model performance\n",
    "scores = cross_val_score(poly_reg, X_train_poly, y_train,\n",
    "                        scoring=\"neg_mean_squared_error\", cv=5)\n",
    "poly_reg_rmse = np.sqrt(-scores)"
   ]
  },
  {
   "cell_type": "code",
   "execution_count": 57,
   "metadata": {},
   "outputs": [
    {
     "name": "stdout",
     "output_type": "stream",
     "text": [
      "Scores: [5.20463117 0.13054397 0.46118252 0.84584215 1.6627094 ]\n",
      "Mean: 1.6609818406370551\n",
      "Standard deviation: 1.8441076327448518\n"
     ]
    }
   ],
   "source": [
    "display_scores(poly_reg_rmse)"
   ]
  },
  {
   "cell_type": "markdown",
   "metadata": {},
   "source": [
    "## Regularized Linear Models"
   ]
  },
  {
   "cell_type": "code",
   "execution_count": 58,
   "metadata": {},
   "outputs": [],
   "source": [
    "from sklearn.linear_model import SGDRegressor, Ridge, Lasso\n",
    "\n",
    "# Ridge Regression\n",
    "ridge_reg = SGDRegressor(penalty=\"l2\")\n",
    "ridge_reg = Ridge()\n",
    "# Lassor Regression\n",
    "lasso_reg = SGDRegressor(penalty=\"l1\")\n",
    "lasso_reg = Lasso()"
   ]
  },
  {
   "cell_type": "code",
   "execution_count": 59,
   "metadata": {},
   "outputs": [
    {
     "data": {
      "text/plain": [
       "ElasticNet(alpha=0.3, l1_ratio=0.3, max_iter=100000, tol=0.0005)"
      ]
     },
     "execution_count": 59,
     "metadata": {},
     "output_type": "execute_result"
    }
   ],
   "source": [
    "from sklearn.linear_model import ElasticNet\n",
    "\n",
    "# Regularization of polynomial regression with an elastic network\n",
    "# whose regular terms are equivalent to a simple mixture of Ridge regression and Lasso regression regular terms\n",
    "# l1_ratio = r\n",
    "elastic_net = ElasticNet(alpha=0.3, l1_ratio=0.3, max_iter=100000, tol=0.0005)\n",
    "elastic_net.fit(X_train_poly, y_train)"
   ]
  },
  {
   "cell_type": "code",
   "execution_count": 60,
   "metadata": {},
   "outputs": [
    {
     "data": {
      "text/plain": [
       "array([-0.00000000e+00,  0.00000000e+00,  0.00000000e+00, -0.00000000e+00,\n",
       "        0.00000000e+00, -0.00000000e+00,  0.00000000e+00,  0.00000000e+00,\n",
       "        0.00000000e+00, -0.00000000e+00, -0.00000000e+00,  0.00000000e+00,\n",
       "       -0.00000000e+00,  0.00000000e+00, -0.00000000e+00, -0.00000000e+00,\n",
       "       -2.99234823e-04, -3.83630371e-04,  1.46666356e-04, -0.00000000e+00,\n",
       "       -3.69468709e-05, -6.08113166e-04,  2.88402325e-04, -4.99005111e-04,\n",
       "        1.95848942e-03, -0.00000000e+00, -0.00000000e+00,  0.00000000e+00,\n",
       "       -0.00000000e+00,  8.12680118e-04, -0.00000000e+00, -0.00000000e+00,\n",
       "       -0.00000000e+00,  0.00000000e+00, -0.00000000e+00,  0.00000000e+00,\n",
       "        0.00000000e+00,  0.00000000e+00,  0.00000000e+00, -0.00000000e+00,\n",
       "       -0.00000000e+00, -0.00000000e+00,  0.00000000e+00, -0.00000000e+00,\n",
       "        0.00000000e+00, -0.00000000e+00, -0.00000000e+00,  1.12358048e-03,\n",
       "       -0.00000000e+00,  0.00000000e+00, -0.00000000e+00, -1.91406965e-03,\n",
       "        0.00000000e+00, -4.29283282e-03, -0.00000000e+00, -0.00000000e+00,\n",
       "        0.00000000e+00, -0.00000000e+00,  0.00000000e+00, -0.00000000e+00,\n",
       "       -0.00000000e+00,  1.47589378e-06, -0.00000000e+00, -0.00000000e+00,\n",
       "       -1.16233579e-03, -3.18902847e-04,  0.00000000e+00, -0.00000000e+00,\n",
       "        0.00000000e+00,  0.00000000e+00, -0.00000000e+00,  0.00000000e+00,\n",
       "        0.00000000e+00, -0.00000000e+00,  0.00000000e+00, -0.00000000e+00,\n",
       "       -0.00000000e+00,  5.58361559e-04, -0.00000000e+00, -0.00000000e+00,\n",
       "       -0.00000000e+00,  0.00000000e+00, -0.00000000e+00,  0.00000000e+00,\n",
       "       -0.00000000e+00, -0.00000000e+00, -0.00000000e+00, -0.00000000e+00,\n",
       "       -0.00000000e+00, -0.00000000e+00, -0.00000000e+00, -0.00000000e+00,\n",
       "       -0.00000000e+00, -0.00000000e+00,  0.00000000e+00, -0.00000000e+00,\n",
       "       -0.00000000e+00,  0.00000000e+00,  6.16970411e-04,  2.26284019e-03,\n",
       "       -0.00000000e+00, -0.00000000e+00,  0.00000000e+00, -0.00000000e+00,\n",
       "        0.00000000e+00, -0.00000000e+00, -0.00000000e+00,  9.27712249e-04,\n",
       "        8.17758217e-04, -0.00000000e+00, -0.00000000e+00,  0.00000000e+00,\n",
       "       -0.00000000e+00,  0.00000000e+00, -0.00000000e+00, -0.00000000e+00,\n",
       "       -0.00000000e+00, -0.00000000e+00, -0.00000000e+00,  0.00000000e+00,\n",
       "       -0.00000000e+00,  0.00000000e+00, -0.00000000e+00, -0.00000000e+00,\n",
       "       -0.00000000e+00, -0.00000000e+00, -0.00000000e+00, -0.00000000e+00,\n",
       "        0.00000000e+00,  0.00000000e+00, -0.00000000e+00, -0.00000000e+00,\n",
       "        0.00000000e+00,  0.00000000e+00,  0.00000000e+00,  0.00000000e+00,\n",
       "        0.00000000e+00,  0.00000000e+00, -0.00000000e+00,  0.00000000e+00,\n",
       "        0.00000000e+00, -0.00000000e+00,  0.00000000e+00,  0.00000000e+00,\n",
       "        0.00000000e+00, -0.00000000e+00,  0.00000000e+00,  0.00000000e+00,\n",
       "        0.00000000e+00, -0.00000000e+00,  0.00000000e+00, -0.00000000e+00])"
      ]
     },
     "execution_count": 60,
     "metadata": {},
     "output_type": "execute_result"
    }
   ],
   "source": [
    "# Regularized polynomial regression equation coefficients\n",
    "elastic_net.coef_"
   ]
  },
  {
   "cell_type": "code",
   "execution_count": 61,
   "metadata": {},
   "outputs": [
    {
     "data": {
      "text/plain": [
       "0.64532008456724"
      ]
     },
     "execution_count": 61,
     "metadata": {},
     "output_type": "execute_result"
    }
   ],
   "source": [
    "# Intercept of the regularized polynomial regression equation\n",
    "elastic_net.intercept_"
   ]
  },
  {
   "cell_type": "code",
   "execution_count": 62,
   "metadata": {},
   "outputs": [
    {
     "name": "stdout",
     "output_type": "stream",
     "text": [
      "-0.001x0 x5+0.002x0 x8+0.001x0 x13+0.001x2^2-0.002x2 x6-0.004x2 x8-0.001x3 x6+0.001x4 x7+0.001x6 x7+0.002x6 x8+0.001x7^2+0.001x7 x8+0.64532008456724\n"
     ]
    }
   ],
   "source": [
    "# the formula of Elastic Net\n",
    "poly_reg_formula(elastic_net.coef_, elastic_net.intercept_, column_names)"
   ]
  },
  {
   "cell_type": "code",
   "execution_count": 63,
   "metadata": {},
   "outputs": [
    {
     "data": {
      "text/plain": [
       "array([ 0.13346132,  0.56419316,  0.78168716,  0.2970983 ,  0.33350459,\n",
       "        0.82379935,  0.22691346,  0.19222138,  0.21047854,  0.27435319,\n",
       "        0.35505548,  0.27441477,  0.19809448,  0.35031545,  0.24308118,\n",
       "        0.2365946 ,  0.21178559,  0.24088296,  0.25557052,  0.13860938,\n",
       "        0.17229444,  0.22813096,  0.39891782,  0.26764276,  0.2027794 ,\n",
       "        0.23214681,  0.25206265,  0.25367438,  0.2945222 ,  0.69666576,\n",
       "        0.76238128,  0.32894379,  0.15327517,  0.19505054,  0.23799138,\n",
       "        0.23222056,  0.22313644, -0.0086417 ,  0.36013716,  0.21951906,\n",
       "        0.24309658,  0.37926559,  0.24906305,  0.24993458,  0.1690921 ,\n",
       "        0.42673321,  0.20381522,  0.26447564,  0.26710138,  0.24242598,\n",
       "        0.17707799,  0.20638792,  0.20245869,  0.11617491,  0.73003934,\n",
       "        0.24360186,  0.30618216,  0.49683492,  0.17066406,  0.94248891,\n",
       "        0.23661112,  0.39156672,  0.39141402,  0.22965876,  0.21565562,\n",
       "        0.24778765,  0.05979799,  0.33574067,  0.34020626,  0.18683023,\n",
       "        0.2331345 ,  0.68718053,  0.2770377 ,  0.2577095 ,  0.14672058,\n",
       "        0.24488053,  0.21238032,  0.41463751])"
      ]
     },
     "execution_count": 63,
     "metadata": {},
     "output_type": "execute_result"
    }
   ],
   "source": [
    "# Predicted value of the regularized polynomial regression model\n",
    "elastic_net_prediction = elastic_net.predict(X_test_poly)\n",
    "elastic_net_prediction"
   ]
  },
  {
   "cell_type": "code",
   "execution_count": 64,
   "metadata": {},
   "outputs": [
    {
     "data": {
      "text/plain": [
       "array([0.    , 1.    , 1.    , 0.261 , 0.15  , 0.929 , 0.283 , 0.19  ,\n",
       "       0.34  , 0.228 , 0.23  , 0.285 , 0.212 , 0.433 , 0.195 , 0.21  ,\n",
       "       0.302 , 0.033 , 0.189 , 0.07  , 0.    , 0.18  , 0.18  , 0.195 ,\n",
       "       0.249 , 0.168 , 0.234 , 0.32  , 0.229 , 0.938 , 0.904 , 0.88  ,\n",
       "       0.282 , 0.185 , 0.152 , 0.198 , 0.32  , 0.    , 0.48  , 0.18  ,\n",
       "       0.19  , 0.59  , 0.261 , 0.3   , 0.219 , 0.88  , 0.246 , 0.16  ,\n",
       "       0.219 , 0.191 , 0.098 , 0.18  , 0.254 , 0.    , 0.86  , 0.256 ,\n",
       "       0.388 , 0.627 , 0.308 , 0.86  , 0.227 , 0.54  , 0.54  , 0.176 ,\n",
       "       0.2339, 0.166 , 0.038 , 0.88  , 0.35  , 0.07  , 0.18  , 1.    ,\n",
       "       0.494 , 0.07  , 0.    , 0.    , 0.105 , 0.455 ])"
      ]
     },
     "execution_count": 64,
     "metadata": {},
     "output_type": "execute_result"
    }
   ],
   "source": [
    "# True value of the test set\n",
    "np.array(y_test)"
   ]
  },
  {
   "cell_type": "code",
   "execution_count": 65,
   "metadata": {},
   "outputs": [
    {
     "data": {
      "text/plain": [
       "0.15811278358800357"
      ]
     },
     "execution_count": 65,
     "metadata": {},
     "output_type": "execute_result"
    }
   ],
   "source": [
    "# Root mean square error\n",
    "elastic_net_mse = mean_squared_error(y_test, elastic_net_prediction)\n",
    "elastic_net_rmse = np.sqrt(elastic_net_mse) \n",
    "elastic_net_rmse"
   ]
  },
  {
   "cell_type": "code",
   "execution_count": 66,
   "metadata": {},
   "outputs": [
    {
     "data": {
      "text/plain": [
       "0.1115694250892498"
      ]
     },
     "execution_count": 66,
     "metadata": {},
     "output_type": "execute_result"
    }
   ],
   "source": [
    "# Average absolute error\n",
    "elastic_net_mae = mean_absolute_error(y_test, elastic_net_prediction) \n",
    "elastic_net_mae"
   ]
  },
  {
   "cell_type": "code",
   "execution_count": 67,
   "metadata": {},
   "outputs": [],
   "source": [
    "# 5-fold cross-validation to evaluate model performance\n",
    "scores = cross_val_score(elastic_net, X_train_poly, y_train,\n",
    "                        scoring=\"neg_mean_squared_error\", cv=5)\n",
    "elastic_net_rmse_scores = np.sqrt(-scores)"
   ]
  },
  {
   "cell_type": "code",
   "execution_count": 68,
   "metadata": {},
   "outputs": [
    {
     "name": "stdout",
     "output_type": "stream",
     "text": [
      "Scores: [0.36000331 0.13732924 0.12793233 0.18612416 0.11079137]\n",
      "Mean: 0.18443608265124314\n",
      "Standard deviation: 0.09128195362915932\n"
     ]
    }
   ],
   "source": [
    "display_scores(elastic_net_rmse_scores)"
   ]
  },
  {
   "cell_type": "markdown",
   "metadata": {},
   "source": [
    "## Fine-Tune "
   ]
  },
  {
   "cell_type": "code",
   "execution_count": 69,
   "metadata": {},
   "outputs": [
    {
     "data": {
      "text/plain": [
       "GridSearchCV(cv=5, estimator=ElasticNet(random_state=42),\n",
       "             param_grid=[{'alpha': [0.1, 0.2, 0.3],\n",
       "                          'l1_ratio': [0.2, 0.3, 0.4, 0.5],\n",
       "                          'max_iter': [100000], 'tol': [0.0005]}],\n",
       "             return_train_score=True, scoring='neg_mean_squared_error')"
      ]
     },
     "execution_count": 69,
     "metadata": {},
     "output_type": "execute_result"
    }
   ],
   "source": [
    "from sklearn.model_selection import GridSearchCV\n",
    "from sklearn.linear_model import ElasticNet\n",
    "\n",
    "param_grid = [\n",
    "    # try 12 (3×4x1x1) hyperparameter combinations\n",
    "    {'alpha': [0.1, 0.2, 0.3], 'l1_ratio': [0.2, 0.3, 0.4, 0.5],\n",
    "     'max_iter': [100000], 'tol': [0.0005]},   \n",
    "  ]\n",
    "\n",
    "elastic_net = ElasticNet(random_state=42)\n",
    "# five-fold cross validation, the total of training round is up to 60 (12*5) \n",
    "grid_search = GridSearchCV(elastic_net, param_grid, cv=5,\n",
    "                           scoring='neg_mean_squared_error', return_train_score=True)\n",
    "\n",
    "grid_search.fit(X, y)"
   ]
  },
  {
   "cell_type": "code",
   "execution_count": 70,
   "metadata": {},
   "outputs": [
    {
     "data": {
      "text/plain": [
       "ElasticNet(alpha=0.2, l1_ratio=0.3, max_iter=100000, random_state=42,\n",
       "           tol=0.0005)"
      ]
     },
     "execution_count": 70,
     "metadata": {},
     "output_type": "execute_result"
    }
   ],
   "source": [
    "# the best estimator among the 60 trained models\n",
    "best_estimator = grid_search.best_estimator_\n",
    "best_estimator"
   ]
  },
  {
   "cell_type": "code",
   "execution_count": 71,
   "metadata": {},
   "outputs": [
    {
     "name": "stdout",
     "output_type": "stream",
     "text": [
      "0.2943928084992711 {'alpha': 0.1, 'l1_ratio': 0.2, 'max_iter': 100000, 'tol': 0.0005}\n",
      "0.2519177153563561 {'alpha': 0.1, 'l1_ratio': 0.3, 'max_iter': 100000, 'tol': 0.0005}\n",
      "0.24128588715246416 {'alpha': 0.1, 'l1_ratio': 0.4, 'max_iter': 100000, 'tol': 0.0005}\n",
      "0.23930125147155254 {'alpha': 0.1, 'l1_ratio': 0.5, 'max_iter': 100000, 'tol': 0.0005}\n",
      "0.24110024712485265 {'alpha': 0.2, 'l1_ratio': 0.2, 'max_iter': 100000, 'tol': 0.0005}\n",
      "0.2380170498376921 {'alpha': 0.2, 'l1_ratio': 0.3, 'max_iter': 100000, 'tol': 0.0005}\n",
      "0.24097939066296956 {'alpha': 0.2, 'l1_ratio': 0.4, 'max_iter': 100000, 'tol': 0.0005}\n",
      "0.2454920333384755 {'alpha': 0.2, 'l1_ratio': 0.5, 'max_iter': 100000, 'tol': 0.0005}\n",
      "0.2381402900250698 {'alpha': 0.3, 'l1_ratio': 0.2, 'max_iter': 100000, 'tol': 0.0005}\n",
      "0.2435026678132159 {'alpha': 0.3, 'l1_ratio': 0.3, 'max_iter': 100000, 'tol': 0.0005}\n",
      "0.2424057360007671 {'alpha': 0.3, 'l1_ratio': 0.4, 'max_iter': 100000, 'tol': 0.0005}\n",
      "0.23823317452135573 {'alpha': 0.3, 'l1_ratio': 0.5, 'max_iter': 100000, 'tol': 0.0005}\n"
     ]
    }
   ],
   "source": [
    "# the best estimator's score and hyperparemeters in every cross-validation round\n",
    "cvres = grid_search.cv_results_\n",
    "for mean_score, params in zip(cvres[\"mean_test_score\"], cvres[\"params\"]):\n",
    "\tprint(np.sqrt(-mean_score), params)"
   ]
  },
  {
   "cell_type": "markdown",
   "metadata": {},
   "source": [
    "## Learning_curves"
   ]
  },
  {
   "cell_type": "code",
   "execution_count": 72,
   "metadata": {},
   "outputs": [],
   "source": [
    "def plot_learning_curves(model, X_train, y_train, X_val, y_val):\n",
    "    \"\"\"\n",
    "    Drawing learning curves\n",
    "\n",
    "    model: model\n",
    "    X_train，y_train: training set\n",
    "    X_val, y_val：validation set\n",
    "    \"\"\"\n",
    "    train_errors, val_errors = [], []\n",
    "    for m in range(1, len(X_train)):\n",
    "        model.fit(X_train[:m], y_train[:m])\n",
    "        y_train_predict = model.predict(X_train[:m])\n",
    "        y_val_predict = model.predict(X_val)\n",
    "        train_errors.append(mean_squared_error(y_train_predict, y_train[:m]))\n",
    "        val_errors.append(mean_squared_error(y_val_predict, y_val))\n",
    "    plt.plot(np.sqrt(train_errors), \"r-\", linewidth=1, label=\"train\")\n",
    "    plt.plot(np.sqrt(val_errors), \"b-\", linewidth=1, label=\"val\")\n",
    "    plt.legend(loc=\"upper right\", fontsize=14)\n",
    "    plt.xlabel(\"Training set size\", fontsize=14)\n",
    "    plt.ylabel(\"RMSE\", fontsize=14)"
   ]
  },
  {
   "cell_type": "code",
   "execution_count": 73,
   "metadata": {},
   "outputs": [
    {
     "name": "stdout",
     "output_type": "stream",
     "text": [
      "Saving figure linear_learning_curves\n"
     ]
    },
    {
     "data": {
      "image/png": "[encoded data removed]",
      "text/plain": [
       "<Figure size 432x288 with 1 Axes>"
      ]
     },
     "metadata": {
      "needs_background": "light"
     },
     "output_type": "display_data"
    }
   ],
   "source": [
    "plot_learning_curves(lin_reg, X_train, y_train, X_test, y_test)\n",
    "save_fig(\"linear_learning_curves\")"
   ]
  },
  {
   "cell_type": "code",
   "execution_count": 74,
   "metadata": {},
   "outputs": [
    {
     "name": "stdout",
     "output_type": "stream",
     "text": [
      "Saving figure polynomial_learning_curves\n"
     ]
    },
    {
     "data": {
      "image/png": "[encoded data removed]",
      "text/plain": [
       "<Figure size 432x288 with 1 Axes>"
      ]
     },
     "metadata": {
      "needs_background": "light"
     },
     "output_type": "display_data"
    }
   ],
   "source": [
    "plot_learning_curves(poly_reg, X_train_poly, y_train, X_test_poly, y_test)\n",
    "plt.axis([0, 140, 0, 20])\n",
    "save_fig(\"polynomial_learning_curves\")"
   ]
  },
  {
   "cell_type": "code",
   "execution_count": 75,
   "metadata": {},
   "outputs": [
    {
     "name": "stderr",
     "output_type": "stream",
     "text": [
      "/usr/local/lib/python3.9/site-packages/sklearn/linear_model/_coordinate_descent.py:529: ConvergenceWarning: Objective did not converge. You might want to increase the number of iterations. Duality gap: 0.0, tolerance: 0.0\n",
      "  model = cd_fast.enet_coordinate_descent(\n",
      "/usr/local/lib/python3.9/site-packages/sklearn/linear_model/_coordinate_descent.py:529: ConvergenceWarning: Objective did not converge. You might want to increase the number of iterations. Duality gap: 0.0004474342465846104, tolerance: 0.00016294756\n",
      "  model = cd_fast.enet_coordinate_descent(\n",
      "/usr/local/lib/python3.9/site-packages/sklearn/linear_model/_coordinate_descent.py:529: ConvergenceWarning: Objective did not converge. You might want to increase the number of iterations. Duality gap: 0.0007570563918202211, tolerance: 0.00017102782857142862\n",
      "  model = cd_fast.enet_coordinate_descent(\n",
      "/usr/local/lib/python3.9/site-packages/sklearn/linear_model/_coordinate_descent.py:529: ConvergenceWarning: Objective did not converge. You might want to increase the number of iterations. Duality gap: 0.0015711275853003692, tolerance: 0.00017254006976744185\n",
      "  model = cd_fast.enet_coordinate_descent(\n",
      "/usr/local/lib/python3.9/site-packages/sklearn/linear_model/_coordinate_descent.py:529: ConvergenceWarning: Objective did not converge. You might want to increase the number of iterations. Duality gap: 0.0015443352039740121, tolerance: 0.00017286278863636365\n",
      "  model = cd_fast.enet_coordinate_descent(\n",
      "/usr/local/lib/python3.9/site-packages/sklearn/linear_model/_coordinate_descent.py:529: ConvergenceWarning: Objective did not converge. You might want to increase the number of iterations. Duality gap: 0.0023741001841194875, tolerance: 0.00017302048000000003\n",
      "  model = cd_fast.enet_coordinate_descent(\n",
      "/usr/local/lib/python3.9/site-packages/sklearn/linear_model/_coordinate_descent.py:529: ConvergenceWarning: Objective did not converge. You might want to increase the number of iterations. Duality gap: 0.00239317949953477, tolerance: 0.0001732980456521739\n",
      "  model = cd_fast.enet_coordinate_descent(\n",
      "/usr/local/lib/python3.9/site-packages/sklearn/linear_model/_coordinate_descent.py:529: ConvergenceWarning: Objective did not converge. You might want to increase the number of iterations. Duality gap: 0.0030252651740587666, tolerance: 0.00017423592765957447\n",
      "  model = cd_fast.enet_coordinate_descent(\n",
      "/usr/local/lib/python3.9/site-packages/sklearn/linear_model/_coordinate_descent.py:529: ConvergenceWarning: Objective did not converge. You might want to increase the number of iterations. Duality gap: 0.006547020260800063, tolerance: 0.0001804981004791667\n",
      "  model = cd_fast.enet_coordinate_descent(\n",
      "/usr/local/lib/python3.9/site-packages/sklearn/linear_model/_coordinate_descent.py:529: ConvergenceWarning: Objective did not converge. You might want to increase the number of iterations. Duality gap: 0.00916867783250741, tolerance: 0.0001971323067755102\n",
      "  model = cd_fast.enet_coordinate_descent(\n",
      "/usr/local/lib/python3.9/site-packages/sklearn/linear_model/_coordinate_descent.py:529: ConvergenceWarning: Objective did not converge. You might want to increase the number of iterations. Duality gap: 0.009925626758587491, tolerance: 0.00019732783362\n",
      "  model = cd_fast.enet_coordinate_descent(\n",
      "/usr/local/lib/python3.9/site-packages/sklearn/linear_model/_coordinate_descent.py:529: ConvergenceWarning: Objective did not converge. You might want to increase the number of iterations. Duality gap: 0.011441244203780454, tolerance: 0.00019914719862745102\n",
      "  model = cd_fast.enet_coordinate_descent(\n",
      "/usr/local/lib/python3.9/site-packages/sklearn/linear_model/_coordinate_descent.py:529: ConvergenceWarning: Objective did not converge. You might want to increase the number of iterations. Duality gap: 0.0076062477894109914, tolerance: 0.0002059597380576923\n",
      "  model = cd_fast.enet_coordinate_descent(\n",
      "/usr/local/lib/python3.9/site-packages/sklearn/linear_model/_coordinate_descent.py:529: ConvergenceWarning: Objective did not converge. You might want to increase the number of iterations. Duality gap: 0.010493319932185996, tolerance: 0.00020740843071698114\n",
      "  model = cd_fast.enet_coordinate_descent(\n",
      "/usr/local/lib/python3.9/site-packages/sklearn/linear_model/_coordinate_descent.py:529: ConvergenceWarning: Objective did not converge. You might want to increase the number of iterations. Duality gap: 0.011277176790838783, tolerance: 0.00020872409031481485\n",
      "  model = cd_fast.enet_coordinate_descent(\n",
      "/usr/local/lib/python3.9/site-packages/sklearn/linear_model/_coordinate_descent.py:529: ConvergenceWarning: Objective did not converge. You might want to increase the number of iterations. Duality gap: 0.008234828216001744, tolerance: 0.00021543104410909095\n",
      "  model = cd_fast.enet_coordinate_descent(\n",
      "/usr/local/lib/python3.9/site-packages/sklearn/linear_model/_coordinate_descent.py:529: ConvergenceWarning: Objective did not converge. You might want to increase the number of iterations. Duality gap: 0.0067578231565932345, tolerance: 0.00021805291383928573\n",
      "  model = cd_fast.enet_coordinate_descent(\n",
      "/usr/local/lib/python3.9/site-packages/sklearn/linear_model/_coordinate_descent.py:529: ConvergenceWarning: Objective did not converge. You might want to increase the number of iterations. Duality gap: 0.007389575060590459, tolerance: 0.00021954821884210518\n",
      "  model = cd_fast.enet_coordinate_descent(\n",
      "/usr/local/lib/python3.9/site-packages/sklearn/linear_model/_coordinate_descent.py:529: ConvergenceWarning: Objective did not converge. You might want to increase the number of iterations. Duality gap: 0.0077915617075204335, tolerance: 0.00022028023627586207\n",
      "  model = cd_fast.enet_coordinate_descent(\n",
      "/usr/local/lib/python3.9/site-packages/sklearn/linear_model/_coordinate_descent.py:529: ConvergenceWarning: Objective did not converge. You might want to increase the number of iterations. Duality gap: 0.007934954895715385, tolerance: 0.00022086032362711867\n",
      "  model = cd_fast.enet_coordinate_descent(\n",
      "/usr/local/lib/python3.9/site-packages/sklearn/linear_model/_coordinate_descent.py:529: ConvergenceWarning: Objective did not converge. You might want to increase the number of iterations. Duality gap: 0.001295327719758932, tolerance: 0.000282938466\n",
      "  model = cd_fast.enet_coordinate_descent(\n",
      "/usr/local/lib/python3.9/site-packages/sklearn/linear_model/_coordinate_descent.py:529: ConvergenceWarning: Objective did not converge. You might want to increase the number of iterations. Duality gap: 0.0018907109946231238, tolerance: 0.00028304310698461547\n",
      "  model = cd_fast.enet_coordinate_descent(\n",
      "/usr/local/lib/python3.9/site-packages/sklearn/linear_model/_coordinate_descent.py:529: ConvergenceWarning: Objective did not converge. You might want to increase the number of iterations. Duality gap: 0.0010762222310916059, tolerance: 0.0003328718936210527\n",
      "  model = cd_fast.enet_coordinate_descent(\n",
      "/usr/local/lib/python3.9/site-packages/sklearn/linear_model/_coordinate_descent.py:529: ConvergenceWarning: Objective did not converge. You might want to increase the number of iterations. Duality gap: 0.003514756236797867, tolerance: 0.00039773739101960786\n",
      "  model = cd_fast.enet_coordinate_descent(\n",
      "/usr/local/lib/python3.9/site-packages/sklearn/linear_model/_coordinate_descent.py:529: ConvergenceWarning: Objective did not converge. You might want to increase the number of iterations. Duality gap: 0.0036485219695387983, tolerance: 0.00040493754343689316\n",
      "  model = cd_fast.enet_coordinate_descent(\n",
      "/usr/local/lib/python3.9/site-packages/sklearn/linear_model/_coordinate_descent.py:529: ConvergenceWarning: Objective did not converge. You might want to increase the number of iterations. Duality gap: 0.003191134095325898, tolerance: 0.00040649431215384615\n",
      "  model = cd_fast.enet_coordinate_descent(\n",
      "/usr/local/lib/python3.9/site-packages/sklearn/linear_model/_coordinate_descent.py:529: ConvergenceWarning: Objective did not converge. You might want to increase the number of iterations. Duality gap: 0.003784872706558362, tolerance: 0.00040662822219047617\n",
      "  model = cd_fast.enet_coordinate_descent(\n",
      "/usr/local/lib/python3.9/site-packages/sklearn/linear_model/_coordinate_descent.py:529: ConvergenceWarning: Objective did not converge. You might want to increase the number of iterations. Duality gap: 0.004017272829855756, tolerance: 0.0004081616282641509\n",
      "  model = cd_fast.enet_coordinate_descent(\n",
      "/usr/local/lib/python3.9/site-packages/sklearn/linear_model/_coordinate_descent.py:529: ConvergenceWarning: Objective did not converge. You might want to increase the number of iterations. Duality gap: 0.003352073036003489, tolerance: 0.00041174712955140206\n",
      "  model = cd_fast.enet_coordinate_descent(\n",
      "/usr/local/lib/python3.9/site-packages/sklearn/linear_model/_coordinate_descent.py:529: ConvergenceWarning: Objective did not converge. You might want to increase the number of iterations. Duality gap: 0.004474703330772822, tolerance: 0.0004122261326666668\n",
      "  model = cd_fast.enet_coordinate_descent(\n"
     ]
    },
    {
     "name": "stdout",
     "output_type": "stream",
     "text": [
      "Saving figure regularized_polynomial_learning_curves\n"
     ]
    },
    {
     "data": {
      "image/png": "[encoded data removed]",
      "text/plain": [
       "<Figure size 432x288 with 1 Axes>"
      ]
     },
     "metadata": {
      "needs_background": "light"
     },
     "output_type": "display_data"
    }
   ],
   "source": [
    "plot_learning_curves(elastic_net, X_train_poly, y_train, X_test_poly, y_test)\n",
    "save_fig(\"regularized_polynomial_learning_curves\")"
   ]
  },
  {
   "cell_type": "code",
   "execution_count": 76,
   "metadata": {},
   "outputs": [],
   "source": [
    "import numpy as np\n",
    "import matplotlib.pyplot as plt\n",
    "from sklearn.model_selection import learning_curve\n",
    "from sklearn.model_selection import ShuffleSplit\n",
    "\n",
    "def plot_learning_curve(estimator, title, X, y, axes=None, ylim=None, cv=None,\n",
    "                        n_jobs=None, train_sizes=np.linspace(.1, 1.0, 5)):\n",
    "    \"\"\"\n",
    "    Generate 3 plots: the test and training learning curve, the training\n",
    "    samples vs fit times curve, the fit times vs score curve.\n",
    "\n",
    "    Parameters\n",
    "    ----------\n",
    "    estimator : estimator instance\n",
    "        An estimator instance implementing `fit` and `predict` methods which\n",
    "        will be cloned for each validation.\n",
    "\n",
    "    title : str\n",
    "        Title for the chart.\n",
    "\n",
    "    X : array-like of shape (n_samples, n_features)\n",
    "        Training vector, where ``n_samples`` is the number of samples and\n",
    "        ``n_features`` is the number of features.\n",
    "\n",
    "    y : array-like of shape (n_samples) or (n_samples, n_features)\n",
    "        Target relative to ``X`` for classification or regression;\n",
    "        None for unsupervised learning.\n",
    "\n",
    "    axes : array-like of shape (3,), default=None\n",
    "        Axes to use for plotting the curves.\n",
    "\n",
    "    ylim : tuple of shape (2,), default=None\n",
    "        Defines minimum and maximum y-values plotted, e.g. (ymin, ymax).\n",
    "\n",
    "    cv : int, cross-validation generator or an iterable, default=None\n",
    "        Determines the cross-validation splitting strategy.\n",
    "        Possible inputs for cv are:\n",
    "\n",
    "          - None, to use the default 5-fold cross-validation,\n",
    "          - integer, to specify the number of folds.\n",
    "          - :term:`CV splitter`,\n",
    "          - An iterable yielding (train, test) splits as arrays of indices.\n",
    "\n",
    "        For integer/None inputs, if ``y`` is binary or multiclass,\n",
    "        :class:`StratifiedKFold` used. If the estimator is not a classifier\n",
    "        or if ``y`` is neither binary nor multiclass, :class:`KFold` is used.\n",
    "\n",
    "        Refer :ref:`User Guide <cross_validation>` for the various\n",
    "        cross-validators that can be used here.\n",
    "\n",
    "    n_jobs : int or None, default=None\n",
    "        Number of jobs to run in parallel.\n",
    "        ``None`` means 1 unless in a :obj:`joblib.parallel_backend` context.\n",
    "        ``-1`` means using all processors. See :term:`Glossary <n_jobs>`\n",
    "        for more details.\n",
    "\n",
    "    train_sizes : array-like of shape (n_ticks,), dtype={int, float}\n",
    "        Relative or absolute numbers of training examples that will be used to\n",
    "        generate the learning curve. If the ``dtype`` is float, it is regarded\n",
    "        as a fraction of the maximum size of the training set (that is\n",
    "        determined by the selected validation method), i.e. it has to be within\n",
    "        (0, 1]. Otherwise it is interpreted as absolute sizes of the training\n",
    "        sets. Note that for classification the number of samples usually have\n",
    "        to be big enough to contain at least one sample from each class.\n",
    "        (default: np.linspace(0.1, 1.0, 5))\n",
    "    \"\"\"\n",
    "    if axes is None:\n",
    "        _, axes = plt.subplots(1, 3, figsize=(20, 5))\n",
    "\n",
    "    axes[0].set_title(title)\n",
    "    if ylim is not None:\n",
    "        axes[0].set_ylim(*ylim)\n",
    "    axes[0].set_xlabel(\"Training examples\")\n",
    "    axes[0].set_ylabel(\"Score\")\n",
    "\n",
    "    train_sizes, train_scores, test_scores, fit_times, _ = \\\n",
    "        learning_curve(estimator, X, y, cv=cv, n_jobs=n_jobs,\n",
    "                       train_sizes=train_sizes,\n",
    "                       scoring=\"neg_root_mean_squared_error\",\n",
    "                       return_times=True)\n",
    "    train_scores_mean = np.mean(train_scores, axis=1)\n",
    "    train_scores_std = np.std(train_scores, axis=1)\n",
    "    test_scores_mean = np.mean(test_scores, axis=1)\n",
    "    test_scores_std = np.std(test_scores, axis=1)\n",
    "    fit_times_mean = np.mean(fit_times, axis=1)\n",
    "    fit_times_std = np.std(fit_times, axis=1)\n",
    "\n",
    "    # Plot learning curve\n",
    "    axes[0].grid()\n",
    "    axes[0].fill_between(train_sizes, -(train_scores_mean - train_scores_std),\n",
    "                         -(train_scores_mean + train_scores_std), alpha=0.1,\n",
    "                         color=\"r\")\n",
    "    axes[0].fill_between(train_sizes, -(test_scores_mean - test_scores_std),\n",
    "                         -(test_scores_mean + test_scores_std), alpha=0.1,\n",
    "                         color=\"g\")\n",
    "    axes[0].plot(train_sizes, -train_scores_mean, 'o-', color=\"r\",\n",
    "                 label=\"Training score\")\n",
    "    axes[0].plot(train_sizes, -test_scores_mean, 'o-', color=\"g\",\n",
    "                 label=\"Cross-validation score\")\n",
    "    axes[0].legend(loc=\"best\")\n",
    "\n",
    "    # Plot n_samples vs fit_times\n",
    "    axes[1].grid()\n",
    "    axes[1].plot(train_sizes, fit_times_mean, 'o-')\n",
    "    axes[1].fill_between(train_sizes, fit_times_mean - fit_times_std,\n",
    "                         fit_times_mean + fit_times_std, alpha=0.1)\n",
    "    axes[1].set_xlabel(\"Training examples\")\n",
    "    axes[1].set_ylabel(\"fit_times\")\n",
    "    axes[1].set_title(\"Scalability of the model\")\n",
    "\n",
    "    # Plot fit_time vs score\n",
    "    axes[2].grid()\n",
    "    axes[2].plot(fit_times_mean, test_scores_mean, 'o-')\n",
    "    axes[2].fill_between(fit_times_mean, test_scores_mean - test_scores_std,\n",
    "                         test_scores_mean + test_scores_std, alpha=0.1)\n",
    "    axes[2].set_xlabel(\"fit_times\")\n",
    "    axes[2].set_ylabel(\"Score\")\n",
    "    axes[2].set_title(\"Performance of the model\")\n",
    "\n",
    "    return plt"
   ]
  },
  {
   "cell_type": "code",
   "execution_count": 77,
   "metadata": {},
   "outputs": [
    {
     "data": {
      "text/plain": [
       "<module 'matplotlib.pyplot' from '/usr/local/lib/python3.9/site-packages/matplotlib/pyplot.py'>"
      ]
     },
     "execution_count": 77,
     "metadata": {},
     "output_type": "execute_result"
    },
    {
     "data": {
      "image/png": "[encoded data removed]",
      "text/plain": [
       "<Figure size 1440x360 with 3 Axes>"
      ]
     },
     "metadata": {
      "needs_background": "light"
     },
     "output_type": "display_data"
    }
   ],
   "source": [
    "from sklearn.linear_model import LinearRegression\n",
    "cv = ShuffleSplit(n_splits=20, test_size=0.3, random_state=0)\n",
    "estimator = LinearRegression()\n",
    "title = \"Learning Curves (Linear Regression)\"\n",
    "plot_learning_curve(estimator, title, X, y,\n",
    "                    n_jobs=-1, cv=cv)"
   ]
  },
  {
   "cell_type": "code",
   "execution_count": 78,
   "metadata": {},
   "outputs": [
    {
     "data": {
      "text/plain": [
       "<module 'matplotlib.pyplot' from '/usr/local/lib/python3.9/site-packages/matplotlib/pyplot.py'>"
      ]
     },
     "execution_count": 78,
     "metadata": {},
     "output_type": "execute_result"
    },
    {
     "data": {
      "image/png": "[encoded data removed]",
      "text/plain": [
       "<Figure size 1440x360 with 3 Axes>"
      ]
     },
     "metadata": {
      "needs_background": "light"
     },
     "output_type": "display_data"
    }
   ],
   "source": [
    "from sklearn.linear_model import LinearRegression\n",
    "cv = ShuffleSplit(n_splits=20, test_size=0.2, random_state=0)\n",
    "estimator = LinearRegression()\n",
    "\n",
    "# Let the square of each feature in the training set be a new feature to obtain the extended set of features\n",
    "poly_features = PolynomialFeatures(degree=2, include_bias=False)\n",
    "# X_train_poly contains the original feature and adds the square of that feature\n",
    "X_poly = poly_features.fit_transform(X) \n",
    "\n",
    "title = \"Learning Curves (Linear Regression)\"\n",
    "plot_learning_curve(estimator, title, X_poly, y,\n",
    "                    n_jobs=-1, cv=cv)"
   ]
  },
  {
   "cell_type": "markdown",
   "metadata": {},
   "source": [
    "## Early Stopping"
   ]
  },
  {
   "cell_type": "code",
   "execution_count": 79,
   "metadata": {},
   "outputs": [],
   "source": [
    "from copy import deepcopy\n",
    "from sklearn.pipeline import Pipeline\n",
    "from sklearn.preprocessing import StandardScaler\n",
    "from sklearn.linear_model import SGDRegressor\n",
    "\n",
    "# build a pipeline\n",
    "poly_scaler = Pipeline([\n",
    "        (\"poly_features\", PolynomialFeatures(degree=5, include_bias=False)),\n",
    "        (\"std_scaler\", StandardScaler())\n",
    "    ])\n",
    "\n",
    "# preprocess the data\n",
    "X_train_poly_scaled = poly_scaler.fit_transform(X_train)\n",
    "X_val_poly_scaled = poly_scaler.transform(X_test)\n",
    "\n",
    "# Polynomial Regression using Stochastic Gradient Descent\n",
    "# warm_start=True would continue training where it left off instead of restarting from scratch.\n",
    "sgd_reg = SGDRegressor(max_iter=1, tol=-np.infty, warm_start=True,\n",
    "                       penalty=None, learning_rate=\"constant\", eta0=0.0005, random_state=42)\n",
    "\n",
    "minimum_val_error = float(\"inf\")\n",
    "best_epoch = None\n",
    "best_model = None\n",
    "for epoch in range(1000):\n",
    "    # continues where it left off \n",
    "    sgd_reg.fit(X_train_poly_scaled, y_train)  \n",
    "    y_val_predict = sgd_reg.predict(X_val_poly_scaled)\n",
    "    val_error = mean_squared_error(y_test, y_val_predict)\n",
    "    if val_error < minimum_val_error:\n",
    "        minimum_val_error = val_error\n",
    "        best_epoch = epoch\n",
    "        best_model = deepcopy(sgd_reg)"
   ]
  },
  {
   "cell_type": "code",
   "execution_count": 80,
   "metadata": {},
   "outputs": [
    {
     "data": {
      "text/plain": [
       "0"
      ]
     },
     "execution_count": 80,
     "metadata": {},
     "output_type": "execute_result"
    }
   ],
   "source": [
    "# the best iteration epoch when getting the best proper model\n",
    "best_epoch"
   ]
  },
  {
   "cell_type": "code",
   "execution_count": 81,
   "metadata": {},
   "outputs": [
    {
     "data": {
      "text/plain": [
       "SGDRegressor(eta0=0.0005, learning_rate='constant', max_iter=1, penalty=None,\n",
       "             random_state=42, tol=-inf, warm_start=True)"
      ]
     },
     "execution_count": 81,
     "metadata": {},
     "output_type": "execute_result"
    }
   ],
   "source": [
    "# the best proper model to prevent overfitting\n",
    "best_model"
   ]
  }
 ],
 "metadata": {
  "kernelspec": {
   "display_name": "Python 3",
   "language": "python",
   "name": "python3"
  },
  "language_info": {
   "codemirror_mode": {
    "name": "ipython",
    "version": 3
   },
   "file_extension": ".py",
   "mimetype": "text/x-python",
   "name": "python",
   "nbconvert_exporter": "python",
   "pygments_lexer": "ipython3",
   "version": "3.9.0"
  }
 },
 "nbformat": 4,
 "nbformat_minor": 4
}

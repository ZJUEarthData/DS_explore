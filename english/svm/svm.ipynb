{
 "cells": [
  {
   "cell_type": "code",
   "execution_count": 197,
   "metadata": {},
   "outputs": [],
   "source": [
    "# Make the following code support python2 and python3\n",
    "from __future__ import division, print_function, unicode_literals\n",
    "\n",
    "# Check if the version of python is 3.5 and above\n",
    "import sys\n",
    "assert sys.version_info >= (3, 5)\n",
    "\n",
    "# Check to see if sklearn is version 0.20 and above\n",
    "import sklearn\n",
    "assert sklearn.__version__ >= \"0.20\"\n",
    "\n",
    "import numpy as np\n",
    "import pandas as pd\n",
    "import os \n",
    "\n",
    "# The result obtained after each run is the same as that of this notebook\n",
    "np.random.seed(42) \n",
    "\n",
    "# Make matplotlib diagrams work better\n",
    "%matplotlib inline\n",
    "import matplotlib as mpl\n",
    "mpl.rc('axes', labelsize=14)\n",
    "mpl.rc('xtick', labelsize=12)\n",
    "mpl.rc('ytick', labelsize=12)\n",
    "\n",
    "# Setting the route to save the image\n",
    "PROJECT_ROOT_DIR = \".\"\n",
    "IMAGE_PATH = os.path.join(PROJECT_ROOT_DIR, \"images\")\n",
    "os.makedirs(IMAGE_PATH, exist_ok=True)\n",
    "\n",
    "def save_fig(fig_id, tight_layout=True):\n",
    "    '''\n",
    "    Run to save automatic pictures\n",
    "    \n",
    "    fig_id : Picture Name\n",
    "    '''\n",
    "    path = os.path.join(PROJECT_ROOT_DIR, \"images\", fig_id + \".png\")\n",
    "    print(\"Saving figure\", fig_id)\n",
    "    if tight_layout:\n",
    "        plt.tight_layout()\n",
    "    plt.savefig(path, format='png', dpi=300)\n",
    "    \n",
    "# Ignore the useless warnings (Scipy issue #5998)\n",
    "import warnings\n",
    "warnings.filterwarnings(action=\"ignore\", message=\"^internal gelsd\")"
   ]
  },
  {
   "cell_type": "code",
   "execution_count": 198,
   "metadata": {},
   "outputs": [],
   "source": [
    "df = pd.read_excel(\"data1.xlsx\", engine=\"openpyxl\")"
   ]
  },
  {
   "cell_type": "code",
   "execution_count": 199,
   "metadata": {},
   "outputs": [
    {
     "data": {
      "text/html": [
       "<div>\n",
       "<style scoped>\n",
       "    .dataframe tbody tr th:only-of-type {\n",
       "        vertical-align: middle;\n",
       "    }\n",
       "\n",
       "    .dataframe tbody tr th {\n",
       "        vertical-align: top;\n",
       "    }\n",
       "\n",
       "    .dataframe thead th {\n",
       "        text-align: right;\n",
       "    }\n",
       "</style>\n",
       "<table border=\"1\" class=\"dataframe\">\n",
       "  <thead>\n",
       "    <tr style=\"text-align: right;\">\n",
       "      <th></th>\n",
       "      <th>TRUE VALUE</th>\n",
       "      <th>SiO2(w.t.%)</th>\n",
       "      <th>TiO2(w.t.%)</th>\n",
       "      <th>Al2O3(w.t.%)</th>\n",
       "      <th>Cr2O3(w.t.%)</th>\n",
       "      <th>Fe2O3 (t)(w.t.%)</th>\n",
       "      <th>MnO(w.t.%)</th>\n",
       "      <th>NiO(w.t.%)</th>\n",
       "      <th>MgO(w.t.%)</th>\n",
       "    </tr>\n",
       "  </thead>\n",
       "  <tbody>\n",
       "    <tr>\n",
       "      <th>0</th>\n",
       "      <td>1</td>\n",
       "      <td>40.88</td>\n",
       "      <td>0.02</td>\n",
       "      <td>0.73</td>\n",
       "      <td>0.1</td>\n",
       "      <td>6.66</td>\n",
       "      <td>0.12</td>\n",
       "      <td>0.19</td>\n",
       "      <td>36.95</td>\n",
       "    </tr>\n",
       "    <tr>\n",
       "      <th>1</th>\n",
       "      <td>1</td>\n",
       "      <td>41.15</td>\n",
       "      <td>0.02</td>\n",
       "      <td>0.63</td>\n",
       "      <td>0.1</td>\n",
       "      <td>6.94</td>\n",
       "      <td>0.13</td>\n",
       "      <td>0.19</td>\n",
       "      <td>37.34</td>\n",
       "    </tr>\n",
       "    <tr>\n",
       "      <th>2</th>\n",
       "      <td>1</td>\n",
       "      <td>44.30</td>\n",
       "      <td>0.03</td>\n",
       "      <td>1.27</td>\n",
       "      <td>0.1</td>\n",
       "      <td>6.35</td>\n",
       "      <td>0.12</td>\n",
       "      <td>0.19</td>\n",
       "      <td>35.09</td>\n",
       "    </tr>\n",
       "    <tr>\n",
       "      <th>3</th>\n",
       "      <td>1</td>\n",
       "      <td>40.86</td>\n",
       "      <td>0.06</td>\n",
       "      <td>1.21</td>\n",
       "      <td>0.1</td>\n",
       "      <td>6.98</td>\n",
       "      <td>0.13</td>\n",
       "      <td>0.19</td>\n",
       "      <td>36.38</td>\n",
       "    </tr>\n",
       "    <tr>\n",
       "      <th>4</th>\n",
       "      <td>1</td>\n",
       "      <td>42.72</td>\n",
       "      <td>0.05</td>\n",
       "      <td>1.13</td>\n",
       "      <td>0.1</td>\n",
       "      <td>6.14</td>\n",
       "      <td>0.14</td>\n",
       "      <td>0.19</td>\n",
       "      <td>35.95</td>\n",
       "    </tr>\n",
       "  </tbody>\n",
       "</table>\n",
       "</div>"
      ],
      "text/plain": [
       "   TRUE VALUE  SiO2(w.t.%)  TiO2(w.t.%)  Al2O3(w.t.%)  Cr2O3(w.t.%)  \\\n",
       "0           1        40.88         0.02          0.73           0.1   \n",
       "1           1        41.15         0.02          0.63           0.1   \n",
       "2           1        44.30         0.03          1.27           0.1   \n",
       "3           1        40.86         0.06          1.21           0.1   \n",
       "4           1        42.72         0.05          1.13           0.1   \n",
       "\n",
       "   Fe2O3 (t)(w.t.%)  MnO(w.t.%)  NiO(w.t.%)  MgO(w.t.%)  \n",
       "0              6.66        0.12        0.19       36.95  \n",
       "1              6.94        0.13        0.19       37.34  \n",
       "2              6.35        0.12        0.19       35.09  \n",
       "3              6.98        0.13        0.19       36.38  \n",
       "4              6.14        0.14        0.19       35.95  "
      ]
     },
     "execution_count": 199,
     "metadata": {},
     "output_type": "execute_result"
    }
   ],
   "source": [
    "# read the first five data of the data set\n",
    "df.head()"
   ]
  },
  {
   "cell_type": "code",
   "execution_count": 200,
   "metadata": {},
   "outputs": [
    {
     "name": "stdout",
     "output_type": "stream",
     "text": [
      "<class 'pandas.core.frame.DataFrame'>\n",
      "RangeIndex: 122 entries, 0 to 121\n",
      "Data columns (total 9 columns):\n",
      " #   Column            Non-Null Count  Dtype  \n",
      "---  ------            --------------  -----  \n",
      " 0   TRUE VALUE        122 non-null    int64  \n",
      " 1   SiO2(w.t.%)       122 non-null    float64\n",
      " 2   TiO2(w.t.%)       122 non-null    float64\n",
      " 3   Al2O3(w.t.%)      122 non-null    float64\n",
      " 4   Cr2O3(w.t.%)      122 non-null    float64\n",
      " 5   Fe2O3 (t)(w.t.%)  122 non-null    float64\n",
      " 6   MnO(w.t.%)        122 non-null    float64\n",
      " 7   NiO(w.t.%)        122 non-null    float64\n",
      " 8   MgO(w.t.%)        122 non-null    float64\n",
      "dtypes: float64(8), int64(1)\n",
      "memory usage: 8.7 KB\n"
     ]
    }
   ],
   "source": [
    "# check whether there is null value\n",
    "df.info()"
   ]
  },
  {
   "cell_type": "code",
   "execution_count": 201,
   "metadata": {},
   "outputs": [
    {
     "data": {
      "text/html": [
       "<div>\n",
       "<style scoped>\n",
       "    .dataframe tbody tr th:only-of-type {\n",
       "        vertical-align: middle;\n",
       "    }\n",
       "\n",
       "    .dataframe tbody tr th {\n",
       "        vertical-align: top;\n",
       "    }\n",
       "\n",
       "    .dataframe thead th {\n",
       "        text-align: right;\n",
       "    }\n",
       "</style>\n",
       "<table border=\"1\" class=\"dataframe\">\n",
       "  <thead>\n",
       "    <tr style=\"text-align: right;\">\n",
       "      <th></th>\n",
       "      <th>SiO2(w.t.%)</th>\n",
       "    </tr>\n",
       "    <tr>\n",
       "      <th>TRUE VALUE</th>\n",
       "      <th></th>\n",
       "    </tr>\n",
       "  </thead>\n",
       "  <tbody>\n",
       "    <tr>\n",
       "      <th>-1</th>\n",
       "      <td>41.657097</td>\n",
       "    </tr>\n",
       "    <tr>\n",
       "      <th>1</th>\n",
       "      <td>40.088078</td>\n",
       "    </tr>\n",
       "  </tbody>\n",
       "</table>\n",
       "</div>"
      ],
      "text/plain": [
       "            SiO2(w.t.%)\n",
       "TRUE VALUE             \n",
       "-1            41.657097\n",
       " 1            40.088078"
      ]
     },
     "execution_count": 201,
     "metadata": {},
     "output_type": "execute_result"
    }
   ],
   "source": [
    "df[[\"TRUE VALUE\", \"SiO2(w.t.%)\"]].groupby([\"TRUE VALUE\"]).mean()"
   ]
  },
  {
   "cell_type": "code",
   "execution_count": 202,
   "metadata": {},
   "outputs": [],
   "source": [
    "# data sets that don't contain classification label\n",
    "X = df.drop(\"TRUE VALUE\", axis=1)\n",
    "# Columns that contain classification label\n",
    "y = df[\"TRUE VALUE\"]"
   ]
  },
  {
   "cell_type": "code",
   "execution_count": 203,
   "metadata": {},
   "outputs": [
    {
     "data": {
      "text/plain": [
       "[-1, 1]"
      ]
     },
     "execution_count": 203,
     "metadata": {},
     "output_type": "execute_result"
    }
   ],
   "source": [
    "# the type of the labels of the original data sets\n",
    "tag = list(np.unique(y))\n",
    "tag"
   ]
  },
  {
   "cell_type": "code",
   "execution_count": 204,
   "metadata": {},
   "outputs": [
    {
     "data": {
      "text/plain": [
       " 1    91\n",
       "-1    31\n",
       "Name: TRUE VALUE, dtype: int64"
      ]
     },
     "execution_count": 204,
     "metadata": {},
     "output_type": "execute_result"
    }
   ],
   "source": [
    "y.value_counts()"
   ]
  },
  {
   "cell_type": "code",
   "execution_count": 205,
   "metadata": {},
   "outputs": [],
   "source": [
    "from sklearn.preprocessing import StandardScaler\n",
    "\n",
    "# data need to be standardized before dimension reduction for dimensionless method,\n",
    "# but SVMs are sensitive to the feature scales\n",
    "scaler = StandardScaler()\n",
    "X_processed = pd.DataFrame(scaler.fit_transform(X))"
   ]
  },
  {
   "cell_type": "code",
   "execution_count": 206,
   "metadata": {},
   "outputs": [
    {
     "data": {
      "text/plain": [
       "(122, 2)"
      ]
     },
     "execution_count": 206,
     "metadata": {},
     "output_type": "execute_result"
    }
   ],
   "source": [
    "from sklearn.decomposition import PCA\n",
    "\n",
    "# PCA assumes that the origin is centered, the data set is centralized automatically\n",
    "pca = PCA(n_components=2)\n",
    "# reduce the data set down to 2-dimensional space\n",
    "X_reduced = pca.fit_transform(X_processed)\n",
    "X_reduced.shape"
   ]
  },
  {
   "cell_type": "code",
   "execution_count": 215,
   "metadata": {},
   "outputs": [],
   "source": [
    "# get the range of the x axis and y axis for 2-dimensional plot\n",
    "axes_range = [X_reduced[:, 0].min()-0.5, X_reduced[:, 0].max()+0.5, X_reduced[:, 1].min()-0.5, X_reduced[:, 1].max()+0.5]"
   ]
  },
  {
   "cell_type": "code",
   "execution_count": 216,
   "metadata": {},
   "outputs": [
    {
     "data": {
      "image/png": "[encoded data removed]",
      "text/plain": [
       "<Figure size 432x288 with 1 Axes>"
      ]
     },
     "metadata": {
      "needs_background": "light"
     },
     "output_type": "display_data"
    }
   ],
   "source": [
    "import matplotlib.pyplot as plt\n",
    "\n",
    "def plot_dataset(X, y, axes):\n",
    "    \"\"\"draw a plot where the data are in 2-dimensinal space\n",
    "    \n",
    "    :param X: data \n",
    "    :param y: classes\n",
    "    :axes: the range of axes respectively\n",
    "    \"\"\"\n",
    "    \n",
    "    plt.figure(1, figsize=(8, 6))\n",
    "\n",
    "    legend = []\n",
    "    # Draw a data point projection plot that is projected to a two-dimensional plane using normal PCA\n",
    "    for i, label in enumerate(tag):\n",
    "        plt.scatter(X[:, 0][y==label], X[:, 1][y==label], linewidth=0.01)\n",
    "        legend.append(\"Label: {}\".format(label))\n",
    "    plt.legend(legend)\n",
    "    plt.axis(axes)\n",
    "    plt.xlabel(\"$PC1$\")\n",
    "    plt.ylabel(\"$PC2$\")\n",
    "    plt.grid()\n",
    "\n",
    "plt.title(\"2-dimension PCA\")\n",
    "plot_dataset(X_reduced, y, axes_range)"
   ]
  },
  {
   "cell_type": "markdown",
   "metadata": {},
   "source": [
    "# Linear SVM Classification"
   ]
  },
  {
   "cell_type": "code",
   "execution_count": 217,
   "metadata": {},
   "outputs": [],
   "source": [
    "def plot_svc_decision_boundary(svm_clf, xmin, xmax):\n",
    "    \"\"\"plot decision boundary for Linear SVM  \n",
    "    \n",
    "    :param svm_clf: svm model\n",
    "    :param xmin: the lower limit of the x column \n",
    "    :param xmax: the upper limit of the x column\n",
    "    \"\"\"\n",
    "    \n",
    "    w = svm_clf.coef_[0]\n",
    "    b = svm_clf.intercept_[0]\n",
    "\n",
    "    # At the decision boundary, w0*x0 + w1*x1 + b = 0\n",
    "    # => x1 = -w0/w1 * x0 - b/w1\n",
    "    x0 = np.linspace(xmin, xmax, 200)\n",
    "    decision_boundary = -w[0]/w[1] * x0 - b/w[1]\n",
    "\n",
    "    margin = 1/w[1]\n",
    "    gutter_up = decision_boundary + margin\n",
    "    gutter_down = decision_boundary - margin\n",
    "\n",
    "    svs = svm_clf.support_vectors_\n",
    "    plt.scatter(svs[:, 0], svs[:, 1], s=10, facecolors='#FFAAAA')\n",
    "    plt.plot(x0, decision_boundary, \"k-\", linewidth=2)\n",
    "    plt.plot(x0, gutter_up, \"k--\", linewidth=2)\n",
    "    plt.plot(x0, gutter_down, \"k--\", linewidth=2)"
   ]
  },
  {
   "cell_type": "code",
   "execution_count": 218,
   "metadata": {},
   "outputs": [
    {
     "data": {
      "text/plain": [
       "SVC(C=1000, kernel='linear')"
      ]
     },
     "execution_count": 218,
     "metadata": {},
     "output_type": "execute_result"
    }
   ],
   "source": [
    "from sklearn.svm import SVC\n",
    "\n",
    "# SVM Classifier model, a smaller C value leads to a wider street but more margin violations\n",
    "svm_clf = SVC(kernel=\"linear\", C=1000)\n",
    "svm_clf.fit(X_reduced, y)"
   ]
  },
  {
   "cell_type": "code",
   "execution_count": 219,
   "metadata": {},
   "outputs": [
    {
     "data": {
      "image/png": "[encoded data removed]",
      "text/plain": [
       "<Figure size 576x432 with 1 Axes>"
      ]
     },
     "metadata": {
      "needs_background": "light"
     },
     "output_type": "display_data"
    }
   ],
   "source": [
    "plot_dataset(X_reduced, y, axes_range)\n",
    "plot_svc_decision_boundary(svm_clf, -4, 4)"
   ]
  },
  {
   "cell_type": "markdown",
   "metadata": {},
   "source": [
    "# Non-Linear SVM Classification"
   ]
  },
  {
   "cell_type": "code",
   "execution_count": 220,
   "metadata": {},
   "outputs": [],
   "source": [
    "def plot_predictions(clf, axes):\n",
    "    \"\"\"plot the non-linear classification plot\n",
    "    \n",
    "    :param clf: the classifier\n",
    "    :param axes: list, the range of the axes respectively\n",
    "    \"\"\"\n",
    "    \n",
    "    x0s = np.linspace(axes[0], axes[1], 100)\n",
    "    x1s = np.linspace(axes[2], axes[3], 100)\n",
    "    x0, x1 = np.meshgrid(x0s, x1s)\n",
    "    X = np.c_[x0.ravel(), x1.ravel()]\n",
    "    y_pred = clf.predict(X).reshape(x0.shape)\n",
    "    # calculate the distance of the samples X to the separating hyperplane\n",
    "    y_prediction = clf.decision_function(X).reshape(x0.shape)\n",
    "    plt.contourf(x0, x1, y_pred, cmam=plt.cm.brg, alpha=0.2)\n",
    "    plt.contourf(x0, x1, y_prediction, cmap=plt.cm.brg, alpha=0.1)"
   ]
  },
  {
   "cell_type": "code",
   "execution_count": 221,
   "metadata": {},
   "outputs": [
    {
     "data": {
      "text/plain": [
       "SVC(C=5, coef0=1, kernel='poly')"
      ]
     },
     "execution_count": 221,
     "metadata": {},
     "output_type": "execute_result"
    }
   ],
   "source": [
    "from sklearn.preprocessing import PolynomialFeatures\n",
    "from sklearn.svm import LinearSVC\n",
    "\n",
    "poly_kernel_svm_clf = SVC(kernel=\"poly\", degree=3, coef0=1, C=5)\n",
    "poly_kernel_svm_clf.fit(X_reduced, y)"
   ]
  },
  {
   "cell_type": "code",
   "execution_count": 222,
   "metadata": {},
   "outputs": [
    {
     "name": "stderr",
     "output_type": "stream",
     "text": [
      "<ipython-input-220-8f9de7b0a653>:16: UserWarning: The following kwargs were not used by contour: 'cmam'\n",
      "  plt.contourf(x0, x1, y_pred, cmam=plt.cm.brg, alpha=0.2)\n"
     ]
    },
    {
     "name": "stdout",
     "output_type": "stream",
     "text": [
      "Saving figure kernelized_polynomial_svc_plot\n"
     ]
    },
    {
     "data": {
      "image/png": "[encoded data removed]",
      "text/plain": [
       "<Figure size 576x432 with 1 Axes>"
      ]
     },
     "metadata": {
      "needs_background": "light"
     },
     "output_type": "display_data"
    }
   ],
   "source": [
    "plot_dataset(X_reduced, y, axes_range)\n",
    "plot_predictions(poly_kernel_svm_clf, axes_range)\n",
    "\n",
    "save_fig(\"kernelized_polynomial_svc_plot\")"
   ]
  },
  {
   "cell_type": "code",
   "execution_count": 223,
   "metadata": {},
   "outputs": [
    {
     "data": {
      "text/plain": [
       "SVC(C=10, gamma=0.1)"
      ]
     },
     "execution_count": 223,
     "metadata": {},
     "output_type": "execute_result"
    }
   ],
   "source": [
    "rbf_kernel_svm_clf = SVC(kernel=\"rbf\", gamma=0.1, C=10)\n",
    "rbf_kernel_svm_clf.fit(X_reduced, y)"
   ]
  },
  {
   "cell_type": "code",
   "execution_count": 224,
   "metadata": {},
   "outputs": [
    {
     "data": {
      "text/plain": [
       "SVC(C=10, coef0=1, gamma=0.1, kernel='sigmoid')"
      ]
     },
     "execution_count": 224,
     "metadata": {},
     "output_type": "execute_result"
    }
   ],
   "source": [
    "sigmoid_kernel_svm_clf = SVC(kernel=\"sigmoid\", gamma=0.1, coef0=1, C=10)\n",
    "sigmoid_kernel_svm_clf.fit(X_reduced, y)"
   ]
  },
  {
   "cell_type": "code",
   "execution_count": 225,
   "metadata": {},
   "outputs": [
    {
     "name": "stderr",
     "output_type": "stream",
     "text": [
      "<ipython-input-220-8f9de7b0a653>:16: UserWarning: The following kwargs were not used by contour: 'cmam'\n",
      "  plt.contourf(x0, x1, y_pred, cmam=plt.cm.brg, alpha=0.2)\n",
      "<ipython-input-220-8f9de7b0a653>:16: UserWarning: The following kwargs were not used by contour: 'cmam'\n",
      "  plt.contourf(x0, x1, y_pred, cmam=plt.cm.brg, alpha=0.2)\n"
     ]
    },
    {
     "data": {
      "image/png": "[encoded data removed]",
      "text/plain": [
       "<Figure size 756x288 with 2 Axes>"
      ]
     },
     "metadata": {
      "needs_background": "light"
     },
     "output_type": "display_data"
    }
   ],
   "source": [
    "fig, axes = plt.subplots(ncols=2, figsize=(10.5, 4), sharey=True)\n",
    "\n",
    "plt.sca(axes[0])\n",
    "plot_dataset(X_reduced, y, axes_range)\n",
    "plot_predictions(rbf_kernel_svm_clf, axes_range)\n",
    "plt.title(r\"$\\gamma=0.1, C=10$\")\n",
    "\n",
    "plt.sca(axes[1])\n",
    "plot_dataset(X_reduced, y, axes_range)\n",
    "plot_predictions(sigmoid_kernel_svm_clf, axes_range)\n",
    "plt.title(r\"$\\gamma=0.1, coef0=1, C=10$\")\n",
    "\n",
    "plt.show()"
   ]
  },
  {
   "cell_type": "code",
   "execution_count": 226,
   "metadata": {},
   "outputs": [
    {
     "name": "stdout",
     "output_type": "stream",
     "text": [
      "[LibSVM]0 0.1 0.31252408027648926\n",
      "[LibSVM]1 0.01 0.5576381683349609\n",
      "[LibSVM]2 0.001 2.8446741104125977\n",
      "[LibSVM]3 0.0001 3.0710320472717285\n",
      "[LibSVM]4 1e-05 3.4556779861450195\n",
      "[LibSVM]5 1.0000000000000002e-06 3.5690419673919678\n",
      "[LibSVM]6 1.0000000000000002e-07 2.694470167160034\n",
      "[LibSVM]7 1.0000000000000002e-08 3.448937177658081\n",
      "[LibSVM]8 1.0000000000000003e-09 3.4144837856292725\n",
      "[LibSVM]9 1.0000000000000003e-10 3.493892192840576\n"
     ]
    },
    {
     "data": {
      "image/png": "[encoded data removed]",
      "text/plain": [
       "<Figure size 432x288 with 1 Axes>"
      ]
     },
     "metadata": {
      "needs_background": "light"
     },
     "output_type": "display_data"
    },
    {
     "name": "stdout",
     "output_type": "stream",
     "text": [
      "Saving figure tolerance_time_plot\n"
     ]
    },
    {
     "data": {
      "text/plain": [
       "<Figure size 432x288 with 0 Axes>"
      ]
     },
     "metadata": {},
     "output_type": "display_data"
    }
   ],
   "source": [
    "import time\n",
    "\n",
    "# tolerance for stopping criterion\n",
    "tol = 0.1\n",
    "tols = []\n",
    "times = []\n",
    "for i in range(10):\n",
    "    svm_clf1 = SVC(kernel=\"poly\", gamma=3, C=10, tol=tol, verbose=1)\n",
    "    t1 = time.time()\n",
    "    svm_clf1.fit(X_reduced, y)\n",
    "    t2 = time.time()\n",
    "    times.append(t2-t1)\n",
    "    tols.append(tol)\n",
    "    print(i, tol, t2-t1)\n",
    "    tol /= 10\n",
    "# make a plot with log scaling on the x axis\n",
    "plt.semilogx(tols, times, \"bo-\")\n",
    "plt.xlabel(\"Tolerance\", fontsize=16)\n",
    "plt.ylabel(\"Time (seconds)\", fontsize=16)\n",
    "plt.grid(True)\n",
    "plt.show()\n",
    "save_fig(\"tolerance_time_plot\")"
   ]
  },
  {
   "cell_type": "markdown",
   "metadata": {},
   "source": [
    "## Grid Search"
   ]
  },
  {
   "cell_type": "code",
   "execution_count": 227,
   "metadata": {},
   "outputs": [],
   "source": [
    "# data sets that don't contain classification label\n",
    "X = df.drop(\"TRUE VALUE\", axis=1)"
   ]
  },
  {
   "cell_type": "code",
   "execution_count": 228,
   "metadata": {},
   "outputs": [],
   "source": [
    "from sklearn.model_selection import train_test_split\n",
    "\n",
    "# split data set into training set and testing set\n",
    "X_train, X_test, y_train, y_test = train_test_split(X, y, test_size=0.2, random_state=42)"
   ]
  },
  {
   "cell_type": "code",
   "execution_count": 229,
   "metadata": {},
   "outputs": [],
   "source": [
    "from sklearn.preprocessing import StandardScaler\n",
    "\n",
    "# svm algorithm is sensitive to scaling\n",
    "scaler = StandardScaler()\n",
    "X_train_scaled = scaler.fit_transform(X_train)\n",
    "X_test_scaled = scaler.transform(X_test)"
   ]
  },
  {
   "cell_type": "code",
   "execution_count": 230,
   "metadata": {},
   "outputs": [
    {
     "data": {
      "text/plain": [
       "SVC()"
      ]
     },
     "execution_count": 230,
     "metadata": {},
     "output_type": "execute_result"
    }
   ],
   "source": [
    "svm_clf2 = SVC(kernel=\"rbf\", gamma=\"scale\")\n",
    "svm_clf2.fit(X_train_scaled, y_train)"
   ]
  },
  {
   "cell_type": "code",
   "execution_count": 241,
   "metadata": {},
   "outputs": [
    {
     "data": {
      "text/plain": [
       "0.9175257731958762"
      ]
     },
     "execution_count": 241,
     "metadata": {},
     "output_type": "execute_result"
    }
   ],
   "source": [
    "from sklearn.metrics import accuracy_score\n",
    "\n",
    "y_pred = svm_clf2.predict(X_train_scaled)\n",
    "accuracy_score(y_train, y_pred)"
   ]
  },
  {
   "cell_type": "code",
   "execution_count": 242,
   "metadata": {},
   "outputs": [
    {
     "name": "stdout",
     "output_type": "stream",
     "text": [
      "Fitting 3 folds for each of 10 candidates, totalling 30 fits\n",
      "[CV] C=10.093204020787821, gamma=0.0032927591344236156 ...............\n",
      "[CV]  C=10.093204020787821, gamma=0.0032927591344236156, total=   0.0s\n",
      "[CV] C=10.093204020787821, gamma=0.0032927591344236156 ...............\n",
      "[CV]  C=10.093204020787821, gamma=0.0032927591344236156, total=   0.0s\n",
      "[CV] C=10.093204020787821, gamma=0.0032927591344236156 ...............\n",
      "[CV]  C=10.093204020787821, gamma=0.0032927591344236156, total=   0.0s\n",
      "[CV] C=7.62522284353982, gamma=0.004201672054372529 ..................\n",
      "[CV] ... C=7.62522284353982, gamma=0.004201672054372529, total=   0.0s\n",
      "[CV] C=7.62522284353982, gamma=0.004201672054372529 ..................\n",
      "[CV] ... C=7.62522284353982, gamma=0.004201672054372529, total=   0.0s\n",
      "[CV] C=7.62522284353982, gamma=0.004201672054372529 ..................\n",
      "[CV] ... C=7.62522284353982, gamma=0.004201672054372529, total=   0.0s\n",
      "[CV] C=6.200680211778108, gamma=0.01239996783684609 ..................\n",
      "[CV] ... C=6.200680211778108, gamma=0.01239996783684609, total=   0.0s\n",
      "[CV] C=6.200680211778108, gamma=0.01239996783684609 ..................\n",
      "[CV] ... C=6.200680211778108, gamma=0.01239996783684609, total=   0.0s\n",
      "[CV] C=6.200680211778108, gamma=0.01239996783684609 ..................\n",
      "[CV] ... C=6.200680211778108, gamma=0.01239996783684609, total=   0.0s\n",
      "[CV] C=2.8485445552552706, gamma=0.08692991511139547 .................\n",
      "[CV] .. C=2.8485445552552706, gamma=0.08692991511139547, total=   0.0s\n",
      "[CV] C=2.8485445552552706, gamma=0.08692991511139547 .................\n",
      "[CV] .. C=2.8485445552552706, gamma=0.08692991511139547, total=   0.0s\n",
      "[CV] C=2.8485445552552706, gamma=0.08692991511139547 .................\n",
      "[CV] .. C=2.8485445552552706, gamma=0.08692991511139547, total=   0.0s\n",
      "[CV] C=8.751328233611146, gamma=0.07568292060167615 ..................\n",
      "[CV] ... C=8.751328233611146, gamma=0.07568292060167615, total=   0.0s\n",
      "[CV] C=8.751328233611146, gamma=0.07568292060167615 ..................\n",
      "[CV] ... C=8.751328233611146, gamma=0.07568292060167615, total=   0.0s\n",
      "[CV] C=8.751328233611146, gamma=0.07568292060167615 ..................\n",
      "[CV] ... C=8.751328233611146, gamma=0.07568292060167615, total=   0.0s\n",
      "[CV] C=9.948273504276488, gamma=0.01569639638866114 ..................\n",
      "[CV] ... C=9.948273504276488, gamma=0.01569639638866114, total=   0.0s\n",
      "[CV] C=9.948273504276488, gamma=0.01569639638866114 ..................\n",
      "[CV] ... C=9.948273504276488, gamma=0.01569639638866114, total=   0.0s\n",
      "[CV] C=9.948273504276488, gamma=0.01569639638866114 ..................\n",
      "[CV] ... C=9.948273504276488, gamma=0.01569639638866114, total=   0.0s\n",
      "[CV] C=10.218742350231167, gamma=0.0015030900645056817 ...............\n",
      "[CV]  C=10.218742350231167, gamma=0.0015030900645056817, total=   0.0s\n",
      "[CV] C=10.218742350231167, gamma=0.0015030900645056817 ...............\n",
      "[CV]  C=10.218742350231167, gamma=0.0015030900645056817, total=   0.0s\n",
      "[CV] C=10.218742350231167, gamma=0.0015030900645056817 ...............\n",
      "[CV]  C=10.218742350231167, gamma=0.0015030900645056817, total=   0.0s\n",
      "[CV] C=2.959828624191452, gamma=0.001231557172366602 .................\n",
      "[CV] .. C=2.959828624191452, gamma=0.001231557172366602, total=   0.0s\n",
      "[CV] C=2.959828624191452, gamma=0.001231557172366602 .................\n",
      "[CV] .. C=2.959828624191452, gamma=0.001231557172366602, total=   0.0s\n",
      "[CV] C=2.959828624191452, gamma=0.001231557172366602 .................\n",
      "[CV] .. C=2.959828624191452, gamma=0.001231557172366602, total=   0.0s\n",
      "[CV] C=4.253303307632644, gamma=0.005989003672254299 .................\n",
      "[CV] .. C=4.253303307632644, gamma=0.005989003672254299, total=   0.0s\n",
      "[CV] C=4.253303307632644, gamma=0.005989003672254299 .................\n",
      "[CV] .. C=4.253303307632644, gamma=0.005989003672254299, total=   0.0s\n",
      "[CV] C=4.253303307632644, gamma=0.005989003672254299 .................\n",
      "[CV] .. C=4.253303307632644, gamma=0.005989003672254299, total=   0.0s\n",
      "[CV] C=3.713490317738959, gamma=0.045443839603360146 .................\n",
      "[CV] .. C=3.713490317738959, gamma=0.045443839603360146, total=   0.0s\n",
      "[CV] C=3.713490317738959, gamma=0.045443839603360146 .................\n",
      "[CV] .. C=3.713490317738959, gamma=0.045443839603360146, total=   0.0s\n",
      "[CV] C=3.713490317738959, gamma=0.045443839603360146 .................\n",
      "[CV] .. C=3.713490317738959, gamma=0.045443839603360146, total=   0.0s\n"
     ]
    },
    {
     "name": "stderr",
     "output_type": "stream",
     "text": [
      "[Parallel(n_jobs=1)]: Using backend SequentialBackend with 1 concurrent workers.\n",
      "[Parallel(n_jobs=1)]: Done   1 out of   1 | elapsed:    0.0s remaining:    0.0s\n",
      "[Parallel(n_jobs=1)]: Done  30 out of  30 | elapsed:    0.1s finished\n"
     ]
    },
    {
     "data": {
      "text/plain": [
       "RandomizedSearchCV(cv=3, estimator=SVC(),\n",
       "                   param_distributions={'C': <scipy.stats._distn_infrastructure.rv_frozen object at 0x125a15df0>,\n",
       "                                        'gamma': <scipy.stats._distn_infrastructure.rv_frozen object at 0x1259daa00>},\n",
       "                   verbose=2)"
      ]
     },
     "execution_count": 242,
     "metadata": {},
     "output_type": "execute_result"
    }
   ],
   "source": [
    "from sklearn.model_selection import RandomizedSearchCV\n",
    "from scipy.stats import reciprocal, uniform\n",
    "\n",
    "# find the best combination of hyperparameters of SVM model\n",
    "param_distributions = {\"gamma\": reciprocal(0.001, 0.1), \"C\": uniform(1, 10)}\n",
    "rnd_search_cv = RandomizedSearchCV(svm_clf2, param_distributions, n_iter=10, verbose=2, cv=3)\n",
    "rnd_search_cv.fit(X_train_scaled, y_train)"
   ]
  },
  {
   "cell_type": "code",
   "execution_count": 243,
   "metadata": {},
   "outputs": [
    {
     "data": {
      "text/plain": [
       "SVC(C=6.200680211778108, gamma=0.01239996783684609)"
      ]
     },
     "execution_count": 243,
     "metadata": {},
     "output_type": "execute_result"
    }
   ],
   "source": [
    "# the best model among ten of the trained models \n",
    "rnd_search_cv.best_estimator_"
   ]
  },
  {
   "cell_type": "code",
   "execution_count": 244,
   "metadata": {},
   "outputs": [
    {
     "data": {
      "text/plain": [
       "0.8970959595959597"
      ]
     },
     "execution_count": 244,
     "metadata": {},
     "output_type": "execute_result"
    }
   ],
   "source": [
    "# the best score of the best model\n",
    "rnd_search_cv.best_score_"
   ]
  },
  {
   "cell_type": "markdown",
   "metadata": {},
   "source": [
    "## Metrics for Binary Classifiers "
   ]
  },
  {
   "cell_type": "code",
   "execution_count": 246,
   "metadata": {},
   "outputs": [],
   "source": [
    "from sklearn.model_selection import cross_val_predict\n",
    "\n",
    "svm_clf3 = SVC(kernel=\"rbf\", gamma=\"scale\")\n",
    "\n",
    "# get a \"clean\" prediction for each instance in the training set\n",
    "y_train_pred = cross_val_predict(svm_clf3, X_train_scaled, y_train, cv=3)"
   ]
  },
  {
   "cell_type": "code",
   "execution_count": 256,
   "metadata": {},
   "outputs": [
    {
     "data": {
      "text/plain": [
       "array([ 1, -1,  1,  1, -1,  1, -1,  1,  1,  1,  1,  1,  1,  1,  1,  1,  1,\n",
       "        1,  1,  1,  1,  1,  1,  1,  1,  1,  1,  1, -1,  1,  1,  1,  1,  1,\n",
       "        1,  1,  1,  1, -1,  1,  1,  1, -1,  1,  1, -1,  1,  1,  1,  1, -1,\n",
       "        1,  1, -1,  1,  1,  1,  1,  1,  1,  1,  1,  1,  1,  1,  1,  1,  1,\n",
       "        1,  1,  1,  1, -1,  1,  1, -1,  1,  1, -1,  1,  1, -1, -1,  1,  1,\n",
       "        1,  1,  1,  1, -1,  1,  1,  1, -1,  1,  1, -1])"
      ]
     },
     "execution_count": 256,
     "metadata": {},
     "output_type": "execute_result"
    }
   ],
   "source": [
    "y_train_pred"
   ]
  },
  {
   "cell_type": "markdown",
   "metadata": {},
   "source": [
    "### Precision & Recall"
   ]
  },
  {
   "cell_type": "code",
   "execution_count": 247,
   "metadata": {},
   "outputs": [
    {
     "data": {
      "text/plain": [
       "array([[16, 10],\n",
       "       [ 1, 70]])"
      ]
     },
     "execution_count": 247,
     "metadata": {},
     "output_type": "execute_result"
    }
   ],
   "source": [
    "from sklearn.metrics import confusion_matrix\n",
    "\n",
    "# confusion matrix, each row represents an actual class, while each column represented a predicted class\n",
    "cm = confusion_matrix(y_train, y_train_pred)\n",
    "cm"
   ]
  },
  {
   "cell_type": "code",
   "execution_count": 248,
   "metadata": {},
   "outputs": [
    {
     "data": {
      "text/plain": [
       "([<matplotlib.axis.YTick at 0x12549fa30>,\n",
       "  <matplotlib.axis.YTick at 0x12549f610>],\n",
       " [Text(0, 0.5, '1'), Text(0, 1.5, '-1')])"
      ]
     },
     "execution_count": 248,
     "metadata": {},
     "output_type": "execute_result"
    },
    {
     "data": {
      "image/png": "[encoded data removed]",
      "text/plain": [
       "<Figure size 432x288 with 2 Axes>"
      ]
     },
     "metadata": {
      "needs_background": "light"
     },
     "output_type": "display_data"
    }
   ],
   "source": [
    "import seaborn as sn\n",
    "\n",
    "classes = list(y_train.unique())\n",
    "# location for labels in x-axis\n",
    "tick_marks = np.arange(len(classes)) + 0.5\n",
    "plt.title(\"Confusion Matrix\")\n",
    "sn.heatmap(cm, annot=True, cmap=\"BuPu\")\n",
    "plt.xticks(tick_marks, classes)\n",
    "plt.yticks(tick_marks, classes)"
   ]
  },
  {
   "cell_type": "code",
   "execution_count": 249,
   "metadata": {},
   "outputs": [
    {
     "data": {
      "text/plain": [
       "0.875"
      ]
     },
     "execution_count": 249,
     "metadata": {},
     "output_type": "execute_result"
    }
   ],
   "source": [
    "from sklearn.metrics import precision_score, recall_score\n",
    "\n",
    "# The precision is intuitively the ability of the classifier not to label a sample, which is negative, as positive.\n",
    "precision_score(y_train, y_train_pred)"
   ]
  },
  {
   "cell_type": "code",
   "execution_count": 250,
   "metadata": {},
   "outputs": [
    {
     "data": {
      "text/plain": [
       "0.9859154929577465"
      ]
     },
     "execution_count": 250,
     "metadata": {},
     "output_type": "execute_result"
    }
   ],
   "source": [
    "# The recall is intuitively the ability of the classifier to find all the positive samples.\n",
    "recall_score(y_train, y_train_pred)"
   ]
  },
  {
   "cell_type": "code",
   "execution_count": 251,
   "metadata": {},
   "outputs": [
    {
     "data": {
      "text/plain": [
       "0.9271523178807948"
      ]
     },
     "execution_count": 251,
     "metadata": {},
     "output_type": "execute_result"
    }
   ],
   "source": [
    "from sklearn.metrics import f1_score\n",
    "\n",
    "# F1 = 2 * (precision * recall) / (precision + recall)\n",
    "f1_score(y_train, y_train_pred)"
   ]
  },
  {
   "cell_type": "code",
   "execution_count": 253,
   "metadata": {},
   "outputs": [
    {
     "name": "stdout",
     "output_type": "stream",
     "text": [
      "              precision    recall  f1-score   support\n",
      "\n",
      "          -1       0.94      0.62      0.74        26\n",
      "           1       0.88      0.99      0.93        71\n",
      "\n",
      "    accuracy                           0.89        97\n",
      "   macro avg       0.91      0.80      0.84        97\n",
      "weighted avg       0.89      0.89      0.88        97\n",
      "\n"
     ]
    }
   ],
   "source": [
    "from sklearn.metrics import classification_report\n",
    "\n",
    "# build a text report showing the main classification metrics.\n",
    "print(classification_report(y_train, y_train_pred))"
   ]
  },
  {
   "cell_type": "code",
   "execution_count": 257,
   "metadata": {},
   "outputs": [],
   "source": [
    "# each element represents whether a predicted sample for x_train (seen as testing set in cross_val_predict) \n",
    "# by the classifier lies to the right or left side of the Hyperplane and also how far from the HyperPlane.\n",
    "y_scores = cross_val_predict(svm_clf3, X_train_scaled, y_train, cv=3,\n",
    "                             method=\"decision_function\")"
   ]
  },
  {
   "cell_type": "code",
   "execution_count": 258,
   "metadata": {},
   "outputs": [
    {
     "data": {
      "text/plain": [
       "array([ 1.06112046, -0.97499074,  0.82217922,  1.10641472, -0.97465214,\n",
       "        0.42344603, -0.58887774,  1.00667347,  0.52780509,  1.01523156,\n",
       "        0.88858492,  0.93406021,  1.31320451,  1.22260519,  1.04387257,\n",
       "        1.05302903,  1.03350029,  1.10060102,  0.70788732,  1.01615902,\n",
       "        0.99869961,  1.02671288,  1.03806629,  0.51502737,  1.44666657,\n",
       "        0.92669397,  1.00505629,  1.03149163, -0.76342876,  1.07365682,\n",
       "        1.077697  ,  0.76755383,  1.36214154,  1.0543972 ,  0.60207401,\n",
       "        1.10520634,  0.64222504,  1.21590861, -0.94779486,  0.55692603,\n",
       "        1.21873233,  1.19220302, -1.18792095,  1.02730242,  0.86625177,\n",
       "       -1.2234815 ,  1.249985  ,  0.94165031,  1.40705825,  1.28260524,\n",
       "       -1.22127578,  0.76380686,  1.1292248 , -0.09632317,  0.61583278,\n",
       "        0.50662927,  0.8790823 ,  1.44053471,  0.99893103,  0.89055941,\n",
       "        0.78554362,  1.39932342,  1.05370125,  0.41911538,  0.61203274,\n",
       "        1.47744798,  0.77956466,  1.158259  ,  1.07509107,  0.9317188 ,\n",
       "        0.3920106 ,  0.95992392, -0.71806399,  1.19904219,  1.1160019 ,\n",
       "       -0.68103354,  1.0691528 ,  0.95616621, -0.7048165 ,  0.64012726,\n",
       "        0.69032731, -0.75293766, -0.53165214,  0.27234023,  0.94349502,\n",
       "        0.57686078,  0.59602851,  0.41920039,  1.1782468 , -0.95542191,\n",
       "        1.3276587 ,  1.18765297,  0.30494188, -0.19891427,  0.40821946,\n",
       "        0.64763715, -0.76382301])"
      ]
     },
     "execution_count": 258,
     "metadata": {},
     "output_type": "execute_result"
    }
   ],
   "source": [
    "# how confidently each value predicted for x_test by the classifier \n",
    "# is Positive ( large-magnitude Positive value ) or Negative ( large-magnitude Negative value)\n",
    "y_scores"
   ]
  },
  {
   "cell_type": "code",
   "execution_count": 259,
   "metadata": {},
   "outputs": [],
   "source": [
    "from sklearn.metrics import precision_recall_curve\n",
    "\n",
    "# compute precision-recall pairs for different probability thresholds\n",
    "precisions, recalls, thresholds = precision_recall_curve(y_train, y_scores)"
   ]
  },
  {
   "cell_type": "code",
   "execution_count": 260,
   "metadata": {},
   "outputs": [],
   "source": [
    "precision_recall_curve?"
   ]
  },
  {
   "cell_type": "code",
   "execution_count": 262,
   "metadata": {},
   "outputs": [],
   "source": [
    "def plot_precision_recall_vs_threshold(precisions, recalls, thresholds):\n",
    "    \"\"\"plot precision_recall_curve\n",
    "    \n",
    "    :param precisions: array\n",
    "    :param recalls: array\n",
    "    :param thresholds: array, increasing thresholds on the decision function used to compute precision and recall.\n",
    "    \"\"\"\n",
    "    \n",
    "    plt.plot(thresholds, precisions[:-1], \"b--\", label=\"Precision\", linewidth=2)\n",
    "    plt.plot(thresholds, recalls[:-1], \"g-\", label=\"Recall\", linewidth=2)\n",
    "    plt.legend(loc=\"center right\", fontsize=16) \n",
    "    plt.xlabel(\"Threshold\", fontsize=16)       \n",
    "    plt.grid(True)                                       "
   ]
  },
  {
   "cell_type": "code",
   "execution_count": 263,
   "metadata": {},
   "outputs": [
    {
     "name": "stdout",
     "output_type": "stream",
     "text": [
      "Saving figure precision_recall_vs_threshold_plot\n"
     ]
    },
    {
     "data": {
      "image/png": "[encoded data removed]",
      "text/plain": [
       "<Figure size 576x288 with 1 Axes>"
      ]
     },
     "metadata": {
      "needs_background": "light"
     },
     "output_type": "display_data"
    }
   ],
   "source": [
    "plt.figure(figsize=(8, 4))                                                                  \n",
    "plot_precision_recall_vs_threshold(precisions, recalls, thresholds)\n",
    "save_fig(\"precision_recall_vs_threshold_plot\")                                              \n",
    "plt.show()"
   ]
  },
  {
   "cell_type": "code",
   "execution_count": 264,
   "metadata": {},
   "outputs": [
    {
     "name": "stdout",
     "output_type": "stream",
     "text": [
      "Saving figure precision_vs_recall_plot\n"
     ]
    },
    {
     "data": {
      "image/png": "[encoded data removed]",
      "text/plain": [
       "<Figure size 576x432 with 1 Axes>"
      ]
     },
     "metadata": {
      "needs_background": "light"
     },
     "output_type": "display_data"
    }
   ],
   "source": [
    "def plot_precision_vs_recall(precisions, recalls):\n",
    "    \"\"\"plot precision_vs_recall\n",
    "    \n",
    "    :param precisions: array\n",
    "    :param recalls: array\n",
    "    \n",
    "    \"\"\"\n",
    "    \n",
    "    plt.plot(recalls, precisions, \"b-\", linewidth=2)\n",
    "    plt.xlabel(\"Recall\", fontsize=16)\n",
    "    plt.ylabel(\"Precision\", fontsize=16)\n",
    "    plt.axis([0, 1, 0, 1])\n",
    "    plt.grid(True)\n",
    "    \n",
    "plt.figure(figsize=(8, 6))\n",
    "plot_precision_vs_recall(precisions, recalls)\n",
    "save_fig(\"precision_vs_recall_plot\")\n",
    "plt.show()"
   ]
  },
  {
   "cell_type": "code",
   "execution_count": 265,
   "metadata": {},
   "outputs": [
    {
     "data": {
      "text/plain": [
       "0.5066292722401778"
      ]
     },
     "execution_count": 265,
     "metadata": {},
     "output_type": "execute_result"
    }
   ],
   "source": [
    "# np.argmax() will find the first index of the maximum value, which in this case means the first True value\n",
    "threshold_90_precision = thresholds[np.argmax(precisions >= 0.90)]\n",
    "threshold_90_precision"
   ]
  },
  {
   "cell_type": "code",
   "execution_count": 266,
   "metadata": {},
   "outputs": [
    {
     "data": {
      "text/plain": [
       "array([ True, False,  True,  True, False, False, False,  True,  True,\n",
       "        True,  True,  True,  True,  True,  True,  True,  True,  True,\n",
       "        True,  True,  True,  True,  True,  True,  True,  True,  True,\n",
       "        True, False,  True,  True,  True,  True,  True,  True,  True,\n",
       "        True,  True, False,  True,  True,  True, False,  True,  True,\n",
       "       False,  True,  True,  True,  True, False,  True,  True, False,\n",
       "        True,  True,  True,  True,  True,  True,  True,  True,  True,\n",
       "       False,  True,  True,  True,  True,  True,  True, False,  True,\n",
       "       False,  True,  True, False,  True,  True, False,  True,  True,\n",
       "       False, False, False,  True,  True,  True, False,  True, False,\n",
       "        True,  True, False, False, False,  True, False])"
      ]
     },
     "execution_count": 266,
     "metadata": {},
     "output_type": "execute_result"
    }
   ],
   "source": [
    "# if we want a 90% precision classifier, set the element as True if its decision_function value beyond the 90% precision threshold\n",
    "y_train_pred_90 = (y_scores >= threshold_90_precision)\n",
    "y_train_pred_90"
   ]
  },
  {
   "cell_type": "code",
   "execution_count": 267,
   "metadata": {},
   "outputs": [],
   "source": [
    "y_train_true = []\n",
    "# alternate 1 with True, -1 with False\n",
    "for i in range(len(y_train)):\n",
    "    if list(y_train)[i] == 1:\n",
    "        y_train_true.append(True)\n",
    "    else:\n",
    "        y_train_true.append(False)"
   ]
  },
  {
   "cell_type": "code",
   "execution_count": 268,
   "metadata": {},
   "outputs": [
    {
     "data": {
      "text/plain": [
       "0.9041095890410958"
      ]
     },
     "execution_count": 268,
     "metadata": {},
     "output_type": "execute_result"
    }
   ],
   "source": [
    "# the 90% precision classifier\n",
    "precision_score(y_train_true, y_train_pred_90)"
   ]
  },
  {
   "cell_type": "code",
   "execution_count": 269,
   "metadata": {},
   "outputs": [
    {
     "data": {
      "text/plain": [
       "0.9295774647887324"
      ]
     },
     "execution_count": 269,
     "metadata": {},
     "output_type": "execute_result"
    }
   ],
   "source": [
    "# the corresponding recall value in terms of the 90% precision classifier\n",
    "recall_score(y_train_true, y_train_pred_90)"
   ]
  },
  {
   "cell_type": "markdown",
   "metadata": {},
   "source": [
    "### ROC Curves"
   ]
  },
  {
   "cell_type": "code",
   "execution_count": 270,
   "metadata": {},
   "outputs": [],
   "source": [
    "from sklearn.metrics import roc_curve\n",
    "\n",
    "# compute Receiver operating characteristic (ROC)\n",
    "fpr, tpr, thresholds = roc_curve(y_train, y_scores)"
   ]
  },
  {
   "cell_type": "code",
   "execution_count": 273,
   "metadata": {},
   "outputs": [
    {
     "name": "stdout",
     "output_type": "stream",
     "text": [
      "Saving figure roc_curve_plot\n"
     ]
    },
    {
     "data": {
      "image/png": "[encoded data removed]",
      "text/plain": [
       "<Figure size 576x432 with 1 Axes>"
      ]
     },
     "metadata": {
      "needs_background": "light"
     },
     "output_type": "display_data"
    }
   ],
   "source": [
    "def plot_roc_curve(fpr, tpr):\n",
    "    \"\"\"plots the true positive rate (another name for recall) against the false positive rate\n",
    "    \n",
    "    :param fpr: false positive rate\n",
    "    :param tpr: true positive rate\n",
    "    \"\"\"\n",
    "    \n",
    "    plt.plot(fpr, tpr, linewidth=2)\n",
    "    plt.plot([0, 1], [0, 1], 'k--') # dashed diagonal\n",
    "    plt.axis([0, 1, 0, 1])                                    \n",
    "    plt.xlabel('False Positive Rate (Fall-Out)', fontsize=16) \n",
    "    plt.ylabel('True Positive Rate (Recall)', fontsize=16)    \n",
    "    plt.grid(True)   \n",
    "\n",
    "plt.figure(figsize=(8, 6))  \n",
    "# The dashed diagonal line represents the ROC curve of a purely random classifier;\n",
    "# a good classifier stays as far away from that line as possible (toward the top-left corner)\n",
    "plot_roc_curve(fpr, tpr)\n",
    "save_fig(\"roc_curve_plot\")                        \n",
    "plt.show()"
   ]
  },
  {
   "cell_type": "code",
   "execution_count": 274,
   "metadata": {},
   "outputs": [
    {
     "data": {
      "text/plain": [
       "0.9295774647887325"
      ]
     },
     "execution_count": 274,
     "metadata": {},
     "output_type": "execute_result"
    }
   ],
   "source": [
    "from sklearn.metrics import roc_auc_score\n",
    "\n",
    "# the area under the curve, perfect classifier will have a ROC AUC equal to 1,\n",
    "# whereas a purely random classifier will have a ROC AUC equal to 0.5\n",
    "roc_auc_score(y_train, y_scores)"
   ]
  },
  {
   "cell_type": "markdown",
   "metadata": {},
   "source": [
    "# Multiclass Classification"
   ]
  },
  {
   "cell_type": "code",
   "execution_count": 275,
   "metadata": {},
   "outputs": [],
   "source": [
    "df2 = pd.read_excel(\"data2.xlsx\", engine=\"openpyxl\")"
   ]
  },
  {
   "cell_type": "code",
   "execution_count": 276,
   "metadata": {},
   "outputs": [
    {
     "data": {
      "text/html": [
       "<div>\n",
       "<style scoped>\n",
       "    .dataframe tbody tr th:only-of-type {\n",
       "        vertical-align: middle;\n",
       "    }\n",
       "\n",
       "    .dataframe tbody tr th {\n",
       "        vertical-align: top;\n",
       "    }\n",
       "\n",
       "    .dataframe thead th {\n",
       "        text-align: right;\n",
       "    }\n",
       "</style>\n",
       "<table border=\"1\" class=\"dataframe\">\n",
       "  <thead>\n",
       "    <tr style=\"text-align: right;\">\n",
       "      <th></th>\n",
       "      <th>TRUE VALUE</th>\n",
       "      <th>SiO2 (wt. %)</th>\n",
       "      <th>TiO2 (wt. %)</th>\n",
       "      <th>Al2O3 (wt. %)</th>\n",
       "      <th>Cr2O3 (wt. %)</th>\n",
       "      <th>FeO (wt. %)</th>\n",
       "      <th>MnO (wt. %)</th>\n",
       "      <th>MgO (wt. %)</th>\n",
       "      <th>CaO (wt. %)</th>\n",
       "      <th>Na2O  (wt. %)</th>\n",
       "      <th>IV (Al)</th>\n",
       "      <th>H2O (wt. %)</th>\n",
       "    </tr>\n",
       "  </thead>\n",
       "  <tbody>\n",
       "    <tr>\n",
       "      <th>0</th>\n",
       "      <td>1</td>\n",
       "      <td>47.604</td>\n",
       "      <td>2.858</td>\n",
       "      <td>5.749</td>\n",
       "      <td>0.062</td>\n",
       "      <td>7.024</td>\n",
       "      <td>0.087</td>\n",
       "      <td>12.625</td>\n",
       "      <td>22.916</td>\n",
       "      <td>0.328</td>\n",
       "      <td>0.207900</td>\n",
       "      <td>0.061750</td>\n",
       "    </tr>\n",
       "    <tr>\n",
       "      <th>1</th>\n",
       "      <td>1</td>\n",
       "      <td>51.788</td>\n",
       "      <td>1.166</td>\n",
       "      <td>2.557</td>\n",
       "      <td>0.475</td>\n",
       "      <td>6.801</td>\n",
       "      <td>0.145</td>\n",
       "      <td>14.762</td>\n",
       "      <td>21.743</td>\n",
       "      <td>0.327</td>\n",
       "      <td>0.080071</td>\n",
       "      <td>0.014881</td>\n",
       "    </tr>\n",
       "    <tr>\n",
       "      <th>2</th>\n",
       "      <td>1</td>\n",
       "      <td>46.561</td>\n",
       "      <td>3.109</td>\n",
       "      <td>6.139</td>\n",
       "      <td>0.145</td>\n",
       "      <td>6.914</td>\n",
       "      <td>0.037</td>\n",
       "      <td>12.478</td>\n",
       "      <td>23.112</td>\n",
       "      <td>0.620</td>\n",
       "      <td>0.238984</td>\n",
       "      <td>0.023204</td>\n",
       "    </tr>\n",
       "    <tr>\n",
       "      <th>3</th>\n",
       "      <td>1</td>\n",
       "      <td>46.344</td>\n",
       "      <td>3.170</td>\n",
       "      <td>7.776</td>\n",
       "      <td>0.014</td>\n",
       "      <td>6.842</td>\n",
       "      <td>0.068</td>\n",
       "      <td>11.688</td>\n",
       "      <td>23.067</td>\n",
       "      <td>0.574</td>\n",
       "      <td>0.258931</td>\n",
       "      <td>0.049703</td>\n",
       "    </tr>\n",
       "    <tr>\n",
       "      <th>4</th>\n",
       "      <td>1</td>\n",
       "      <td>50.180</td>\n",
       "      <td>1.965</td>\n",
       "      <td>3.294</td>\n",
       "      <td>0.106</td>\n",
       "      <td>5.729</td>\n",
       "      <td>0.063</td>\n",
       "      <td>13.603</td>\n",
       "      <td>23.626</td>\n",
       "      <td>0.540</td>\n",
       "      <td>0.121500</td>\n",
       "      <td>0.019333</td>\n",
       "    </tr>\n",
       "  </tbody>\n",
       "</table>\n",
       "</div>"
      ],
      "text/plain": [
       "   TRUE VALUE  SiO2 (wt. %)  TiO2 (wt. %)  Al2O3 (wt. %)  Cr2O3 (wt. %)  \\\n",
       "0           1        47.604         2.858          5.749          0.062   \n",
       "1           1        51.788         1.166          2.557          0.475   \n",
       "2           1        46.561         3.109          6.139          0.145   \n",
       "3           1        46.344         3.170          7.776          0.014   \n",
       "4           1        50.180         1.965          3.294          0.106   \n",
       "\n",
       "   FeO (wt. %)  MnO (wt. %)  MgO (wt. %)  CaO (wt. %)  Na2O  (wt. %)  \\\n",
       "0        7.024        0.087       12.625       22.916          0.328   \n",
       "1        6.801        0.145       14.762       21.743          0.327   \n",
       "2        6.914        0.037       12.478       23.112          0.620   \n",
       "3        6.842        0.068       11.688       23.067          0.574   \n",
       "4        5.729        0.063       13.603       23.626          0.540   \n",
       "\n",
       "    IV (Al)  H2O (wt. %)  \n",
       "0  0.207900     0.061750  \n",
       "1  0.080071     0.014881  \n",
       "2  0.238984     0.023204  \n",
       "3  0.258931     0.049703  \n",
       "4  0.121500     0.019333  "
      ]
     },
     "execution_count": 276,
     "metadata": {},
     "output_type": "execute_result"
    }
   ],
   "source": [
    "df2.head()"
   ]
  },
  {
   "cell_type": "code",
   "execution_count": 277,
   "metadata": {},
   "outputs": [
    {
     "name": "stdout",
     "output_type": "stream",
     "text": [
      "<class 'pandas.core.frame.DataFrame'>\n",
      "RangeIndex: 2272 entries, 0 to 2271\n",
      "Data columns (total 12 columns):\n",
      " #   Column         Non-Null Count  Dtype  \n",
      "---  ------         --------------  -----  \n",
      " 0   TRUE VALUE     2272 non-null   int64  \n",
      " 1   SiO2 (wt. %)   2272 non-null   float64\n",
      " 2   TiO2 (wt. %)   2272 non-null   float64\n",
      " 3   Al2O3 (wt. %)  2272 non-null   float64\n",
      " 4   Cr2O3 (wt. %)  2272 non-null   float64\n",
      " 5   FeO (wt. %)    2272 non-null   float64\n",
      " 6   MnO (wt. %)    2272 non-null   float64\n",
      " 7   MgO (wt. %)    2272 non-null   float64\n",
      " 8   CaO (wt. %)    2272 non-null   float64\n",
      " 9   Na2O  (wt. %)  2272 non-null   float64\n",
      " 10  IV (Al)        2272 non-null   float64\n",
      " 11  H2O (wt. %)    2272 non-null   float64\n",
      "dtypes: float64(11), int64(1)\n",
      "memory usage: 213.1 KB\n"
     ]
    }
   ],
   "source": [
    "df2.info()"
   ]
  },
  {
   "cell_type": "code",
   "execution_count": 278,
   "metadata": {},
   "outputs": [],
   "source": [
    "X = df2.drop(\"TRUE VALUE\", axis=1)\n",
    "y = df2[\"TRUE VALUE\"]"
   ]
  },
  {
   "cell_type": "code",
   "execution_count": 279,
   "metadata": {},
   "outputs": [
    {
     "data": {
      "text/plain": [
       "array([ 1, -1,  0])"
      ]
     },
     "execution_count": 279,
     "metadata": {},
     "output_type": "execute_result"
    }
   ],
   "source": [
    "y.unique()"
   ]
  },
  {
   "cell_type": "code",
   "execution_count": 280,
   "metadata": {},
   "outputs": [
    {
     "data": {
      "text/plain": [
       " 1    1488\n",
       "-1     467\n",
       " 0     317\n",
       "Name: TRUE VALUE, dtype: int64"
      ]
     },
     "execution_count": 280,
     "metadata": {},
     "output_type": "execute_result"
    }
   ],
   "source": [
    "y.value_counts()"
   ]
  },
  {
   "cell_type": "code",
   "execution_count": 281,
   "metadata": {},
   "outputs": [],
   "source": [
    "from sklearn.model_selection import train_test_split\n",
    "\n",
    "# split data set into training set and testing set\n",
    "X_train, X_test, y_train, y_test = train_test_split(X, y, test_size=0.2, random_state=42)"
   ]
  },
  {
   "cell_type": "code",
   "execution_count": 282,
   "metadata": {},
   "outputs": [],
   "source": [
    "from sklearn.multiclass import OneVsOneClassifier\n",
    "\n",
    "# one-versus-one strategy, train a series of binary classifier for every pair of classes\n",
    "# e.g -1 vs 1, -1 vs 0, 0 vs 1\n",
    "ovo_clf = OneVsOneClassifier(SVC(gamma=\"auto\", random_state=42))\n",
    "ovo_clf.fit(X_train, y_train)\n",
    "y_pred_ovo = ovo_clf.predict(X_test)"
   ]
  },
  {
   "cell_type": "code",
   "execution_count": 283,
   "metadata": {},
   "outputs": [
    {
     "data": {
      "text/plain": [
       "0.8043956043956044"
      ]
     },
     "execution_count": 283,
     "metadata": {},
     "output_type": "execute_result"
    }
   ],
   "source": [
    "from sklearn.metrics import accuracy_score\n",
    "accuracy_score(y_test, y_pred_ovo)"
   ]
  },
  {
   "cell_type": "code",
   "execution_count": 284,
   "metadata": {},
   "outputs": [
    {
     "data": {
      "text/plain": [
       "3"
      ]
     },
     "execution_count": 284,
     "metadata": {},
     "output_type": "execute_result"
    }
   ],
   "source": [
    "# if there are N classes, it will train N X (N - 1) / 2 classifiers\n",
    "len(ovo_clf.estimators_)"
   ]
  },
  {
   "cell_type": "code",
   "execution_count": 285,
   "metadata": {},
   "outputs": [],
   "source": [
    "from sklearn.multiclass import OneVsRestClassifier\n",
    "\n",
    "# this strategy consists in fitting one classifier per class.\n",
    "# for each classifier, the class is fitted against all the other classes\n",
    "# e.g -1 vs non -1, 1 vs non 1, 0 vs non 0\n",
    "ovr_clf = OneVsRestClassifier(SVC(gamma=\"auto\", random_state=42))\n",
    "ovr_clf.fit(X_train, y_train)\n",
    "y_pred_ovr = ovr_clf.predict(X_test)"
   ]
  },
  {
   "cell_type": "code",
   "execution_count": 286,
   "metadata": {},
   "outputs": [
    {
     "data": {
      "text/plain": [
       "0.8153846153846154"
      ]
     },
     "execution_count": 286,
     "metadata": {},
     "output_type": "execute_result"
    }
   ],
   "source": [
    "from sklearn.metrics import accuracy_score\n",
    "accuracy_score(y_test, y_pred_ovr)"
   ]
  },
  {
   "cell_type": "code",
   "execution_count": 287,
   "metadata": {},
   "outputs": [
    {
     "data": {
      "text/plain": [
       "3"
      ]
     },
     "execution_count": 287,
     "metadata": {},
     "output_type": "execute_result"
    }
   ],
   "source": [
    "# if there are N classes, it will train N classifiers\n",
    "len(ovr_clf.estimators_)"
   ]
  },
  {
   "cell_type": "code",
   "execution_count": 288,
   "metadata": {},
   "outputs": [
    {
     "data": {
      "text/plain": [
       "0.799653937222998"
      ]
     },
     "execution_count": 288,
     "metadata": {},
     "output_type": "execute_result"
    }
   ],
   "source": [
    "from sklearn.model_selection import cross_val_score\n",
    "\n",
    "# use cross-validation skill\n",
    "ovo_svm_scores = cross_val_score(ovo_clf, X_train, y_train, cv=10)\n",
    "ovo_svm_scores.mean()"
   ]
  },
  {
   "cell_type": "code",
   "execution_count": 290,
   "metadata": {},
   "outputs": [
    {
     "data": {
      "text/plain": [
       "0.8062594863699836"
      ]
     },
     "execution_count": 290,
     "metadata": {},
     "output_type": "execute_result"
    }
   ],
   "source": [
    "# use cross-validation skill\n",
    "ovr_svm_scores = cross_val_score(ovr_clf, X_train, y_train, cv=10)\n",
    "ovr_svm_scores.mean()"
   ]
  },
  {
   "cell_type": "code",
   "execution_count": 291,
   "metadata": {},
   "outputs": [
    {
     "data": {
      "image/png": "[encoded data removed]",
      "text/plain": [
       "<Figure size 576x288 with 1 Axes>"
      ]
     },
     "metadata": {
      "needs_background": "light"
     },
     "output_type": "display_data"
    }
   ],
   "source": [
    "plt.figure(figsize=(8, 4))\n",
    "plt.plot([1]*10, ovo_svm_scores, \".\")\n",
    "plt.plot([2]*10, ovr_svm_scores, \".\")\n",
    "# if the lower quartile is Q1 and the upper quartile is Q3,\n",
    "# then the interquartile range IQR = Q3 - Q1 (this is the box's height),\n",
    "# and any score lower than Q1 - 1.5 x IQR is a flier(\"outliers\"),\n",
    "# and so is any score greater than Q3 + 1.5 X IQR \n",
    "plt.boxplot([ovo_svm_scores, ovr_svm_scores], labels=(\"OVO_SVM\",\"OVR_SVM\"))\n",
    "plt.ylabel(\"Accuracy\", fontsize=14)\n",
    "plt.show()"
   ]
  },
  {
   "cell_type": "markdown",
   "metadata": {},
   "source": [
    "# Multilabel Classification"
   ]
  },
  {
   "cell_type": "code",
   "execution_count": 292,
   "metadata": {},
   "outputs": [
    {
     "data": {
      "text/plain": [
       "KNeighborsClassifier()"
      ]
     },
     "execution_count": 292,
     "metadata": {},
     "output_type": "execute_result"
    }
   ],
   "source": [
    "from sklearn.neighbors import KNeighborsClassifier\n",
    "\n",
    "# classes like 0, 1\n",
    "y_train_non_neg = (y_train >= 0)\n",
    "# class like -1\n",
    "y_train_neg = (y_train < 0)\n",
    "y_multilabel = np.c_[y_train_non_neg, y_train_neg]\n",
    "\n",
    "# KNN supports multilabel classification, but not all classifiers (i.e, SVC) do\n",
    "knn_clf = KNeighborsClassifier()\n",
    "knn_clf.fit(X_train, y_multilabel)"
   ]
  },
  {
   "cell_type": "code",
   "execution_count": 293,
   "metadata": {},
   "outputs": [
    {
     "data": {
      "text/plain": [
       "array([[ True, False],\n",
       "       [ True, False],\n",
       "       [ True, False],\n",
       "       [ True, False],\n",
       "       [False,  True],\n",
       "       [ True, False],\n",
       "       [ True, False],\n",
       "       [ True, False],\n",
       "       [ True, False],\n",
       "       [False,  True],\n",
       "       [False,  True],\n",
       "       [ True, False],\n",
       "       [ True, False],\n",
       "       [ True, False],\n",
       "       [ True, False],\n",
       "       [ True, False],\n",
       "       [ True, False],\n",
       "       [ True, False],\n",
       "       [ True, False],\n",
       "       [ True, False],\n",
       "       [ True, False],\n",
       "       [False,  True],\n",
       "       [ True, False],\n",
       "       [ True, False],\n",
       "       [ True, False],\n",
       "       [ True, False],\n",
       "       [ True, False],\n",
       "       [ True, False],\n",
       "       [ True, False],\n",
       "       [ True, False],\n",
       "       [ True, False],\n",
       "       [ True, False],\n",
       "       [ True, False],\n",
       "       [ True, False],\n",
       "       [ True, False],\n",
       "       [ True, False],\n",
       "       [ True, False],\n",
       "       [ True, False],\n",
       "       [ True, False],\n",
       "       [ True, False],\n",
       "       [ True, False],\n",
       "       [ True, False],\n",
       "       [ True, False],\n",
       "       [ True, False],\n",
       "       [False,  True],\n",
       "       [ True, False],\n",
       "       [ True, False],\n",
       "       [False,  True],\n",
       "       [ True, False],\n",
       "       [ True, False],\n",
       "       [ True, False],\n",
       "       [ True, False],\n",
       "       [ True, False],\n",
       "       [ True, False],\n",
       "       [ True, False],\n",
       "       [ True, False],\n",
       "       [ True, False],\n",
       "       [ True, False],\n",
       "       [False,  True],\n",
       "       [False,  True],\n",
       "       [ True, False],\n",
       "       [ True, False],\n",
       "       [ True, False],\n",
       "       [ True, False],\n",
       "       [False,  True],\n",
       "       [ True, False],\n",
       "       [ True, False],\n",
       "       [False,  True],\n",
       "       [ True, False],\n",
       "       [ True, False],\n",
       "       [ True, False],\n",
       "       [ True, False],\n",
       "       [ True, False],\n",
       "       [ True, False],\n",
       "       [ True, False],\n",
       "       [ True, False],\n",
       "       [False,  True],\n",
       "       [ True, False],\n",
       "       [ True, False],\n",
       "       [ True, False],\n",
       "       [ True, False],\n",
       "       [ True, False],\n",
       "       [ True, False],\n",
       "       [ True, False],\n",
       "       [ True, False],\n",
       "       [ True, False],\n",
       "       [ True, False],\n",
       "       [False,  True],\n",
       "       [ True, False],\n",
       "       [ True, False],\n",
       "       [ True, False],\n",
       "       [ True, False],\n",
       "       [ True, False],\n",
       "       [ True, False],\n",
       "       [False,  True],\n",
       "       [ True, False],\n",
       "       [ True, False],\n",
       "       [ True, False],\n",
       "       [ True, False],\n",
       "       [ True, False],\n",
       "       [ True, False],\n",
       "       [False,  True],\n",
       "       [ True, False],\n",
       "       [ True, False],\n",
       "       [ True, False],\n",
       "       [ True, False],\n",
       "       [ True, False],\n",
       "       [ True, False],\n",
       "       [ True, False],\n",
       "       [False,  True],\n",
       "       [ True, False],\n",
       "       [ True, False],\n",
       "       [ True, False],\n",
       "       [ True, False],\n",
       "       [ True, False],\n",
       "       [ True, False],\n",
       "       [ True, False],\n",
       "       [ True, False],\n",
       "       [ True, False],\n",
       "       [False,  True],\n",
       "       [False,  True],\n",
       "       [ True, False],\n",
       "       [False,  True],\n",
       "       [ True, False],\n",
       "       [ True, False],\n",
       "       [ True, False],\n",
       "       [ True, False],\n",
       "       [False,  True],\n",
       "       [ True, False],\n",
       "       [ True, False],\n",
       "       [ True, False],\n",
       "       [ True, False],\n",
       "       [ True, False],\n",
       "       [ True, False],\n",
       "       [ True, False],\n",
       "       [False,  True],\n",
       "       [ True, False],\n",
       "       [False,  True],\n",
       "       [ True, False],\n",
       "       [ True, False],\n",
       "       [ True, False],\n",
       "       [ True, False],\n",
       "       [ True, False],\n",
       "       [ True, False],\n",
       "       [ True, False],\n",
       "       [False,  True],\n",
       "       [ True, False],\n",
       "       [False,  True],\n",
       "       [ True, False],\n",
       "       [ True, False],\n",
       "       [ True, False],\n",
       "       [ True, False],\n",
       "       [ True, False],\n",
       "       [ True, False],\n",
       "       [ True, False],\n",
       "       [ True, False],\n",
       "       [False,  True],\n",
       "       [ True, False],\n",
       "       [ True, False],\n",
       "       [ True, False],\n",
       "       [ True, False],\n",
       "       [ True, False],\n",
       "       [False,  True],\n",
       "       [False,  True],\n",
       "       [ True, False],\n",
       "       [ True, False],\n",
       "       [False,  True],\n",
       "       [ True, False],\n",
       "       [ True, False],\n",
       "       [ True, False],\n",
       "       [ True, False],\n",
       "       [False,  True],\n",
       "       [ True, False],\n",
       "       [ True, False],\n",
       "       [ True, False],\n",
       "       [ True, False],\n",
       "       [ True, False],\n",
       "       [ True, False],\n",
       "       [ True, False],\n",
       "       [ True, False],\n",
       "       [ True, False],\n",
       "       [False,  True],\n",
       "       [ True, False],\n",
       "       [ True, False],\n",
       "       [ True, False],\n",
       "       [ True, False],\n",
       "       [ True, False],\n",
       "       [False,  True],\n",
       "       [ True, False],\n",
       "       [ True, False],\n",
       "       [ True, False],\n",
       "       [ True, False],\n",
       "       [ True, False],\n",
       "       [ True, False],\n",
       "       [False,  True],\n",
       "       [False,  True],\n",
       "       [False,  True],\n",
       "       [ True, False],\n",
       "       [ True, False],\n",
       "       [False,  True],\n",
       "       [ True, False],\n",
       "       [ True, False],\n",
       "       [ True, False],\n",
       "       [ True, False],\n",
       "       [ True, False],\n",
       "       [ True, False],\n",
       "       [ True, False],\n",
       "       [ True, False],\n",
       "       [ True, False],\n",
       "       [ True, False],\n",
       "       [ True, False],\n",
       "       [ True, False],\n",
       "       [ True, False],\n",
       "       [ True, False],\n",
       "       [False,  True],\n",
       "       [ True, False],\n",
       "       [ True, False],\n",
       "       [ True, False],\n",
       "       [ True, False],\n",
       "       [False,  True],\n",
       "       [ True, False],\n",
       "       [ True, False],\n",
       "       [ True, False],\n",
       "       [ True, False],\n",
       "       [ True, False],\n",
       "       [ True, False],\n",
       "       [ True, False],\n",
       "       [ True, False],\n",
       "       [False,  True],\n",
       "       [ True, False],\n",
       "       [ True, False],\n",
       "       [False,  True],\n",
       "       [ True, False],\n",
       "       [ True, False],\n",
       "       [ True, False],\n",
       "       [ True, False],\n",
       "       [ True, False],\n",
       "       [ True, False],\n",
       "       [False,  True],\n",
       "       [ True, False],\n",
       "       [ True, False],\n",
       "       [ True, False],\n",
       "       [ True, False],\n",
       "       [ True, False],\n",
       "       [ True, False],\n",
       "       [ True, False],\n",
       "       [ True, False],\n",
       "       [ True, False],\n",
       "       [ True, False],\n",
       "       [ True, False],\n",
       "       [ True, False],\n",
       "       [ True, False],\n",
       "       [ True, False],\n",
       "       [ True, False],\n",
       "       [ True, False],\n",
       "       [False,  True],\n",
       "       [ True, False],\n",
       "       [ True, False],\n",
       "       [ True, False],\n",
       "       [ True, False],\n",
       "       [ True, False],\n",
       "       [ True, False],\n",
       "       [ True, False],\n",
       "       [ True, False],\n",
       "       [ True, False],\n",
       "       [ True, False],\n",
       "       [False,  True],\n",
       "       [ True, False],\n",
       "       [ True, False],\n",
       "       [ True, False],\n",
       "       [ True, False],\n",
       "       [ True, False],\n",
       "       [ True, False],\n",
       "       [ True, False],\n",
       "       [ True, False],\n",
       "       [False,  True],\n",
       "       [ True, False],\n",
       "       [ True, False],\n",
       "       [False,  True],\n",
       "       [ True, False],\n",
       "       [ True, False],\n",
       "       [False,  True],\n",
       "       [False,  True],\n",
       "       [ True, False],\n",
       "       [ True, False],\n",
       "       [ True, False],\n",
       "       [ True, False],\n",
       "       [ True, False],\n",
       "       [ True, False],\n",
       "       [ True, False],\n",
       "       [False,  True],\n",
       "       [ True, False],\n",
       "       [ True, False],\n",
       "       [ True, False],\n",
       "       [ True, False],\n",
       "       [ True, False],\n",
       "       [ True, False],\n",
       "       [False,  True],\n",
       "       [ True, False],\n",
       "       [ True, False],\n",
       "       [ True, False],\n",
       "       [ True, False],\n",
       "       [False,  True],\n",
       "       [ True, False],\n",
       "       [False,  True],\n",
       "       [ True, False],\n",
       "       [ True, False],\n",
       "       [ True, False],\n",
       "       [ True, False],\n",
       "       [ True, False],\n",
       "       [ True, False],\n",
       "       [ True, False],\n",
       "       [ True, False],\n",
       "       [ True, False],\n",
       "       [ True, False],\n",
       "       [False,  True],\n",
       "       [ True, False],\n",
       "       [False,  True],\n",
       "       [ True, False],\n",
       "       [ True, False],\n",
       "       [False,  True],\n",
       "       [ True, False],\n",
       "       [ True, False],\n",
       "       [ True, False],\n",
       "       [ True, False],\n",
       "       [ True, False],\n",
       "       [False,  True],\n",
       "       [ True, False],\n",
       "       [ True, False],\n",
       "       [ True, False],\n",
       "       [False,  True],\n",
       "       [ True, False],\n",
       "       [False,  True],\n",
       "       [False,  True],\n",
       "       [ True, False],\n",
       "       [False,  True],\n",
       "       [False,  True],\n",
       "       [ True, False],\n",
       "       [False,  True],\n",
       "       [False,  True],\n",
       "       [ True, False],\n",
       "       [ True, False],\n",
       "       [False,  True],\n",
       "       [ True, False],\n",
       "       [False,  True],\n",
       "       [ True, False],\n",
       "       [False,  True],\n",
       "       [ True, False],\n",
       "       [ True, False],\n",
       "       [ True, False],\n",
       "       [ True, False],\n",
       "       [ True, False],\n",
       "       [ True, False],\n",
       "       [False,  True],\n",
       "       [ True, False],\n",
       "       [ True, False],\n",
       "       [ True, False],\n",
       "       [ True, False],\n",
       "       [False,  True],\n",
       "       [ True, False],\n",
       "       [ True, False],\n",
       "       [ True, False],\n",
       "       [ True, False],\n",
       "       [ True, False],\n",
       "       [ True, False],\n",
       "       [ True, False],\n",
       "       [ True, False],\n",
       "       [ True, False],\n",
       "       [ True, False],\n",
       "       [ True, False],\n",
       "       [False,  True],\n",
       "       [False,  True],\n",
       "       [ True, False],\n",
       "       [False,  True],\n",
       "       [ True, False],\n",
       "       [False,  True],\n",
       "       [ True, False],\n",
       "       [ True, False],\n",
       "       [ True, False],\n",
       "       [ True, False],\n",
       "       [ True, False],\n",
       "       [False,  True],\n",
       "       [False,  True],\n",
       "       [ True, False],\n",
       "       [ True, False],\n",
       "       [ True, False],\n",
       "       [ True, False],\n",
       "       [ True, False],\n",
       "       [ True, False],\n",
       "       [False,  True],\n",
       "       [False,  True],\n",
       "       [ True, False],\n",
       "       [ True, False],\n",
       "       [ True, False],\n",
       "       [ True, False],\n",
       "       [False,  True],\n",
       "       [False,  True],\n",
       "       [False,  True],\n",
       "       [ True, False],\n",
       "       [False,  True],\n",
       "       [ True, False],\n",
       "       [ True, False],\n",
       "       [ True, False],\n",
       "       [ True, False],\n",
       "       [ True, False],\n",
       "       [ True, False],\n",
       "       [ True, False],\n",
       "       [ True, False],\n",
       "       [ True, False],\n",
       "       [ True, False],\n",
       "       [ True, False],\n",
       "       [ True, False],\n",
       "       [ True, False],\n",
       "       [ True, False],\n",
       "       [ True, False],\n",
       "       [ True, False],\n",
       "       [ True, False],\n",
       "       [ True, False],\n",
       "       [ True, False],\n",
       "       [ True, False],\n",
       "       [ True, False],\n",
       "       [False,  True],\n",
       "       [ True, False],\n",
       "       [ True, False],\n",
       "       [ True, False],\n",
       "       [False,  True],\n",
       "       [ True, False],\n",
       "       [ True, False],\n",
       "       [ True, False],\n",
       "       [ True, False],\n",
       "       [False,  True],\n",
       "       [ True, False],\n",
       "       [ True, False],\n",
       "       [False,  True],\n",
       "       [ True, False],\n",
       "       [ True, False],\n",
       "       [False,  True],\n",
       "       [ True, False],\n",
       "       [False,  True],\n",
       "       [ True, False],\n",
       "       [False,  True],\n",
       "       [ True, False],\n",
       "       [ True, False],\n",
       "       [ True, False],\n",
       "       [ True, False],\n",
       "       [ True, False],\n",
       "       [False,  True],\n",
       "       [ True, False],\n",
       "       [ True, False],\n",
       "       [ True, False],\n",
       "       [ True, False],\n",
       "       [ True, False],\n",
       "       [ True, False],\n",
       "       [ True, False],\n",
       "       [False,  True]])"
      ]
     },
     "execution_count": 293,
     "metadata": {},
     "output_type": "execute_result"
    }
   ],
   "source": [
    "knn_clf.predict(X_test)"
   ]
  },
  {
   "cell_type": "code",
   "execution_count": 294,
   "metadata": {},
   "outputs": [
    {
     "data": {
      "text/plain": [
       "0.7584005401074425"
      ]
     },
     "execution_count": 294,
     "metadata": {},
     "output_type": "execute_result"
    }
   ],
   "source": [
    "from sklearn.metrics import f1_score\n",
    "\n",
    "# F1 score for each individual label, then simply compute the average score\n",
    "y_train_knn_pred = cross_val_predict(knn_clf, X_train, y_multilabel, cv=3)\n",
    "f1_score(y_multilabel, y_train_knn_pred, average=\"macro\")"
   ]
  },
  {
   "cell_type": "code",
   "execution_count": 295,
   "metadata": {},
   "outputs": [
    {
     "data": {
      "text/plain": [
       "0.8471516637852299"
      ]
     },
     "execution_count": 295,
     "metadata": {},
     "output_type": "execute_result"
    }
   ],
   "source": [
    "# give weight to the classifier's score on the label\n",
    "# depending on the number of instances with that target label\n",
    "f1_score(y_multilabel, y_train_knn_pred, average=\"weighted\")"
   ]
  },
  {
   "cell_type": "markdown",
   "metadata": {},
   "source": [
    "# Error Analysis"
   ]
  },
  {
   "cell_type": "code",
   "execution_count": 296,
   "metadata": {},
   "outputs": [
    {
     "data": {
      "text/plain": [
       "<sklearn.metrics._plot.confusion_matrix.ConfusionMatrixDisplay at 0x1257d26a0>"
      ]
     },
     "execution_count": 296,
     "metadata": {},
     "output_type": "execute_result"
    },
    {
     "data": {
      "image/png": "[encoded data removed]",
      "text/plain": [
       "<Figure size 432x288 with 2 Axes>"
      ]
     },
     "metadata": {
      "needs_background": "light"
     },
     "output_type": "display_data"
    }
   ],
   "source": [
    "from sklearn.metrics import plot_confusion_matrix\n",
    "\n",
    "svm_clf4 = SVC(gamma=\"scale\")\n",
    "svm_clf4.fit(X_train, y_train)\n",
    "plot_confusion_matrix(svm_clf4, X_train, y_train)"
   ]
  },
  {
   "cell_type": "code",
   "execution_count": 297,
   "metadata": {},
   "outputs": [
    {
     "data": {
      "text/plain": [
       "array([[   0,    0,  369],\n",
       "       [   0,    0,  245],\n",
       "       [   0,    0, 1203]])"
      ]
     },
     "execution_count": 297,
     "metadata": {},
     "output_type": "execute_result"
    }
   ],
   "source": [
    "from sklearn.model_selection import cross_val_predict\n",
    "\n",
    "svm_clf5 = SVC(gamma=\"scale\")\n",
    "y_train_pred = cross_val_predict(svm_clf5, X_train, y_train, cv=3)\n",
    "conf_mx = confusion_matrix(y_train, y_train_pred)\n",
    "conf_mx"
   ]
  },
  {
   "cell_type": "code",
   "execution_count": 298,
   "metadata": {},
   "outputs": [],
   "source": [
    "def confusion_matrix_plot(conf_mx, classes):\n",
    "    \"\"\"plot confusion matrix\n",
    "    \n",
    "    :param conf_mx: confusion matrix value\n",
    "    :param classes: the name of the classes\n",
    "    \"\"\"\n",
    "    \n",
    "    # location for labels in x-axis\n",
    "    tick_marks = np.arange(len(classes))\n",
    "    plt.matshow(conf_mx, cmap=plt.cm.gray)\n",
    "    plt.title(\"Confusion Matrix\")\n",
    "    plt.xticks(tick_marks, classes)\n",
    "    plt.yticks(tick_marks, classes)"
   ]
  },
  {
   "cell_type": "code",
   "execution_count": 299,
   "metadata": {},
   "outputs": [
    {
     "data": {
      "image/png": "[encoded data removed]",
      "text/plain": [
       "<Figure size 288x288 with 1 Axes>"
      ]
     },
     "metadata": {
      "needs_background": "light"
     },
     "output_type": "display_data"
    }
   ],
   "source": [
    "confusion_matrix_plot(conf_mx, [-1, 0, 1])"
   ]
  },
  {
   "cell_type": "code",
   "execution_count": 300,
   "metadata": {},
   "outputs": [],
   "source": [
    "# divide each value in the confusion matrix by the number of true corresponding classes,\n",
    "# compare error rate instead of absolute number of errors, which would make abundant classes look unfairly bad\n",
    "row_sums = conf_mx.sum(axis=1, keepdims=True)\n",
    "norm_conf_mx = conf_mx / row_sums"
   ]
  },
  {
   "cell_type": "code",
   "execution_count": 302,
   "metadata": {},
   "outputs": [
    {
     "data": {
      "image/png": "[encoded data removed]",
      "text/plain": [
       "<Figure size 288x288 with 1 Axes>"
      ]
     },
     "metadata": {
      "needs_background": "light"
     },
     "output_type": "display_data"
    }
   ],
   "source": [
    "np.fill_diagonal(norm_conf_mx, 0)\n",
    "# the column for class 1 is quite bright, which tells many elements misclassified as 1\n",
    "confusion_matrix_plot(norm_conf_mx, [-1, 0, 1])"
   ]
  },
  {
   "cell_type": "markdown",
   "metadata": {},
   "source": [
    "# SVM Regression"
   ]
  },
  {
   "cell_type": "code",
   "execution_count": 303,
   "metadata": {},
   "outputs": [],
   "source": [
    "df3 = pd.read_excel(\"data3.xlsx\", engine=\"openpyxl\")"
   ]
  },
  {
   "cell_type": "code",
   "execution_count": 304,
   "metadata": {},
   "outputs": [
    {
     "data": {
      "text/html": [
       "<div>\n",
       "<style scoped>\n",
       "    .dataframe tbody tr th:only-of-type {\n",
       "        vertical-align: middle;\n",
       "    }\n",
       "\n",
       "    .dataframe tbody tr th {\n",
       "        vertical-align: top;\n",
       "    }\n",
       "\n",
       "    .dataframe thead th {\n",
       "        text-align: right;\n",
       "    }\n",
       "</style>\n",
       "<table border=\"1\" class=\"dataframe\">\n",
       "  <thead>\n",
       "    <tr style=\"text-align: right;\">\n",
       "      <th></th>\n",
       "      <th>Si</th>\n",
       "      <th>Ti</th>\n",
       "      <th>Al</th>\n",
       "      <th>Cr</th>\n",
       "      <th>Fe</th>\n",
       "      <th>Mn</th>\n",
       "      <th>Mg</th>\n",
       "      <th>Ca</th>\n",
       "      <th>Na</th>\n",
       "      <th>Fe3+/Fetot</th>\n",
       "    </tr>\n",
       "  </thead>\n",
       "  <tbody>\n",
       "    <tr>\n",
       "      <th>0</th>\n",
       "      <td>1.880934</td>\n",
       "      <td>0.015039</td>\n",
       "      <td>0.287436</td>\n",
       "      <td>0.021552</td>\n",
       "      <td>0.077207</td>\n",
       "      <td>0.002771</td>\n",
       "      <td>0.801373</td>\n",
       "      <td>0.790934</td>\n",
       "      <td>0.141648</td>\n",
       "      <td>0.245730</td>\n",
       "    </tr>\n",
       "    <tr>\n",
       "      <th>1</th>\n",
       "      <td>1.892376</td>\n",
       "      <td>0.015528</td>\n",
       "      <td>0.284656</td>\n",
       "      <td>0.020327</td>\n",
       "      <td>0.078130</td>\n",
       "      <td>0.002454</td>\n",
       "      <td>0.773549</td>\n",
       "      <td>0.810870</td>\n",
       "      <td>0.119354</td>\n",
       "      <td>0.260358</td>\n",
       "    </tr>\n",
       "    <tr>\n",
       "      <th>2</th>\n",
       "      <td>1.904724</td>\n",
       "      <td>0.013995</td>\n",
       "      <td>0.268677</td>\n",
       "      <td>0.025377</td>\n",
       "      <td>0.068329</td>\n",
       "      <td>0.001545</td>\n",
       "      <td>0.788436</td>\n",
       "      <td>0.793338</td>\n",
       "      <td>0.137905</td>\n",
       "      <td>0.236632</td>\n",
       "    </tr>\n",
       "    <tr>\n",
       "      <th>3</th>\n",
       "      <td>1.897332</td>\n",
       "      <td>0.013840</td>\n",
       "      <td>0.260175</td>\n",
       "      <td>0.021959</td>\n",
       "      <td>0.095928</td>\n",
       "      <td>0.002750</td>\n",
       "      <td>0.822183</td>\n",
       "      <td>0.777593</td>\n",
       "      <td>0.109102</td>\n",
       "      <td>0.181867</td>\n",
       "    </tr>\n",
       "    <tr>\n",
       "      <th>4</th>\n",
       "      <td>1.889801</td>\n",
       "      <td>0.015017</td>\n",
       "      <td>0.273757</td>\n",
       "      <td>0.019512</td>\n",
       "      <td>0.098037</td>\n",
       "      <td>0.002459</td>\n",
       "      <td>0.821304</td>\n",
       "      <td>0.769558</td>\n",
       "      <td>0.114701</td>\n",
       "      <td>0.147499</td>\n",
       "    </tr>\n",
       "  </tbody>\n",
       "</table>\n",
       "</div>"
      ],
      "text/plain": [
       "         Si        Ti        Al        Cr        Fe        Mn        Mg  \\\n",
       "0  1.880934  0.015039  0.287436  0.021552  0.077207  0.002771  0.801373   \n",
       "1  1.892376  0.015528  0.284656  0.020327  0.078130  0.002454  0.773549   \n",
       "2  1.904724  0.013995  0.268677  0.025377  0.068329  0.001545  0.788436   \n",
       "3  1.897332  0.013840  0.260175  0.021959  0.095928  0.002750  0.822183   \n",
       "4  1.889801  0.015017  0.273757  0.019512  0.098037  0.002459  0.821304   \n",
       "\n",
       "         Ca        Na  Fe3+/Fetot  \n",
       "0  0.790934  0.141648    0.245730  \n",
       "1  0.810870  0.119354    0.260358  \n",
       "2  0.793338  0.137905    0.236632  \n",
       "3  0.777593  0.109102    0.181867  \n",
       "4  0.769558  0.114701    0.147499  "
      ]
     },
     "execution_count": 304,
     "metadata": {},
     "output_type": "execute_result"
    }
   ],
   "source": [
    "df3.head()"
   ]
  },
  {
   "cell_type": "code",
   "execution_count": 305,
   "metadata": {},
   "outputs": [
    {
     "name": "stdout",
     "output_type": "stream",
     "text": [
      "<class 'pandas.core.frame.DataFrame'>\n",
      "RangeIndex: 387 entries, 0 to 386\n",
      "Data columns (total 10 columns):\n",
      " #   Column      Non-Null Count  Dtype  \n",
      "---  ------      --------------  -----  \n",
      " 0   Si          387 non-null    float64\n",
      " 1   Ti          387 non-null    float64\n",
      " 2   Al          387 non-null    float64\n",
      " 3   Cr          387 non-null    float64\n",
      " 4   Fe          387 non-null    float64\n",
      " 5   Mn          387 non-null    float64\n",
      " 6   Mg          387 non-null    float64\n",
      " 7   Ca          387 non-null    float64\n",
      " 8   Na          387 non-null    float64\n",
      " 9   Fe3+/Fetot  387 non-null    float64\n",
      "dtypes: float64(10)\n",
      "memory usage: 30.4 KB\n"
     ]
    }
   ],
   "source": [
    "df3.info()"
   ]
  },
  {
   "cell_type": "code",
   "execution_count": 306,
   "metadata": {},
   "outputs": [],
   "source": [
    "X = df3.drop(\"Fe3+/Fetot\", axis=1)\n",
    "y = df3[\"Fe3+/Fetot\"]"
   ]
  },
  {
   "cell_type": "code",
   "execution_count": 307,
   "metadata": {},
   "outputs": [],
   "source": [
    "from sklearn.model_selection import train_test_split\n",
    "\n",
    "# split data set into training set and testing set\n",
    "X_train, X_test, y_train, y_test = train_test_split(X, y, test_size=0.2, random_state=42)"
   ]
  },
  {
   "cell_type": "code",
   "execution_count": 308,
   "metadata": {},
   "outputs": [],
   "source": [
    "def find_support_vectors(svm_reg, X, y):\n",
    "    \"\"\"find support vectors of SVR\n",
    "    \n",
    "    :param svm_reg: a SVM Regressor\n",
    "    :param X: data\n",
    "    :param y: labels\n",
    "    \"\"\"\n",
    "    y_pred = svm_reg.predict(X)\n",
    "    # evalute whether the instance is off the street line\n",
    "    off_margin = np.array(np.abs(y - y_pred) >= svm_reg.epsilon)\n",
    "    return np.argwhere(off_margin)"
   ]
  },
  {
   "cell_type": "code",
   "execution_count": 140,
   "metadata": {},
   "outputs": [],
   "source": [
    "def plot_svm_regression(svm_reg, X, y, axes):\n",
    "\n",
    "    x1s = np.linspace(axes[0], axes[1], 100).reshape(100, 1)\n",
    "    y_pred = svm_reg.predict(x1s)\n",
    "    plt.plot(x1s, y_pred, \"k-\", linewidth=2, label=r\"$\\hat{y}$\")\n",
    "    plt.plot(x1s, y_pred + svm_reg.epsilon, \"k--\")\n",
    "    plt.plot(x1s, y_pred - svm_reg.epsilon, \"k--\")\n",
    "    plt.scatter(X[svm_reg.support_].reshape(-1, 1), np.array(y)[svm_reg.support_].reshape(-1, 1), s=180, facecolors='#FFAAAA')\n",
    "    \n",
    "    plt.plot(X, y, \"bo\")\n",
    "    plt.xlabel(r\"$x_1$\", fontsize=18)\n",
    "    plt.legend(loc=\"upper left\", fontsize=18)\n",
    "    plt.axis(axes)"
   ]
  },
  {
   "cell_type": "code",
   "execution_count": 141,
   "metadata": {},
   "outputs": [
    {
     "data": {
      "text/plain": [
       "(387, 1)"
      ]
     },
     "execution_count": 141,
     "metadata": {},
     "output_type": "execute_result"
    }
   ],
   "source": [
    "from sklearn.decomposition import PCA\n",
    "\n",
    "# PCA assumes that the origin is centered, the data set is centralized automatically\n",
    "pca = PCA(n_components=1)\n",
    "# reduce the data set down to 2-dimensional space\n",
    "X_reduced = pca.fit_transform(X)\n",
    "X_reduced.shape"
   ]
  },
  {
   "cell_type": "code",
   "execution_count": 149,
   "metadata": {},
   "outputs": [
    {
     "data": {
      "text/plain": [
       "LinearSVR(epsilon=0.2, random_state=42)"
      ]
     },
     "execution_count": 149,
     "metadata": {},
     "output_type": "execute_result"
    }
   ],
   "source": [
    "from sklearn.svm import LinearSVR\n",
    "\n",
    "svm_reg1 = LinearSVR(epsilon=0.1, random_state=42)\n",
    "svm_reg2 = LinearSVR(epsilon=0.2, random_state=42)\n",
    "svm_reg1.fit(X_reduced, y)\n",
    "svm_reg2.fit(X_reduced, y)"
   ]
  },
  {
   "cell_type": "code",
   "execution_count": 151,
   "metadata": {},
   "outputs": [],
   "source": [
    "svm_reg1.support_ = find_support_vectors(svm_reg1, X_reduced, y)\n",
    "svm_reg2.support_ = find_support_vectors(svm_reg2, X_reduced, y)"
   ]
  },
  {
   "cell_type": "code",
   "execution_count": 145,
   "metadata": {},
   "outputs": [
    {
     "data": {
      "text/plain": [
       "(101, 1)"
      ]
     },
     "execution_count": 145,
     "metadata": {},
     "output_type": "execute_result"
    }
   ],
   "source": [
    "X_reduced[svm_reg1.support_].reshape(-1, 1).shape"
   ]
  },
  {
   "cell_type": "code",
   "execution_count": 146,
   "metadata": {},
   "outputs": [
    {
     "data": {
      "text/plain": [
       "[-0.4320548881296569, 1.5674063069036328, 0.0, 1.0]"
      ]
     },
     "execution_count": 146,
     "metadata": {},
     "output_type": "execute_result"
    }
   ],
   "source": [
    "axes_range = [X_reduced.min(), X_reduced.max(), y.min(), y.max()]\n",
    "axes_range"
   ]
  },
  {
   "cell_type": "code",
   "execution_count": 153,
   "metadata": {},
   "outputs": [
    {
     "name": "stdout",
     "output_type": "stream",
     "text": [
      "Saving figure svm_regression_plot\n"
     ]
    },
    {
     "data": {
      "image/png": "[encoded data removed]",
      "text/plain": [
       "<Figure size 648x288 with 2 Axes>"
      ]
     },
     "metadata": {
      "needs_background": "light"
     },
     "output_type": "display_data"
    }
   ],
   "source": [
    "import matplotlib.pyplot as plt\n",
    "\n",
    "fig, axes = plt.subplots(ncols=2, figsize=(9, 4), sharey=True)\n",
    "plt.sca(axes[0])\n",
    "plot_svm_regression(svm_reg1, X_reduced, y, axes_range)\n",
    "plt.title(r\"$\\epsilon = {}$\".format(svm_reg1.epsilon), fontsize=18)\n",
    "plt.ylabel(r\"$y$\", fontsize=18, rotation=0)\n",
    "\n",
    "plt.sca(axes[1])\n",
    "plot_svm_regression(svm_reg2, X_reduced, y, axes_range)\n",
    "plt.title(r\"$\\epsilon = {}$\".format(svm_reg2.epsilon), fontsize=18)\n",
    "save_fig(\"svm_regression_plot\")\n",
    "plt.show()"
   ]
  },
  {
   "cell_type": "code",
   "execution_count": 154,
   "metadata": {},
   "outputs": [
    {
     "data": {
      "text/plain": [
       "SVR(C=0.01, degree=2, kernel='poly')"
      ]
     },
     "execution_count": 154,
     "metadata": {},
     "output_type": "execute_result"
    }
   ],
   "source": [
    "from sklearn.svm import SVR\n",
    "\n",
    "svm_poly_reg1 = SVR(kernel=\"poly\", degree=2, C=100, epsilon=0.1, gamma=\"scale\")\n",
    "svm_poly_reg2 = SVR(kernel=\"poly\", degree=2, C=0.01, epsilon=0.1, gamma=\"scale\")\n",
    "svm_poly_reg1.fit(X_reduced, y)\n",
    "svm_poly_reg2.fit(X_reduced, y)"
   ]
  },
  {
   "cell_type": "code",
   "execution_count": 155,
   "metadata": {},
   "outputs": [
    {
     "name": "stdout",
     "output_type": "stream",
     "text": [
      "Saving figure svm_with_polynomial_kernel_plot\n"
     ]
    },
    {
     "data": {
      "image/png": "[encoded data removed]",
      "text/plain": [
       "<Figure size 648x288 with 2 Axes>"
      ]
     },
     "metadata": {
      "needs_background": "light"
     },
     "output_type": "display_data"
    }
   ],
   "source": [
    "fig, axes = plt.subplots(ncols=2, figsize=(9, 4), sharey=True)\n",
    "plt.sca(axes[0])\n",
    "plot_svm_regression(svm_poly_reg1, X_reduced, y, axes_range)\n",
    "plt.title(r\"$degree={}, C={}, \\epsilon = {}$\".format(svm_poly_reg1.degree, svm_poly_reg1.C, svm_poly_reg1.epsilon), fontsize=18)\n",
    "plt.ylabel(r\"$y$\", fontsize=18, rotation=0)\n",
    "plt.sca(axes[1])\n",
    "plot_svm_regression(svm_poly_reg2, X_reduced, y, axes_range)\n",
    "plt.title(r\"$degree={}, C={}, \\epsilon = {}$\".format(svm_poly_reg2.degree, svm_poly_reg2.C, svm_poly_reg2.epsilon), fontsize=18)\n",
    "save_fig(\"svm_with_polynomial_kernel_plot\")\n",
    "plt.show()"
   ]
  }
 ],
 "metadata": {
  "kernelspec": {
   "display_name": "Python 3",
   "language": "python",
   "name": "python3"
  },
  "language_info": {
   "codemirror_mode": {
    "name": "ipython",
    "version": 3
   },
   "file_extension": ".py",
   "mimetype": "text/x-python",
   "name": "python",
   "nbconvert_exporter": "python",
   "pygments_lexer": "ipython3",
   "version": "3.9.0"
  }
 },
 "nbformat": 4,
 "nbformat_minor": 4
}

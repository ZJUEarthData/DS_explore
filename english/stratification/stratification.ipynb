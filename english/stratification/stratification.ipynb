{
 "cells": [
  {
   "cell_type": "code",
   "execution_count": 1,
   "metadata": {},
   "outputs": [],
   "source": [
    "import pandas as pd\n",
    "import numpy as np\n",
    "import matplotlib.pyplot as plt\n",
    "\n",
    "df1 = pd.read_csv(\"data_after_clustering.csv\")"
   ]
  },
  {
   "cell_type": "code",
   "execution_count": 2,
   "metadata": {},
   "outputs": [
    {
     "data": {
      "text/html": [
       "<div>\n",
       "<style scoped>\n",
       "    .dataframe tbody tr th:only-of-type {\n",
       "        vertical-align: middle;\n",
       "    }\n",
       "\n",
       "    .dataframe tbody tr th {\n",
       "        vertical-align: top;\n",
       "    }\n",
       "\n",
       "    .dataframe thead th {\n",
       "        text-align: right;\n",
       "    }\n",
       "</style>\n",
       "<table border=\"1\" class=\"dataframe\">\n",
       "  <thead>\n",
       "    <tr style=\"text-align: right;\">\n",
       "      <th></th>\n",
       "      <th>TRUE VALUE</th>\n",
       "      <th>SiO2 (wt. %)</th>\n",
       "      <th>TiO2 (wt. %)</th>\n",
       "      <th>Al2O3 (wt. %)</th>\n",
       "      <th>Cr2O3 (wt. %)</th>\n",
       "      <th>FeO (wt. %)</th>\n",
       "      <th>MnO (wt. %)</th>\n",
       "      <th>MgO (wt. %)</th>\n",
       "      <th>CaO (wt. %)</th>\n",
       "      <th>Na2O  (wt. %)</th>\n",
       "      <th>IV (Al)</th>\n",
       "      <th>H2O (wt. %)</th>\n",
       "      <th>km_clustering_label</th>\n",
       "      <th>ap_clustering_label</th>\n",
       "    </tr>\n",
       "  </thead>\n",
       "  <tbody>\n",
       "    <tr>\n",
       "      <th>0</th>\n",
       "      <td>1</td>\n",
       "      <td>47.604</td>\n",
       "      <td>2.858</td>\n",
       "      <td>5.749</td>\n",
       "      <td>0.062</td>\n",
       "      <td>7.024</td>\n",
       "      <td>0.087</td>\n",
       "      <td>12.625</td>\n",
       "      <td>22.916</td>\n",
       "      <td>0.328</td>\n",
       "      <td>0.207900</td>\n",
       "      <td>0.061750</td>\n",
       "      <td>0</td>\n",
       "      <td>7</td>\n",
       "    </tr>\n",
       "    <tr>\n",
       "      <th>1</th>\n",
       "      <td>1</td>\n",
       "      <td>51.788</td>\n",
       "      <td>1.166</td>\n",
       "      <td>2.557</td>\n",
       "      <td>0.475</td>\n",
       "      <td>6.801</td>\n",
       "      <td>0.145</td>\n",
       "      <td>14.762</td>\n",
       "      <td>21.743</td>\n",
       "      <td>0.327</td>\n",
       "      <td>0.080071</td>\n",
       "      <td>0.014881</td>\n",
       "      <td>1</td>\n",
       "      <td>6</td>\n",
       "    </tr>\n",
       "    <tr>\n",
       "      <th>2</th>\n",
       "      <td>1</td>\n",
       "      <td>46.561</td>\n",
       "      <td>3.109</td>\n",
       "      <td>6.139</td>\n",
       "      <td>0.145</td>\n",
       "      <td>6.914</td>\n",
       "      <td>0.037</td>\n",
       "      <td>12.478</td>\n",
       "      <td>23.112</td>\n",
       "      <td>0.620</td>\n",
       "      <td>0.238984</td>\n",
       "      <td>0.023204</td>\n",
       "      <td>0</td>\n",
       "      <td>7</td>\n",
       "    </tr>\n",
       "    <tr>\n",
       "      <th>3</th>\n",
       "      <td>1</td>\n",
       "      <td>46.344</td>\n",
       "      <td>3.170</td>\n",
       "      <td>7.776</td>\n",
       "      <td>0.014</td>\n",
       "      <td>6.842</td>\n",
       "      <td>0.068</td>\n",
       "      <td>11.688</td>\n",
       "      <td>23.067</td>\n",
       "      <td>0.574</td>\n",
       "      <td>0.258931</td>\n",
       "      <td>0.049703</td>\n",
       "      <td>0</td>\n",
       "      <td>7</td>\n",
       "    </tr>\n",
       "    <tr>\n",
       "      <th>4</th>\n",
       "      <td>1</td>\n",
       "      <td>50.180</td>\n",
       "      <td>1.965</td>\n",
       "      <td>3.294</td>\n",
       "      <td>0.106</td>\n",
       "      <td>5.729</td>\n",
       "      <td>0.063</td>\n",
       "      <td>13.603</td>\n",
       "      <td>23.626</td>\n",
       "      <td>0.540</td>\n",
       "      <td>0.121500</td>\n",
       "      <td>0.019333</td>\n",
       "      <td>0</td>\n",
       "      <td>0</td>\n",
       "    </tr>\n",
       "  </tbody>\n",
       "</table>\n",
       "</div>"
      ],
      "text/plain": [
       "   TRUE VALUE  SiO2 (wt. %)  TiO2 (wt. %)  Al2O3 (wt. %)  Cr2O3 (wt. %)  \\\n",
       "0           1        47.604         2.858          5.749          0.062   \n",
       "1           1        51.788         1.166          2.557          0.475   \n",
       "2           1        46.561         3.109          6.139          0.145   \n",
       "3           1        46.344         3.170          7.776          0.014   \n",
       "4           1        50.180         1.965          3.294          0.106   \n",
       "\n",
       "   FeO (wt. %)  MnO (wt. %)  MgO (wt. %)  CaO (wt. %)  Na2O  (wt. %)  \\\n",
       "0        7.024        0.087       12.625       22.916          0.328   \n",
       "1        6.801        0.145       14.762       21.743          0.327   \n",
       "2        6.914        0.037       12.478       23.112          0.620   \n",
       "3        6.842        0.068       11.688       23.067          0.574   \n",
       "4        5.729        0.063       13.603       23.626          0.540   \n",
       "\n",
       "    IV (Al)  H2O (wt. %)  km_clustering_label  ap_clustering_label  \n",
       "0  0.207900     0.061750                    0                    7  \n",
       "1  0.080071     0.014881                    1                    6  \n",
       "2  0.238984     0.023204                    0                    7  \n",
       "3  0.258931     0.049703                    0                    7  \n",
       "4  0.121500     0.019333                    0                    0  "
      ]
     },
     "execution_count": 2,
     "metadata": {},
     "output_type": "execute_result"
    }
   ],
   "source": [
    "df1.head()"
   ]
  },
  {
   "cell_type": "code",
   "execution_count": 3,
   "metadata": {},
   "outputs": [
    {
     "data": {
      "text/plain": [
       " 1    1488\n",
       "-1     467\n",
       " 0     317\n",
       "Name: TRUE VALUE, dtype: int64"
      ]
     },
     "execution_count": 3,
     "metadata": {},
     "output_type": "execute_result"
    }
   ],
   "source": [
    "# Number of classification types in the data\n",
    "df1[\"TRUE VALUE\"].value_counts()"
   ]
  },
  {
   "cell_type": "code",
   "execution_count": 4,
   "metadata": {},
   "outputs": [
    {
     "data": {
      "text/html": [
       "<div>\n",
       "<style scoped>\n",
       "    .dataframe tbody tr th:only-of-type {\n",
       "        vertical-align: middle;\n",
       "    }\n",
       "\n",
       "    .dataframe tbody tr th {\n",
       "        vertical-align: top;\n",
       "    }\n",
       "\n",
       "    .dataframe thead th {\n",
       "        text-align: right;\n",
       "    }\n",
       "</style>\n",
       "<table border=\"1\" class=\"dataframe\">\n",
       "  <thead>\n",
       "    <tr style=\"text-align: right;\">\n",
       "      <th></th>\n",
       "      <th>SiO2 (wt. %)</th>\n",
       "      <th>TiO2 (wt. %)</th>\n",
       "      <th>Al2O3 (wt. %)</th>\n",
       "      <th>Cr2O3 (wt. %)</th>\n",
       "      <th>FeO (wt. %)</th>\n",
       "      <th>MnO (wt. %)</th>\n",
       "      <th>MgO (wt. %)</th>\n",
       "      <th>CaO (wt. %)</th>\n",
       "      <th>Na2O  (wt. %)</th>\n",
       "      <th>IV (Al)</th>\n",
       "      <th>H2O (wt. %)</th>\n",
       "      <th>km_clustering_label</th>\n",
       "      <th>ap_clustering_label</th>\n",
       "    </tr>\n",
       "  </thead>\n",
       "  <tbody>\n",
       "    <tr>\n",
       "      <th>0</th>\n",
       "      <td>47.604</td>\n",
       "      <td>2.858</td>\n",
       "      <td>5.749</td>\n",
       "      <td>0.062</td>\n",
       "      <td>7.024</td>\n",
       "      <td>0.087</td>\n",
       "      <td>12.625</td>\n",
       "      <td>22.916</td>\n",
       "      <td>0.328</td>\n",
       "      <td>0.207900</td>\n",
       "      <td>0.061750</td>\n",
       "      <td>0</td>\n",
       "      <td>7</td>\n",
       "    </tr>\n",
       "    <tr>\n",
       "      <th>1</th>\n",
       "      <td>51.788</td>\n",
       "      <td>1.166</td>\n",
       "      <td>2.557</td>\n",
       "      <td>0.475</td>\n",
       "      <td>6.801</td>\n",
       "      <td>0.145</td>\n",
       "      <td>14.762</td>\n",
       "      <td>21.743</td>\n",
       "      <td>0.327</td>\n",
       "      <td>0.080071</td>\n",
       "      <td>0.014881</td>\n",
       "      <td>1</td>\n",
       "      <td>6</td>\n",
       "    </tr>\n",
       "    <tr>\n",
       "      <th>2</th>\n",
       "      <td>46.561</td>\n",
       "      <td>3.109</td>\n",
       "      <td>6.139</td>\n",
       "      <td>0.145</td>\n",
       "      <td>6.914</td>\n",
       "      <td>0.037</td>\n",
       "      <td>12.478</td>\n",
       "      <td>23.112</td>\n",
       "      <td>0.620</td>\n",
       "      <td>0.238984</td>\n",
       "      <td>0.023204</td>\n",
       "      <td>0</td>\n",
       "      <td>7</td>\n",
       "    </tr>\n",
       "    <tr>\n",
       "      <th>3</th>\n",
       "      <td>46.344</td>\n",
       "      <td>3.170</td>\n",
       "      <td>7.776</td>\n",
       "      <td>0.014</td>\n",
       "      <td>6.842</td>\n",
       "      <td>0.068</td>\n",
       "      <td>11.688</td>\n",
       "      <td>23.067</td>\n",
       "      <td>0.574</td>\n",
       "      <td>0.258931</td>\n",
       "      <td>0.049703</td>\n",
       "      <td>0</td>\n",
       "      <td>7</td>\n",
       "    </tr>\n",
       "    <tr>\n",
       "      <th>4</th>\n",
       "      <td>50.180</td>\n",
       "      <td>1.965</td>\n",
       "      <td>3.294</td>\n",
       "      <td>0.106</td>\n",
       "      <td>5.729</td>\n",
       "      <td>0.063</td>\n",
       "      <td>13.603</td>\n",
       "      <td>23.626</td>\n",
       "      <td>0.540</td>\n",
       "      <td>0.121500</td>\n",
       "      <td>0.019333</td>\n",
       "      <td>0</td>\n",
       "      <td>0</td>\n",
       "    </tr>\n",
       "  </tbody>\n",
       "</table>\n",
       "</div>"
      ],
      "text/plain": [
       "   SiO2 (wt. %)  TiO2 (wt. %)  Al2O3 (wt. %)  Cr2O3 (wt. %)  FeO (wt. %)  \\\n",
       "0        47.604         2.858          5.749          0.062        7.024   \n",
       "1        51.788         1.166          2.557          0.475        6.801   \n",
       "2        46.561         3.109          6.139          0.145        6.914   \n",
       "3        46.344         3.170          7.776          0.014        6.842   \n",
       "4        50.180         1.965          3.294          0.106        5.729   \n",
       "\n",
       "   MnO (wt. %)  MgO (wt. %)  CaO (wt. %)  Na2O  (wt. %)   IV (Al)  \\\n",
       "0        0.087       12.625       22.916          0.328  0.207900   \n",
       "1        0.145       14.762       21.743          0.327  0.080071   \n",
       "2        0.037       12.478       23.112          0.620  0.238984   \n",
       "3        0.068       11.688       23.067          0.574  0.258931   \n",
       "4        0.063       13.603       23.626          0.540  0.121500   \n",
       "\n",
       "   H2O (wt. %)  km_clustering_label  ap_clustering_label  \n",
       "0     0.061750                    0                    7  \n",
       "1     0.014881                    1                    6  \n",
       "2     0.023204                    0                    7  \n",
       "3     0.049703                    0                    7  \n",
       "4     0.019333                    0                    0  "
      ]
     },
     "execution_count": 4,
     "metadata": {},
     "output_type": "execute_result"
    }
   ],
   "source": [
    "# data1 is the dataset with the true categorical information removed (contains the result of clustering)\n",
    "data1 = df1.drop(\"TRUE VALUE\", axis=1)\n",
    "data1.head()"
   ]
  },
  {
   "cell_type": "code",
   "execution_count": 5,
   "metadata": {},
   "outputs": [],
   "source": [
    "df2 = pd.read_excel(\"data.xlsx\", engine=\"openpyxl\")"
   ]
  },
  {
   "cell_type": "code",
   "execution_count": 6,
   "metadata": {},
   "outputs": [
    {
     "data": {
      "text/html": [
       "<div>\n",
       "<style scoped>\n",
       "    .dataframe tbody tr th:only-of-type {\n",
       "        vertical-align: middle;\n",
       "    }\n",
       "\n",
       "    .dataframe tbody tr th {\n",
       "        vertical-align: top;\n",
       "    }\n",
       "\n",
       "    .dataframe thead th {\n",
       "        text-align: right;\n",
       "    }\n",
       "</style>\n",
       "<table border=\"1\" class=\"dataframe\">\n",
       "  <thead>\n",
       "    <tr style=\"text-align: right;\">\n",
       "      <th></th>\n",
       "      <th>TRUE VALUE</th>\n",
       "      <th>SiO2 (wt. %)</th>\n",
       "      <th>TiO2 (wt. %)</th>\n",
       "      <th>Al2O3 (wt. %)</th>\n",
       "      <th>Cr2O3 (wt. %)</th>\n",
       "      <th>FeO (wt. %)</th>\n",
       "      <th>MnO (wt. %)</th>\n",
       "      <th>MgO (wt. %)</th>\n",
       "      <th>CaO (wt. %)</th>\n",
       "      <th>Na2O  (wt. %)</th>\n",
       "      <th>IV (Al)</th>\n",
       "      <th>H2O (wt. %)</th>\n",
       "    </tr>\n",
       "  </thead>\n",
       "  <tbody>\n",
       "    <tr>\n",
       "      <th>0</th>\n",
       "      <td>1</td>\n",
       "      <td>47.604</td>\n",
       "      <td>2.858</td>\n",
       "      <td>5.749</td>\n",
       "      <td>0.062</td>\n",
       "      <td>7.024</td>\n",
       "      <td>0.087</td>\n",
       "      <td>12.625</td>\n",
       "      <td>22.916</td>\n",
       "      <td>0.328</td>\n",
       "      <td>0.207900</td>\n",
       "      <td>0.061750</td>\n",
       "    </tr>\n",
       "    <tr>\n",
       "      <th>1</th>\n",
       "      <td>1</td>\n",
       "      <td>51.788</td>\n",
       "      <td>1.166</td>\n",
       "      <td>2.557</td>\n",
       "      <td>0.475</td>\n",
       "      <td>6.801</td>\n",
       "      <td>0.145</td>\n",
       "      <td>14.762</td>\n",
       "      <td>21.743</td>\n",
       "      <td>0.327</td>\n",
       "      <td>0.080071</td>\n",
       "      <td>0.014881</td>\n",
       "    </tr>\n",
       "    <tr>\n",
       "      <th>2</th>\n",
       "      <td>1</td>\n",
       "      <td>46.561</td>\n",
       "      <td>3.109</td>\n",
       "      <td>6.139</td>\n",
       "      <td>0.145</td>\n",
       "      <td>6.914</td>\n",
       "      <td>0.037</td>\n",
       "      <td>12.478</td>\n",
       "      <td>23.112</td>\n",
       "      <td>0.620</td>\n",
       "      <td>0.238984</td>\n",
       "      <td>0.023204</td>\n",
       "    </tr>\n",
       "    <tr>\n",
       "      <th>3</th>\n",
       "      <td>1</td>\n",
       "      <td>46.344</td>\n",
       "      <td>3.170</td>\n",
       "      <td>7.776</td>\n",
       "      <td>0.014</td>\n",
       "      <td>6.842</td>\n",
       "      <td>0.068</td>\n",
       "      <td>11.688</td>\n",
       "      <td>23.067</td>\n",
       "      <td>0.574</td>\n",
       "      <td>0.258931</td>\n",
       "      <td>0.049703</td>\n",
       "    </tr>\n",
       "    <tr>\n",
       "      <th>4</th>\n",
       "      <td>1</td>\n",
       "      <td>50.180</td>\n",
       "      <td>1.965</td>\n",
       "      <td>3.294</td>\n",
       "      <td>0.106</td>\n",
       "      <td>5.729</td>\n",
       "      <td>0.063</td>\n",
       "      <td>13.603</td>\n",
       "      <td>23.626</td>\n",
       "      <td>0.540</td>\n",
       "      <td>0.121500</td>\n",
       "      <td>0.019333</td>\n",
       "    </tr>\n",
       "  </tbody>\n",
       "</table>\n",
       "</div>"
      ],
      "text/plain": [
       "   TRUE VALUE  SiO2 (wt. %)  TiO2 (wt. %)  Al2O3 (wt. %)  Cr2O3 (wt. %)  \\\n",
       "0           1        47.604         2.858          5.749          0.062   \n",
       "1           1        51.788         1.166          2.557          0.475   \n",
       "2           1        46.561         3.109          6.139          0.145   \n",
       "3           1        46.344         3.170          7.776          0.014   \n",
       "4           1        50.180         1.965          3.294          0.106   \n",
       "\n",
       "   FeO (wt. %)  MnO (wt. %)  MgO (wt. %)  CaO (wt. %)  Na2O  (wt. %)  \\\n",
       "0        7.024        0.087       12.625       22.916          0.328   \n",
       "1        6.801        0.145       14.762       21.743          0.327   \n",
       "2        6.914        0.037       12.478       23.112          0.620   \n",
       "3        6.842        0.068       11.688       23.067          0.574   \n",
       "4        5.729        0.063       13.603       23.626          0.540   \n",
       "\n",
       "    IV (Al)  H2O (wt. %)  \n",
       "0  0.207900     0.061750  \n",
       "1  0.080071     0.014881  \n",
       "2  0.238984     0.023204  \n",
       "3  0.258931     0.049703  \n",
       "4  0.121500     0.019333  "
      ]
     },
     "execution_count": 6,
     "metadata": {},
     "output_type": "execute_result"
    }
   ],
   "source": [
    "df2.head()"
   ]
  },
  {
   "cell_type": "code",
   "execution_count": 7,
   "metadata": {},
   "outputs": [],
   "source": [
    "# Complete data set with only eigenvalues\n",
    "data2 = df2.drop(\"TRUE VALUE\", axis=1)\n",
    "# Complete data set with only true classifieds\n",
    "labels = df2[\"TRUE VALUE\"]"
   ]
  },
  {
   "cell_type": "code",
   "execution_count": 8,
   "metadata": {},
   "outputs": [
    {
     "data": {
      "text/plain": [
       "<AxesSubplot:>"
      ]
     },
     "execution_count": 8,
     "metadata": {},
     "output_type": "execute_result"
    },
    {
     "data": {
      "image/png": "[encoded data removed]",
      "text/plain": [
       "<Figure size 432x288 with 1 Axes>"
      ]
     },
     "metadata": {
      "needs_background": "light"
     },
     "output_type": "display_data"
    }
   ],
   "source": [
    "# View the category tag values after clustering using kmeans, two classes\n",
    "data1['km_clustering_label'].hist()"
   ]
  },
  {
   "cell_type": "code",
   "execution_count": 9,
   "metadata": {},
   "outputs": [],
   "source": [
    "from sklearn.model_selection import StratifiedShuffleSplit\n",
    "\n",
    "# Stratified sampling based on kmeans clustering results\n",
    "split = StratifiedShuffleSplit(n_splits=1, test_size=0.2, random_state=42)\n",
    "for train_index, test_index in split.split(data1, data1[\"km_clustering_label\"]):\n",
    "    strat_train_set = data1.loc[train_index]\n",
    "    strat_test_set = data1.loc[test_index]"
   ]
  },
  {
   "cell_type": "code",
   "execution_count": 10,
   "metadata": {},
   "outputs": [],
   "source": [
    "def clustering_result_propotions(data):\n",
    "    \"\"\"\n",
    "    Ratio of the number of different classification labels in the training or test set after stratified sampling\n",
    "    \n",
    "    :param data: Training set or test set, purely random or stratified sampling\n",
    "    \"\"\"\n",
    "    return data[\"km_clustering_label\"].value_counts() / len(data)"
   ]
  },
  {
   "cell_type": "code",
   "execution_count": 11,
   "metadata": {},
   "outputs": [
    {
     "data": {
      "text/plain": [
       "1    0.610989\n",
       "0    0.389011\n",
       "Name: km_clustering_label, dtype: float64"
      ]
     },
     "execution_count": 11,
     "metadata": {},
     "output_type": "execute_result"
    }
   ],
   "source": [
    "# Test set acquired by stratified sampling, number of different classification labels ratio\n",
    "clustering_result_propotions(strat_test_set)"
   ]
  },
  {
   "cell_type": "code",
   "execution_count": 12,
   "metadata": {},
   "outputs": [
    {
     "data": {
      "text/plain": [
       "1    0.610897\n",
       "0    0.389103\n",
       "Name: km_clustering_label, dtype: float64"
      ]
     },
     "execution_count": 12,
     "metadata": {},
     "output_type": "execute_result"
    }
   ],
   "source": [
    "# Stratified sampling acquired training set, number of different classification labels ratio\n",
    "clustering_result_propotions(strat_train_set)"
   ]
  },
  {
   "cell_type": "code",
   "execution_count": 13,
   "metadata": {},
   "outputs": [
    {
     "data": {
      "text/plain": [
       "1    0.610915\n",
       "0    0.389085\n",
       "Name: km_clustering_label, dtype: float64"
      ]
     },
     "execution_count": 13,
     "metadata": {},
     "output_type": "execute_result"
    }
   ],
   "source": [
    "# Complete dataset, number of different category labels ratio\n",
    "clustering_result_propotions(data1)"
   ]
  },
  {
   "cell_type": "code",
   "execution_count": 14,
   "metadata": {},
   "outputs": [
    {
     "data": {
      "text/html": [
       "<div>\n",
       "<style scoped>\n",
       "    .dataframe tbody tr th:only-of-type {\n",
       "        vertical-align: middle;\n",
       "    }\n",
       "\n",
       "    .dataframe tbody tr th {\n",
       "        vertical-align: top;\n",
       "    }\n",
       "\n",
       "    .dataframe thead th {\n",
       "        text-align: right;\n",
       "    }\n",
       "</style>\n",
       "<table border=\"1\" class=\"dataframe\">\n",
       "  <thead>\n",
       "    <tr style=\"text-align: right;\">\n",
       "      <th></th>\n",
       "      <th>Overall</th>\n",
       "      <th>Stratified</th>\n",
       "      <th>Random</th>\n",
       "      <th>Rand. %error</th>\n",
       "      <th>Start. %error</th>\n",
       "    </tr>\n",
       "  </thead>\n",
       "  <tbody>\n",
       "    <tr>\n",
       "      <th>0</th>\n",
       "      <td>0.389085</td>\n",
       "      <td>0.389011</td>\n",
       "      <td>0.382418</td>\n",
       "      <td>-1.713490</td>\n",
       "      <td>-0.018895</td>\n",
       "    </tr>\n",
       "    <tr>\n",
       "      <th>1</th>\n",
       "      <td>0.610915</td>\n",
       "      <td>0.610989</td>\n",
       "      <td>0.617582</td>\n",
       "      <td>1.091301</td>\n",
       "      <td>0.012034</td>\n",
       "    </tr>\n",
       "  </tbody>\n",
       "</table>\n",
       "</div>"
      ],
      "text/plain": [
       "    Overall  Stratified    Random  Rand. %error  Start. %error\n",
       "0  0.389085    0.389011  0.382418     -1.713490      -0.018895\n",
       "1  0.610915    0.610989  0.617582      1.091301       0.012034"
      ]
     },
     "execution_count": 14,
     "metadata": {},
     "output_type": "execute_result"
    }
   ],
   "source": [
    "from sklearn.model_selection import train_test_split\n",
    "\n",
    "# purely random sampling\n",
    "random_train_set, random_test_set = train_test_split(data1, test_size=0.2, random_state=42)\n",
    "\n",
    "# Full data set, test set after stratified sampling,\n",
    "# test set after pure random sampling, number of different classification labels ratio\n",
    "compare_props = pd.DataFrame({\n",
    "    \"Overall\": clustering_result_propotions(data1),\n",
    "    \"Stratified\": clustering_result_propotions(strat_test_set),\n",
    "    \"Random\": clustering_result_propotions(random_test_set),\n",
    "}).sort_index()\n",
    "\n",
    "# Calculating the error in the ratio of the number of different categorical labels\n",
    "# in the test set after stratified sampling and pure random sampling,\n",
    "# and the ratio of the number of different categorical labels in the complete data set\n",
    "compare_props[\"Rand. %error\"] = 100 * compare_props[\"Random\"] / compare_props[\"Overall\"] - 100\n",
    "compare_props[\"Start. %error\"] = 100 * compare_props[\"Stratified\"] / compare_props[\"Overall\"] - 100\n",
    "\n",
    "compare_props"
   ]
  },
  {
   "cell_type": "code",
   "execution_count": 16,
   "metadata": {},
   "outputs": [],
   "source": [
    "from sklearn.metrics import f1_score\n",
    "\n",
    "def get_classification_marks(model, data, labels, train_index, test_index):\n",
    "    \"\"\"\n",
    "    Get the score of the classification model (binary or multivariate classifier): F1 value\n",
    "    \n",
    "    :param data: Data sets containing only eigenvalues\n",
    "    :param labels: Data sets containing only tagged values\n",
    "    :param train_index: Indexing of data in the training set obtained by stratified sampling\n",
    "    :param test_index: Indexing of data in the test set obtained from stratified sampling\n",
    "    :return: F1 score value\n",
    "    \"\"\"\n",
    "    m = model(random_state=42)\n",
    "    m.fit(data.loc[train_index], labels.loc[train_index])\n",
    "    test_labels_predict = m.predict(data.loc[test_index])\n",
    "    score = f1_score(labels.loc[test_index], test_labels_predict, average=\"weighted\")\n",
    "    return score"
   ]
  },
  {
   "cell_type": "code",
   "execution_count": 18,
   "metadata": {},
   "outputs": [
    {
     "data": {
      "text/plain": [
       "0.6568110775327486"
      ]
     },
     "execution_count": 18,
     "metadata": {},
     "output_type": "execute_result"
    }
   ],
   "source": [
    "from sklearn.linear_model import SGDClassifier\n",
    "\n",
    "# Score values after training the classification model with the training set after stratified sampling\n",
    "start_marks = get_classification_marks(SGDClassifier, data2, labels,\n",
    "                                       strat_train_set.index, strat_test_set.index)\n",
    "start_marks"
   ]
  },
  {
   "cell_type": "code",
   "execution_count": 19,
   "metadata": {
    "scrolled": true
   },
   "outputs": [
    {
     "data": {
      "text/plain": [
       "0.6656144728729727"
      ]
     },
     "execution_count": 19,
     "metadata": {},
     "output_type": "execute_result"
    }
   ],
   "source": [
    "# Score values after training a categorical model with a purely randomly sampled training set\n",
    "random_marks = get_classification_marks(SGDClassifier, data2, labels, random_train_set.index, random_test_set.index)\n",
    "random_marks"
   ]
  },
  {
   "cell_type": "code",
   "execution_count": 20,
   "metadata": {},
   "outputs": [],
   "source": [
    "from sklearn.metrics import f1_score, r2_score\n",
    "from sklearn.model_selection import StratifiedKFold\n",
    "from sklearn.base import clone, BaseEstimator, TransformerMixin\n",
    "\n",
    "class stratified_cross_val_score(BaseEstimator, TransformerMixin):\n",
    "    \"\"\"Implementation of k-fold cross-validation based on stratified sampling\"\"\"\n",
    "    \n",
    "    def __init__(self, model, random_state=0, cv=5, pattern=\"classification\"):\n",
    "        \"\"\"\n",
    "        :model: Models for training (regression or classification)\n",
    "        :random_state: Random seed value of the model\n",
    "        :cv: Number of cross-validations\n",
    "        :pattern: Both classification and regression options\n",
    "        \"\"\"\n",
    "        self.model = model\n",
    "        self.random_state = random_state\n",
    "        self.cv = cv\n",
    "        self.pattern = pattern\n",
    "        self.scores_ = []  \n",
    "        self.best_score_ = []\n",
    "        self.estimators_ = []\n",
    "        self.best_estimator_ = []\n",
    "        \n",
    "        self.i = 0            \n",
    "    \n",
    "    def fit(self, X, y, layer_tag):\n",
    "        \"\"\"\n",
    "        :param X: Complete data set containing only eigenvalues\n",
    "        :param y: Complete data set containing only tagged values\n",
    "        :param tag: Complete dataset containing only the basis for the hierarchy (in this case, KMeans clustering results)\n",
    "        \n",
    "        \"\"\"\n",
    "        skfolds = StratifiedKFold(n_splits=self.cv, random_state=self.random_state)\n",
    "\n",
    "        for train_index, test_index in skfolds.split(X, layer_tag):\n",
    "            # Replicate the model to be trained (classification or regression)\n",
    "            clone_model = clone(self.model)\n",
    "            strat_X_train_folds, strat_X_test_fold = X.iloc[train_index], X.iloc[test_index]\n",
    "            strat_y_train_folds, strat_y_test_fold = y.iloc[train_index], y.iloc[test_index]\n",
    "            \n",
    "            # training model\n",
    "            clone_model.fit(strat_X_train_folds, strat_y_train_folds)\n",
    "            # Retention model\n",
    "            self.estimators_.append(clone_model)\n",
    "            # Predicted values (here are the classification results from the classification model)\n",
    "            test_labels_pred = clone_model.predict(strat_X_test_fold)\n",
    "            \n",
    "            if self.pattern == \"classification\":\n",
    "                # F1 values for classification models\n",
    "                score_fold = f1_score(y.iloc[test_index], test_labels_pred, average=\"weighted\")\n",
    "            elif self.pattern == \"regression\":\n",
    "                # The regression model uses r2 values\n",
    "                score_fold = r2_score(y.iloc[test_index], test_labels_pred)\n",
    "            \n",
    "            # Avoid adding values to the list repeatedly\n",
    "            if self.i < self.cv:\n",
    "                self.scores_.append(score_fold)\n",
    "            else:\n",
    "                None\n",
    "                \n",
    "            self.i += 1\n",
    "        \n",
    "        # Get an index of the highest rated models\n",
    "        argmax  = np.argmax(self.scores_)\n",
    "        self.best_score_ = self.scores_[argmax]\n",
    "        self.best_estimator_ = self.estimators_[argmax]\n",
    "        \n",
    "    def transform(self, X, y=None):\n",
    "        return self\n",
    "    \n",
    "    def mean(self):\n",
    "        \"\"\"Return the mean of cross-validation scores\"\"\"\n",
    "        return np.array(self.scores_).mean()\n",
    "    \n",
    "    def std(self):\n",
    "        \"\"\"Return the standard deviation of the cross-validation score\"\"\"\n",
    "        return np.array(self.scores_).std()"
   ]
  },
  {
   "cell_type": "code",
   "execution_count": 21,
   "metadata": {},
   "outputs": [
    {
     "name": "stderr",
     "output_type": "stream",
     "text": [
      "/usr/local/lib/python3.9/site-packages/sklearn/model_selection/_split.py:293: FutureWarning: Setting a random_state has no effect since shuffle is False. This will raise an error in 0.24. You should leave random_state to its default (None), or set shuffle=True.\n",
      "  warnings.warn(\n"
     ]
    }
   ],
   "source": [
    "from sklearn.linear_model import SGDClassifier, LinearRegression\n",
    "\n",
    "# classification model\n",
    "#clf_model = SGDClassifier(max_iter=5, tol=-np.infty, random_state=42)\n",
    "# regression model\n",
    "clf_model = LinearRegression()\n",
    "# For cross-validation based on stratified sampling, the default value of the pattern is classification\n",
    "clf_cross_val = stratified_cross_val_score(clf_model, cv=5, random_state=42, pattern=\"regression\")\n",
    "# data2 is the complete data set with only eigenvalues, labels is the complete data set with only categorical label values,\n",
    "# data1 is the complete data set with eigenvalues and clustering results.\n",
    "clf_cross_val.fit(data2, labels, data1[\"km_clustering_label\"])"
   ]
  },
  {
   "cell_type": "code",
   "execution_count": 22,
   "metadata": {},
   "outputs": [
    {
     "data": {
      "text/plain": [
       "[0.26987105798643873,\n",
       " 0.26073985257088084,\n",
       " 0.26210674310514226,\n",
       " 0.2737537146865997,\n",
       " -0.06799899887753336]"
      ]
     },
     "execution_count": 22,
     "metadata": {},
     "output_type": "execute_result"
    }
   ],
   "source": [
    "# Score per fold cross validation\n",
    "clf_cross_val.scores_"
   ]
  },
  {
   "cell_type": "code",
   "execution_count": 23,
   "metadata": {},
   "outputs": [
    {
     "data": {
      "text/plain": [
       "0.2737537146865997"
      ]
     },
     "execution_count": 23,
     "metadata": {},
     "output_type": "execute_result"
    }
   ],
   "source": [
    "clf_cross_val.best_score_"
   ]
  },
  {
   "cell_type": "code",
   "execution_count": 24,
   "metadata": {},
   "outputs": [
    {
     "data": {
      "text/plain": [
       "0.1996944738943056"
      ]
     },
     "execution_count": 24,
     "metadata": {},
     "output_type": "execute_result"
    }
   ],
   "source": [
    "# Mean of cross-validation scores\n",
    "clf_cross_val.mean()"
   ]
  },
  {
   "cell_type": "code",
   "execution_count": 25,
   "metadata": {},
   "outputs": [
    {
     "data": {
      "text/plain": [
       "0.13393367692408878"
      ]
     },
     "execution_count": 25,
     "metadata": {},
     "output_type": "execute_result"
    }
   ],
   "source": [
    "# Standard deviation of cross-validation scores\n",
    "clf_cross_val.std()"
   ]
  },
  {
   "cell_type": "code",
   "execution_count": 26,
   "metadata": {},
   "outputs": [
    {
     "data": {
      "text/plain": [
       "[LinearRegression(),\n",
       " LinearRegression(),\n",
       " LinearRegression(),\n",
       " LinearRegression(),\n",
       " LinearRegression()]"
      ]
     },
     "execution_count": 26,
     "metadata": {},
     "output_type": "execute_result"
    }
   ],
   "source": [
    "# Five-fold cross-validation of all models\n",
    "clf_cross_val.estimators_"
   ]
  },
  {
   "cell_type": "code",
   "execution_count": 27,
   "metadata": {},
   "outputs": [
    {
     "data": {
      "text/plain": [
       "LinearRegression()"
      ]
     },
     "execution_count": 27,
     "metadata": {},
     "output_type": "execute_result"
    }
   ],
   "source": [
    "# Optimal models in five-fold cross-validation\n",
    "best_model = clf_cross_val.best_estimator_"
   ]
  }
 ],
 "metadata": {
  "kernelspec": {
   "display_name": "Python 3",
   "language": "python",
   "name": "python3"
  },
  "language_info": {
   "codemirror_mode": {
    "name": "ipython",
    "version": 3
   },
   "file_extension": ".py",
   "mimetype": "text/x-python",
   "name": "python",
   "nbconvert_exporter": "python",
   "pygments_lexer": "ipython3",
   "version": "3.9.0"
  }
 },
 "nbformat": 4,
 "nbformat_minor": 4
}

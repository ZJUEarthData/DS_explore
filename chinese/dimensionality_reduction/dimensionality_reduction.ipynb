{
 "cells": [
  {
   "cell_type": "code",
   "execution_count": 95,
   "metadata": {},
   "outputs": [],
   "source": [
    "# 使下面的代码支持python2和python3\n",
    "from __future__ import division, print_function, unicode_literals\n",
    "\n",
    "# 查看python的版本是否为3.5及以上\n",
    "import sys\n",
    "assert sys.version_info >= (3, 5)\n",
    "\n",
    "# 查看sklearn的版本是否为0.20及以上\n",
    "import sklearn\n",
    "assert sklearn.__version__ >= \"0.20\"\n",
    "\n",
    "import numpy as np\n",
    "import pandas as pd\n",
    "from matplotlib import pyplot as plt\n",
    "import os \n",
    "\n",
    "# 在每一次的运行后获得的结果与这个notebook的结果相同\n",
    "np.random.seed(42) \n",
    "\n",
    "# 让matplotlib的图效果更好\n",
    "%matplotlib inline\n",
    "import matplotlib as mpl\n",
    "mpl.rc('axes', labelsize=14)\n",
    "mpl.rc('xtick', labelsize=12)\n",
    "mpl.rc('ytick', labelsize=12)\n",
    "\n",
    "# 设置保存图片的途径\n",
    "PROJECT_ROOT_DIR = \".\"\n",
    "IMAGE_PATH = os.path.join(PROJECT_ROOT_DIR, \"images\")\n",
    "os.makedirs(IMAGE_PATH, exist_ok=True)\n",
    "\n",
    "def save_fig(fig_id, tight_layout=True):\n",
    "    '''\n",
    "    运行即可保存自动图片\n",
    "    \n",
    "    :param fig_id: 图片名称\n",
    "    :param tight_layout: 为真，则在画布上自动进行坐标轴调整\n",
    "    '''\n",
    "    path = os.path.join(PROJECT_ROOT_DIR, \"images\", fig_id + \".png\")\n",
    "    print(\"Saving figure\", fig_id)\n",
    "    if tight_layout:\n",
    "        plt.tight_layout()\n",
    "    plt.savefig(path, format='png', dpi=300)\n",
    "    \n",
    "# 忽略掉没用的警告\n",
    "import warnings\n",
    "warnings.filterwarnings(action=\"ignore\", category=FutureWarning, module='sklearn',  lineno=196)"
   ]
  },
  {
   "cell_type": "code",
   "execution_count": 96,
   "metadata": {},
   "outputs": [],
   "source": [
    "df = pd.read_excel(\"Test_2.xlsx\")"
   ]
  },
  {
   "cell_type": "code",
   "execution_count": 97,
   "metadata": {},
   "outputs": [
    {
     "data": {
      "text/html": [
       "<div>\n",
       "<style scoped>\n",
       "    .dataframe tbody tr th:only-of-type {\n",
       "        vertical-align: middle;\n",
       "    }\n",
       "\n",
       "    .dataframe tbody tr th {\n",
       "        vertical-align: top;\n",
       "    }\n",
       "\n",
       "    .dataframe thead th {\n",
       "        text-align: right;\n",
       "    }\n",
       "</style>\n",
       "<table border=\"1\" class=\"dataframe\">\n",
       "  <thead>\n",
       "    <tr style=\"text-align: right;\">\n",
       "      <th></th>\n",
       "      <th>SiO2 (wt. %)</th>\n",
       "      <th>TiO2 (wt. %)</th>\n",
       "      <th>Al2O3 (wt. %)</th>\n",
       "      <th>Cr2O3 (wt. %)</th>\n",
       "      <th>FeO (wt. %)</th>\n",
       "      <th>MnO (wt. %)</th>\n",
       "      <th>MgO (wt. %)</th>\n",
       "      <th>CaO (wt. %)</th>\n",
       "      <th>Na2O  (wt. %)</th>\n",
       "      <th>IV (Al)</th>\n",
       "      <th>H2O (wt. %)</th>\n",
       "    </tr>\n",
       "  </thead>\n",
       "  <tbody>\n",
       "    <tr>\n",
       "      <th>0</th>\n",
       "      <td>47.60400</td>\n",
       "      <td>2.85800</td>\n",
       "      <td>5.74900</td>\n",
       "      <td>0.06200</td>\n",
       "      <td>7.02400</td>\n",
       "      <td>0.08700</td>\n",
       "      <td>12.62500</td>\n",
       "      <td>22.91600</td>\n",
       "      <td>0.32800</td>\n",
       "      <td>0.207900</td>\n",
       "      <td>6.174956e-02</td>\n",
       "    </tr>\n",
       "    <tr>\n",
       "      <th>1</th>\n",
       "      <td>51.78800</td>\n",
       "      <td>1.16600</td>\n",
       "      <td>2.55700</td>\n",
       "      <td>0.47500</td>\n",
       "      <td>6.80100</td>\n",
       "      <td>0.14500</td>\n",
       "      <td>14.76200</td>\n",
       "      <td>21.74300</td>\n",
       "      <td>0.32700</td>\n",
       "      <td>0.080071</td>\n",
       "      <td>1.488074e-02</td>\n",
       "    </tr>\n",
       "    <tr>\n",
       "      <th>2</th>\n",
       "      <td>46.56100</td>\n",
       "      <td>3.10900</td>\n",
       "      <td>6.13900</td>\n",
       "      <td>0.14500</td>\n",
       "      <td>6.91400</td>\n",
       "      <td>0.03700</td>\n",
       "      <td>12.47800</td>\n",
       "      <td>23.11200</td>\n",
       "      <td>0.62000</td>\n",
       "      <td>0.238984</td>\n",
       "      <td>2.320397e-02</td>\n",
       "    </tr>\n",
       "    <tr>\n",
       "      <th>3</th>\n",
       "      <td>46.34400</td>\n",
       "      <td>3.17000</td>\n",
       "      <td>7.77600</td>\n",
       "      <td>0.01400</td>\n",
       "      <td>6.84200</td>\n",
       "      <td>0.06800</td>\n",
       "      <td>11.68800</td>\n",
       "      <td>23.06700</td>\n",
       "      <td>0.57400</td>\n",
       "      <td>0.258931</td>\n",
       "      <td>4.970253e-02</td>\n",
       "    </tr>\n",
       "    <tr>\n",
       "      <th>4</th>\n",
       "      <td>50.18000</td>\n",
       "      <td>1.96500</td>\n",
       "      <td>3.29400</td>\n",
       "      <td>0.10600</td>\n",
       "      <td>5.72900</td>\n",
       "      <td>0.06300</td>\n",
       "      <td>13.60300</td>\n",
       "      <td>23.62600</td>\n",
       "      <td>0.54000</td>\n",
       "      <td>0.121500</td>\n",
       "      <td>1.933272e-02</td>\n",
       "    </tr>\n",
       "    <tr>\n",
       "      <th>5</th>\n",
       "      <td>51.29200</td>\n",
       "      <td>0.98200</td>\n",
       "      <td>3.57300</td>\n",
       "      <td>0.60200</td>\n",
       "      <td>7.12100</td>\n",
       "      <td>0.10900</td>\n",
       "      <td>16.06400</td>\n",
       "      <td>19.34900</td>\n",
       "      <td>0.31200</td>\n",
       "      <td>0.101795</td>\n",
       "      <td>1.208946e-02</td>\n",
       "    </tr>\n",
       "    <tr>\n",
       "      <th>6</th>\n",
       "      <td>47.87100</td>\n",
       "      <td>2.55600</td>\n",
       "      <td>4.50300</td>\n",
       "      <td>0.01200</td>\n",
       "      <td>6.98700</td>\n",
       "      <td>0.06000</td>\n",
       "      <td>12.61100</td>\n",
       "      <td>23.63300</td>\n",
       "      <td>0.51000</td>\n",
       "      <td>0.183700</td>\n",
       "      <td>3.454924e-02</td>\n",
       "    </tr>\n",
       "    <tr>\n",
       "      <th>7</th>\n",
       "      <td>52.85500</td>\n",
       "      <td>1.03500</td>\n",
       "      <td>1.52300</td>\n",
       "      <td>0.94700</td>\n",
       "      <td>3.67300</td>\n",
       "      <td>0.06900</td>\n",
       "      <td>15.87000</td>\n",
       "      <td>23.19800</td>\n",
       "      <td>0.37100</td>\n",
       "      <td>0.055883</td>\n",
       "      <td>3.597478e-03</td>\n",
       "    </tr>\n",
       "    <tr>\n",
       "      <th>8</th>\n",
       "      <td>48.45500</td>\n",
       "      <td>1.85100</td>\n",
       "      <td>5.68400</td>\n",
       "      <td>0.40800</td>\n",
       "      <td>6.66800</td>\n",
       "      <td>0.07100</td>\n",
       "      <td>14.51400</td>\n",
       "      <td>21.55100</td>\n",
       "      <td>0.25900</td>\n",
       "      <td>0.192407</td>\n",
       "      <td>1.497884e-02</td>\n",
       "    </tr>\n",
       "    <tr>\n",
       "      <th>9</th>\n",
       "      <td>53.58000</td>\n",
       "      <td>0.66000</td>\n",
       "      <td>1.77000</td>\n",
       "      <td>0.24000</td>\n",
       "      <td>5.12000</td>\n",
       "      <td>0.06200</td>\n",
       "      <td>16.64000</td>\n",
       "      <td>21.89000</td>\n",
       "      <td>0.22000</td>\n",
       "      <td>0.044886</td>\n",
       "      <td>5.500000e-02</td>\n",
       "    </tr>\n",
       "    <tr>\n",
       "      <th>10</th>\n",
       "      <td>50.70900</td>\n",
       "      <td>1.20300</td>\n",
       "      <td>4.27300</td>\n",
       "      <td>0.36900</td>\n",
       "      <td>6.96200</td>\n",
       "      <td>0.14200</td>\n",
       "      <td>14.81600</td>\n",
       "      <td>20.90600</td>\n",
       "      <td>0.48500</td>\n",
       "      <td>0.123792</td>\n",
       "      <td>9.866423e-03</td>\n",
       "    </tr>\n",
       "    <tr>\n",
       "      <th>11</th>\n",
       "      <td>53.33000</td>\n",
       "      <td>1.04700</td>\n",
       "      <td>0.85500</td>\n",
       "      <td>0.62600</td>\n",
       "      <td>3.60800</td>\n",
       "      <td>0.04000</td>\n",
       "      <td>16.53700</td>\n",
       "      <td>22.94000</td>\n",
       "      <td>0.31600</td>\n",
       "      <td>0.038005</td>\n",
       "      <td>4.158038e-03</td>\n",
       "    </tr>\n",
       "    <tr>\n",
       "      <th>12</th>\n",
       "      <td>49.31200</td>\n",
       "      <td>2.10300</td>\n",
       "      <td>3.26700</td>\n",
       "      <td>0.01000</td>\n",
       "      <td>6.18600</td>\n",
       "      <td>0.01500</td>\n",
       "      <td>13.63000</td>\n",
       "      <td>23.58900</td>\n",
       "      <td>0.45100</td>\n",
       "      <td>0.136911</td>\n",
       "      <td>3.498388e-02</td>\n",
       "    </tr>\n",
       "    <tr>\n",
       "      <th>13</th>\n",
       "      <td>49.80900</td>\n",
       "      <td>1.42900</td>\n",
       "      <td>4.46000</td>\n",
       "      <td>0.52200</td>\n",
       "      <td>6.89900</td>\n",
       "      <td>0.10700</td>\n",
       "      <td>13.28600</td>\n",
       "      <td>22.18700</td>\n",
       "      <td>0.43400</td>\n",
       "      <td>0.134167</td>\n",
       "      <td>2.442313e-02</td>\n",
       "    </tr>\n",
       "    <tr>\n",
       "      <th>14</th>\n",
       "      <td>48.10300</td>\n",
       "      <td>2.43200</td>\n",
       "      <td>4.19900</td>\n",
       "      <td>0.04400</td>\n",
       "      <td>7.11700</td>\n",
       "      <td>0.11200</td>\n",
       "      <td>12.88600</td>\n",
       "      <td>23.85200</td>\n",
       "      <td>0.46500</td>\n",
       "      <td>0.180444</td>\n",
       "      <td>3.587416e-02</td>\n",
       "    </tr>\n",
       "    <tr>\n",
       "      <th>15</th>\n",
       "      <td>51.22100</td>\n",
       "      <td>1.08800</td>\n",
       "      <td>3.30000</td>\n",
       "      <td>0.05200</td>\n",
       "      <td>7.94000</td>\n",
       "      <td>0.17000</td>\n",
       "      <td>15.06200</td>\n",
       "      <td>20.56400</td>\n",
       "      <td>0.45000</td>\n",
       "      <td>0.099446</td>\n",
       "      <td>1.630614e-02</td>\n",
       "    </tr>\n",
       "    <tr>\n",
       "      <th>16</th>\n",
       "      <td>51.61800</td>\n",
       "      <td>1.07400</td>\n",
       "      <td>3.03800</td>\n",
       "      <td>0.40300</td>\n",
       "      <td>6.79300</td>\n",
       "      <td>0.15100</td>\n",
       "      <td>14.74900</td>\n",
       "      <td>21.36600</td>\n",
       "      <td>0.35900</td>\n",
       "      <td>0.085442</td>\n",
       "      <td>2.039364e-02</td>\n",
       "    </tr>\n",
       "    <tr>\n",
       "      <th>17</th>\n",
       "      <td>52.41300</td>\n",
       "      <td>0.83200</td>\n",
       "      <td>3.54600</td>\n",
       "      <td>0.48800</td>\n",
       "      <td>6.57300</td>\n",
       "      <td>0.11900</td>\n",
       "      <td>15.36600</td>\n",
       "      <td>20.90500</td>\n",
       "      <td>0.43100</td>\n",
       "      <td>0.085318</td>\n",
       "      <td>2.676879e-02</td>\n",
       "    </tr>\n",
       "    <tr>\n",
       "      <th>18</th>\n",
       "      <td>51.43900</td>\n",
       "      <td>1.66100</td>\n",
       "      <td>2.02000</td>\n",
       "      <td>0.05800</td>\n",
       "      <td>5.92800</td>\n",
       "      <td>0.07100</td>\n",
       "      <td>14.03300</td>\n",
       "      <td>23.45800</td>\n",
       "      <td>0.59100</td>\n",
       "      <td>0.078997</td>\n",
       "      <td>1.858614e-02</td>\n",
       "    </tr>\n",
       "    <tr>\n",
       "      <th>19</th>\n",
       "      <td>51.51500</td>\n",
       "      <td>1.69200</td>\n",
       "      <td>2.14600</td>\n",
       "      <td>0.01500</td>\n",
       "      <td>6.03000</td>\n",
       "      <td>0.09000</td>\n",
       "      <td>14.01500</td>\n",
       "      <td>23.87600</td>\n",
       "      <td>0.52000</td>\n",
       "      <td>0.086052</td>\n",
       "      <td>3.556755e-02</td>\n",
       "    </tr>\n",
       "    <tr>\n",
       "      <th>20</th>\n",
       "      <td>52.63100</td>\n",
       "      <td>0.88300</td>\n",
       "      <td>2.26900</td>\n",
       "      <td>0.41300</td>\n",
       "      <td>6.58400</td>\n",
       "      <td>0.15200</td>\n",
       "      <td>14.85500</td>\n",
       "      <td>22.20900</td>\n",
       "      <td>0.35100</td>\n",
       "      <td>0.062836</td>\n",
       "      <td>2.027390e-02</td>\n",
       "    </tr>\n",
       "    <tr>\n",
       "      <th>21</th>\n",
       "      <td>50.72600</td>\n",
       "      <td>0.98200</td>\n",
       "      <td>3.94300</td>\n",
       "      <td>0.54600</td>\n",
       "      <td>7.85400</td>\n",
       "      <td>0.17800</td>\n",
       "      <td>16.21400</td>\n",
       "      <td>19.00100</td>\n",
       "      <td>0.41200</td>\n",
       "      <td>0.123488</td>\n",
       "      <td>1.494358e-02</td>\n",
       "    </tr>\n",
       "    <tr>\n",
       "      <th>22</th>\n",
       "      <td>50.88400</td>\n",
       "      <td>1.66000</td>\n",
       "      <td>2.68700</td>\n",
       "      <td>0.02600</td>\n",
       "      <td>6.17100</td>\n",
       "      <td>0.10200</td>\n",
       "      <td>14.05200</td>\n",
       "      <td>23.35300</td>\n",
       "      <td>0.60200</td>\n",
       "      <td>0.102709</td>\n",
       "      <td>1.842384e-02</td>\n",
       "    </tr>\n",
       "    <tr>\n",
       "      <th>23</th>\n",
       "      <td>50.57200</td>\n",
       "      <td>1.28900</td>\n",
       "      <td>3.65000</td>\n",
       "      <td>0.07700</td>\n",
       "      <td>8.14700</td>\n",
       "      <td>0.11900</td>\n",
       "      <td>14.14100</td>\n",
       "      <td>21.33700</td>\n",
       "      <td>0.42800</td>\n",
       "      <td>0.114804</td>\n",
       "      <td>3.789234e-03</td>\n",
       "    </tr>\n",
       "    <tr>\n",
       "      <th>24</th>\n",
       "      <td>48.26400</td>\n",
       "      <td>2.39600</td>\n",
       "      <td>6.38600</td>\n",
       "      <td>0.13900</td>\n",
       "      <td>6.94200</td>\n",
       "      <td>0.07300</td>\n",
       "      <td>13.24900</td>\n",
       "      <td>22.71200</td>\n",
       "      <td>0.36400</td>\n",
       "      <td>0.211438</td>\n",
       "      <td>4.616801e-02</td>\n",
       "    </tr>\n",
       "    <tr>\n",
       "      <th>25</th>\n",
       "      <td>51.47900</td>\n",
       "      <td>1.07500</td>\n",
       "      <td>2.96800</td>\n",
       "      <td>0.08700</td>\n",
       "      <td>7.10300</td>\n",
       "      <td>0.14300</td>\n",
       "      <td>14.63100</td>\n",
       "      <td>20.99100</td>\n",
       "      <td>0.41000</td>\n",
       "      <td>0.077838</td>\n",
       "      <td>1.254357e-02</td>\n",
       "    </tr>\n",
       "    <tr>\n",
       "      <th>26</th>\n",
       "      <td>48.62700</td>\n",
       "      <td>2.46300</td>\n",
       "      <td>4.20500</td>\n",
       "      <td>0.00100</td>\n",
       "      <td>6.75000</td>\n",
       "      <td>0.08200</td>\n",
       "      <td>12.91000</td>\n",
       "      <td>23.96500</td>\n",
       "      <td>0.52400</td>\n",
       "      <td>0.171446</td>\n",
       "      <td>2.775740e-02</td>\n",
       "    </tr>\n",
       "    <tr>\n",
       "      <th>27</th>\n",
       "      <td>49.43849</td>\n",
       "      <td>2.29371</td>\n",
       "      <td>4.60055</td>\n",
       "      <td>0.00909</td>\n",
       "      <td>7.06697</td>\n",
       "      <td>0.11312</td>\n",
       "      <td>12.72802</td>\n",
       "      <td>22.84418</td>\n",
       "      <td>0.48884</td>\n",
       "      <td>0.150801</td>\n",
       "      <td>1.808253e-02</td>\n",
       "    </tr>\n",
       "    <tr>\n",
       "      <th>28</th>\n",
       "      <td>51.18400</td>\n",
       "      <td>1.09200</td>\n",
       "      <td>3.36500</td>\n",
       "      <td>0.19000</td>\n",
       "      <td>6.82600</td>\n",
       "      <td>0.13100</td>\n",
       "      <td>15.74200</td>\n",
       "      <td>20.68900</td>\n",
       "      <td>0.42400</td>\n",
       "      <td>0.105372</td>\n",
       "      <td>1.000000e-07</td>\n",
       "    </tr>\n",
       "    <tr>\n",
       "      <th>29</th>\n",
       "      <td>49.91100</td>\n",
       "      <td>1.52600</td>\n",
       "      <td>4.25200</td>\n",
       "      <td>0.68900</td>\n",
       "      <td>6.99100</td>\n",
       "      <td>0.11700</td>\n",
       "      <td>13.69000</td>\n",
       "      <td>21.57000</td>\n",
       "      <td>0.40900</td>\n",
       "      <td>0.131952</td>\n",
       "      <td>1.909002e-02</td>\n",
       "    </tr>\n",
       "    <tr>\n",
       "      <th>...</th>\n",
       "      <td>...</td>\n",
       "      <td>...</td>\n",
       "      <td>...</td>\n",
       "      <td>...</td>\n",
       "      <td>...</td>\n",
       "      <td>...</td>\n",
       "      <td>...</td>\n",
       "      <td>...</td>\n",
       "      <td>...</td>\n",
       "      <td>...</td>\n",
       "      <td>...</td>\n",
       "    </tr>\n",
       "    <tr>\n",
       "      <th>2242</th>\n",
       "      <td>45.87000</td>\n",
       "      <td>2.77000</td>\n",
       "      <td>7.28000</td>\n",
       "      <td>0.02000</td>\n",
       "      <td>8.78000</td>\n",
       "      <td>0.06000</td>\n",
       "      <td>10.85000</td>\n",
       "      <td>22.60000</td>\n",
       "      <td>0.83000</td>\n",
       "      <td>0.251274</td>\n",
       "      <td>3.080000e-02</td>\n",
       "    </tr>\n",
       "    <tr>\n",
       "      <th>2243</th>\n",
       "      <td>45.83000</td>\n",
       "      <td>3.23000</td>\n",
       "      <td>7.48000</td>\n",
       "      <td>0.00100</td>\n",
       "      <td>7.55000</td>\n",
       "      <td>0.17000</td>\n",
       "      <td>11.84000</td>\n",
       "      <td>22.70000</td>\n",
       "      <td>0.67000</td>\n",
       "      <td>0.268647</td>\n",
       "      <td>3.440000e-02</td>\n",
       "    </tr>\n",
       "    <tr>\n",
       "      <th>2244</th>\n",
       "      <td>44.56000</td>\n",
       "      <td>3.32000</td>\n",
       "      <td>8.56000</td>\n",
       "      <td>0.01000</td>\n",
       "      <td>9.14000</td>\n",
       "      <td>0.24000</td>\n",
       "      <td>10.38000</td>\n",
       "      <td>22.75000</td>\n",
       "      <td>0.94000</td>\n",
       "      <td>0.306429</td>\n",
       "      <td>4.420000e-02</td>\n",
       "    </tr>\n",
       "    <tr>\n",
       "      <th>2245</th>\n",
       "      <td>46.42000</td>\n",
       "      <td>2.72000</td>\n",
       "      <td>6.91000</td>\n",
       "      <td>0.01000</td>\n",
       "      <td>7.20000</td>\n",
       "      <td>0.14000</td>\n",
       "      <td>12.34000</td>\n",
       "      <td>22.47000</td>\n",
       "      <td>0.68000</td>\n",
       "      <td>0.241947</td>\n",
       "      <td>2.520000e-02</td>\n",
       "    </tr>\n",
       "    <tr>\n",
       "      <th>2246</th>\n",
       "      <td>46.95000</td>\n",
       "      <td>2.77000</td>\n",
       "      <td>6.73000</td>\n",
       "      <td>0.02000</td>\n",
       "      <td>7.14000</td>\n",
       "      <td>0.10000</td>\n",
       "      <td>12.56000</td>\n",
       "      <td>22.88000</td>\n",
       "      <td>0.55000</td>\n",
       "      <td>0.237296</td>\n",
       "      <td>2.960000e-02</td>\n",
       "    </tr>\n",
       "    <tr>\n",
       "      <th>2247</th>\n",
       "      <td>46.07000</td>\n",
       "      <td>2.99000</td>\n",
       "      <td>7.30000</td>\n",
       "      <td>0.06000</td>\n",
       "      <td>6.53000</td>\n",
       "      <td>0.06000</td>\n",
       "      <td>12.35000</td>\n",
       "      <td>23.23000</td>\n",
       "      <td>0.48000</td>\n",
       "      <td>0.260346</td>\n",
       "      <td>2.690000e-02</td>\n",
       "    </tr>\n",
       "    <tr>\n",
       "      <th>2248</th>\n",
       "      <td>47.50000</td>\n",
       "      <td>2.50000</td>\n",
       "      <td>6.67000</td>\n",
       "      <td>0.07000</td>\n",
       "      <td>6.79000</td>\n",
       "      <td>0.08000</td>\n",
       "      <td>12.76000</td>\n",
       "      <td>22.59000</td>\n",
       "      <td>0.61000</td>\n",
       "      <td>0.220913</td>\n",
       "      <td>3.610000e-02</td>\n",
       "    </tr>\n",
       "    <tr>\n",
       "      <th>2249</th>\n",
       "      <td>48.29000</td>\n",
       "      <td>2.45000</td>\n",
       "      <td>5.69000</td>\n",
       "      <td>0.02000</td>\n",
       "      <td>6.28000</td>\n",
       "      <td>0.12000</td>\n",
       "      <td>13.22000</td>\n",
       "      <td>23.08000</td>\n",
       "      <td>0.61000</td>\n",
       "      <td>0.197374</td>\n",
       "      <td>3.590000e-02</td>\n",
       "    </tr>\n",
       "    <tr>\n",
       "      <th>2250</th>\n",
       "      <td>48.18000</td>\n",
       "      <td>2.30000</td>\n",
       "      <td>5.56000</td>\n",
       "      <td>0.27000</td>\n",
       "      <td>5.89000</td>\n",
       "      <td>0.09000</td>\n",
       "      <td>13.66000</td>\n",
       "      <td>22.75000</td>\n",
       "      <td>0.47000</td>\n",
       "      <td>0.195078</td>\n",
       "      <td>3.400000e-02</td>\n",
       "    </tr>\n",
       "    <tr>\n",
       "      <th>2251</th>\n",
       "      <td>48.31000</td>\n",
       "      <td>2.36000</td>\n",
       "      <td>5.64000</td>\n",
       "      <td>0.10000</td>\n",
       "      <td>6.87000</td>\n",
       "      <td>0.10000</td>\n",
       "      <td>13.58000</td>\n",
       "      <td>22.06000</td>\n",
       "      <td>0.59000</td>\n",
       "      <td>0.194516</td>\n",
       "      <td>2.350000e-02</td>\n",
       "    </tr>\n",
       "    <tr>\n",
       "      <th>2252</th>\n",
       "      <td>48.03000</td>\n",
       "      <td>2.52000</td>\n",
       "      <td>5.48000</td>\n",
       "      <td>0.05000</td>\n",
       "      <td>6.62000</td>\n",
       "      <td>0.10000</td>\n",
       "      <td>13.35000</td>\n",
       "      <td>22.60000</td>\n",
       "      <td>0.55000</td>\n",
       "      <td>0.197344</td>\n",
       "      <td>2.020000e-02</td>\n",
       "    </tr>\n",
       "    <tr>\n",
       "      <th>2253</th>\n",
       "      <td>48.09000</td>\n",
       "      <td>2.43000</td>\n",
       "      <td>5.62000</td>\n",
       "      <td>0.05000</td>\n",
       "      <td>6.66000</td>\n",
       "      <td>0.08000</td>\n",
       "      <td>13.30000</td>\n",
       "      <td>22.47000</td>\n",
       "      <td>0.56000</td>\n",
       "      <td>0.195667</td>\n",
       "      <td>2.580000e-02</td>\n",
       "    </tr>\n",
       "    <tr>\n",
       "      <th>2254</th>\n",
       "      <td>46.53000</td>\n",
       "      <td>3.29000</td>\n",
       "      <td>6.58000</td>\n",
       "      <td>0.02000</td>\n",
       "      <td>6.41000</td>\n",
       "      <td>0.12000</td>\n",
       "      <td>12.60000</td>\n",
       "      <td>23.20000</td>\n",
       "      <td>0.48000</td>\n",
       "      <td>0.246679</td>\n",
       "      <td>2.450000e-02</td>\n",
       "    </tr>\n",
       "    <tr>\n",
       "      <th>2255</th>\n",
       "      <td>46.57000</td>\n",
       "      <td>3.15000</td>\n",
       "      <td>6.15000</td>\n",
       "      <td>0.01000</td>\n",
       "      <td>6.19000</td>\n",
       "      <td>0.08000</td>\n",
       "      <td>12.98000</td>\n",
       "      <td>23.27000</td>\n",
       "      <td>0.42000</td>\n",
       "      <td>0.239233</td>\n",
       "      <td>2.430000e-02</td>\n",
       "    </tr>\n",
       "    <tr>\n",
       "      <th>2256</th>\n",
       "      <td>51.70000</td>\n",
       "      <td>0.26000</td>\n",
       "      <td>1.56000</td>\n",
       "      <td>0.00100</td>\n",
       "      <td>10.48000</td>\n",
       "      <td>0.54300</td>\n",
       "      <td>13.90000</td>\n",
       "      <td>20.50000</td>\n",
       "      <td>0.31000</td>\n",
       "      <td>0.046148</td>\n",
       "      <td>8.900000e-03</td>\n",
       "    </tr>\n",
       "    <tr>\n",
       "      <th>2257</th>\n",
       "      <td>51.30000</td>\n",
       "      <td>0.46000</td>\n",
       "      <td>1.72000</td>\n",
       "      <td>0.00100</td>\n",
       "      <td>10.05000</td>\n",
       "      <td>0.44800</td>\n",
       "      <td>14.50000</td>\n",
       "      <td>20.10000</td>\n",
       "      <td>0.26000</td>\n",
       "      <td>0.058343</td>\n",
       "      <td>1.560000e-02</td>\n",
       "    </tr>\n",
       "    <tr>\n",
       "      <th>2258</th>\n",
       "      <td>51.50000</td>\n",
       "      <td>0.43000</td>\n",
       "      <td>2.06000</td>\n",
       "      <td>0.00100</td>\n",
       "      <td>10.34000</td>\n",
       "      <td>0.38500</td>\n",
       "      <td>14.20000</td>\n",
       "      <td>20.40000</td>\n",
       "      <td>0.33000</td>\n",
       "      <td>0.063971</td>\n",
       "      <td>1.780000e-02</td>\n",
       "    </tr>\n",
       "    <tr>\n",
       "      <th>2259</th>\n",
       "      <td>51.30000</td>\n",
       "      <td>0.64000</td>\n",
       "      <td>2.39000</td>\n",
       "      <td>0.00100</td>\n",
       "      <td>9.51000</td>\n",
       "      <td>0.28500</td>\n",
       "      <td>15.50000</td>\n",
       "      <td>19.50000</td>\n",
       "      <td>0.32000</td>\n",
       "      <td>0.079727</td>\n",
       "      <td>2.000000e-04</td>\n",
       "    </tr>\n",
       "    <tr>\n",
       "      <th>2260</th>\n",
       "      <td>51.40000</td>\n",
       "      <td>0.45000</td>\n",
       "      <td>2.58000</td>\n",
       "      <td>0.00100</td>\n",
       "      <td>9.16000</td>\n",
       "      <td>0.35400</td>\n",
       "      <td>14.90000</td>\n",
       "      <td>20.70000</td>\n",
       "      <td>0.28000</td>\n",
       "      <td>0.080393</td>\n",
       "      <td>2.810000e-02</td>\n",
       "    </tr>\n",
       "    <tr>\n",
       "      <th>2261</th>\n",
       "      <td>50.80000</td>\n",
       "      <td>0.68000</td>\n",
       "      <td>2.97000</td>\n",
       "      <td>0.00900</td>\n",
       "      <td>9.68000</td>\n",
       "      <td>0.26000</td>\n",
       "      <td>15.20000</td>\n",
       "      <td>19.50000</td>\n",
       "      <td>0.32000</td>\n",
       "      <td>0.095708</td>\n",
       "      <td>1.800000e-03</td>\n",
       "    </tr>\n",
       "    <tr>\n",
       "      <th>2262</th>\n",
       "      <td>51.42000</td>\n",
       "      <td>0.67000</td>\n",
       "      <td>2.63000</td>\n",
       "      <td>0.11000</td>\n",
       "      <td>9.50000</td>\n",
       "      <td>0.27000</td>\n",
       "      <td>15.29000</td>\n",
       "      <td>19.84000</td>\n",
       "      <td>0.25000</td>\n",
       "      <td>0.084818</td>\n",
       "      <td>2.020000e-02</td>\n",
       "    </tr>\n",
       "    <tr>\n",
       "      <th>2263</th>\n",
       "      <td>51.94000</td>\n",
       "      <td>0.61000</td>\n",
       "      <td>1.90000</td>\n",
       "      <td>0.07000</td>\n",
       "      <td>11.05000</td>\n",
       "      <td>0.29000</td>\n",
       "      <td>15.54000</td>\n",
       "      <td>18.32000</td>\n",
       "      <td>0.25000</td>\n",
       "      <td>0.061469</td>\n",
       "      <td>1.960000e-02</td>\n",
       "    </tr>\n",
       "    <tr>\n",
       "      <th>2264</th>\n",
       "      <td>51.69000</td>\n",
       "      <td>0.58000</td>\n",
       "      <td>2.14000</td>\n",
       "      <td>0.01000</td>\n",
       "      <td>10.61000</td>\n",
       "      <td>0.35000</td>\n",
       "      <td>14.87000</td>\n",
       "      <td>19.46000</td>\n",
       "      <td>0.23000</td>\n",
       "      <td>0.067120</td>\n",
       "      <td>1.780000e-02</td>\n",
       "    </tr>\n",
       "    <tr>\n",
       "      <th>2265</th>\n",
       "      <td>51.59000</td>\n",
       "      <td>0.65000</td>\n",
       "      <td>2.05000</td>\n",
       "      <td>0.07000</td>\n",
       "      <td>11.24000</td>\n",
       "      <td>0.30000</td>\n",
       "      <td>15.18000</td>\n",
       "      <td>18.57000</td>\n",
       "      <td>0.30000</td>\n",
       "      <td>0.069395</td>\n",
       "      <td>8.700000e-03</td>\n",
       "    </tr>\n",
       "    <tr>\n",
       "      <th>2266</th>\n",
       "      <td>51.73000</td>\n",
       "      <td>0.53000</td>\n",
       "      <td>1.94000</td>\n",
       "      <td>0.03000</td>\n",
       "      <td>10.65000</td>\n",
       "      <td>0.40000</td>\n",
       "      <td>15.28000</td>\n",
       "      <td>19.12000</td>\n",
       "      <td>0.23000</td>\n",
       "      <td>0.065598</td>\n",
       "      <td>1.170000e-02</td>\n",
       "    </tr>\n",
       "    <tr>\n",
       "      <th>2267</th>\n",
       "      <td>51.50000</td>\n",
       "      <td>0.57000</td>\n",
       "      <td>2.14000</td>\n",
       "      <td>0.11000</td>\n",
       "      <td>10.34000</td>\n",
       "      <td>0.30000</td>\n",
       "      <td>15.79000</td>\n",
       "      <td>18.89000</td>\n",
       "      <td>0.30000</td>\n",
       "      <td>0.077630</td>\n",
       "      <td>9.200000e-03</td>\n",
       "    </tr>\n",
       "    <tr>\n",
       "      <th>2268</th>\n",
       "      <td>51.85000</td>\n",
       "      <td>0.55000</td>\n",
       "      <td>1.92000</td>\n",
       "      <td>0.07000</td>\n",
       "      <td>10.50000</td>\n",
       "      <td>0.31000</td>\n",
       "      <td>15.62000</td>\n",
       "      <td>18.93000</td>\n",
       "      <td>0.26000</td>\n",
       "      <td>0.066087</td>\n",
       "      <td>1.450000e-02</td>\n",
       "    </tr>\n",
       "    <tr>\n",
       "      <th>2269</th>\n",
       "      <td>52.10000</td>\n",
       "      <td>0.42000</td>\n",
       "      <td>2.38000</td>\n",
       "      <td>0.14000</td>\n",
       "      <td>8.18000</td>\n",
       "      <td>0.20000</td>\n",
       "      <td>16.04000</td>\n",
       "      <td>20.36000</td>\n",
       "      <td>0.18000</td>\n",
       "      <td>0.071724</td>\n",
       "      <td>1.530000e-02</td>\n",
       "    </tr>\n",
       "    <tr>\n",
       "      <th>2270</th>\n",
       "      <td>52.23000</td>\n",
       "      <td>0.35000</td>\n",
       "      <td>2.02000</td>\n",
       "      <td>0.17000</td>\n",
       "      <td>7.70000</td>\n",
       "      <td>0.21000</td>\n",
       "      <td>16.23000</td>\n",
       "      <td>20.89000</td>\n",
       "      <td>0.19000</td>\n",
       "      <td>0.067172</td>\n",
       "      <td>1.010000e-02</td>\n",
       "    </tr>\n",
       "    <tr>\n",
       "      <th>2271</th>\n",
       "      <td>52.73000</td>\n",
       "      <td>0.30000</td>\n",
       "      <td>2.01000</td>\n",
       "      <td>0.10000</td>\n",
       "      <td>8.35000</td>\n",
       "      <td>0.25000</td>\n",
       "      <td>16.79000</td>\n",
       "      <td>19.20000</td>\n",
       "      <td>0.25000</td>\n",
       "      <td>0.054476</td>\n",
       "      <td>1.400000e-02</td>\n",
       "    </tr>\n",
       "  </tbody>\n",
       "</table>\n",
       "<p>2272 rows × 11 columns</p>\n",
       "</div>"
      ],
      "text/plain": [
       "      SiO2 (wt. %)  TiO2 (wt. %)  Al2O3 (wt. %)  Cr2O3 (wt. %)  FeO (wt. %)  \\\n",
       "0           47.604         2.858          5.749          0.062        7.024   \n",
       "1           51.788         1.166          2.557          0.475        6.801   \n",
       "2           46.561         3.109          6.139          0.145        6.914   \n",
       "3           46.344         3.170          7.776          0.014        6.842   \n",
       "4           50.180         1.965          3.294          0.106        5.729   \n",
       "...            ...           ...            ...            ...          ...   \n",
       "2267        51.500         0.570          2.140          0.110       10.340   \n",
       "2268        51.850         0.550          1.920          0.070       10.500   \n",
       "2269        52.100         0.420          2.380          0.140        8.180   \n",
       "2270        52.230         0.350          2.020          0.170        7.700   \n",
       "2271        52.730         0.300          2.010          0.100        8.350   \n",
       "\n",
       "      MnO (wt. %)  MgO (wt. %)  CaO (wt. %)  Na2O  (wt. %)   IV (Al)  \\\n",
       "0           0.087       12.625       22.916          0.328  0.207900   \n",
       "1           0.145       14.762       21.743          0.327  0.080071   \n",
       "2           0.037       12.478       23.112          0.620  0.238984   \n",
       "3           0.068       11.688       23.067          0.574  0.258931   \n",
       "4           0.063       13.603       23.626          0.540  0.121500   \n",
       "...           ...          ...          ...            ...       ...   \n",
       "2267        0.300       15.790       18.890          0.300  0.077630   \n",
       "2268        0.310       15.620       18.930          0.260  0.066087   \n",
       "2269        0.200       16.040       20.360          0.180  0.071724   \n",
       "2270        0.210       16.230       20.890          0.190  0.067172   \n",
       "2271        0.250       16.790       19.200          0.250  0.054476   \n",
       "\n",
       "      H2O (wt. %)  \n",
       "0        0.061750  \n",
       "1        0.014881  \n",
       "2        0.023204  \n",
       "3        0.049703  \n",
       "4        0.019333  \n",
       "...           ...  \n",
       "2267     0.009200  \n",
       "2268     0.014500  \n",
       "2269     0.015300  \n",
       "2270     0.010100  \n",
       "2271     0.014000  \n",
       "\n",
       "[2272 rows x 11 columns]"
      ]
     },
     "execution_count": 97,
     "metadata": {},
     "output_type": "execute_result"
    }
   ],
   "source": [
    "# 不含真实分类信息的数据集\n",
    "X = df.drop(\"TRUE VALUE\", axis=1)\n",
    "# 真实分类信息的列\n",
    "labels = df[\"TRUE VALUE\"]\n",
    "X"
   ]
  },
  {
   "cell_type": "code",
   "execution_count": 98,
   "metadata": {},
   "outputs": [
    {
     "name": "stdout",
     "output_type": "stream",
     "text": [
      "<class 'pandas.core.frame.DataFrame'>\n",
      "RangeIndex: 2272 entries, 0 to 2271\n",
      "Data columns (total 11 columns):\n",
      "SiO2 (wt. %)     2272 non-null float64\n",
      "TiO2 (wt. %)     2272 non-null float64\n",
      "Al2O3 (wt. %)    2272 non-null float64\n",
      "Cr2O3 (wt. %)    2272 non-null float64\n",
      "FeO (wt. %)      2272 non-null float64\n",
      "MnO (wt. %)      2272 non-null float64\n",
      "MgO (wt. %)      2272 non-null float64\n",
      "CaO (wt. %)      2272 non-null float64\n",
      "Na2O  (wt. %)    2272 non-null float64\n",
      "IV (Al)          2272 non-null float64\n",
      "H2O (wt. %)      2272 non-null float64\n",
      "dtypes: float64(11)\n",
      "memory usage: 195.4 KB\n"
     ]
    }
   ],
   "source": [
    "X.info()"
   ]
  },
  {
   "cell_type": "code",
   "execution_count": 99,
   "metadata": {},
   "outputs": [
    {
     "data": {
      "text/plain": [
       "[-1, 0, 1]"
      ]
     },
     "execution_count": 99,
     "metadata": {},
     "output_type": "execute_result"
    }
   ],
   "source": [
    "# 原数据集的真实分类信息\n",
    "tag = list(np.unique(labels))\n",
    "tag"
   ]
  },
  {
   "cell_type": "code",
   "execution_count": 100,
   "metadata": {},
   "outputs": [],
   "source": [
    "from sklearn.preprocessing import StandardScaler\n",
    "\n",
    "# 降维前先需要对数据进行标准化处理\n",
    "scaler = StandardScaler()\n",
    "X_processed = pd.DataFrame(scaler.fit_transform(X))"
   ]
  },
  {
   "cell_type": "markdown",
   "metadata": {},
   "source": [
    "# 普通PCA（线性投影）"
   ]
  },
  {
   "cell_type": "code",
   "execution_count": 101,
   "metadata": {},
   "outputs": [],
   "source": [
    "from sklearn.decomposition import PCA\n",
    "\n",
    "# PCA假定以原点为中心，会自动将数据集中心化处理\n",
    "pca1 = PCA(n_components=2)\n",
    "X_reduced1 = pca1.fit_transform(X_processed)"
   ]
  },
  {
   "cell_type": "code",
   "execution_count": 102,
   "metadata": {},
   "outputs": [
    {
     "data": {
      "text/plain": [
       "array([[-0.42113472,  0.41548467,  0.36557801, -0.15419825,  0.06432417,\n",
       "        -0.12771227, -0.40822211,  0.24756898,  0.24712526,  0.41062427,\n",
       "         0.12052699],\n",
       "       [-0.03741971, -0.00905855,  0.04400909, -0.30989707,  0.64611524,\n",
       "         0.52494983, -0.11020771, -0.3804949 ,  0.11273722, -0.01373595,\n",
       "        -0.19413145]])"
      ]
     },
     "execution_count": 102,
     "metadata": {},
     "output_type": "execute_result"
    }
   ],
   "source": [
    "# 主成分的权重系数，可获得主成分在特征空间的表达式\n",
    "pca1.components_"
   ]
  },
  {
   "cell_type": "code",
   "execution_count": 103,
   "metadata": {},
   "outputs": [
    {
     "data": {
      "text/plain": [
       "array([0.45075653, 0.18692661])"
      ]
     },
     "execution_count": 103,
     "metadata": {},
     "output_type": "execute_result"
    }
   ],
   "source": [
    "# 查看主成分轴上的数据集方差的比例（方差解释率）\n",
    "pca1.explained_variance_ratio_"
   ]
  },
  {
   "cell_type": "code",
   "execution_count": 104,
   "metadata": {},
   "outputs": [
    {
     "data": {
      "text/plain": [
       "0.36231686654138584"
      ]
     },
     "execution_count": 104,
     "metadata": {},
     "output_type": "execute_result"
    }
   ],
   "source": [
    "# 丢失的方差解释率\n",
    "1 - pca1.explained_variance_ratio_.sum()"
   ]
  },
  {
   "cell_type": "code",
   "execution_count": 105,
   "metadata": {},
   "outputs": [
    {
     "data": {
      "text/plain": [
       "array([[ 3.9380202 , -0.4596334 ],\n",
       "       [-1.49280185,  0.05266333],\n",
       "       [ 5.06457565, -0.44515568],\n",
       "       ...,\n",
       "       [-2.88009113,  1.95107869],\n",
       "       [-3.12958423,  1.61244563],\n",
       "       [-3.75394313,  2.89601684]])"
      ]
     },
     "execution_count": 105,
     "metadata": {},
     "output_type": "execute_result"
    }
   ],
   "source": [
    "# 数据集在主成分定义的超平面上的投影，2272 x 2\n",
    "X_reduced1"
   ]
  },
  {
   "cell_type": "code",
   "execution_count": 106,
   "metadata": {},
   "outputs": [
    {
     "name": "stdout",
     "output_type": "stream",
     "text": [
      "Saving figure 2D_PCA\n"
     ]
    },
    {
     "data": {
      "image/png": "[encoded data removed]",
      "text/plain": [
       "<Figure size 432x288 with 1 Axes>"
      ]
     },
     "metadata": {
      "needs_background": "light"
     },
     "output_type": "display_data"
    }
   ],
   "source": [
    "import matplotlib.pyplot as plt\n",
    "\n",
    "plt.figure(1)\n",
    "\n",
    "legend = []\n",
    "# 绘制使用普通PCA降至二维平面的数据点投图\n",
    "for i, label in enumerate(tag):\n",
    "    plt.scatter(X_reduced1[:, 0][labels==label], X_reduced1[:, 1][labels==label])\n",
    "    legend.append(\"Label: {}\".format(label))\n",
    "plt.legend(legend)\n",
    "plt.xlabel(\"$x_1$\")\n",
    "plt.ylabel(\"$x_2$\")\n",
    "plt.title(\"2-dimension PCA\")\n",
    "plt.grid()\n",
    "save_fig(\"2D_PCA\")"
   ]
  },
  {
   "cell_type": "code",
   "execution_count": 107,
   "metadata": {},
   "outputs": [],
   "source": [
    "# 恢复原数据集，即重构数据\n",
    "X_recovered = pca1.inverse_transform(X_reduced1)"
   ]
  },
  {
   "cell_type": "code",
   "execution_count": 108,
   "metadata": {},
   "outputs": [
    {
     "data": {
      "text/plain": [
       "(2272, 11)"
      ]
     },
     "execution_count": 108,
     "metadata": {},
     "output_type": "execute_result"
    }
   ],
   "source": [
    "X_recovered.shape"
   ]
  },
  {
   "cell_type": "code",
   "execution_count": 109,
   "metadata": {},
   "outputs": [
    {
     "data": {
      "text/plain": [
       "False"
      ]
     },
     "execution_count": 109,
     "metadata": {},
     "output_type": "execute_result"
    }
   ],
   "source": [
    "# 比较原数据集和经过降维后再恢复的数据集，False表明两者不完全一样，即恢复的原数据集有数据丢失\n",
    "np.allclose(X_recovered, X_processed)"
   ]
  },
  {
   "cell_type": "code",
   "execution_count": 110,
   "metadata": {},
   "outputs": [
    {
     "data": {
      "text/plain": [
       "0.36231686654138556"
      ]
     },
     "execution_count": 110,
     "metadata": {},
     "output_type": "execute_result"
    }
   ],
   "source": [
    "from sklearn.metrics import mean_squared_error\n",
    "\n",
    "# 重构数据与原始数据的平方距离\n",
    "mean_squared_error(X_recovered, X_processed)"
   ]
  },
  {
   "cell_type": "code",
   "execution_count": 111,
   "metadata": {},
   "outputs": [
    {
     "data": {
      "text/plain": [
       "array([4.50756528e-01, 1.86926605e-01, 1.25096888e-01, 9.18287741e-02,\n",
       "       5.77389814e-02, 4.20165705e-02, 2.37266449e-02, 1.23718980e-02,\n",
       "       6.90309149e-03, 2.62719666e-03, 6.82109354e-06])"
      ]
     },
     "execution_count": 111,
     "metadata": {},
     "output_type": "execute_result"
    }
   ],
   "source": [
    "# 不设置要降到的维度数量，即找到特征空间中存在的所有主成分轴\n",
    "pca2 = PCA()\n",
    "pca2.fit(X_processed)\n",
    "# 各主成分轴上的方差解释率\n",
    "pca2.explained_variance_ratio_"
   ]
  },
  {
   "cell_type": "code",
   "execution_count": 112,
   "metadata": {
    "scrolled": true
   },
   "outputs": [
    {
     "data": {
      "text/plain": [
       "6"
      ]
     },
     "execution_count": 112,
     "metadata": {},
     "output_type": "execute_result"
    }
   ],
   "source": [
    "cumsum = np.cumsum(pca2.explained_variance_ratio_)\n",
    "# 计算方差解释率保留95%时，所需的最小维数\n",
    "d = np.argmax(cumsum>=0.95) + 1\n",
    "d"
   ]
  },
  {
   "cell_type": "markdown",
   "metadata": {},
   "source": [
    "# 增量PCA"
   ]
  },
  {
   "cell_type": "code",
   "execution_count": 113,
   "metadata": {},
   "outputs": [],
   "source": [
    "from sklearn.decomposition import IncrementalPCA\n",
    "\n",
    "# 针对大型训练集使用，可以将数据分批进行IPCA\n",
    "n_batches = 100\n",
    "inc_pca = IncrementalPCA(n_components=2)\n",
    "for X_batch in np.array_split(X_processed, n_batches):\n",
    "    inc_pca.partial_fit(X_batch)\n",
    "    \n",
    "X_reduced2 = inc_pca.transform(X_processed)"
   ]
  },
  {
   "cell_type": "code",
   "execution_count": 114,
   "metadata": {},
   "outputs": [
    {
     "data": {
      "text/plain": [
       "True"
      ]
     },
     "execution_count": 114,
     "metadata": {},
     "output_type": "execute_result"
    }
   ],
   "source": [
    "# 比较用于pca和inc_pca的训练集在各个维度的平均值是否相等\n",
    "np.allclose(pca1.mean_, inc_pca.mean_)"
   ]
  },
  {
   "cell_type": "code",
   "execution_count": 115,
   "metadata": {},
   "outputs": [
    {
     "data": {
      "text/plain": [
       "False"
      ]
     },
     "execution_count": 115,
     "metadata": {},
     "output_type": "execute_result"
    }
   ],
   "source": [
    "# 比较pca和inc_pca降维后的数据是否一样\n",
    "np.allclose(X_reduced1, X_reduced2)"
   ]
  },
  {
   "cell_type": "code",
   "execution_count": 116,
   "metadata": {},
   "outputs": [
    {
     "name": "stdout",
     "output_type": "stream",
     "text": [
      "8.96 ms ± 394 µs per loop (mean ± std. dev. of 7 runs, 100 loops each)\n"
     ]
    }
   ],
   "source": [
    "# 测试增量PCA降维所需时间\n",
    "%timeit IncrementalPCA(n_components=5, batch_size=100).fit(X_processed)"
   ]
  },
  {
   "cell_type": "code",
   "execution_count": 117,
   "metadata": {},
   "outputs": [
    {
     "name": "stdout",
     "output_type": "stream",
     "text": [
      "2.94 ms ± 46.6 µs per loop (mean ± std. dev. of 7 runs, 100 loops each)\n"
     ]
    }
   ],
   "source": [
    "# 测试普通PCA降维所需时间\n",
    "%timeit PCA(n_components=5).fit(X_processed)"
   ]
  },
  {
   "cell_type": "code",
   "execution_count": 118,
   "metadata": {},
   "outputs": [
    {
     "name": "stdout",
     "output_type": "stream",
     "text": [
      "1.31 µs ± 17.3 ns per loop (mean ± std. dev. of 7 runs, 1000000 loops each)\n"
     ]
    }
   ],
   "source": [
    "# 测试随机PCA降维所需时间\n",
    "%timeit PCA(n_components=5, svd_solver=\"randomized\", random_state=42)"
   ]
  },
  {
   "cell_type": "markdown",
   "metadata": {},
   "source": [
    "# 核PCA（非线性投影）"
   ]
  },
  {
   "cell_type": "code",
   "execution_count": 119,
   "metadata": {},
   "outputs": [],
   "source": [
    "from sklearn.decomposition import KernelPCA\n",
    "\n",
    "# 调用核为rbf的PCA进行非线性投影\n",
    "rbf_pca = KernelPCA(n_components=2, kernel=\"rbf\", gamma=0.04)\n",
    "X_reduced3 = rbf_pca.fit_transform(X_processed)"
   ]
  },
  {
   "cell_type": "code",
   "execution_count": 120,
   "metadata": {},
   "outputs": [
    {
     "data": {
      "text/plain": [
       "array([[ 0.58757136,  0.16569638],\n",
       "       [-0.35782739, -0.05839641],\n",
       "       [ 0.66270486,  0.13528767],\n",
       "       ...,\n",
       "       [-0.48576459, -0.20791339],\n",
       "       [-0.50659185, -0.15046424],\n",
       "       [-0.44787899, -0.16387586]])"
      ]
     },
     "execution_count": 120,
     "metadata": {},
     "output_type": "execute_result"
    }
   ],
   "source": [
    "# 降至二维的数据集\n",
    "X_reduced3"
   ]
  },
  {
   "cell_type": "code",
   "execution_count": 121,
   "metadata": {},
   "outputs": [
    {
     "name": "stdout",
     "output_type": "stream",
     "text": [
      "Saving figure kernel_pca_plot\n"
     ]
    },
    {
     "data": {
      "image/png": "[encoded data removed]",
      "text/plain": [
       "<Figure size 792x576 with 4 Axes>"
      ]
     },
     "metadata": {
      "needs_background": "light"
     },
     "output_type": "display_data"
    }
   ],
   "source": [
    "import matplotlib.pyplot as plt\n",
    "\n",
    "lin_pca = KernelPCA(n_components=2, kernel=\"linear\", fit_inverse_transform=True)\n",
    "rbf_pca = KernelPCA(n_components=2, kernel=\"rbf\", gamma=0.0433, fit_inverse_transform=True)\n",
    "poly_pca = KernelPCA(n_components=2, kernel=\"poly\", gamma=0.001, coef0=1, fit_inverse_transform=True)\n",
    "sig_pca = KernelPCA(n_components=2, kernel=\"sigmoid\", gamma=0.001, coef0=1, fit_inverse_transform=True)\n",
    "\n",
    "model = [(221, lin_pca, \"Linear kernel\"), \n",
    "         (222, poly_pca, \"Polynomial kernel, $\\gamma=10^{-3}, r=1$\"),\n",
    "         (223, sig_pca, \"Sigmoid kernel, $\\gamma=10^{-3}, r=1$\"), \n",
    "         (224, rbf_pca, \"RBF kernel, $\\gamma=0.0433$\")]\n",
    "\n",
    "def plot_2D_reduced(model, X, labels, tag, fig_name=True):\n",
    "    \"\"\"\n",
    "    绘制使用降维手段将数据点进行二维投图\n",
    "    \n",
    "    :param model: 降维算法\n",
    "    :param X: 只含特征值的数据集\n",
    "    :param labels: 只含标签值的数据集\n",
    "    :param tag: 真实的分类标签类型\n",
    "    :param fig_name: 图片名称\n",
    "    \"\"\"\n",
    "    \n",
    "    plt.figure(figsize=(11, 8))\n",
    "    legend = []\n",
    "    for subplot, pca, title in model:\n",
    "        X_reduced = pca.fit_transform(X)\n",
    "        plt.subplot(subplot)\n",
    "        plt.title(title, fontsize=14)\n",
    "        for i, label in enumerate(tag):\n",
    "            plt.scatter(X_reduced[:, 0][labels==label], X_reduced[:, 1][labels==label])\n",
    "            legend.append(\"Label: {}\".format(label))\n",
    "        if subplot == 221 or subplot == 223:\n",
    "            plt.ylabel(\"$x_2$\", fontsize=18, rotation=0)\n",
    "        if subplot == 223 or subplot == 224:\n",
    "            plt.xlabel(\"$x_1$\", fontsize=18)\n",
    "        plt.grid(True)\n",
    "        plt.legend(legend)\n",
    "    save_fig(fig_name)\n",
    "    plt.show()\n",
    "\n",
    "plot_2D_reduced(model, X_processed, labels, tag, fig_name=\"kernel_pca_plot\")"
   ]
  },
  {
   "cell_type": "code",
   "execution_count": 122,
   "metadata": {},
   "outputs": [
    {
     "name": "stdout",
     "output_type": "stream",
     "text": [
      "Fitting 3 folds for each of 400 candidates, totalling 1200 fits\n"
     ]
    },
    {
     "name": "stderr",
     "output_type": "stream",
     "text": [
      "[Parallel(n_jobs=-1)]: Using backend LokyBackend with 8 concurrent workers.\n",
      "[Parallel(n_jobs=-1)]: Done  34 tasks      | elapsed:    2.8s\n",
      "[Parallel(n_jobs=-1)]: Done 184 tasks      | elapsed:    6.4s\n",
      "[Parallel(n_jobs=-1)]: Done 434 tasks      | elapsed:   12.6s\n",
      "[Parallel(n_jobs=-1)]: Done 784 tasks      | elapsed:   21.3s\n",
      "[Parallel(n_jobs=-1)]: Done 1200 out of 1200 | elapsed:   31.9s finished\n"
     ]
    },
    {
     "data": {
      "text/plain": [
       "GridSearchCV(cv=3, error_score='raise-deprecating',\n",
       "             estimator=Pipeline(memory=None,\n",
       "                                steps=[('kpca',\n",
       "                                        KernelPCA(alpha=1.0, coef0=1,\n",
       "                                                  copy_X=True, degree=3,\n",
       "                                                  eigen_solver='auto',\n",
       "                                                  fit_inverse_transform=False,\n",
       "                                                  gamma=None, kernel='linear',\n",
       "                                                  kernel_params=None,\n",
       "                                                  max_iter=None, n_components=2,\n",
       "                                                  n_jobs=None,\n",
       "                                                  random_state=None,\n",
       "                                                  remove_zero_eig=False,\n",
       "                                                  tol=0)),\n",
       "                                       ('log_reg',\n",
       "                                        LogisticReg...\n",
       "             param_grid={'kpca__coef0': array([0.        , 0.11111111, 0.22222222, 0.33333333, 0.44444444,\n",
       "       0.55555556, 0.66666667, 0.77777778, 0.88888889, 1.        ]),\n",
       "                         'kpca__gamma': array([0.03      , 0.03222222, 0.03444444, 0.03666667, 0.03888889,\n",
       "       0.04111111, 0.04333333, 0.04555556, 0.04777778, 0.05      ]),\n",
       "                         'kpca__kernel': ['rbf', 'sigmoid', 'linear', 'poly']},\n",
       "             pre_dispatch='2*n_jobs', refit=True, return_train_score=False,\n",
       "             scoring='accuracy', verbose=1)"
      ]
     },
     "execution_count": 122,
     "metadata": {},
     "output_type": "execute_result"
    }
   ],
   "source": [
    "from sklearn.model_selection import GridSearchCV\n",
    "from sklearn.linear_model import LogisticRegression\n",
    "from sklearn.pipeline import Pipeline\n",
    "\n",
    "# pipeline先进行降维，后进行分类（可改成回归模型）\n",
    "clf = Pipeline([\n",
    "        (\"kpca\", KernelPCA(n_components=2)),\n",
    "        (\"log_reg\", LogisticRegression(solver=\"liblinear\", multi_class=\"auto\")),\n",
    "    ])\n",
    "\n",
    "# 核PCA的参数\n",
    "param_grid = {\n",
    "        \"kpca__gamma\": np.linspace(0.03, 0.05, 10),\n",
    "        \"kpca__kernel\": [\"rbf\", \"sigmoid\", \"linear\", \"poly\"],\n",
    "        \"kpca__coef0\": np.linspace(0, 1, 10)\n",
    "    }\n",
    "\n",
    "# 自动查找最优参数，评分为分类的准确性\n",
    "grid_search = GridSearchCV(clf, param_grid, cv=3, scoring=\"accuracy\", n_jobs=-1, verbose=1)\n",
    "grid_search.fit(X_processed, labels)"
   ]
  },
  {
   "cell_type": "code",
   "execution_count": 123,
   "metadata": {},
   "outputs": [
    {
     "data": {
      "text/plain": [
       "Pipeline(memory=None,\n",
       "         steps=[('kpca',\n",
       "                 KernelPCA(alpha=1.0, coef0=0.4444444444444444, copy_X=True,\n",
       "                           degree=3, eigen_solver='auto',\n",
       "                           fit_inverse_transform=False,\n",
       "                           gamma=0.04777777777777778, kernel='poly',\n",
       "                           kernel_params=None, max_iter=None, n_components=2,\n",
       "                           n_jobs=None, random_state=None,\n",
       "                           remove_zero_eig=False, tol=0)),\n",
       "                ('log_reg',\n",
       "                 LogisticRegression(C=1.0, class_weight=None, dual=False,\n",
       "                                    fit_intercept=True, intercept_scaling=1,\n",
       "                                    l1_ratio=None, max_iter=100,\n",
       "                                    multi_class='auto', n_jobs=None,\n",
       "                                    penalty='l2', random_state=None,\n",
       "                                    solver='liblinear', tol=0.0001, verbose=0,\n",
       "                                    warm_start=False))],\n",
       "         verbose=False)"
      ]
     },
     "execution_count": 123,
     "metadata": {},
     "output_type": "execute_result"
    }
   ],
   "source": [
    "# 最优的模型\n",
    "grid_search.best_estimator_"
   ]
  },
  {
   "cell_type": "code",
   "execution_count": 124,
   "metadata": {},
   "outputs": [
    {
     "data": {
      "text/plain": [
       "{'kpca__coef0': 0.4444444444444444,\n",
       " 'kpca__gamma': 0.04777777777777778,\n",
       " 'kpca__kernel': 'poly'}"
      ]
     },
     "execution_count": 124,
     "metadata": {},
     "output_type": "execute_result"
    }
   ],
   "source": [
    "# 最优的模型参数\n",
    "grid_search.best_params_"
   ]
  },
  {
   "cell_type": "code",
   "execution_count": 125,
   "metadata": {},
   "outputs": [
    {
     "data": {
      "text/plain": [
       "0.6822183098591549"
      ]
     },
     "execution_count": 125,
     "metadata": {},
     "output_type": "execute_result"
    }
   ],
   "source": [
    "# 最优的模型评分\n",
    "grid_search.best_score_"
   ]
  },
  {
   "cell_type": "code",
   "execution_count": 126,
   "metadata": {},
   "outputs": [],
   "source": [
    "# 使用最优的模型进行降维\n",
    "lin_pca_new = KernelPCA(n_components=2, kernel=\"linear\", gamma=0.03, coef0=0, fit_inverse_transform=True)\n",
    "X_reduced_new = lin_pca_new.fit_transform(X_processed)\n",
    "# 重建的前图像数据，只有fit_inverse_transform=True，才能使用inverse_transform方法\n",
    "X_preimage = lin_pca_new.inverse_transform(X_reduced_new)"
   ]
  },
  {
   "cell_type": "code",
   "execution_count": 127,
   "metadata": {},
   "outputs": [
    {
     "data": {
      "text/plain": [
       "(2272, 11)"
      ]
     },
     "execution_count": 127,
     "metadata": {},
     "output_type": "execute_result"
    }
   ],
   "source": [
    "X_preimage.shape"
   ]
  },
  {
   "cell_type": "code",
   "execution_count": 128,
   "metadata": {},
   "outputs": [
    {
     "data": {
      "text/plain": [
       "0.36231687865393836"
      ]
     },
     "execution_count": 128,
     "metadata": {},
     "output_type": "execute_result"
    }
   ],
   "source": [
    "from sklearn.metrics import mean_squared_error\n",
    "\n",
    "# 重建前图像的数据与原始数据的平方距离\n",
    "mean_squared_error(X_processed, X_preimage)"
   ]
  },
  {
   "cell_type": "markdown",
   "metadata": {},
   "source": [
    "# 流形学习（非线性降维）"
   ]
  },
  {
   "cell_type": "code",
   "execution_count": 129,
   "metadata": {},
   "outputs": [
    {
     "name": "stdout",
     "output_type": "stream",
     "text": [
      "Saving figure manifold_plot\n"
     ]
    },
    {
     "data": {
      "image/png": "[encoded data removed]",
      "text/plain": [
       "<Figure size 792x576 with 4 Axes>"
      ]
     },
     "metadata": {
      "needs_background": "light"
     },
     "output_type": "display_data"
    }
   ],
   "source": [
    "from sklearn.manifold import LocallyLinearEmbedding, Isomap, TSNE, MDS\n",
    "\n",
    "# 四种常用的流形学习算法\n",
    "lle = LocallyLinearEmbedding(n_components=2, n_neighbors=10, random_state=42)\n",
    "mds = MDS(n_components=2, random_state=42)\n",
    "isomap = Isomap(n_components=2)\n",
    "tsne = TSNE(n_components=2, random_state=42)\n",
    "\n",
    "model_manifold = [(221, lle, \"LocallyLinearEmbedding, n_neighbors=10\"), \n",
    "                  (222, mds, \"Multidimensional Scaling\"),\n",
    "                  (223, isomap, \"Isomap\"), \n",
    "                  (224, tsne, \"t-Distributed Stochastic Neighbor Embedding\")]\n",
    "\n",
    "plot_2D_reduced(model_manifold, X_processed, labels, tag, fig_name=\"manifold_plot\")"
   ]
  }
 ],
 "metadata": {
  "kernelspec": {
   "display_name": "Python 3",
   "language": "python",
   "name": "python3"
  },
  "language_info": {
   "codemirror_mode": {
    "name": "ipython",
    "version": 3
   },
   "file_extension": ".py",
   "mimetype": "text/x-python",
   "name": "python",
   "nbconvert_exporter": "python",
   "pygments_lexer": "ipython3",
   "version": "3.7.6"
  }
 },
 "nbformat": 4,
 "nbformat_minor": 4
}

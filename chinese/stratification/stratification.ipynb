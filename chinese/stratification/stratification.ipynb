{
 "cells": [
  {
   "cell_type": "code",
   "execution_count": 96,
   "metadata": {},
   "outputs": [],
   "source": [
    "import pandas as pd\n",
    "import numpy as np\n",
    "import matplotlib.pyplot as plt\n",
    "\n",
    "df1 = pd.read_csv(\"test2_result.csv\")"
   ]
  },
  {
   "cell_type": "code",
   "execution_count": 97,
   "metadata": {},
   "outputs": [
    {
     "data": {
      "text/html": [
       "<div>\n",
       "<style scoped>\n",
       "    .dataframe tbody tr th:only-of-type {\n",
       "        vertical-align: middle;\n",
       "    }\n",
       "\n",
       "    .dataframe tbody tr th {\n",
       "        vertical-align: top;\n",
       "    }\n",
       "\n",
       "    .dataframe thead th {\n",
       "        text-align: right;\n",
       "    }\n",
       "</style>\n",
       "<table border=\"1\" class=\"dataframe\">\n",
       "  <thead>\n",
       "    <tr style=\"text-align: right;\">\n",
       "      <th></th>\n",
       "      <th>TRUE VALUE</th>\n",
       "      <th>SiO2 (wt. %)</th>\n",
       "      <th>TiO2 (wt. %)</th>\n",
       "      <th>Al2O3 (wt. %)</th>\n",
       "      <th>Cr2O3 (wt. %)</th>\n",
       "      <th>FeO (wt. %)</th>\n",
       "      <th>MnO (wt. %)</th>\n",
       "      <th>MgO (wt. %)</th>\n",
       "      <th>CaO (wt. %)</th>\n",
       "      <th>Na2O  (wt. %)</th>\n",
       "      <th>IV (Al)</th>\n",
       "      <th>H2O (wt. %)</th>\n",
       "      <th>km_clustering_label</th>\n",
       "      <th>ap_clustering_label</th>\n",
       "    </tr>\n",
       "  </thead>\n",
       "  <tbody>\n",
       "    <tr>\n",
       "      <th>0</th>\n",
       "      <td>1</td>\n",
       "      <td>47.604</td>\n",
       "      <td>2.858</td>\n",
       "      <td>5.749</td>\n",
       "      <td>0.062</td>\n",
       "      <td>7.024</td>\n",
       "      <td>0.087</td>\n",
       "      <td>12.625</td>\n",
       "      <td>22.916</td>\n",
       "      <td>0.328</td>\n",
       "      <td>0.207900</td>\n",
       "      <td>0.061750</td>\n",
       "      <td>0</td>\n",
       "      <td>7</td>\n",
       "    </tr>\n",
       "    <tr>\n",
       "      <th>1</th>\n",
       "      <td>1</td>\n",
       "      <td>51.788</td>\n",
       "      <td>1.166</td>\n",
       "      <td>2.557</td>\n",
       "      <td>0.475</td>\n",
       "      <td>6.801</td>\n",
       "      <td>0.145</td>\n",
       "      <td>14.762</td>\n",
       "      <td>21.743</td>\n",
       "      <td>0.327</td>\n",
       "      <td>0.080071</td>\n",
       "      <td>0.014881</td>\n",
       "      <td>1</td>\n",
       "      <td>6</td>\n",
       "    </tr>\n",
       "    <tr>\n",
       "      <th>2</th>\n",
       "      <td>1</td>\n",
       "      <td>46.561</td>\n",
       "      <td>3.109</td>\n",
       "      <td>6.139</td>\n",
       "      <td>0.145</td>\n",
       "      <td>6.914</td>\n",
       "      <td>0.037</td>\n",
       "      <td>12.478</td>\n",
       "      <td>23.112</td>\n",
       "      <td>0.620</td>\n",
       "      <td>0.238984</td>\n",
       "      <td>0.023204</td>\n",
       "      <td>0</td>\n",
       "      <td>7</td>\n",
       "    </tr>\n",
       "    <tr>\n",
       "      <th>3</th>\n",
       "      <td>1</td>\n",
       "      <td>46.344</td>\n",
       "      <td>3.170</td>\n",
       "      <td>7.776</td>\n",
       "      <td>0.014</td>\n",
       "      <td>6.842</td>\n",
       "      <td>0.068</td>\n",
       "      <td>11.688</td>\n",
       "      <td>23.067</td>\n",
       "      <td>0.574</td>\n",
       "      <td>0.258931</td>\n",
       "      <td>0.049703</td>\n",
       "      <td>0</td>\n",
       "      <td>7</td>\n",
       "    </tr>\n",
       "    <tr>\n",
       "      <th>4</th>\n",
       "      <td>1</td>\n",
       "      <td>50.180</td>\n",
       "      <td>1.965</td>\n",
       "      <td>3.294</td>\n",
       "      <td>0.106</td>\n",
       "      <td>5.729</td>\n",
       "      <td>0.063</td>\n",
       "      <td>13.603</td>\n",
       "      <td>23.626</td>\n",
       "      <td>0.540</td>\n",
       "      <td>0.121500</td>\n",
       "      <td>0.019333</td>\n",
       "      <td>0</td>\n",
       "      <td>0</td>\n",
       "    </tr>\n",
       "  </tbody>\n",
       "</table>\n",
       "</div>"
      ],
      "text/plain": [
       "   TRUE VALUE  SiO2 (wt. %)  TiO2 (wt. %)  Al2O3 (wt. %)  Cr2O3 (wt. %)  \\\n",
       "0           1        47.604         2.858          5.749          0.062   \n",
       "1           1        51.788         1.166          2.557          0.475   \n",
       "2           1        46.561         3.109          6.139          0.145   \n",
       "3           1        46.344         3.170          7.776          0.014   \n",
       "4           1        50.180         1.965          3.294          0.106   \n",
       "\n",
       "   FeO (wt. %)  MnO (wt. %)  MgO (wt. %)  CaO (wt. %)  Na2O  (wt. %)  \\\n",
       "0        7.024        0.087       12.625       22.916          0.328   \n",
       "1        6.801        0.145       14.762       21.743          0.327   \n",
       "2        6.914        0.037       12.478       23.112          0.620   \n",
       "3        6.842        0.068       11.688       23.067          0.574   \n",
       "4        5.729        0.063       13.603       23.626          0.540   \n",
       "\n",
       "    IV (Al)  H2O (wt. %)  km_clustering_label  ap_clustering_label  \n",
       "0  0.207900     0.061750                    0                    7  \n",
       "1  0.080071     0.014881                    1                    6  \n",
       "2  0.238984     0.023204                    0                    7  \n",
       "3  0.258931     0.049703                    0                    7  \n",
       "4  0.121500     0.019333                    0                    0  "
      ]
     },
     "execution_count": 97,
     "metadata": {},
     "output_type": "execute_result"
    }
   ],
   "source": [
    "df1.head()"
   ]
  },
  {
   "cell_type": "code",
   "execution_count": 98,
   "metadata": {},
   "outputs": [
    {
     "data": {
      "text/plain": [
       " 1    1488\n",
       "-1     467\n",
       " 0     317\n",
       "Name: TRUE VALUE, dtype: int64"
      ]
     },
     "execution_count": 98,
     "metadata": {},
     "output_type": "execute_result"
    }
   ],
   "source": [
    "# 数据中的分类类型数量\n",
    "df1[\"TRUE VALUE\"].value_counts()"
   ]
  },
  {
   "cell_type": "code",
   "execution_count": 99,
   "metadata": {},
   "outputs": [
    {
     "data": {
      "text/html": [
       "<div>\n",
       "<style scoped>\n",
       "    .dataframe tbody tr th:only-of-type {\n",
       "        vertical-align: middle;\n",
       "    }\n",
       "\n",
       "    .dataframe tbody tr th {\n",
       "        vertical-align: top;\n",
       "    }\n",
       "\n",
       "    .dataframe thead th {\n",
       "        text-align: right;\n",
       "    }\n",
       "</style>\n",
       "<table border=\"1\" class=\"dataframe\">\n",
       "  <thead>\n",
       "    <tr style=\"text-align: right;\">\n",
       "      <th></th>\n",
       "      <th>SiO2 (wt. %)</th>\n",
       "      <th>TiO2 (wt. %)</th>\n",
       "      <th>Al2O3 (wt. %)</th>\n",
       "      <th>Cr2O3 (wt. %)</th>\n",
       "      <th>FeO (wt. %)</th>\n",
       "      <th>MnO (wt. %)</th>\n",
       "      <th>MgO (wt. %)</th>\n",
       "      <th>CaO (wt. %)</th>\n",
       "      <th>Na2O  (wt. %)</th>\n",
       "      <th>IV (Al)</th>\n",
       "      <th>H2O (wt. %)</th>\n",
       "      <th>km_clustering_label</th>\n",
       "      <th>ap_clustering_label</th>\n",
       "    </tr>\n",
       "  </thead>\n",
       "  <tbody>\n",
       "    <tr>\n",
       "      <th>0</th>\n",
       "      <td>47.604</td>\n",
       "      <td>2.858</td>\n",
       "      <td>5.749</td>\n",
       "      <td>0.062</td>\n",
       "      <td>7.024</td>\n",
       "      <td>0.087</td>\n",
       "      <td>12.625</td>\n",
       "      <td>22.916</td>\n",
       "      <td>0.328</td>\n",
       "      <td>0.207900</td>\n",
       "      <td>0.061750</td>\n",
       "      <td>0</td>\n",
       "      <td>7</td>\n",
       "    </tr>\n",
       "    <tr>\n",
       "      <th>1</th>\n",
       "      <td>51.788</td>\n",
       "      <td>1.166</td>\n",
       "      <td>2.557</td>\n",
       "      <td>0.475</td>\n",
       "      <td>6.801</td>\n",
       "      <td>0.145</td>\n",
       "      <td>14.762</td>\n",
       "      <td>21.743</td>\n",
       "      <td>0.327</td>\n",
       "      <td>0.080071</td>\n",
       "      <td>0.014881</td>\n",
       "      <td>1</td>\n",
       "      <td>6</td>\n",
       "    </tr>\n",
       "    <tr>\n",
       "      <th>2</th>\n",
       "      <td>46.561</td>\n",
       "      <td>3.109</td>\n",
       "      <td>6.139</td>\n",
       "      <td>0.145</td>\n",
       "      <td>6.914</td>\n",
       "      <td>0.037</td>\n",
       "      <td>12.478</td>\n",
       "      <td>23.112</td>\n",
       "      <td>0.620</td>\n",
       "      <td>0.238984</td>\n",
       "      <td>0.023204</td>\n",
       "      <td>0</td>\n",
       "      <td>7</td>\n",
       "    </tr>\n",
       "    <tr>\n",
       "      <th>3</th>\n",
       "      <td>46.344</td>\n",
       "      <td>3.170</td>\n",
       "      <td>7.776</td>\n",
       "      <td>0.014</td>\n",
       "      <td>6.842</td>\n",
       "      <td>0.068</td>\n",
       "      <td>11.688</td>\n",
       "      <td>23.067</td>\n",
       "      <td>0.574</td>\n",
       "      <td>0.258931</td>\n",
       "      <td>0.049703</td>\n",
       "      <td>0</td>\n",
       "      <td>7</td>\n",
       "    </tr>\n",
       "    <tr>\n",
       "      <th>4</th>\n",
       "      <td>50.180</td>\n",
       "      <td>1.965</td>\n",
       "      <td>3.294</td>\n",
       "      <td>0.106</td>\n",
       "      <td>5.729</td>\n",
       "      <td>0.063</td>\n",
       "      <td>13.603</td>\n",
       "      <td>23.626</td>\n",
       "      <td>0.540</td>\n",
       "      <td>0.121500</td>\n",
       "      <td>0.019333</td>\n",
       "      <td>0</td>\n",
       "      <td>0</td>\n",
       "    </tr>\n",
       "  </tbody>\n",
       "</table>\n",
       "</div>"
      ],
      "text/plain": [
       "   SiO2 (wt. %)  TiO2 (wt. %)  Al2O3 (wt. %)  Cr2O3 (wt. %)  FeO (wt. %)  \\\n",
       "0        47.604         2.858          5.749          0.062        7.024   \n",
       "1        51.788         1.166          2.557          0.475        6.801   \n",
       "2        46.561         3.109          6.139          0.145        6.914   \n",
       "3        46.344         3.170          7.776          0.014        6.842   \n",
       "4        50.180         1.965          3.294          0.106        5.729   \n",
       "\n",
       "   MnO (wt. %)  MgO (wt. %)  CaO (wt. %)  Na2O  (wt. %)   IV (Al)  \\\n",
       "0        0.087       12.625       22.916          0.328  0.207900   \n",
       "1        0.145       14.762       21.743          0.327  0.080071   \n",
       "2        0.037       12.478       23.112          0.620  0.238984   \n",
       "3        0.068       11.688       23.067          0.574  0.258931   \n",
       "4        0.063       13.603       23.626          0.540  0.121500   \n",
       "\n",
       "   H2O (wt. %)  km_clustering_label  ap_clustering_label  \n",
       "0     0.061750                    0                    7  \n",
       "1     0.014881                    1                    6  \n",
       "2     0.023204                    0                    7  \n",
       "3     0.049703                    0                    7  \n",
       "4     0.019333                    0                    0  "
      ]
     },
     "execution_count": 99,
     "metadata": {},
     "output_type": "execute_result"
    }
   ],
   "source": [
    "# data1是去掉真实分类信息的数据集（含有聚类后的结果）\n",
    "data1 = df1.drop(\"TRUE VALUE\", axis=1)\n",
    "data1.head()"
   ]
  },
  {
   "cell_type": "code",
   "execution_count": 100,
   "metadata": {},
   "outputs": [],
   "source": [
    "df2 = pd.read_excel(\"Test_2.xlsx\")"
   ]
  },
  {
   "cell_type": "code",
   "execution_count": 101,
   "metadata": {},
   "outputs": [
    {
     "data": {
      "text/html": [
       "<div>\n",
       "<style scoped>\n",
       "    .dataframe tbody tr th:only-of-type {\n",
       "        vertical-align: middle;\n",
       "    }\n",
       "\n",
       "    .dataframe tbody tr th {\n",
       "        vertical-align: top;\n",
       "    }\n",
       "\n",
       "    .dataframe thead th {\n",
       "        text-align: right;\n",
       "    }\n",
       "</style>\n",
       "<table border=\"1\" class=\"dataframe\">\n",
       "  <thead>\n",
       "    <tr style=\"text-align: right;\">\n",
       "      <th></th>\n",
       "      <th>TRUE VALUE</th>\n",
       "      <th>SiO2 (wt. %)</th>\n",
       "      <th>TiO2 (wt. %)</th>\n",
       "      <th>Al2O3 (wt. %)</th>\n",
       "      <th>Cr2O3 (wt. %)</th>\n",
       "      <th>FeO (wt. %)</th>\n",
       "      <th>MnO (wt. %)</th>\n",
       "      <th>MgO (wt. %)</th>\n",
       "      <th>CaO (wt. %)</th>\n",
       "      <th>Na2O  (wt. %)</th>\n",
       "      <th>IV (Al)</th>\n",
       "      <th>H2O (wt. %)</th>\n",
       "    </tr>\n",
       "  </thead>\n",
       "  <tbody>\n",
       "    <tr>\n",
       "      <th>0</th>\n",
       "      <td>1</td>\n",
       "      <td>47.604</td>\n",
       "      <td>2.858</td>\n",
       "      <td>5.749</td>\n",
       "      <td>0.062</td>\n",
       "      <td>7.024</td>\n",
       "      <td>0.087</td>\n",
       "      <td>12.625</td>\n",
       "      <td>22.916</td>\n",
       "      <td>0.328</td>\n",
       "      <td>0.207900</td>\n",
       "      <td>0.061750</td>\n",
       "    </tr>\n",
       "    <tr>\n",
       "      <th>1</th>\n",
       "      <td>1</td>\n",
       "      <td>51.788</td>\n",
       "      <td>1.166</td>\n",
       "      <td>2.557</td>\n",
       "      <td>0.475</td>\n",
       "      <td>6.801</td>\n",
       "      <td>0.145</td>\n",
       "      <td>14.762</td>\n",
       "      <td>21.743</td>\n",
       "      <td>0.327</td>\n",
       "      <td>0.080071</td>\n",
       "      <td>0.014881</td>\n",
       "    </tr>\n",
       "    <tr>\n",
       "      <th>2</th>\n",
       "      <td>1</td>\n",
       "      <td>46.561</td>\n",
       "      <td>3.109</td>\n",
       "      <td>6.139</td>\n",
       "      <td>0.145</td>\n",
       "      <td>6.914</td>\n",
       "      <td>0.037</td>\n",
       "      <td>12.478</td>\n",
       "      <td>23.112</td>\n",
       "      <td>0.620</td>\n",
       "      <td>0.238984</td>\n",
       "      <td>0.023204</td>\n",
       "    </tr>\n",
       "    <tr>\n",
       "      <th>3</th>\n",
       "      <td>1</td>\n",
       "      <td>46.344</td>\n",
       "      <td>3.170</td>\n",
       "      <td>7.776</td>\n",
       "      <td>0.014</td>\n",
       "      <td>6.842</td>\n",
       "      <td>0.068</td>\n",
       "      <td>11.688</td>\n",
       "      <td>23.067</td>\n",
       "      <td>0.574</td>\n",
       "      <td>0.258931</td>\n",
       "      <td>0.049703</td>\n",
       "    </tr>\n",
       "    <tr>\n",
       "      <th>4</th>\n",
       "      <td>1</td>\n",
       "      <td>50.180</td>\n",
       "      <td>1.965</td>\n",
       "      <td>3.294</td>\n",
       "      <td>0.106</td>\n",
       "      <td>5.729</td>\n",
       "      <td>0.063</td>\n",
       "      <td>13.603</td>\n",
       "      <td>23.626</td>\n",
       "      <td>0.540</td>\n",
       "      <td>0.121500</td>\n",
       "      <td>0.019333</td>\n",
       "    </tr>\n",
       "  </tbody>\n",
       "</table>\n",
       "</div>"
      ],
      "text/plain": [
       "   TRUE VALUE  SiO2 (wt. %)  TiO2 (wt. %)  Al2O3 (wt. %)  Cr2O3 (wt. %)  \\\n",
       "0           1        47.604         2.858          5.749          0.062   \n",
       "1           1        51.788         1.166          2.557          0.475   \n",
       "2           1        46.561         3.109          6.139          0.145   \n",
       "3           1        46.344         3.170          7.776          0.014   \n",
       "4           1        50.180         1.965          3.294          0.106   \n",
       "\n",
       "   FeO (wt. %)  MnO (wt. %)  MgO (wt. %)  CaO (wt. %)  Na2O  (wt. %)  \\\n",
       "0        7.024        0.087       12.625       22.916          0.328   \n",
       "1        6.801        0.145       14.762       21.743          0.327   \n",
       "2        6.914        0.037       12.478       23.112          0.620   \n",
       "3        6.842        0.068       11.688       23.067          0.574   \n",
       "4        5.729        0.063       13.603       23.626          0.540   \n",
       "\n",
       "    IV (Al)  H2O (wt. %)  \n",
       "0  0.207900     0.061750  \n",
       "1  0.080071     0.014881  \n",
       "2  0.238984     0.023204  \n",
       "3  0.258931     0.049703  \n",
       "4  0.121500     0.019333  "
      ]
     },
     "execution_count": 101,
     "metadata": {},
     "output_type": "execute_result"
    }
   ],
   "source": [
    "df2.head()"
   ]
  },
  {
   "cell_type": "code",
   "execution_count": 102,
   "metadata": {},
   "outputs": [],
   "source": [
    "# 只含特征值的完整数据集\n",
    "data2 = df2.drop(\"TRUE VALUE\", axis=1)\n",
    "# 只含真实分类信息的完整数据集\n",
    "labels = df2[\"TRUE VALUE\"]"
   ]
  },
  {
   "cell_type": "code",
   "execution_count": 103,
   "metadata": {},
   "outputs": [
    {
     "data": {
      "text/plain": [
       "<matplotlib.axes._subplots.AxesSubplot at 0x1308e8710>"
      ]
     },
     "execution_count": 103,
     "metadata": {},
     "output_type": "execute_result"
    },
    {
     "data": {
      "image/png": "[encoded data removed]",
      "text/plain": [
       "<Figure size 432x288 with 1 Axes>"
      ]
     },
     "metadata": {
      "needs_background": "light"
     },
     "output_type": "display_data"
    }
   ],
   "source": [
    "# 查看使用kmeans聚类后的分类标签值，两类\n",
    "data1['km_clustering_label'].hist()"
   ]
  },
  {
   "cell_type": "code",
   "execution_count": 104,
   "metadata": {},
   "outputs": [],
   "source": [
    "from sklearn.model_selection import StratifiedShuffleSplit\n",
    "\n",
    "# 基于kmeans聚类结果的分层抽样\n",
    "split = StratifiedShuffleSplit(n_splits=1, test_size=0.2, random_state=42)\n",
    "for train_index, test_index in split.split(data1, data1[\"km_clustering_label\"]):\n",
    "    strat_train_set = data1.loc[train_index]\n",
    "    strat_test_set = data1.loc[test_index]"
   ]
  },
  {
   "cell_type": "code",
   "execution_count": 105,
   "metadata": {},
   "outputs": [],
   "source": [
    "def clustering_result_propotions(data):\n",
    "    \"\"\"\n",
    "    分层抽样后，训练集或测试集里不同分类标签的数量比\n",
    "    \n",
    "    :param data: 训练集或测试集，纯随机取样或分层取样\n",
    "    \"\"\"\n",
    "    return data[\"km_clustering_label\"].value_counts() / len(data)"
   ]
  },
  {
   "cell_type": "code",
   "execution_count": 106,
   "metadata": {},
   "outputs": [
    {
     "data": {
      "text/plain": [
       "1    0.610989\n",
       "0    0.389011\n",
       "Name: km_clustering_label, dtype: float64"
      ]
     },
     "execution_count": 106,
     "metadata": {},
     "output_type": "execute_result"
    }
   ],
   "source": [
    "# 分层抽样获取的测试集中，不同分类标签的数量比\n",
    "clustering_result_propotions(strat_test_set)"
   ]
  },
  {
   "cell_type": "code",
   "execution_count": 107,
   "metadata": {},
   "outputs": [
    {
     "data": {
      "text/plain": [
       "1    0.610897\n",
       "0    0.389103\n",
       "Name: km_clustering_label, dtype: float64"
      ]
     },
     "execution_count": 107,
     "metadata": {},
     "output_type": "execute_result"
    }
   ],
   "source": [
    "# 分层抽样获取的训练集中，不同分类标签的数量比\n",
    "clustering_result_propotions(strat_train_set)"
   ]
  },
  {
   "cell_type": "code",
   "execution_count": 108,
   "metadata": {},
   "outputs": [
    {
     "data": {
      "text/plain": [
       "1    0.610915\n",
       "0    0.389085\n",
       "Name: km_clustering_label, dtype: float64"
      ]
     },
     "execution_count": 108,
     "metadata": {},
     "output_type": "execute_result"
    }
   ],
   "source": [
    "# 完整的数据集中，不同分类标签的数量比\n",
    "clustering_result_propotions(data1)"
   ]
  },
  {
   "cell_type": "code",
   "execution_count": 109,
   "metadata": {},
   "outputs": [
    {
     "data": {
      "text/html": [
       "<div>\n",
       "<style scoped>\n",
       "    .dataframe tbody tr th:only-of-type {\n",
       "        vertical-align: middle;\n",
       "    }\n",
       "\n",
       "    .dataframe tbody tr th {\n",
       "        vertical-align: top;\n",
       "    }\n",
       "\n",
       "    .dataframe thead th {\n",
       "        text-align: right;\n",
       "    }\n",
       "</style>\n",
       "<table border=\"1\" class=\"dataframe\">\n",
       "  <thead>\n",
       "    <tr style=\"text-align: right;\">\n",
       "      <th></th>\n",
       "      <th>Overall</th>\n",
       "      <th>Stratified</th>\n",
       "      <th>Random</th>\n",
       "      <th>Rand. %error</th>\n",
       "      <th>Start. %error</th>\n",
       "    </tr>\n",
       "  </thead>\n",
       "  <tbody>\n",
       "    <tr>\n",
       "      <th>0</th>\n",
       "      <td>0.389085</td>\n",
       "      <td>0.389011</td>\n",
       "      <td>0.382418</td>\n",
       "      <td>-1.713490</td>\n",
       "      <td>-0.018895</td>\n",
       "    </tr>\n",
       "    <tr>\n",
       "      <th>1</th>\n",
       "      <td>0.610915</td>\n",
       "      <td>0.610989</td>\n",
       "      <td>0.617582</td>\n",
       "      <td>1.091301</td>\n",
       "      <td>0.012034</td>\n",
       "    </tr>\n",
       "  </tbody>\n",
       "</table>\n",
       "</div>"
      ],
      "text/plain": [
       "    Overall  Stratified    Random  Rand. %error  Start. %error\n",
       "0  0.389085    0.389011  0.382418     -1.713490      -0.018895\n",
       "1  0.610915    0.610989  0.617582      1.091301       0.012034"
      ]
     },
     "execution_count": 109,
     "metadata": {},
     "output_type": "execute_result"
    }
   ],
   "source": [
    "from sklearn.model_selection import train_test_split\n",
    "\n",
    "# 纯随机取样\n",
    "random_train_set, random_test_set = train_test_split(data1, test_size=0.2, random_state=42)\n",
    "\n",
    "# 完整的数据集、分层抽样后的测试集、纯随机抽样后的测试集中，不同分类标签的数量比\n",
    "compare_props = pd.DataFrame({\n",
    "    \"Overall\": clustering_result_propotions(data1),\n",
    "    \"Stratified\": clustering_result_propotions(strat_test_set),\n",
    "    \"Random\": clustering_result_propotions(random_test_set),\n",
    "}).sort_index()\n",
    "\n",
    "# 计算分层抽样和纯随机抽样后的测试集中不同分类标签的数量比，和完整的数据集中不同分类标签的数量比的误差\n",
    "compare_props[\"Rand. %error\"] = 100 * compare_props[\"Random\"] / compare_props[\"Overall\"] - 100\n",
    "compare_props[\"Start. %error\"] = 100 * compare_props[\"Stratified\"] / compare_props[\"Overall\"] - 100\n",
    "\n",
    "compare_props"
   ]
  },
  {
   "cell_type": "code",
   "execution_count": 110,
   "metadata": {},
   "outputs": [],
   "source": [
    "from sklearn.linear_model import LogisticRegression\n",
    "from sklearn.metrics import f1_score\n",
    "\n",
    "def get_classification_marks(model, data, labels, train_index, test_index):\n",
    "    \"\"\"\n",
    "    获取分类模型（二元或多元分类器）的评分：F1值\n",
    "    \n",
    "    :param data: 只含有特征值的数据集\n",
    "    :param labels: 只含有标签值的数据集\n",
    "    :param train_index: 分层抽样获取的训练集中数据的索引\n",
    "    :param test_index: 分层抽样获取的测试集中数据的索引\n",
    "    :return: F1评分值\n",
    "    \"\"\"\n",
    "    m = model(random_state=42)\n",
    "    m.fit(data.loc[train_index], labels.loc[train_index])\n",
    "    test_labels_predict = m.predict(data.loc[test_index])\n",
    "    score = f1_score(labels.loc[test_index], test_labels_predict, average=\"weighted\")\n",
    "    return score"
   ]
  },
  {
   "cell_type": "code",
   "execution_count": 111,
   "metadata": {},
   "outputs": [
    {
     "name": "stderr",
     "output_type": "stream",
     "text": [
      "/usr/local/lib/python3.7/site-packages/sklearn/linear_model/logistic.py:432: FutureWarning: Default solver will be changed to 'lbfgs' in 0.22. Specify a solver to silence this warning.\n",
      "  FutureWarning)\n",
      "/usr/local/lib/python3.7/site-packages/sklearn/linear_model/logistic.py:469: FutureWarning: Default multi_class will be changed to 'auto' in 0.22. Specify the multi_class option to silence this warning.\n",
      "  \"this warning.\", FutureWarning)\n"
     ]
    },
    {
     "data": {
      "text/plain": [
       "0.709029771874991"
      ]
     },
     "execution_count": 111,
     "metadata": {},
     "output_type": "execute_result"
    }
   ],
   "source": [
    "# 用分层抽样后的训练集训练分类模型后的评分值\n",
    "start_marks = get_classification_marks(LogisticRegression, data2, labels, strat_train_set.index, strat_test_set.index)\n",
    "start_marks"
   ]
  },
  {
   "cell_type": "code",
   "execution_count": 112,
   "metadata": {
    "scrolled": true
   },
   "outputs": [
    {
     "name": "stderr",
     "output_type": "stream",
     "text": [
      "/usr/local/lib/python3.7/site-packages/sklearn/linear_model/logistic.py:432: FutureWarning: Default solver will be changed to 'lbfgs' in 0.22. Specify a solver to silence this warning.\n",
      "  FutureWarning)\n",
      "/usr/local/lib/python3.7/site-packages/sklearn/linear_model/logistic.py:469: FutureWarning: Default multi_class will be changed to 'auto' in 0.22. Specify the multi_class option to silence this warning.\n",
      "  \"this warning.\", FutureWarning)\n"
     ]
    },
    {
     "data": {
      "text/plain": [
       "0.7059927589215087"
      ]
     },
     "execution_count": 112,
     "metadata": {},
     "output_type": "execute_result"
    }
   ],
   "source": [
    "# 用纯随机抽样后的训练集训练分类模型后的评分值\n",
    "random_marks = get_classification_marks(LogisticRegression, data2, labels, random_train_set.index, random_test_set.index)\n",
    "random_marks"
   ]
  },
  {
   "cell_type": "code",
   "execution_count": 135,
   "metadata": {},
   "outputs": [],
   "source": [
    "from sklearn.metrics import f1_score, r2_score\n",
    "from sklearn.model_selection import StratifiedKFold\n",
    "from sklearn.base import clone, BaseEstimator, TransformerMixin\n",
    "\n",
    "class stratified_cross_val_score(BaseEstimator, TransformerMixin):\n",
    "    \"\"\"实现基于分层抽样的k折交叉验证\"\"\"\n",
    "    \n",
    "    def __init__(self, model, random_state=0, cv=5, pattern=\"classification\"):\n",
    "        \"\"\"\n",
    "        :model: 训练的模型（回归或分类）\n",
    "        :random_state: 模型的随机种子值\n",
    "        :cv: 交叉验证的次数\n",
    "        :pattern: classification和regression两种选择\n",
    "        \"\"\"\n",
    "        self.model = model\n",
    "        self.random_state = random_state\n",
    "        self.cv = cv\n",
    "        self.pattern = pattern\n",
    "        self.scores_ = []  \n",
    "        self.best_score_ = []\n",
    "        self.estimators_ = []\n",
    "        self.best_estimator_ = []\n",
    "        \n",
    "        self.i = 0            \n",
    "    \n",
    "    def fit(self, X, y, layer_tag):\n",
    "        \"\"\"\n",
    "        :param X: 只含有特征值的完整数据集\n",
    "        :param y: 只含有标签值的完整数据集\n",
    "        :param tag: 只含有分层依据的完整数据集（此例是KMeans聚类结果）\n",
    "        \n",
    "        \"\"\"\n",
    "        skfolds = StratifiedKFold(n_splits=self.cv, random_state=self.random_state)\n",
    "\n",
    "        for train_index, test_index in skfolds.split(X, layer_tag):\n",
    "            # 复制要训练的模型（分类或回归）\n",
    "            clone_model = clone(self.model)\n",
    "            strat_X_train_folds, strat_X_test_fold = X.iloc[train_index], X.iloc[test_index]\n",
    "            strat_y_train_folds, strat_y_test_fold = y.iloc[train_index], y.iloc[test_index]\n",
    "            \n",
    "            # 训练模型\n",
    "            clone_model.fit(strat_X_train_folds, strat_y_train_folds)\n",
    "            # 保留模型\n",
    "            self.estimators_.append(clone_model)\n",
    "            # 预测值（这里是分类模型的分类结果）\n",
    "            test_labels_pred = clone_model.predict(strat_X_test_fold)\n",
    "            \n",
    "            if self.pattern == \"classification\":\n",
    "                # 分类模型用F1值\n",
    "                score_fold = f1_score(y.iloc[test_index], test_labels_pred, average=\"weighted\")\n",
    "            elif self.pattern == \"regression\":\n",
    "                # 回归模型使用r2值\n",
    "                score_fold = r2_score(y.iloc[test_index], test_labels_pred)\n",
    "            \n",
    "            # 避免重复向列表里重复添加值\n",
    "            if self.i < self.cv:\n",
    "                self.scores_.append(score_fold)\n",
    "            else:\n",
    "                None\n",
    "                \n",
    "            self.i += 1\n",
    "        \n",
    "        # 获取评分最高模型的索引\n",
    "        argmax  = np.argmax(self.scores_)\n",
    "        self.best_score_ = self.scores_[argmax]\n",
    "        self.best_estimator_ = self.estimators_[argmax]\n",
    "        \n",
    "    def transform(self, X, y=None):\n",
    "        return self\n",
    "    \n",
    "    def mean(self):\n",
    "        \"\"\"返回交叉验证评分的平均值\"\"\"\n",
    "        return np.array(self.scores_).mean()\n",
    "    \n",
    "    def std(self):\n",
    "        \"\"\"返回交叉验证评分的标准差\"\"\"\n",
    "        return np.array(self.scores_).std()"
   ]
  },
  {
   "cell_type": "code",
   "execution_count": 136,
   "metadata": {},
   "outputs": [],
   "source": [
    "from sklearn.linear_model import SGDClassifier, LinearRegression\n",
    "\n",
    "# 分类模型\n",
    "#clf_model = SGDClassifier(max_iter=5, tol=-np.infty, random_state=42)\n",
    "# 回归模型\n",
    "clf_model = LinearRegression()\n",
    "# 基于分层抽样的交叉验证，pattern默认值为classification，如若是回归模型，需设置pattern为regression\n",
    "clf_cross_val = stratified_cross_val_score(clf_model, cv=5, random_state=42, pattern=\"regression\")\n",
    "# data2是只含有特征值的完整数据集, labels是只含分类标签值的完整数据集，data1是含有特征值和聚类结果的完整数据集\n",
    "clf_cross_val.fit(data2, labels, data1[\"km_clustering_label\"])"
   ]
  },
  {
   "cell_type": "code",
   "execution_count": 137,
   "metadata": {},
   "outputs": [
    {
     "data": {
      "text/plain": [
       "[0.26987105798643873,\n",
       " 0.26073985257088084,\n",
       " 0.2616565724572114,\n",
       " 0.27419627001021774,\n",
       " -0.07388826753353173]"
      ]
     },
     "execution_count": 137,
     "metadata": {},
     "output_type": "execute_result"
    }
   ],
   "source": [
    "# 每折交叉验证的评分\n",
    "clf_cross_val.scores_"
   ]
  },
  {
   "cell_type": "code",
   "execution_count": 138,
   "metadata": {},
   "outputs": [
    {
     "data": {
      "text/plain": [
       "0.27419627001021774"
      ]
     },
     "execution_count": 138,
     "metadata": {},
     "output_type": "execute_result"
    }
   ],
   "source": [
    "clf_cross_val.best_score_"
   ]
  },
  {
   "cell_type": "code",
   "execution_count": 139,
   "metadata": {},
   "outputs": [
    {
     "data": {
      "text/plain": [
       "0.1985150970982434"
      ]
     },
     "execution_count": 139,
     "metadata": {},
     "output_type": "execute_result"
    }
   ],
   "source": [
    "# 交叉验证评分的平均值\n",
    "clf_cross_val.mean()"
   ]
  },
  {
   "cell_type": "code",
   "execution_count": 129,
   "metadata": {},
   "outputs": [
    {
     "data": {
      "text/plain": [
       "0.13629502724197853"
      ]
     },
     "execution_count": 129,
     "metadata": {},
     "output_type": "execute_result"
    }
   ],
   "source": [
    "# 交叉验证评分的标准差\n",
    "clf_cross_val.std()"
   ]
  },
  {
   "cell_type": "code",
   "execution_count": 140,
   "metadata": {},
   "outputs": [
    {
     "data": {
      "text/plain": [
       "[LinearRegression(copy_X=True, fit_intercept=True, n_jobs=None, normalize=False),\n",
       " LinearRegression(copy_X=True, fit_intercept=True, n_jobs=None, normalize=False),\n",
       " LinearRegression(copy_X=True, fit_intercept=True, n_jobs=None, normalize=False),\n",
       " LinearRegression(copy_X=True, fit_intercept=True, n_jobs=None, normalize=False),\n",
       " LinearRegression(copy_X=True, fit_intercept=True, n_jobs=None, normalize=False)]"
      ]
     },
     "execution_count": 140,
     "metadata": {},
     "output_type": "execute_result"
    }
   ],
   "source": [
    "# 五折交叉验证的所有模型\n",
    "clf_cross_val.estimators_"
   ]
  },
  {
   "cell_type": "code",
   "execution_count": 141,
   "metadata": {},
   "outputs": [
    {
     "data": {
      "text/plain": [
       "LinearRegression(copy_X=True, fit_intercept=True, n_jobs=None, normalize=False)"
      ]
     },
     "execution_count": 141,
     "metadata": {},
     "output_type": "execute_result"
    }
   ],
   "source": [
    "# 五折交叉验证中的最优模型\n",
    "clf_cross_val.best_estimator_"
   ]
  }
 ],
 "metadata": {
  "kernelspec": {
   "display_name": "Python 3",
   "language": "python",
   "name": "python3"
  },
  "language_info": {
   "codemirror_mode": {
    "name": "ipython",
    "version": 3
   },
   "file_extension": ".py",
   "mimetype": "text/x-python",
   "name": "python",
   "nbconvert_exporter": "python",
   "pygments_lexer": "ipython3",
   "version": "3.7.6"
  }
 },
 "nbformat": 4,
 "nbformat_minor": 4
}

{
 "cells": [
  {
   "cell_type": "code",
   "execution_count": 13,
   "metadata": {},
   "outputs": [],
   "source": [
    "# 需要Python ≥3.5 \n",
    "import sys\n",
    "assert sys.version_info >= (3, 5)\n",
    "\n",
    "# 需要Scikit-Learn ≥0.20 \n",
    "import sklearn\n",
    "assert sklearn.__version__ >= \"0.20\"\n",
    "\n",
    "try:\n",
    "    %tensorflow_version 2.x\n",
    "except Exception:\n",
    "    pass\n",
    "\n",
    "# 需要TensorFlow ≥2.0 \n",
    "import tensorflow as tf\n",
    "assert tf.__version__ >= \"2.0\"\n",
    "\n",
    "import numpy as np\n",
    "import pandas as pd\n",
    "import os\n",
    "\n",
    "# 让每次运行的结果稳定\n",
    "np.random.seed(42)\n",
    "\n",
    "# 让画出的图像效果更好\n",
    "%matplotlib inline\n",
    "import matplotlib as mpl\n",
    "import matplotlib.pyplot as plt\n",
    "mpl.rc('axes', labelsize=14)\n",
    "mpl.rc('xtick', labelsize=12)\n",
    "mpl.rc('ytick', labelsize=12)\n",
    "\n",
    "# 自动创建images文件夹\n",
    "PROJECT_ROOT_DIR = \".\"\n",
    "IMAGE_FILE = \"images\"\n",
    "IMAGES_PATH = os.path.join(PROJECT_ROOT_DIR, IMAGE_FILE)\n",
    "os.makedirs(IMAGES_PATH, exist_ok=True)\n",
    "\n",
    "def save_fig(fig_id, tight_layout=True, fig_extension=\"png\", resolution=300):\n",
    "    \"\"\"\n",
    "    运行即可自动保存图片\n",
    "    \n",
    "    :param fig_id: 图片的名称\n",
    "    :tight_layout: 自动调整图片的坐标轴\n",
    "    \"\"\"\n",
    "    path = os.path.join(IMAGES_PATH, fig_id + \".\" + fig_extension)\n",
    "    print(\"Saving figure\", fig_id)\n",
    "    if tight_layout:\n",
    "        plt.tight_layout()\n",
    "    plt.savefig(path, format=fig_extension, dpi=resolution)\n",
    "\n",
    "# 忽略掉没有用的警告 (SciPy issue #5998)\n",
    "import warnings\n",
    "warnings.filterwarnings(action=\"ignore\", message=\"^internal gelsd\")"
   ]
  },
  {
   "cell_type": "code",
   "execution_count": 14,
   "metadata": {},
   "outputs": [],
   "source": [
    "import tensorflow as tf"
   ]
  },
  {
   "cell_type": "code",
   "execution_count": 15,
   "metadata": {},
   "outputs": [
    {
     "data": {
      "text/plain": [
       "'2.1.0'"
      ]
     },
     "execution_count": 15,
     "metadata": {},
     "output_type": "execute_result"
    }
   ],
   "source": [
    "# 查看TensorFlow的版本\n",
    "tf.__version__"
   ]
  },
  {
   "cell_type": "code",
   "execution_count": 16,
   "metadata": {},
   "outputs": [
    {
     "data": {
      "text/plain": [
       "'2.2.4-tf'"
      ]
     },
     "execution_count": 16,
     "metadata": {},
     "output_type": "execute_result"
    }
   ],
   "source": [
    "# 查看Keras的版本\n",
    "tf.keras.__version__"
   ]
  },
  {
   "cell_type": "code",
   "execution_count": 17,
   "metadata": {},
   "outputs": [],
   "source": [
    "# 读取文件\n",
    "raw_data = pd.read_excel(\"Fe_test_regression.xlsx\")"
   ]
  },
  {
   "cell_type": "code",
   "execution_count": 18,
   "metadata": {},
   "outputs": [
    {
     "data": {
      "text/html": [
       "<div>\n",
       "<style scoped>\n",
       "    .dataframe tbody tr th:only-of-type {\n",
       "        vertical-align: middle;\n",
       "    }\n",
       "\n",
       "    .dataframe tbody tr th {\n",
       "        vertical-align: top;\n",
       "    }\n",
       "\n",
       "    .dataframe thead th {\n",
       "        text-align: right;\n",
       "    }\n",
       "</style>\n",
       "<table border=\"1\" class=\"dataframe\">\n",
       "  <thead>\n",
       "    <tr style=\"text-align: right;\">\n",
       "      <th></th>\n",
       "      <th>Sample type</th>\n",
       "      <th>天然：1</th>\n",
       "      <th>SiO2</th>\n",
       "      <th>TiO2</th>\n",
       "      <th>Al2O3</th>\n",
       "      <th>Cr2O3</th>\n",
       "      <th>FeOtot</th>\n",
       "      <th>MnO</th>\n",
       "      <th>MgO</th>\n",
       "      <th>CaO</th>\n",
       "      <th>Na2O</th>\n",
       "      <th>K2O</th>\n",
       "      <th>P2O5</th>\n",
       "      <th>NiO</th>\n",
       "      <th>ZnO</th>\n",
       "      <th>Li2O</th>\n",
       "      <th>ZrO2</th>\n",
       "      <th>V2O5</th>\n",
       "      <th>Fe3+/Fetot</th>\n",
       "    </tr>\n",
       "  </thead>\n",
       "  <tbody>\n",
       "    <tr>\n",
       "      <th>0</th>\n",
       "      <td>hedenbergite (CaFeSi2O6)–petedunnite (CaZnSi2O...</td>\n",
       "      <td>2.0</td>\n",
       "      <td>48.09</td>\n",
       "      <td>NaN</td>\n",
       "      <td>NaN</td>\n",
       "      <td>NaN</td>\n",
       "      <td>29.61</td>\n",
       "      <td>NaN</td>\n",
       "      <td>NaN</td>\n",
       "      <td>21.60</td>\n",
       "      <td>NaN</td>\n",
       "      <td>NaN</td>\n",
       "      <td>NaN</td>\n",
       "      <td>NaN</td>\n",
       "      <td>NaN</td>\n",
       "      <td>NaN</td>\n",
       "      <td>NaN</td>\n",
       "      <td>NaN</td>\n",
       "      <td>0.000</td>\n",
       "    </tr>\n",
       "    <tr>\n",
       "      <th>1</th>\n",
       "      <td>hedenbergite (CaFeSi2O6)–petedunnite (CaZnSi2O...</td>\n",
       "      <td>2.0</td>\n",
       "      <td>48.18</td>\n",
       "      <td>NaN</td>\n",
       "      <td>NaN</td>\n",
       "      <td>NaN</td>\n",
       "      <td>29.17</td>\n",
       "      <td>NaN</td>\n",
       "      <td>NaN</td>\n",
       "      <td>22.95</td>\n",
       "      <td>NaN</td>\n",
       "      <td>NaN</td>\n",
       "      <td>NaN</td>\n",
       "      <td>NaN</td>\n",
       "      <td>NaN</td>\n",
       "      <td>NaN</td>\n",
       "      <td>NaN</td>\n",
       "      <td>NaN</td>\n",
       "      <td>0.000</td>\n",
       "    </tr>\n",
       "    <tr>\n",
       "      <th>2</th>\n",
       "      <td>hedenbergite (CaFeSi2O6)–petedunnite (CaZnSi2O...</td>\n",
       "      <td>2.0</td>\n",
       "      <td>48.41</td>\n",
       "      <td>NaN</td>\n",
       "      <td>NaN</td>\n",
       "      <td>NaN</td>\n",
       "      <td>24.42</td>\n",
       "      <td>NaN</td>\n",
       "      <td>NaN</td>\n",
       "      <td>22.53</td>\n",
       "      <td>NaN</td>\n",
       "      <td>NaN</td>\n",
       "      <td>NaN</td>\n",
       "      <td>NaN</td>\n",
       "      <td>5.16</td>\n",
       "      <td>NaN</td>\n",
       "      <td>NaN</td>\n",
       "      <td>NaN</td>\n",
       "      <td>0.000</td>\n",
       "    </tr>\n",
       "    <tr>\n",
       "      <th>3</th>\n",
       "      <td>hedenbergite (CaFeSi2O6)–petedunnite (CaZnSi2O...</td>\n",
       "      <td>2.0</td>\n",
       "      <td>47.37</td>\n",
       "      <td>NaN</td>\n",
       "      <td>NaN</td>\n",
       "      <td>NaN</td>\n",
       "      <td>22.81</td>\n",
       "      <td>NaN</td>\n",
       "      <td>NaN</td>\n",
       "      <td>22.12</td>\n",
       "      <td>NaN</td>\n",
       "      <td>NaN</td>\n",
       "      <td>NaN</td>\n",
       "      <td>NaN</td>\n",
       "      <td>7.61</td>\n",
       "      <td>NaN</td>\n",
       "      <td>NaN</td>\n",
       "      <td>NaN</td>\n",
       "      <td>0.000</td>\n",
       "    </tr>\n",
       "    <tr>\n",
       "      <th>4</th>\n",
       "      <td>hedenbergite (CaFeSi2O6)–petedunnite (CaZnSi2O...</td>\n",
       "      <td>2.0</td>\n",
       "      <td>47.47</td>\n",
       "      <td>NaN</td>\n",
       "      <td>NaN</td>\n",
       "      <td>NaN</td>\n",
       "      <td>18.96</td>\n",
       "      <td>NaN</td>\n",
       "      <td>NaN</td>\n",
       "      <td>22.49</td>\n",
       "      <td>NaN</td>\n",
       "      <td>NaN</td>\n",
       "      <td>NaN</td>\n",
       "      <td>NaN</td>\n",
       "      <td>10.81</td>\n",
       "      <td>NaN</td>\n",
       "      <td>NaN</td>\n",
       "      <td>NaN</td>\n",
       "      <td>0.106</td>\n",
       "    </tr>\n",
       "  </tbody>\n",
       "</table>\n",
       "</div>"
      ],
      "text/plain": [
       "                                         Sample type  天然：1   SiO2  TiO2  \\\n",
       "0  hedenbergite (CaFeSi2O6)–petedunnite (CaZnSi2O...   2.0  48.09   NaN   \n",
       "1  hedenbergite (CaFeSi2O6)–petedunnite (CaZnSi2O...   2.0  48.18   NaN   \n",
       "2  hedenbergite (CaFeSi2O6)–petedunnite (CaZnSi2O...   2.0  48.41   NaN   \n",
       "3  hedenbergite (CaFeSi2O6)–petedunnite (CaZnSi2O...   2.0  47.37   NaN   \n",
       "4  hedenbergite (CaFeSi2O6)–petedunnite (CaZnSi2O...   2.0  47.47   NaN   \n",
       "\n",
       "   Al2O3  Cr2O3  FeOtot  MnO  MgO    CaO  Na2O  K2O  P2O5  NiO    ZnO  Li2O  \\\n",
       "0    NaN    NaN   29.61  NaN  NaN  21.60   NaN  NaN   NaN  NaN    NaN   NaN   \n",
       "1    NaN    NaN   29.17  NaN  NaN  22.95   NaN  NaN   NaN  NaN    NaN   NaN   \n",
       "2    NaN    NaN   24.42  NaN  NaN  22.53   NaN  NaN   NaN  NaN   5.16   NaN   \n",
       "3    NaN    NaN   22.81  NaN  NaN  22.12   NaN  NaN   NaN  NaN   7.61   NaN   \n",
       "4    NaN    NaN   18.96  NaN  NaN  22.49   NaN  NaN   NaN  NaN  10.81   NaN   \n",
       "\n",
       "   ZrO2  V2O5  Fe3+/Fetot  \n",
       "0   NaN   NaN       0.000  \n",
       "1   NaN   NaN       0.000  \n",
       "2   NaN   NaN       0.000  \n",
       "3   NaN   NaN       0.000  \n",
       "4   NaN   NaN       0.106  "
      ]
     },
     "execution_count": 18,
     "metadata": {},
     "output_type": "execute_result"
    }
   ],
   "source": [
    "raw_data.head()"
   ]
  },
  {
   "cell_type": "code",
   "execution_count": 19,
   "metadata": {},
   "outputs": [
    {
     "data": {
      "text/html": [
       "<div>\n",
       "<style scoped>\n",
       "    .dataframe tbody tr th:only-of-type {\n",
       "        vertical-align: middle;\n",
       "    }\n",
       "\n",
       "    .dataframe tbody tr th {\n",
       "        vertical-align: top;\n",
       "    }\n",
       "\n",
       "    .dataframe thead th {\n",
       "        text-align: right;\n",
       "    }\n",
       "</style>\n",
       "<table border=\"1\" class=\"dataframe\">\n",
       "  <thead>\n",
       "    <tr style=\"text-align: right;\">\n",
       "      <th></th>\n",
       "      <th>SiO2</th>\n",
       "      <th>TiO2</th>\n",
       "      <th>Al2O3</th>\n",
       "      <th>Cr2O3</th>\n",
       "      <th>FeOtot</th>\n",
       "      <th>MnO</th>\n",
       "      <th>MgO</th>\n",
       "      <th>CaO</th>\n",
       "      <th>Na2O</th>\n",
       "      <th>K2O</th>\n",
       "      <th>P2O5</th>\n",
       "      <th>NiO</th>\n",
       "      <th>ZnO</th>\n",
       "      <th>Li2O</th>\n",
       "      <th>ZrO2</th>\n",
       "      <th>V2O5</th>\n",
       "      <th>Fe3+/Fetot</th>\n",
       "    </tr>\n",
       "  </thead>\n",
       "  <tbody>\n",
       "    <tr>\n",
       "      <th>0</th>\n",
       "      <td>48.09</td>\n",
       "      <td>NaN</td>\n",
       "      <td>NaN</td>\n",
       "      <td>NaN</td>\n",
       "      <td>29.61</td>\n",
       "      <td>NaN</td>\n",
       "      <td>NaN</td>\n",
       "      <td>21.60</td>\n",
       "      <td>NaN</td>\n",
       "      <td>NaN</td>\n",
       "      <td>NaN</td>\n",
       "      <td>NaN</td>\n",
       "      <td>NaN</td>\n",
       "      <td>NaN</td>\n",
       "      <td>NaN</td>\n",
       "      <td>NaN</td>\n",
       "      <td>0.000</td>\n",
       "    </tr>\n",
       "    <tr>\n",
       "      <th>1</th>\n",
       "      <td>48.18</td>\n",
       "      <td>NaN</td>\n",
       "      <td>NaN</td>\n",
       "      <td>NaN</td>\n",
       "      <td>29.17</td>\n",
       "      <td>NaN</td>\n",
       "      <td>NaN</td>\n",
       "      <td>22.95</td>\n",
       "      <td>NaN</td>\n",
       "      <td>NaN</td>\n",
       "      <td>NaN</td>\n",
       "      <td>NaN</td>\n",
       "      <td>NaN</td>\n",
       "      <td>NaN</td>\n",
       "      <td>NaN</td>\n",
       "      <td>NaN</td>\n",
       "      <td>0.000</td>\n",
       "    </tr>\n",
       "    <tr>\n",
       "      <th>2</th>\n",
       "      <td>48.41</td>\n",
       "      <td>NaN</td>\n",
       "      <td>NaN</td>\n",
       "      <td>NaN</td>\n",
       "      <td>24.42</td>\n",
       "      <td>NaN</td>\n",
       "      <td>NaN</td>\n",
       "      <td>22.53</td>\n",
       "      <td>NaN</td>\n",
       "      <td>NaN</td>\n",
       "      <td>NaN</td>\n",
       "      <td>NaN</td>\n",
       "      <td>5.16</td>\n",
       "      <td>NaN</td>\n",
       "      <td>NaN</td>\n",
       "      <td>NaN</td>\n",
       "      <td>0.000</td>\n",
       "    </tr>\n",
       "    <tr>\n",
       "      <th>3</th>\n",
       "      <td>47.37</td>\n",
       "      <td>NaN</td>\n",
       "      <td>NaN</td>\n",
       "      <td>NaN</td>\n",
       "      <td>22.81</td>\n",
       "      <td>NaN</td>\n",
       "      <td>NaN</td>\n",
       "      <td>22.12</td>\n",
       "      <td>NaN</td>\n",
       "      <td>NaN</td>\n",
       "      <td>NaN</td>\n",
       "      <td>NaN</td>\n",
       "      <td>7.61</td>\n",
       "      <td>NaN</td>\n",
       "      <td>NaN</td>\n",
       "      <td>NaN</td>\n",
       "      <td>0.000</td>\n",
       "    </tr>\n",
       "    <tr>\n",
       "      <th>4</th>\n",
       "      <td>47.47</td>\n",
       "      <td>NaN</td>\n",
       "      <td>NaN</td>\n",
       "      <td>NaN</td>\n",
       "      <td>18.96</td>\n",
       "      <td>NaN</td>\n",
       "      <td>NaN</td>\n",
       "      <td>22.49</td>\n",
       "      <td>NaN</td>\n",
       "      <td>NaN</td>\n",
       "      <td>NaN</td>\n",
       "      <td>NaN</td>\n",
       "      <td>10.81</td>\n",
       "      <td>NaN</td>\n",
       "      <td>NaN</td>\n",
       "      <td>NaN</td>\n",
       "      <td>0.106</td>\n",
       "    </tr>\n",
       "  </tbody>\n",
       "</table>\n",
       "</div>"
      ],
      "text/plain": [
       "    SiO2  TiO2  Al2O3  Cr2O3  FeOtot  MnO  MgO    CaO  Na2O  K2O  P2O5  NiO  \\\n",
       "0  48.09   NaN    NaN    NaN   29.61  NaN  NaN  21.60   NaN  NaN   NaN  NaN   \n",
       "1  48.18   NaN    NaN    NaN   29.17  NaN  NaN  22.95   NaN  NaN   NaN  NaN   \n",
       "2  48.41   NaN    NaN    NaN   24.42  NaN  NaN  22.53   NaN  NaN   NaN  NaN   \n",
       "3  47.37   NaN    NaN    NaN   22.81  NaN  NaN  22.12   NaN  NaN   NaN  NaN   \n",
       "4  47.47   NaN    NaN    NaN   18.96  NaN  NaN  22.49   NaN  NaN   NaN  NaN   \n",
       "\n",
       "     ZnO  Li2O  ZrO2  V2O5  Fe3+/Fetot  \n",
       "0    NaN   NaN   NaN   NaN       0.000  \n",
       "1    NaN   NaN   NaN   NaN       0.000  \n",
       "2   5.16   NaN   NaN   NaN       0.000  \n",
       "3   7.61   NaN   NaN   NaN       0.000  \n",
       "4  10.81   NaN   NaN   NaN       0.106  "
      ]
     },
     "execution_count": 19,
     "metadata": {},
     "output_type": "execute_result"
    }
   ],
   "source": [
    "# 获取有用的特征维度\n",
    "raw_data = raw_data.iloc[:, 2:]\n",
    "raw_data.head()"
   ]
  },
  {
   "cell_type": "code",
   "execution_count": 20,
   "metadata": {},
   "outputs": [
    {
     "name": "stdout",
     "output_type": "stream",
     "text": [
      "<class 'pandas.core.frame.DataFrame'>\n",
      "RangeIndex: 390 entries, 0 to 389\n",
      "Data columns (total 17 columns):\n",
      "SiO2          390 non-null float64\n",
      "TiO2          354 non-null float64\n",
      "Al2O3         364 non-null float64\n",
      "Cr2O3         348 non-null float64\n",
      "FeOtot        390 non-null float64\n",
      "MnO           330 non-null float64\n",
      "MgO           379 non-null float64\n",
      "CaO           390 non-null float64\n",
      "Na2O          380 non-null float64\n",
      "K2O           169 non-null float64\n",
      "P2O5          5 non-null float64\n",
      "NiO           171 non-null float64\n",
      "ZnO           15 non-null float64\n",
      "Li2O          5 non-null float64\n",
      "ZrO2          3 non-null float64\n",
      "V2O5          8 non-null float64\n",
      "Fe3+/Fetot    390 non-null float64\n",
      "dtypes: float64(17)\n",
      "memory usage: 51.9 KB\n"
     ]
    }
   ],
   "source": [
    "# 查看数据集是否有空值\n",
    "raw_data.info()"
   ]
  },
  {
   "cell_type": "code",
   "execution_count": 21,
   "metadata": {},
   "outputs": [],
   "source": [
    "from sklearn.impute import SimpleImputer\n",
    "\n",
    "# 用平均值对数据集进行插值\n",
    "imputer = SimpleImputer(strategy=\"mean\")\n",
    "processed_data = pd.DataFrame(imputer.fit_transform(raw_data))\n",
    "processed_data.columns = raw_data.columns"
   ]
  },
  {
   "cell_type": "code",
   "execution_count": 22,
   "metadata": {},
   "outputs": [
    {
     "data": {
      "text/html": [
       "<div>\n",
       "<style scoped>\n",
       "    .dataframe tbody tr th:only-of-type {\n",
       "        vertical-align: middle;\n",
       "    }\n",
       "\n",
       "    .dataframe tbody tr th {\n",
       "        vertical-align: top;\n",
       "    }\n",
       "\n",
       "    .dataframe thead th {\n",
       "        text-align: right;\n",
       "    }\n",
       "</style>\n",
       "<table border=\"1\" class=\"dataframe\">\n",
       "  <thead>\n",
       "    <tr style=\"text-align: right;\">\n",
       "      <th></th>\n",
       "      <th>SiO2</th>\n",
       "      <th>TiO2</th>\n",
       "      <th>Al2O3</th>\n",
       "      <th>Cr2O3</th>\n",
       "      <th>FeOtot</th>\n",
       "      <th>MnO</th>\n",
       "      <th>MgO</th>\n",
       "      <th>CaO</th>\n",
       "      <th>Na2O</th>\n",
       "      <th>K2O</th>\n",
       "      <th>P2O5</th>\n",
       "      <th>NiO</th>\n",
       "      <th>ZnO</th>\n",
       "      <th>Li2O</th>\n",
       "      <th>ZrO2</th>\n",
       "      <th>V2O5</th>\n",
       "      <th>Fe3+/Fetot</th>\n",
       "    </tr>\n",
       "  </thead>\n",
       "  <tbody>\n",
       "    <tr>\n",
       "      <th>0</th>\n",
       "      <td>48.09</td>\n",
       "      <td>0.683474</td>\n",
       "      <td>5.634114</td>\n",
       "      <td>0.804728</td>\n",
       "      <td>29.61</td>\n",
       "      <td>0.112056</td>\n",
       "      <td>14.362567</td>\n",
       "      <td>21.60</td>\n",
       "      <td>2.171707</td>\n",
       "      <td>0.030234</td>\n",
       "      <td>0.2052</td>\n",
       "      <td>0.050912</td>\n",
       "      <td>7.26</td>\n",
       "      <td>7.684</td>\n",
       "      <td>0.64</td>\n",
       "      <td>0.042</td>\n",
       "      <td>0.000</td>\n",
       "    </tr>\n",
       "    <tr>\n",
       "      <th>1</th>\n",
       "      <td>48.18</td>\n",
       "      <td>0.683474</td>\n",
       "      <td>5.634114</td>\n",
       "      <td>0.804728</td>\n",
       "      <td>29.17</td>\n",
       "      <td>0.112056</td>\n",
       "      <td>14.362567</td>\n",
       "      <td>22.95</td>\n",
       "      <td>2.171707</td>\n",
       "      <td>0.030234</td>\n",
       "      <td>0.2052</td>\n",
       "      <td>0.050912</td>\n",
       "      <td>7.26</td>\n",
       "      <td>7.684</td>\n",
       "      <td>0.64</td>\n",
       "      <td>0.042</td>\n",
       "      <td>0.000</td>\n",
       "    </tr>\n",
       "    <tr>\n",
       "      <th>2</th>\n",
       "      <td>48.41</td>\n",
       "      <td>0.683474</td>\n",
       "      <td>5.634114</td>\n",
       "      <td>0.804728</td>\n",
       "      <td>24.42</td>\n",
       "      <td>0.112056</td>\n",
       "      <td>14.362567</td>\n",
       "      <td>22.53</td>\n",
       "      <td>2.171707</td>\n",
       "      <td>0.030234</td>\n",
       "      <td>0.2052</td>\n",
       "      <td>0.050912</td>\n",
       "      <td>5.16</td>\n",
       "      <td>7.684</td>\n",
       "      <td>0.64</td>\n",
       "      <td>0.042</td>\n",
       "      <td>0.000</td>\n",
       "    </tr>\n",
       "    <tr>\n",
       "      <th>3</th>\n",
       "      <td>47.37</td>\n",
       "      <td>0.683474</td>\n",
       "      <td>5.634114</td>\n",
       "      <td>0.804728</td>\n",
       "      <td>22.81</td>\n",
       "      <td>0.112056</td>\n",
       "      <td>14.362567</td>\n",
       "      <td>22.12</td>\n",
       "      <td>2.171707</td>\n",
       "      <td>0.030234</td>\n",
       "      <td>0.2052</td>\n",
       "      <td>0.050912</td>\n",
       "      <td>7.61</td>\n",
       "      <td>7.684</td>\n",
       "      <td>0.64</td>\n",
       "      <td>0.042</td>\n",
       "      <td>0.000</td>\n",
       "    </tr>\n",
       "    <tr>\n",
       "      <th>4</th>\n",
       "      <td>47.47</td>\n",
       "      <td>0.683474</td>\n",
       "      <td>5.634114</td>\n",
       "      <td>0.804728</td>\n",
       "      <td>18.96</td>\n",
       "      <td>0.112056</td>\n",
       "      <td>14.362567</td>\n",
       "      <td>22.49</td>\n",
       "      <td>2.171707</td>\n",
       "      <td>0.030234</td>\n",
       "      <td>0.2052</td>\n",
       "      <td>0.050912</td>\n",
       "      <td>10.81</td>\n",
       "      <td>7.684</td>\n",
       "      <td>0.64</td>\n",
       "      <td>0.042</td>\n",
       "      <td>0.106</td>\n",
       "    </tr>\n",
       "  </tbody>\n",
       "</table>\n",
       "</div>"
      ],
      "text/plain": [
       "    SiO2      TiO2     Al2O3     Cr2O3  FeOtot       MnO        MgO    CaO  \\\n",
       "0  48.09  0.683474  5.634114  0.804728   29.61  0.112056  14.362567  21.60   \n",
       "1  48.18  0.683474  5.634114  0.804728   29.17  0.112056  14.362567  22.95   \n",
       "2  48.41  0.683474  5.634114  0.804728   24.42  0.112056  14.362567  22.53   \n",
       "3  47.37  0.683474  5.634114  0.804728   22.81  0.112056  14.362567  22.12   \n",
       "4  47.47  0.683474  5.634114  0.804728   18.96  0.112056  14.362567  22.49   \n",
       "\n",
       "       Na2O       K2O    P2O5       NiO    ZnO   Li2O  ZrO2   V2O5  Fe3+/Fetot  \n",
       "0  2.171707  0.030234  0.2052  0.050912   7.26  7.684  0.64  0.042       0.000  \n",
       "1  2.171707  0.030234  0.2052  0.050912   7.26  7.684  0.64  0.042       0.000  \n",
       "2  2.171707  0.030234  0.2052  0.050912   5.16  7.684  0.64  0.042       0.000  \n",
       "3  2.171707  0.030234  0.2052  0.050912   7.61  7.684  0.64  0.042       0.000  \n",
       "4  2.171707  0.030234  0.2052  0.050912  10.81  7.684  0.64  0.042       0.106  "
      ]
     },
     "execution_count": 22,
     "metadata": {},
     "output_type": "execute_result"
    }
   ],
   "source": [
    "processed_data.head()"
   ]
  },
  {
   "cell_type": "code",
   "execution_count": 23,
   "metadata": {},
   "outputs": [],
   "source": [
    "# 分开特征值和标签值\n",
    "X = processed_data.drop([\"Fe3+/Fetot\"], axis=1)\n",
    "y = processed_data[\"Fe3+/Fetot\"]"
   ]
  },
  {
   "cell_type": "code",
   "execution_count": 24,
   "metadata": {},
   "outputs": [],
   "source": [
    "from sklearn.model_selection import train_test_split\n",
    "\n",
    "# 划分训练集、验证集、测试集\n",
    "X_train_full, X_test, y_train_full, y_test = train_test_split(X, y, test_size=0.2, random_state=42)\n",
    "X_train, X_valid, y_train, y_valid = train_test_split(X_train_full, y_train_full)"
   ]
  },
  {
   "cell_type": "code",
   "execution_count": 25,
   "metadata": {},
   "outputs": [],
   "source": [
    "from sklearn.preprocessing import StandardScaler\n",
    "\n",
    "# 标准化训练集、验证集、测试集（使用相同的mean、std）\n",
    "scaler = StandardScaler()\n",
    "X_train_scaled = scaler.fit_transform(X_train)\n",
    "X_valid_scaled = scaler.transform(X_valid)\n",
    "X_test_scaled = scaler.transform(X_test)"
   ]
  },
  {
   "cell_type": "markdown",
   "metadata": {},
   "source": [
    "# Sequential API"
   ]
  },
  {
   "cell_type": "code",
   "execution_count": 26,
   "metadata": {},
   "outputs": [],
   "source": [
    "# 销毁当前的 TF 图并创建一个新图,避免旧模型/网络层混乱\n",
    "tf.keras.backend.clear_session()\n",
    "tf.random.set_seed(42)"
   ]
  },
  {
   "cell_type": "code",
   "execution_count": 27,
   "metadata": {},
   "outputs": [],
   "source": [
    "from tensorflow.keras.models import Sequential\n",
    "from tensorflow.keras.layers import Dense, Input\n",
    "\n",
    "# 构建输入层、隐藏层、输出层,建立神经网络模型\n",
    "model_1 = Sequential()\n",
    "model_1.add(Input(shape=X_train.shape[1:]))\n",
    "model_1.add(Dense(30, activation=\"relu\"))\n",
    "model_1.add(Dense(1))"
   ]
  },
  {
   "cell_type": "code",
   "execution_count": 28,
   "metadata": {},
   "outputs": [],
   "source": [
    "# 设定神经网络的损失函数，优化器\n",
    "model_1.compile(loss=\"mean_squared_error\",\n",
    "                optimizer=\"sgd\")"
   ]
  },
  {
   "cell_type": "code",
   "execution_count": 29,
   "metadata": {},
   "outputs": [
    {
     "name": "stdout",
     "output_type": "stream",
     "text": [
      "Model: \"sequential\"\n",
      "_________________________________________________________________\n",
      "Layer (type)                 Output Shape              Param #   \n",
      "=================================================================\n",
      "dense (Dense)                (None, 30)                510       \n",
      "_________________________________________________________________\n",
      "dense_1 (Dense)              (None, 1)                 31        \n",
      "=================================================================\n",
      "Total params: 541\n",
      "Trainable params: 541\n",
      "Non-trainable params: 0\n",
      "_________________________________________________________________\n"
     ]
    }
   ],
   "source": [
    "# 看各层的参数个数\n",
    "model_1.summary()"
   ]
  },
  {
   "cell_type": "code",
   "execution_count": 30,
   "metadata": {},
   "outputs": [
    {
     "name": "stdout",
     "output_type": "stream",
     "text": [
      "Train on 234 samples, validate on 78 samples\n",
      "Epoch 1/30\n",
      "234/234 [==============================] - 0s 2ms/sample - loss: 189009.7860 - val_loss: 1932694.9038\n",
      "Epoch 2/30\n",
      "234/234 [==============================] - 0s 75us/sample - loss: 273562.6095 - val_loss: 1778.1044\n",
      "Epoch 3/30\n",
      "234/234 [==============================] - 0s 81us/sample - loss: 1571.2366 - val_loss: 1286.7459\n",
      "Epoch 4/30\n",
      "234/234 [==============================] - 0s 73us/sample - loss: 1096.1749 - val_loss: 1266701.2308\n",
      "Epoch 5/30\n",
      "234/234 [==============================] - 0s 64us/sample - loss: 179863.0960 - val_loss: 2183.7810\n",
      "Epoch 6/30\n",
      "234/234 [==============================] - 0s 75us/sample - loss: 1929.6025 - val_loss: 1580.4120\n",
      "Epoch 7/30\n",
      "234/234 [==============================] - 0s 64us/sample - loss: 1396.6452 - val_loss: 1143.7614\n",
      "Epoch 8/30\n",
      "234/234 [==============================] - 0s 66us/sample - loss: 1010.9198 - val_loss: 827.6793\n",
      "Epoch 9/30\n",
      "234/234 [==============================] - 0s 64us/sample - loss: 731.6792 - val_loss: 598.9369\n",
      "Epoch 10/30\n",
      "234/234 [==============================] - 0s 64us/sample - loss: 529.5817 - val_loss: 433.4014\n",
      "Epoch 11/30\n",
      "234/234 [==============================] - 0s 56us/sample - loss: 383.3129 - val_loss: 313.5799\n",
      "Epoch 12/30\n",
      "234/234 [==============================] - 0s 57us/sample - loss: 277.4215 - val_loss: 226.8663\n",
      "Epoch 13/30\n",
      "234/234 [==============================] - 0s 56us/sample - loss: 200.7792 - val_loss: 164.1726\n",
      "Epoch 14/30\n",
      "234/234 [==============================] - 0s 58us/sample - loss: 145.3517 - val_loss: 118.7491\n",
      "Epoch 15/30\n",
      "234/234 [==============================] - 0s 60us/sample - loss: 105.1865 - val_loss: 85.8891\n",
      "Epoch 16/30\n",
      "234/234 [==============================] - 0s 57us/sample - loss: 76.1259 - val_loss: 62.1292\n",
      "Epoch 17/30\n",
      "234/234 [==============================] - 0s 57us/sample - loss: 55.1052 - val_loss: 44.9370\n",
      "Epoch 18/30\n",
      "234/234 [==============================] - 0s 58us/sample - loss: 39.8902 - val_loss: 32.5011\n",
      "Epoch 19/30\n",
      "234/234 [==============================] - 0s 57us/sample - loss: 28.8805 - val_loss: 23.5152\n",
      "Epoch 20/30\n",
      "234/234 [==============================] - 0s 57us/sample - loss: 20.9203 - val_loss: 17.0034\n",
      "Epoch 21/30\n",
      "234/234 [==============================] - 0s 64us/sample - loss: 15.1493 - val_loss: 12.2949\n",
      "Epoch 22/30\n",
      "234/234 [==============================] - 0s 57us/sample - loss: 10.9732 - val_loss: 8.8922\n",
      "Epoch 23/30\n",
      "234/234 [==============================] - 0s 57us/sample - loss: 7.9536 - val_loss: 6.4411\n",
      "Epoch 24/30\n",
      "234/234 [==============================] - 0s 68us/sample - loss: 5.7756 - val_loss: 4.6601\n",
      "Epoch 25/30\n",
      "234/234 [==============================] - 0s 58us/sample - loss: 4.1915 - val_loss: 3.3712\n",
      "Epoch 26/30\n",
      "234/234 [==============================] - 0s 55us/sample - loss: 3.0438 - val_loss: 2.4376\n",
      "Epoch 27/30\n",
      "234/234 [==============================] - 0s 57us/sample - loss: 2.2111 - val_loss: 1.7637\n",
      "Epoch 28/30\n",
      "234/234 [==============================] - 0s 57us/sample - loss: 1.6092 - val_loss: 1.2797\n",
      "Epoch 29/30\n",
      "234/234 [==============================] - 0s 60us/sample - loss: 1.1759 - val_loss: 0.9288\n",
      "Epoch 30/30\n",
      "234/234 [==============================] - 0s 60us/sample - loss: 0.8610 - val_loss: 0.6764\n"
     ]
    }
   ],
   "source": [
    "# 训练神经网络\n",
    "history_1 = model_1.fit(X_train, y_train, epochs=30,\n",
    "                        validation_data=(X_valid, y_valid))"
   ]
  },
  {
   "cell_type": "code",
   "execution_count": 31,
   "metadata": {},
   "outputs": [
    {
     "name": "stdout",
     "output_type": "stream",
     "text": [
      "78/78 [==============================] - 0s 45us/sample - loss: 0.6461\n"
     ]
    }
   ],
   "source": [
    "# 看测试集的评分\n",
    "mse_test_1 = model_1.evaluate(X_test, y_test)"
   ]
  },
  {
   "cell_type": "code",
   "execution_count": 32,
   "metadata": {},
   "outputs": [
    {
     "data": {
      "text/plain": [
       "array([[1.081088],\n",
       "       [1.081088],\n",
       "       [1.081088],\n",
       "       [1.081088],\n",
       "       [1.081088],\n",
       "       [1.081088],\n",
       "       [1.081088],\n",
       "       [1.081088],\n",
       "       [1.081088],\n",
       "       [1.081088],\n",
       "       [1.081088],\n",
       "       [1.081088],\n",
       "       [1.081088],\n",
       "       [1.081088],\n",
       "       [1.081088],\n",
       "       [1.081088],\n",
       "       [1.081088],\n",
       "       [1.081088],\n",
       "       [1.081088],\n",
       "       [1.081088],\n",
       "       [1.081088],\n",
       "       [1.081088],\n",
       "       [1.081088],\n",
       "       [1.081088],\n",
       "       [1.081088],\n",
       "       [1.081088],\n",
       "       [1.081088],\n",
       "       [1.081088],\n",
       "       [1.081088],\n",
       "       [1.081088],\n",
       "       [1.081088],\n",
       "       [1.081088],\n",
       "       [1.081088],\n",
       "       [1.081088],\n",
       "       [1.081088],\n",
       "       [1.081088],\n",
       "       [1.081088],\n",
       "       [1.081088],\n",
       "       [1.081088],\n",
       "       [1.081088],\n",
       "       [1.081088],\n",
       "       [1.081088],\n",
       "       [1.081088],\n",
       "       [1.081088],\n",
       "       [1.081088],\n",
       "       [1.081088],\n",
       "       [1.081088],\n",
       "       [1.081088],\n",
       "       [1.081088],\n",
       "       [1.081088],\n",
       "       [1.081088],\n",
       "       [1.081088],\n",
       "       [1.081088],\n",
       "       [1.081088],\n",
       "       [1.081088],\n",
       "       [1.081088],\n",
       "       [1.081088],\n",
       "       [1.081088],\n",
       "       [1.081088],\n",
       "       [1.081088],\n",
       "       [1.081088],\n",
       "       [1.081088],\n",
       "       [1.081088],\n",
       "       [1.081088],\n",
       "       [1.081088],\n",
       "       [1.081088],\n",
       "       [1.081088],\n",
       "       [1.081088],\n",
       "       [1.081088],\n",
       "       [1.081088],\n",
       "       [1.081088],\n",
       "       [1.081088],\n",
       "       [1.081088],\n",
       "       [1.081088],\n",
       "       [1.081088],\n",
       "       [1.081088],\n",
       "       [1.081088],\n",
       "       [1.081088]], dtype=float32)"
      ]
     },
     "execution_count": 32,
     "metadata": {},
     "output_type": "execute_result"
    }
   ],
   "source": [
    "# 查看测试集数据的预测值\n",
    "y_pred_1 = model_1.predict(X_test)\n",
    "y_pred_1"
   ]
  },
  {
   "cell_type": "code",
   "execution_count": 33,
   "metadata": {},
   "outputs": [],
   "source": [
    "# 保存model_1模型到keras_model_1.h5中\n",
    "model_1.save(\"keras_model_1.h5\")"
   ]
  },
  {
   "cell_type": "code",
   "execution_count": 34,
   "metadata": {},
   "outputs": [],
   "source": [
    "# 加载keras_model_1.h5的模型\n",
    "# model_1 = keras.models.load_model(\"keras_model.h5\")"
   ]
  },
  {
   "cell_type": "code",
   "execution_count": 35,
   "metadata": {},
   "outputs": [
    {
     "data": {
      "image/png": "[encoded data removed]",
      "text/plain": [
       "<Figure size 576x288 with 1 Axes>"
      ]
     },
     "metadata": {
      "needs_background": "light"
     },
     "output_type": "display_data"
    },
    {
     "name": "stdout",
     "output_type": "stream",
     "text": [
      "Saving figure learning_curves_1\n"
     ]
    },
    {
     "data": {
      "text/plain": [
       "<Figure size 432x288 with 0 Axes>"
      ]
     },
     "metadata": {},
     "output_type": "display_data"
    }
   ],
   "source": [
    "def loss_compared(history):\n",
    "    \"\"\"\n",
    "    画训练集、测试集中损失函数的值变化\n",
    "    \n",
    "    :param history: 神经网络的训练过程\n",
    "    \"\"\"\n",
    "\n",
    "    labels = list(history.history.keys())\n",
    "    plt.figure(figsize=(8, 4))\n",
    "    for i in labels:\n",
    "        plt.plot(history.history[i], label=i)\n",
    "    plt.legend()\n",
    "    plt.grid(True)\n",
    "    plt.show()\n",
    "\n",
    "loss_compared(history_1)   \n",
    "save_fig(\"learning_curves_1\")"
   ]
  },
  {
   "cell_type": "markdown",
   "metadata": {},
   "source": [
    "# Function API"
   ]
  },
  {
   "cell_type": "markdown",
   "metadata": {},
   "source": [
    "![wide_deep_model](./learning_images/wide_deep_model.png)"
   ]
  },
  {
   "cell_type": "code",
   "execution_count": 36,
   "metadata": {},
   "outputs": [],
   "source": [
    "# 销毁当前的 TF 图并创建一个新图,避免旧模型/网络层混乱\n",
    "tf.keras.backend.clear_session()\n",
    "tf.random.set_seed(42)"
   ]
  },
  {
   "cell_type": "code",
   "execution_count": 37,
   "metadata": {},
   "outputs": [],
   "source": [
    "from tensorflow.keras.layers import Input, Dense, concatenate\n",
    "from tensorflow.keras.models import Model\n",
    "\n",
    "# 构建输入层、隐藏层、输出层，形成 Wide&Deep neural network，具体参照上图\n",
    "input_ = Input(shape=X_train.shape[1:])\n",
    "hidden1 = Dense(30, activation=\"relu\")(input_)\n",
    "hidden2 = Dense(30, activation=\"relu\")(hidden1)\n",
    "concat = concatenate([input_, hidden2])\n",
    "output = Dense(1)(concat)\n",
    "model_2 = Model(inputs=[input_], outputs=[output])"
   ]
  },
  {
   "cell_type": "code",
   "execution_count": 38,
   "metadata": {},
   "outputs": [
    {
     "name": "stdout",
     "output_type": "stream",
     "text": [
      "Model: \"model\"\n",
      "__________________________________________________________________________________________________\n",
      "Layer (type)                    Output Shape         Param #     Connected to                     \n",
      "==================================================================================================\n",
      "input_1 (InputLayer)            [(None, 16)]         0                                            \n",
      "__________________________________________________________________________________________________\n",
      "dense (Dense)                   (None, 30)           510         input_1[0][0]                    \n",
      "__________________________________________________________________________________________________\n",
      "dense_1 (Dense)                 (None, 30)           930         dense[0][0]                      \n",
      "__________________________________________________________________________________________________\n",
      "concatenate (Concatenate)       (None, 46)           0           input_1[0][0]                    \n",
      "                                                                 dense_1[0][0]                    \n",
      "__________________________________________________________________________________________________\n",
      "dense_2 (Dense)                 (None, 1)            47          concatenate[0][0]                \n",
      "==================================================================================================\n",
      "Total params: 1,487\n",
      "Trainable params: 1,487\n",
      "Non-trainable params: 0\n",
      "__________________________________________________________________________________________________\n"
     ]
    }
   ],
   "source": [
    "# 图神经网络的各层参数信息\n",
    "model_2.summary()"
   ]
  },
  {
   "cell_type": "code",
   "execution_count": 39,
   "metadata": {},
   "outputs": [],
   "source": [
    "# 设置损失函数、优化器\n",
    "model_2.compile(loss=\"mean_squared_error\",\n",
    "              optimizer=keras.optimizers.Adam())"
   ]
  },
  {
   "cell_type": "code",
   "execution_count": 40,
   "metadata": {},
   "outputs": [],
   "source": [
    "# 保存迭代过程中，使得在验证集中损失函数值最小的模型到keras_model_2.h5中\n",
    "checkpoint_cb = keras.callbacks.ModelCheckpoint(\"keras_model_2.h5\", save_best_only=True)"
   ]
  },
  {
   "cell_type": "code",
   "execution_count": 41,
   "metadata": {},
   "outputs": [
    {
     "name": "stdout",
     "output_type": "stream",
     "text": [
      "Train on 234 samples, validate on 78 samples\n",
      "Epoch 1/30\n",
      "234/234 [==============================] - 0s 1ms/sample - loss: 7.3944 - val_loss: 8.0728\n",
      "Epoch 2/30\n",
      "234/234 [==============================] - 0s 135us/sample - loss: 4.9816 - val_loss: 5.4829\n",
      "Epoch 3/30\n",
      "234/234 [==============================] - 0s 126us/sample - loss: 3.4239 - val_loss: 3.2566\n",
      "Epoch 4/30\n",
      "234/234 [==============================] - 0s 130us/sample - loss: 2.5257 - val_loss: 2.2210\n",
      "Epoch 5/30\n",
      "234/234 [==============================] - 0s 125us/sample - loss: 1.9229 - val_loss: 1.6799\n",
      "Epoch 6/30\n",
      "234/234 [==============================] - 0s 117us/sample - loss: 1.6340 - val_loss: 1.3707\n",
      "Epoch 7/30\n",
      "234/234 [==============================] - 0s 121us/sample - loss: 1.4374 - val_loss: 1.1718\n",
      "Epoch 8/30\n",
      "234/234 [==============================] - 0s 124us/sample - loss: 1.2489 - val_loss: 1.0203\n",
      "Epoch 9/30\n",
      "234/234 [==============================] - 0s 118us/sample - loss: 1.1032 - val_loss: 0.9159\n",
      "Epoch 10/30\n",
      "234/234 [==============================] - 0s 119us/sample - loss: 1.0025 - val_loss: 0.8291\n",
      "Epoch 11/30\n",
      "234/234 [==============================] - 0s 122us/sample - loss: 0.8903 - val_loss: 0.7495\n",
      "Epoch 12/30\n",
      "234/234 [==============================] - 0s 120us/sample - loss: 0.7952 - val_loss: 0.6909\n",
      "Epoch 13/30\n",
      "234/234 [==============================] - 0s 114us/sample - loss: 0.7270 - val_loss: 0.6571\n",
      "Epoch 14/30\n",
      "234/234 [==============================] - 0s 117us/sample - loss: 0.6412 - val_loss: 0.5764\n",
      "Epoch 15/30\n",
      "234/234 [==============================] - 0s 121us/sample - loss: 0.5570 - val_loss: 0.5018\n",
      "Epoch 16/30\n",
      "234/234 [==============================] - 0s 126us/sample - loss: 0.5025 - val_loss: 0.4429\n",
      "Epoch 17/30\n",
      "234/234 [==============================] - 0s 117us/sample - loss: 0.4480 - val_loss: 0.4041\n",
      "Epoch 18/30\n",
      "234/234 [==============================] - 0s 73us/sample - loss: 0.4029 - val_loss: 0.4251\n",
      "Epoch 19/30\n",
      "234/234 [==============================] - 0s 114us/sample - loss: 0.3857 - val_loss: 0.3028\n",
      "Epoch 20/30\n",
      "234/234 [==============================] - 0s 58us/sample - loss: 0.3140 - val_loss: 0.3154\n",
      "Epoch 21/30\n",
      "234/234 [==============================] - 0s 118us/sample - loss: 0.2728 - val_loss: 0.2700\n",
      "Epoch 22/30\n",
      "234/234 [==============================] - 0s 114us/sample - loss: 0.2222 - val_loss: 0.2470\n",
      "Epoch 23/30\n",
      "234/234 [==============================] - 0s 114us/sample - loss: 0.1881 - val_loss: 0.2047\n",
      "Epoch 24/30\n",
      "234/234 [==============================] - 0s 116us/sample - loss: 0.1684 - val_loss: 0.1878\n",
      "Epoch 25/30\n",
      "234/234 [==============================] - 0s 120us/sample - loss: 0.1435 - val_loss: 0.1742\n",
      "Epoch 26/30\n",
      "234/234 [==============================] - 0s 123us/sample - loss: 0.1294 - val_loss: 0.1641\n",
      "Epoch 27/30\n",
      "234/234 [==============================] - 0s 122us/sample - loss: 0.1139 - val_loss: 0.1581\n",
      "Epoch 28/30\n",
      "234/234 [==============================] - 0s 124us/sample - loss: 0.1086 - val_loss: 0.1452\n",
      "Epoch 29/30\n",
      "234/234 [==============================] - 0s 118us/sample - loss: 0.0985 - val_loss: 0.1400\n",
      "Epoch 30/30\n",
      "234/234 [==============================] - 0s 114us/sample - loss: 0.0853 - val_loss: 0.1364\n"
     ]
    }
   ],
   "source": [
    "# 训练模型\n",
    "history_2 = model_2.fit(X_train, y_train, epochs=30,\n",
    "                        validation_data=(X_valid, y_valid),\n",
    "                        callbacks=[checkpoint_cb])"
   ]
  },
  {
   "cell_type": "code",
   "execution_count": 42,
   "metadata": {},
   "outputs": [
    {
     "data": {
      "image/png": "[encoded data removed]",
      "text/plain": [
       "<Figure size 576x288 with 1 Axes>"
      ]
     },
     "metadata": {
      "needs_background": "light"
     },
     "output_type": "display_data"
    },
    {
     "name": "stdout",
     "output_type": "stream",
     "text": [
      "Saving figure learning_curves_2\n"
     ]
    },
    {
     "data": {
      "text/plain": [
       "<Figure size 432x288 with 0 Axes>"
      ]
     },
     "metadata": {},
     "output_type": "display_data"
    }
   ],
   "source": [
    "loss_compared(history_2)\n",
    "save_fig(\"learning_curves_2\")"
   ]
  },
  {
   "cell_type": "code",
   "execution_count": 43,
   "metadata": {},
   "outputs": [
    {
     "name": "stdout",
     "output_type": "stream",
     "text": [
      "78/78 [==============================] - 0s 42us/sample - loss: 0.4907\n"
     ]
    }
   ],
   "source": [
    "# 通过测试集获得评分\n",
    "mse_test_2 = model_2.evaluate(X_test, y_test)"
   ]
  },
  {
   "cell_type": "code",
   "execution_count": 44,
   "metadata": {},
   "outputs": [
    {
     "data": {
      "text/plain": [
       "array([[ 0.59272224],\n",
       "       [ 0.06942875],\n",
       "       [ 0.10735781],\n",
       "       [ 0.70415956],\n",
       "       [-0.969413  ],\n",
       "       [ 3.9476905 ],\n",
       "       [ 0.2726577 ],\n",
       "       [-0.64795464],\n",
       "       [ 0.18293746],\n",
       "       [-0.19410197],\n",
       "       [-1.0225087 ],\n",
       "       [ 0.13434632],\n",
       "       [ 0.33934242],\n",
       "       [ 0.2503355 ],\n",
       "       [ 0.00695021],\n",
       "       [-0.91671723],\n",
       "       [ 0.2804225 ],\n",
       "       [ 0.31221515],\n",
       "       [ 0.04511005],\n",
       "       [ 0.27808028],\n",
       "       [ 0.01396639],\n",
       "       [ 0.20759566],\n",
       "       [ 0.5185793 ],\n",
       "       [ 0.12648042],\n",
       "       [ 0.24848635],\n",
       "       [-0.04847115],\n",
       "       [ 0.03234703],\n",
       "       [ 0.00786955],\n",
       "       [ 0.43364984],\n",
       "       [ 3.808925  ],\n",
       "       [ 3.855823  ],\n",
       "       [ 0.09234459],\n",
       "       [ 0.29453307],\n",
       "       [ 0.29234678],\n",
       "       [ 0.09358055],\n",
       "       [ 0.29729396],\n",
       "       [ 0.04619438],\n",
       "       [-0.10271113],\n",
       "       [-0.05588453],\n",
       "       [ 0.32183105],\n",
       "       [ 0.10414059],\n",
       "       [ 0.41704923],\n",
       "       [ 0.28871375],\n",
       "       [-0.18488424],\n",
       "       [ 0.31046993],\n",
       "       [ 0.20807774],\n",
       "       [ 0.3915475 ],\n",
       "       [ 0.1802314 ],\n",
       "       [ 0.01758701],\n",
       "       [ 0.03105957],\n",
       "       [ 0.00883753],\n",
       "       [-0.01839083],\n",
       "       [ 0.2564729 ],\n",
       "       [ 0.3244217 ],\n",
       "       [ 0.28437787],\n",
       "       [ 0.24891742],\n",
       "       [ 0.10240681],\n",
       "       [ 0.74281245],\n",
       "       [ 0.18843777],\n",
       "       [ 0.2681716 ],\n",
       "       [ 0.19803746],\n",
       "       [ 0.5108531 ],\n",
       "       [ 0.5186594 ],\n",
       "       [ 0.14540513],\n",
       "       [ 0.488097  ],\n",
       "       [ 0.12439568],\n",
       "       [ 0.28868705],\n",
       "       [ 0.39136916],\n",
       "       [-0.39476365],\n",
       "       [ 0.02111179],\n",
       "       [ 0.22998555],\n",
       "       [ 0.9180129 ],\n",
       "       [ 0.17361768],\n",
       "       [ 0.6377128 ],\n",
       "       [ 0.08341915],\n",
       "       [ 0.4680186 ],\n",
       "       [ 0.13979085],\n",
       "       [ 0.5737098 ]], dtype=float32)"
      ]
     },
     "execution_count": 44,
     "metadata": {},
     "output_type": "execute_result"
    }
   ],
   "source": [
    "# 模型对测试集的预测值\n",
    "y_pred_2 = model_2.predict(X_test)\n",
    "y_pred_2"
   ]
  },
  {
   "cell_type": "code",
   "execution_count": 45,
   "metadata": {},
   "outputs": [],
   "source": [
    "# 从keras_model_2.h5中加载迭代过程中使得损失函数最小的模型\n",
    "model_2_best = keras.models.load_model(\"keras_model_2.h5\")"
   ]
  },
  {
   "cell_type": "code",
   "execution_count": 46,
   "metadata": {},
   "outputs": [
    {
     "name": "stdout",
     "output_type": "stream",
     "text": [
      "78/78 [==============================] - 0s 611us/sample - loss: 0.4907\n"
     ]
    }
   ],
   "source": [
    "mse_test_best = model_2_best.evaluate(X_test, y_test)"
   ]
  },
  {
   "cell_type": "markdown",
   "metadata": {},
   "source": [
    "![overlapping_feature](./learning_images/overlapping_feature.png)"
   ]
  },
  {
   "cell_type": "code",
   "execution_count": 47,
   "metadata": {},
   "outputs": [],
   "source": [
    "# 销毁当前的 TF 图并创建一个新图,避免旧模型/网络层混乱\n",
    "tf.keras.backend.clear_session()\n",
    "tf.random.set_seed(42)"
   ]
  },
  {
   "cell_type": "code",
   "execution_count": 48,
   "metadata": {},
   "outputs": [],
   "source": [
    "# 构建两个输入层，建立二输入的神经网络，具体参照上图\n",
    "input_A = Input(shape=[8], name=\"wide_input\")\n",
    "input_B = Input(shape=[12], name=\"deep_input\")\n",
    "hidden1 = Dense(30, activation=\"relu\")(input_B)\n",
    "hidden2 = Dense(30, activation=\"relu\")(hidden1)\n",
    "concat = concatenate([input_A, hidden2])\n",
    "output = Dense(1, name=\"output\")(concat)\n",
    "model_3 = Model(inputs=[input_A, input_B], outputs=[output])"
   ]
  },
  {
   "cell_type": "code",
   "execution_count": 49,
   "metadata": {},
   "outputs": [],
   "source": [
    "# 设定模型的损失函数和优化器\n",
    "model_3.compile(loss=\"mse\", optimizer=\"adam\")"
   ]
  },
  {
   "cell_type": "code",
   "execution_count": 50,
   "metadata": {},
   "outputs": [],
   "source": [
    "# 保存迭代过程中，使得在验证集中损失函数值最小的模型到keras_model_3.h5中\n",
    "checkpoint_cb = keras.callbacks.ModelCheckpoint(\"keras_model_3.h5\", save_best_only=True)"
   ]
  },
  {
   "cell_type": "code",
   "execution_count": 51,
   "metadata": {},
   "outputs": [],
   "source": [
    "# 使用早期停止法，防止过拟合\n",
    "early_stopping_cb = keras.callbacks.EarlyStopping(patience=5,\n",
    "                                                  restore_best_weights=True)"
   ]
  },
  {
   "cell_type": "code",
   "execution_count": 52,
   "metadata": {},
   "outputs": [],
   "source": [
    "# 将训练集、测试集、验证集的特征值分成两类\n",
    "X_train_A, X_train_B = X_train.iloc[:, :8], X_train.iloc[:, 4:]\n",
    "X_valid_A, X_valid_B = X_valid.iloc[:, :8], X_valid.iloc[:, 4:]\n",
    "X_test_A, X_test_B = X_test.iloc[:, :8], X_test.iloc[:, 4:]"
   ]
  },
  {
   "cell_type": "code",
   "execution_count": 53,
   "metadata": {},
   "outputs": [
    {
     "name": "stdout",
     "output_type": "stream",
     "text": [
      "Train on 234 samples, validate on 78 samples\n",
      "Epoch 1/100\n",
      "234/234 [==============================] - 0s 1ms/sample - loss: 11.3646 - val_loss: 9.7947\n",
      "Epoch 2/100\n",
      "234/234 [==============================] - 0s 141us/sample - loss: 6.2702 - val_loss: 6.8161\n",
      "Epoch 3/100\n",
      "234/234 [==============================] - 0s 148us/sample - loss: 4.1654 - val_loss: 4.6024\n",
      "Epoch 4/100\n",
      "234/234 [==============================] - 0s 134us/sample - loss: 3.3378 - val_loss: 3.3900\n",
      "Epoch 5/100\n",
      "234/234 [==============================] - 0s 132us/sample - loss: 2.4722 - val_loss: 2.7240\n",
      "Epoch 6/100\n",
      "234/234 [==============================] - 0s 127us/sample - loss: 2.1272 - val_loss: 2.2626\n",
      "Epoch 7/100\n",
      "234/234 [==============================] - 0s 128us/sample - loss: 1.8733 - val_loss: 1.9998\n",
      "Epoch 8/100\n",
      "234/234 [==============================] - 0s 138us/sample - loss: 1.7143 - val_loss: 1.8068\n",
      "Epoch 9/100\n",
      "234/234 [==============================] - 0s 133us/sample - loss: 1.6028 - val_loss: 1.6698\n",
      "Epoch 10/100\n",
      "234/234 [==============================] - 0s 121us/sample - loss: 1.5297 - val_loss: 1.5761\n",
      "Epoch 11/100\n",
      "234/234 [==============================] - 0s 118us/sample - loss: 1.4725 - val_loss: 1.4917\n",
      "Epoch 12/100\n",
      "234/234 [==============================] - 0s 130us/sample - loss: 1.3865 - val_loss: 1.4302\n",
      "Epoch 13/100\n",
      "234/234 [==============================] - 0s 131us/sample - loss: 1.3726 - val_loss: 1.4022\n",
      "Epoch 14/100\n",
      "234/234 [==============================] - 0s 121us/sample - loss: 1.3029 - val_loss: 1.3404\n",
      "Epoch 15/100\n",
      "234/234 [==============================] - 0s 120us/sample - loss: 1.2596 - val_loss: 1.2915\n",
      "Epoch 16/100\n",
      "234/234 [==============================] - 0s 120us/sample - loss: 1.2075 - val_loss: 1.2613\n",
      "Epoch 17/100\n",
      "234/234 [==============================] - 0s 119us/sample - loss: 1.1773 - val_loss: 1.2218\n",
      "Epoch 18/100\n",
      "234/234 [==============================] - 0s 118us/sample - loss: 1.1825 - val_loss: 1.2045\n",
      "Epoch 19/100\n",
      "234/234 [==============================] - 0s 127us/sample - loss: 1.1451 - val_loss: 1.1630\n",
      "Epoch 20/100\n",
      "234/234 [==============================] - 0s 127us/sample - loss: 1.0583 - val_loss: 1.1317\n",
      "Epoch 21/100\n",
      "234/234 [==============================] - 0s 126us/sample - loss: 1.0319 - val_loss: 1.1002\n",
      "Epoch 22/100\n",
      "234/234 [==============================] - 0s 124us/sample - loss: 1.0126 - val_loss: 1.0729\n",
      "Epoch 23/100\n",
      "234/234 [==============================] - 0s 130us/sample - loss: 0.9709 - val_loss: 1.0469\n",
      "Epoch 24/100\n",
      "234/234 [==============================] - 0s 126us/sample - loss: 0.9364 - val_loss: 1.0144\n",
      "Epoch 25/100\n",
      "234/234 [==============================] - 0s 124us/sample - loss: 0.9092 - val_loss: 0.9773\n",
      "Epoch 26/100\n",
      "234/234 [==============================] - 0s 121us/sample - loss: 0.8886 - val_loss: 0.9433\n",
      "Epoch 27/100\n",
      "234/234 [==============================] - 0s 118us/sample - loss: 0.8612 - val_loss: 0.9360\n",
      "Epoch 28/100\n",
      "234/234 [==============================] - 0s 132us/sample - loss: 0.8551 - val_loss: 0.9023\n",
      "Epoch 29/100\n",
      "234/234 [==============================] - 0s 127us/sample - loss: 0.8132 - val_loss: 0.8789\n",
      "Epoch 30/100\n",
      "234/234 [==============================] - 0s 123us/sample - loss: 0.7743 - val_loss: 0.8666\n",
      "Epoch 31/100\n",
      "234/234 [==============================] - 0s 131us/sample - loss: 0.7592 - val_loss: 0.8322\n",
      "Epoch 32/100\n",
      "234/234 [==============================] - 0s 123us/sample - loss: 0.7520 - val_loss: 0.8006\n",
      "Epoch 33/100\n",
      "234/234 [==============================] - 0s 128us/sample - loss: 0.7534 - val_loss: 0.7896\n",
      "Epoch 34/100\n",
      "234/234 [==============================] - 0s 123us/sample - loss: 0.6908 - val_loss: 0.7558\n",
      "Epoch 35/100\n",
      "234/234 [==============================] - 0s 65us/sample - loss: 0.6901 - val_loss: 0.7626\n",
      "Epoch 36/100\n",
      "234/234 [==============================] - 0s 125us/sample - loss: 0.6551 - val_loss: 0.7288\n",
      "Epoch 37/100\n",
      "234/234 [==============================] - 0s 121us/sample - loss: 0.6456 - val_loss: 0.7069\n",
      "Epoch 38/100\n",
      "234/234 [==============================] - 0s 123us/sample - loss: 0.6151 - val_loss: 0.6851\n",
      "Epoch 39/100\n",
      "234/234 [==============================] - 0s 122us/sample - loss: 0.6012 - val_loss: 0.6776\n",
      "Epoch 40/100\n",
      "234/234 [==============================] - 0s 121us/sample - loss: 0.5952 - val_loss: 0.6669\n",
      "Epoch 41/100\n",
      "234/234 [==============================] - 0s 115us/sample - loss: 0.5901 - val_loss: 0.6456\n",
      "Epoch 42/100\n",
      "234/234 [==============================] - 0s 122us/sample - loss: 0.5614 - val_loss: 0.6325\n",
      "Epoch 43/100\n",
      "234/234 [==============================] - 0s 119us/sample - loss: 0.5495 - val_loss: 0.6231\n",
      "Epoch 44/100\n",
      "234/234 [==============================] - 0s 121us/sample - loss: 0.5443 - val_loss: 0.6217\n",
      "Epoch 45/100\n",
      "234/234 [==============================] - 0s 116us/sample - loss: 0.5594 - val_loss: 0.6029\n",
      "Epoch 46/100\n",
      "234/234 [==============================] - ETA: 0s - loss: 0.568 - 0s 125us/sample - loss: 0.5217 - val_loss: 0.5858\n",
      "Epoch 47/100\n",
      "234/234 [==============================] - 0s 124us/sample - loss: 0.5018 - val_loss: 0.5840\n",
      "Epoch 48/100\n",
      "234/234 [==============================] - 0s 127us/sample - loss: 0.4823 - val_loss: 0.5734\n",
      "Epoch 49/100\n",
      "234/234 [==============================] - 0s 122us/sample - loss: 0.4823 - val_loss: 0.5733\n",
      "Epoch 50/100\n",
      "234/234 [==============================] - 0s 125us/sample - loss: 0.4559 - val_loss: 0.5378\n",
      "Epoch 51/100\n",
      "234/234 [==============================] - 0s 123us/sample - loss: 0.4447 - val_loss: 0.5338\n",
      "Epoch 52/100\n",
      "234/234 [==============================] - 0s 123us/sample - loss: 0.4415 - val_loss: 0.5146\n",
      "Epoch 53/100\n",
      "234/234 [==============================] - 0s 116us/sample - loss: 0.4288 - val_loss: 0.5099\n",
      "Epoch 54/100\n",
      "234/234 [==============================] - 0s 123us/sample - loss: 0.4365 - val_loss: 0.5007\n",
      "Epoch 55/100\n",
      "234/234 [==============================] - 0s 121us/sample - loss: 0.4050 - val_loss: 0.4822\n",
      "Epoch 56/100\n",
      "234/234 [==============================] - 0s 120us/sample - loss: 0.3923 - val_loss: 0.4725\n",
      "Epoch 57/100\n",
      "234/234 [==============================] - 0s 116us/sample - loss: 0.3837 - val_loss: 0.4689\n",
      "Epoch 58/100\n",
      "234/234 [==============================] - 0s 121us/sample - loss: 0.3740 - val_loss: 0.4610\n",
      "Epoch 59/100\n",
      "234/234 [==============================] - 0s 120us/sample - loss: 0.3722 - val_loss: 0.4516\n",
      "Epoch 60/100\n",
      "234/234 [==============================] - 0s 126us/sample - loss: 0.3587 - val_loss: 0.4394\n",
      "Epoch 61/100\n",
      "234/234 [==============================] - 0s 119us/sample - loss: 0.3525 - val_loss: 0.4319\n",
      "Epoch 62/100\n",
      "234/234 [==============================] - 0s 61us/sample - loss: 0.3475 - val_loss: 0.4413\n",
      "Epoch 63/100\n",
      "234/234 [==============================] - 0s 116us/sample - loss: 0.3398 - val_loss: 0.4262\n",
      "Epoch 64/100\n",
      "234/234 [==============================] - 0s 122us/sample - loss: 0.3333 - val_loss: 0.4202\n",
      "Epoch 65/100\n",
      "234/234 [==============================] - 0s 69us/sample - loss: 0.3325 - val_loss: 0.4279\n",
      "Epoch 66/100\n",
      "234/234 [==============================] - 0s 66us/sample - loss: 0.3219 - val_loss: 0.4313\n",
      "Epoch 67/100\n",
      "234/234 [==============================] - 0s 138us/sample - loss: 0.3307 - val_loss: 0.4133\n",
      "Epoch 68/100\n",
      "234/234 [==============================] - 0s 120us/sample - loss: 0.3130 - val_loss: 0.3868\n",
      "Epoch 69/100\n",
      "234/234 [==============================] - 0s 121us/sample - loss: 0.3028 - val_loss: 0.3807\n",
      "Epoch 70/100\n",
      "234/234 [==============================] - 0s 123us/sample - loss: 0.2979 - val_loss: 0.3783\n",
      "Epoch 71/100\n",
      "234/234 [==============================] - 0s 59us/sample - loss: 0.2932 - val_loss: 0.3805\n",
      "Epoch 72/100\n",
      "234/234 [==============================] - 0s 59us/sample - loss: 0.3050 - val_loss: 0.4023\n",
      "Epoch 73/100\n",
      "234/234 [==============================] - 0s 62us/sample - loss: 0.2998 - val_loss: 0.3844\n",
      "Epoch 74/100\n",
      "234/234 [==============================] - 0s 60us/sample - loss: 0.2848 - val_loss: 0.3795\n",
      "Epoch 75/100\n",
      "234/234 [==============================] - 0s 116us/sample - loss: 0.2766 - val_loss: 0.3574\n",
      "Epoch 76/100\n",
      "234/234 [==============================] - 0s 130us/sample - loss: 0.2710 - val_loss: 0.3531\n",
      "Epoch 77/100\n",
      "234/234 [==============================] - 0s 65us/sample - loss: 0.2678 - val_loss: 0.3561\n"
     ]
    },
    {
     "name": "stdout",
     "output_type": "stream",
     "text": [
      "Epoch 78/100\n",
      "234/234 [==============================] - 0s 118us/sample - loss: 0.2627 - val_loss: 0.3488\n",
      "Epoch 79/100\n",
      "234/234 [==============================] - 0s 119us/sample - loss: 0.2535 - val_loss: 0.3316\n",
      "Epoch 80/100\n",
      "234/234 [==============================] - 0s 70us/sample - loss: 0.2585 - val_loss: 0.3345\n",
      "Epoch 81/100\n",
      "234/234 [==============================] - 0s 61us/sample - loss: 0.2551 - val_loss: 0.3451\n",
      "Epoch 82/100\n",
      "234/234 [==============================] - 0s 117us/sample - loss: 0.2505 - val_loss: 0.3194\n",
      "Epoch 83/100\n",
      "234/234 [==============================] - 0s 66us/sample - loss: 0.2464 - val_loss: 0.3231\n",
      "Epoch 84/100\n",
      "234/234 [==============================] - 0s 59us/sample - loss: 0.2549 - val_loss: 0.3655\n",
      "Epoch 85/100\n",
      "234/234 [==============================] - 0s 114us/sample - loss: 0.2571 - val_loss: 0.3100\n",
      "Epoch 86/100\n",
      "234/234 [==============================] - 0s 129us/sample - loss: 0.2323 - val_loss: 0.3056\n",
      "Epoch 87/100\n",
      "234/234 [==============================] - 0s 69us/sample - loss: 0.2300 - val_loss: 0.3278\n",
      "Epoch 88/100\n",
      "234/234 [==============================] - 0s 115us/sample - loss: 0.2405 - val_loss: 0.3029\n",
      "Epoch 89/100\n",
      "234/234 [==============================] - 0s 120us/sample - loss: 0.2282 - val_loss: 0.2940\n",
      "Epoch 90/100\n",
      "234/234 [==============================] - 0s 120us/sample - loss: 0.2136 - val_loss: 0.2902\n",
      "Epoch 91/100\n",
      "234/234 [==============================] - 0s 68us/sample - loss: 0.2183 - val_loss: 0.3084\n",
      "Epoch 92/100\n",
      "234/234 [==============================] - 0s 126us/sample - loss: 0.2171 - val_loss: 0.2781\n",
      "Epoch 93/100\n",
      "234/234 [==============================] - 0s 127us/sample - loss: 0.2079 - val_loss: 0.2769\n",
      "Epoch 94/100\n",
      "234/234 [==============================] - 0s 67us/sample - loss: 0.2037 - val_loss: 0.2842\n",
      "Epoch 95/100\n",
      "234/234 [==============================] - 0s 117us/sample - loss: 0.2038 - val_loss: 0.2655\n",
      "Epoch 96/100\n",
      "234/234 [==============================] - 0s 131us/sample - loss: 0.1959 - val_loss: 0.2640\n",
      "Epoch 97/100\n",
      "234/234 [==============================] - 0s 60us/sample - loss: 0.1936 - val_loss: 0.2692\n",
      "Epoch 98/100\n",
      "234/234 [==============================] - 0s 62us/sample - loss: 0.1973 - val_loss: 0.2780\n",
      "Epoch 99/100\n",
      "234/234 [==============================] - 0s 60us/sample - loss: 0.2050 - val_loss: 0.2965\n",
      "Epoch 100/100\n",
      "234/234 [==============================] - 0s 62us/sample - loss: 0.2156 - val_loss: 0.2734\n"
     ]
    }
   ],
   "source": [
    "history_3 = model_3.fit((X_train_A, X_train_B), y_train, epochs=100,\n",
    "                         validation_data=((X_valid_A, X_valid_B), y_valid),\n",
    "                         callbacks=[checkpoint_cb, early_stopping_cb])"
   ]
  },
  {
   "cell_type": "code",
   "execution_count": 54,
   "metadata": {},
   "outputs": [
    {
     "data": {
      "image/png": "[encoded data removed]",
      "text/plain": [
       "<Figure size 576x288 with 1 Axes>"
      ]
     },
     "metadata": {
      "needs_background": "light"
     },
     "output_type": "display_data"
    },
    {
     "name": "stdout",
     "output_type": "stream",
     "text": [
      "Saving figure learning_curves_3\n"
     ]
    },
    {
     "data": {
      "text/plain": [
       "<Figure size 432x288 with 0 Axes>"
      ]
     },
     "metadata": {},
     "output_type": "display_data"
    }
   ],
   "source": [
    "loss_compared(history_3)\n",
    "save_fig(\"learning_curves_3\")"
   ]
  },
  {
   "cell_type": "code",
   "execution_count": 55,
   "metadata": {},
   "outputs": [
    {
     "name": "stdout",
     "output_type": "stream",
     "text": [
      "78/78 [==============================] - 0s 45us/sample - loss: 1.2652\n"
     ]
    }
   ],
   "source": [
    "# 使用验证集获取模型的评分\n",
    "mse_test_3 = model_3.evaluate((X_test_A, X_test_B), y_test)"
   ]
  },
  {
   "cell_type": "code",
   "execution_count": 56,
   "metadata": {},
   "outputs": [
    {
     "data": {
      "text/plain": [
       "array([[ 7.86605895e-01],\n",
       "       [ 6.60687506e-01],\n",
       "       [ 7.16984332e-01],\n",
       "       [ 1.35244989e+00],\n",
       "       [-5.37898004e-01],\n",
       "       [ 6.02543926e+00],\n",
       "       [-2.08355606e-01],\n",
       "       [ 1.25124991e-01],\n",
       "       [ 1.76506579e-01],\n",
       "       [ 5.32665849e-02],\n",
       "       [-5.92121542e-01],\n",
       "       [-2.28107870e-01],\n",
       "       [ 1.16742194e-01],\n",
       "       [-3.93556952e-02],\n",
       "       [-6.62018239e-01],\n",
       "       [ 3.42064500e-02],\n",
       "       [ 4.68741059e-02],\n",
       "       [-3.41390967e-02],\n",
       "       [ 7.59511590e-02],\n",
       "       [ 1.28910637e+00],\n",
       "       [-2.01806808e+00],\n",
       "       [-8.35265517e-02],\n",
       "       [ 1.08695567e-01],\n",
       "       [-1.47909582e-01],\n",
       "       [-1.47100389e-01],\n",
       "       [-1.53105199e-01],\n",
       "       [ 1.63096011e-01],\n",
       "       [-2.53138959e-01],\n",
       "       [ 3.01672041e-01],\n",
       "       [ 5.48971653e+00],\n",
       "       [ 5.76623154e+00],\n",
       "       [ 3.79818022e-01],\n",
       "       [ 2.49445975e-01],\n",
       "       [ 1.35535777e-01],\n",
       "       [ 1.24793630e-02],\n",
       "       [ 2.20202982e-01],\n",
       "       [ 3.49274695e-01],\n",
       "       [-6.89802766e-02],\n",
       "       [-3.99922788e-01],\n",
       "       [-6.93659186e-02],\n",
       "       [ 2.59967428e-02],\n",
       "       [ 9.61137354e-01],\n",
       "       [ 6.45027757e-02],\n",
       "       [-5.93537278e-03],\n",
       "       [ 6.17893755e-01],\n",
       "       [-8.64800811e-02],\n",
       "       [ 1.04721606e-01],\n",
       "       [ 4.19642031e-01],\n",
       "       [ 1.79267507e-02],\n",
       "       [ 1.27080977e-01],\n",
       "       [ 2.91784704e-01],\n",
       "       [ 1.56555235e-01],\n",
       "       [ 2.80882418e-01],\n",
       "       [ 1.48785555e+00],\n",
       "       [ 8.03407967e-01],\n",
       "       [-1.19839132e-01],\n",
       "       [-1.15400255e-01],\n",
       "       [ 4.20970976e-01],\n",
       "       [ 2.84664214e-01],\n",
       "       [ 3.40009272e-01],\n",
       "       [-1.23423040e-01],\n",
       "       [ 4.62966025e-01],\n",
       "       [ 3.97692740e-01],\n",
       "       [ 2.75407415e-02],\n",
       "       [-2.74416823e-02],\n",
       "       [ 3.67027335e-03],\n",
       "       [-3.86544645e-01],\n",
       "       [ 6.61099970e-01],\n",
       "       [-2.74683177e-01],\n",
       "       [ 6.13207400e-01],\n",
       "       [-2.60903258e-02],\n",
       "       [ 3.80065584e+00],\n",
       "       [-4.57190871e-02],\n",
       "       [ 9.72492754e-01],\n",
       "       [-1.15743113e+00],\n",
       "       [-1.57587707e-01],\n",
       "       [-4.04686332e-02],\n",
       "       [ 2.44724333e-01]], dtype=float32)"
      ]
     },
     "execution_count": 56,
     "metadata": {},
     "output_type": "execute_result"
    }
   ],
   "source": [
    "# 用模型来预测测试集的数据\n",
    "y_pred_3 = model_3.predict((X_test_A, X_test_B))\n",
    "y_pred_3"
   ]
  },
  {
   "cell_type": "markdown",
   "metadata": {},
   "source": [
    "![regularization](./learning_images/regularization.png)"
   ]
  },
  {
   "cell_type": "code",
   "execution_count": 57,
   "metadata": {},
   "outputs": [],
   "source": [
    "np.random.seed(42)\n",
    "tf.random.set_seed(42)"
   ]
  },
  {
   "cell_type": "code",
   "execution_count": 58,
   "metadata": {},
   "outputs": [],
   "source": [
    "# 构建两个输入层，两个输出层，建立正则化的Wide & Deep neural network \n",
    "input_A = Input(shape=[8], name=\"wide_input\")\n",
    "input_B = Input(shape=[12], name=\"deep_input\")\n",
    "hidden1 = Dense(30, activation=\"relu\")(input_B)\n",
    "hidden2 = Dense(30, activation=\"relu\")(hidden1)\n",
    "concat = concatenate([input_A, hidden2])\n",
    "output = Dense(1, name=\"main_output\")(concat)\n",
    "aux_output = Dense(1, name=\"aux_output\")(hidden2)\n",
    "model_4 = Model(inputs=[input_A, input_B],\n",
    "              outputs=[output, aux_output])"
   ]
  },
  {
   "cell_type": "code",
   "execution_count": 59,
   "metadata": {},
   "outputs": [],
   "source": [
    "# 构建模型的损失函数，优化器，各输出层权重\n",
    "model_4.compile(loss=[\"mse\", \"mse\"], loss_weights=[0.9, 0.1],\n",
    "              optimizer=\"adam\")"
   ]
  },
  {
   "cell_type": "code",
   "execution_count": 60,
   "metadata": {},
   "outputs": [
    {
     "name": "stdout",
     "output_type": "stream",
     "text": [
      "Train on 234 samples, validate on 78 samples\n",
      "Epoch 1/30\n",
      "234/234 [==============================] - 0s 2ms/sample - loss: 11.6969 - main_output_loss: 11.1148 - aux_output_loss: 14.5265 - val_loss: 9.9158 - val_main_output_loss: 9.7994 - val_aux_output_loss: 10.9369\n",
      "Epoch 2/30\n",
      "234/234 [==============================] - 0s 83us/sample - loss: 6.6429 - main_output_loss: 5.9180 - aux_output_loss: 10.3113 - val_loss: 6.7206 - val_main_output_loss: 6.8274 - val_aux_output_loss: 6.4030\n",
      "Epoch 3/30\n",
      "234/234 [==============================] - 0s 87us/sample - loss: 4.2764 - main_output_loss: 4.1090 - aux_output_loss: 5.4186 - val_loss: 4.4177 - val_main_output_loss: 4.7143 - val_aux_output_loss: 2.5836\n",
      "Epoch 4/30\n",
      "234/234 [==============================] - 0s 88us/sample - loss: 3.2467 - main_output_loss: 3.6503 - aux_output_loss: 2.0303 - val_loss: 3.1682 - val_main_output_loss: 3.4829 - val_aux_output_loss: 0.9584\n",
      "Epoch 5/30\n",
      "234/234 [==============================] - 0s 100us/sample - loss: 2.3534 - main_output_loss: 2.5581 - aux_output_loss: 0.9344 - val_loss: 2.5142 - val_main_output_loss: 2.7358 - val_aux_output_loss: 0.5125\n",
      "Epoch 6/30\n",
      "234/234 [==============================] - 0s 78us/sample - loss: 2.0040 - main_output_loss: 3.0554 - aux_output_loss: 0.5354 - val_loss: 2.0659 - val_main_output_loss: 2.2427 - val_aux_output_loss: 0.4300\n",
      "Epoch 7/30\n",
      "234/234 [==============================] - 0s 78us/sample - loss: 1.7545 - main_output_loss: 1.9486 - aux_output_loss: 0.3683 - val_loss: 1.8345 - val_main_output_loss: 1.9383 - val_aux_output_loss: 0.4252\n",
      "Epoch 8/30\n",
      "234/234 [==============================] - 0s 77us/sample - loss: 1.6069 - main_output_loss: 1.6464 - aux_output_loss: 0.3487 - val_loss: 1.6612 - val_main_output_loss: 1.7358 - val_aux_output_loss: 0.3715\n",
      "Epoch 9/30\n",
      "234/234 [==============================] - 0s 78us/sample - loss: 1.4958 - main_output_loss: 1.7444 - aux_output_loss: 0.2856 - val_loss: 1.5318 - val_main_output_loss: 1.5744 - val_aux_output_loss: 0.2943\n",
      "Epoch 10/30\n",
      "234/234 [==============================] - 0s 75us/sample - loss: 1.4240 - main_output_loss: 1.8812 - aux_output_loss: 0.2298 - val_loss: 1.4398 - val_main_output_loss: 1.4906 - val_aux_output_loss: 0.2596\n",
      "Epoch 11/30\n",
      "234/234 [==============================] - 0s 77us/sample - loss: 1.3632 - main_output_loss: 1.4193 - aux_output_loss: 0.2219 - val_loss: 1.3573 - val_main_output_loss: 1.4045 - val_aux_output_loss: 0.2372\n",
      "Epoch 12/30\n",
      "234/234 [==============================] - 0s 82us/sample - loss: 1.2806 - main_output_loss: 1.6953 - aux_output_loss: 0.1805 - val_loss: 1.2944 - val_main_output_loss: 1.3402 - val_aux_output_loss: 0.2242\n",
      "Epoch 13/30\n",
      "234/234 [==============================] - 0s 79us/sample - loss: 1.2696 - main_output_loss: 1.3700 - aux_output_loss: 0.1807 - val_loss: 1.2653 - val_main_output_loss: 1.3246 - val_aux_output_loss: 0.2105\n",
      "Epoch 14/30\n",
      "234/234 [==============================] - 0s 68us/sample - loss: 1.2004 - main_output_loss: 1.3162 - aux_output_loss: 0.1612 - val_loss: 1.2085 - val_main_output_loss: 1.2493 - val_aux_output_loss: 0.2052\n",
      "Epoch 15/30\n",
      "234/234 [==============================] - 0s 72us/sample - loss: 1.1571 - main_output_loss: 1.2056 - aux_output_loss: 0.1487 - val_loss: 1.1646 - val_main_output_loss: 1.1986 - val_aux_output_loss: 0.1960\n",
      "Epoch 16/30\n",
      "234/234 [==============================] - 0s 72us/sample - loss: 1.1114 - main_output_loss: 1.2012 - aux_output_loss: 0.1390 - val_loss: 1.1295 - val_main_output_loss: 1.1738 - val_aux_output_loss: 0.1831\n",
      "Epoch 17/30\n",
      "234/234 [==============================] - 0s 71us/sample - loss: 1.0840 - main_output_loss: 1.3874 - aux_output_loss: 0.1429 - val_loss: 1.0949 - val_main_output_loss: 1.1247 - val_aux_output_loss: 0.1707\n",
      "Epoch 18/30\n",
      "234/234 [==============================] - 0s 76us/sample - loss: 1.0905 - main_output_loss: 1.1332 - aux_output_loss: 0.1181 - val_loss: 1.0772 - val_main_output_loss: 1.1238 - val_aux_output_loss: 0.1560\n",
      "Epoch 19/30\n",
      "234/234 [==============================] - 0s 75us/sample - loss: 1.0469 - main_output_loss: 1.1169 - aux_output_loss: 0.1298 - val_loss: 1.0428 - val_main_output_loss: 1.0866 - val_aux_output_loss: 0.1479\n",
      "Epoch 20/30\n",
      "234/234 [==============================] - 0s 84us/sample - loss: 0.9692 - main_output_loss: 1.0750 - aux_output_loss: 0.1099 - val_loss: 1.0177 - val_main_output_loss: 1.0444 - val_aux_output_loss: 0.1416\n",
      "Epoch 21/30\n",
      "234/234 [==============================] - 0s 75us/sample - loss: 0.9508 - main_output_loss: 1.0390 - aux_output_loss: 0.0997 - val_loss: 0.9874 - val_main_output_loss: 1.0186 - val_aux_output_loss: 0.1346\n",
      "Epoch 22/30\n",
      "234/234 [==============================] - 0s 77us/sample - loss: 0.9268 - main_output_loss: 0.9628 - aux_output_loss: 0.0970 - val_loss: 0.9635 - val_main_output_loss: 0.9883 - val_aux_output_loss: 0.1295\n",
      "Epoch 23/30\n",
      "234/234 [==============================] - 0s 77us/sample - loss: 0.8905 - main_output_loss: 0.9341 - aux_output_loss: 0.1062 - val_loss: 0.9423 - val_main_output_loss: 0.9665 - val_aux_output_loss: 0.1252\n",
      "Epoch 24/30\n",
      "234/234 [==============================] - 0s 73us/sample - loss: 0.8607 - main_output_loss: 0.9208 - aux_output_loss: 0.1028 - val_loss: 0.9151 - val_main_output_loss: 0.9348 - val_aux_output_loss: 0.1186\n",
      "Epoch 25/30\n",
      "234/234 [==============================] - 0s 76us/sample - loss: 0.8373 - main_output_loss: 0.9096 - aux_output_loss: 0.1003 - val_loss: 0.8872 - val_main_output_loss: 0.9031 - val_aux_output_loss: 0.1131\n",
      "Epoch 26/30\n",
      "234/234 [==============================] - 0s 76us/sample - loss: 0.8173 - main_output_loss: 0.8398 - aux_output_loss: 0.0864 - val_loss: 0.8659 - val_main_output_loss: 0.8628 - val_aux_output_loss: 0.1063\n",
      "Epoch 27/30\n",
      "234/234 [==============================] - 0s 77us/sample - loss: 0.7924 - main_output_loss: 0.8741 - aux_output_loss: 0.0913 - val_loss: 0.8529 - val_main_output_loss: 0.8689 - val_aux_output_loss: 0.1006\n",
      "Epoch 28/30\n",
      "234/234 [==============================] - 0s 79us/sample - loss: 0.7884 - main_output_loss: 0.8273 - aux_output_loss: 0.0846 - val_loss: 0.8309 - val_main_output_loss: 0.8336 - val_aux_output_loss: 0.0932\n",
      "Epoch 29/30\n",
      "234/234 [==============================] - 0s 82us/sample - loss: 0.7553 - main_output_loss: 0.9530 - aux_output_loss: 0.0796 - val_loss: 0.8121 - val_main_output_loss: 0.8173 - val_aux_output_loss: 0.0903\n",
      "Epoch 30/30\n",
      "234/234 [==============================] - 0s 71us/sample - loss: 0.7174 - main_output_loss: 0.8145 - aux_output_loss: 0.0744 - val_loss: 0.7982 - val_main_output_loss: 0.8175 - val_aux_output_loss: 0.0871\n"
     ]
    }
   ],
   "source": [
    "# 训练模型\n",
    "history_4 = model_4.fit([X_train_A, X_train_B], [y_train, y_train], epochs=30,\n",
    "                    validation_data=([X_valid_A, X_valid_B], [y_valid, y_valid]))"
   ]
  },
  {
   "cell_type": "code",
   "execution_count": 61,
   "metadata": {},
   "outputs": [
    {
     "name": "stdout",
     "output_type": "stream",
     "text": [
      "78/78 [==============================] - 0s 62us/sample - loss: 1.1894 - main_output_loss: 1.2248 - aux_output_loss: 0.1189\n"
     ]
    }
   ],
   "source": [
    "# 获取整个神经网络的损失函数值及单个输出层的损失函数值\n",
    "total_loss, main_loss, aux_loss = model_4.evaluate([X_test_A, X_test_B], [y_test, y_test])"
   ]
  },
  {
   "cell_type": "code",
   "execution_count": 62,
   "metadata": {},
   "outputs": [
    {
     "data": {
      "image/png": "[encoded data removed]",
      "text/plain": [
       "<Figure size 576x288 with 1 Axes>"
      ]
     },
     "metadata": {
      "needs_background": "light"
     },
     "output_type": "display_data"
    },
    {
     "name": "stdout",
     "output_type": "stream",
     "text": [
      "Saving figure learning_curves_4\n"
     ]
    },
    {
     "data": {
      "text/plain": [
       "<Figure size 432x288 with 0 Axes>"
      ]
     },
     "metadata": {},
     "output_type": "display_data"
    }
   ],
   "source": [
    "loss_compared(history_4)\n",
    "save_fig(\"learning_curves_4\")"
   ]
  },
  {
   "cell_type": "code",
   "execution_count": 63,
   "metadata": {},
   "outputs": [
    {
     "data": {
      "text/plain": [
       "(array([[ 1.9228879 ],\n",
       "        [ 1.3452479 ],\n",
       "        [ 0.08091839],\n",
       "        [ 3.5672166 ],\n",
       "        [-1.2711343 ],\n",
       "        [ 4.5210104 ],\n",
       "        [-0.42315236],\n",
       "        [-0.67841953],\n",
       "        [-0.15144625],\n",
       "        [ 0.64177424],\n",
       "        [-1.2369097 ],\n",
       "        [-0.25679007],\n",
       "        [-0.0306019 ],\n",
       "        [ 0.0188342 ],\n",
       "        [-0.62952083],\n",
       "        [-0.5928659 ],\n",
       "        [-0.11991874],\n",
       "        [-0.02359954],\n",
       "        [ 0.632114  ],\n",
       "        [ 2.1291862 ],\n",
       "        [-3.0846317 ],\n",
       "        [-0.12681189],\n",
       "        [ 0.35249814],\n",
       "        [-0.34067002],\n",
       "        [-0.34210435],\n",
       "        [ 0.56914693],\n",
       "        [ 0.7342058 ],\n",
       "        [-0.32264367],\n",
       "        [ 0.628171  ],\n",
       "        [ 4.2949734 ],\n",
       "        [ 4.314557  ],\n",
       "        [ 1.0802146 ],\n",
       "        [ 0.01627883],\n",
       "        [ 0.00898942],\n",
       "        [-0.12757435],\n",
       "        [ 0.29217967],\n",
       "        [ 0.7800556 ],\n",
       "        [ 0.04616912],\n",
       "        [-0.51511234],\n",
       "        [-0.29631892],\n",
       "        [ 0.67637116],\n",
       "        [ 1.207337  ],\n",
       "        [-0.05193464],\n",
       "        [ 0.38005456],\n",
       "        [ 0.6541372 ],\n",
       "        [-0.22813597],\n",
       "        [-0.12465946],\n",
       "        [ 0.84602076],\n",
       "        [ 0.6213756 ],\n",
       "        [ 0.7294603 ],\n",
       "        [ 0.8759137 ],\n",
       "        [ 0.35868892],\n",
       "        [ 0.3205777 ],\n",
       "        [ 2.491193  ],\n",
       "        [ 0.03227624],\n",
       "        [-0.37494794],\n",
       "        [-0.05641071],\n",
       "        [ 0.2579485 ],\n",
       "        [ 0.45755157],\n",
       "        [-0.32339612],\n",
       "        [-0.16551247],\n",
       "        [ 0.65796214],\n",
       "        [ 0.63296705],\n",
       "        [ 0.71880776],\n",
       "        [-0.48833123],\n",
       "        [ 0.63616663],\n",
       "        [-0.90532964],\n",
       "        [ 1.3701779 ],\n",
       "        [ 0.2999235 ],\n",
       "        [ 0.9844914 ],\n",
       "        [ 0.7538925 ],\n",
       "        [ 1.7603482 ],\n",
       "        [ 0.01517972],\n",
       "        [ 1.8244296 ],\n",
       "        [-1.8501576 ],\n",
       "        [ 1.1471413 ],\n",
       "        [ 0.70756775],\n",
       "        [ 0.22943172]], dtype=float32), array([[ 0.8477932 ],\n",
       "        [ 0.24837114],\n",
       "        [-0.11727802],\n",
       "        [ 0.00991077],\n",
       "        [-0.15112466],\n",
       "        [ 0.6753893 ],\n",
       "        [ 0.32310888],\n",
       "        [-0.06114679],\n",
       "        [ 0.29100907],\n",
       "        [ 0.19823566],\n",
       "        [-0.18892461],\n",
       "        [ 0.14951222],\n",
       "        [ 0.26591152],\n",
       "        [ 0.40098894],\n",
       "        [ 0.38330036],\n",
       "        [-0.10304008],\n",
       "        [ 0.22623308],\n",
       "        [ 0.25327894],\n",
       "        [ 0.33863252],\n",
       "        [ 0.31278062],\n",
       "        [ 0.28886688],\n",
       "        [ 0.29917896],\n",
       "        [ 0.06267665],\n",
       "        [ 0.18218061],\n",
       "        [ 0.32640707],\n",
       "        [ 0.30890334],\n",
       "        [ 0.30958188],\n",
       "        [ 0.27906048],\n",
       "        [ 0.12202013],\n",
       "        [ 0.49413812],\n",
       "        [ 0.56871074],\n",
       "        [ 0.19368601],\n",
       "        [ 0.28991723],\n",
       "        [ 0.24554355],\n",
       "        [ 0.18998437],\n",
       "        [ 0.2286966 ],\n",
       "        [ 0.32715183],\n",
       "        [-0.01375305],\n",
       "        [ 0.4528698 ],\n",
       "        [ 0.2571878 ],\n",
       "        [ 0.34607363],\n",
       "        [-0.00462322],\n",
       "        [ 0.18408647],\n",
       "        [ 0.26835662],\n",
       "        [ 0.17060663],\n",
       "        [ 0.21554442],\n",
       "        [ 0.24029864],\n",
       "        [ 0.25660717],\n",
       "        [ 0.32352817],\n",
       "        [ 0.31099063],\n",
       "        [ 0.40880072],\n",
       "        [ 0.32881683],\n",
       "        [ 0.27372885],\n",
       "        [-0.11585627],\n",
       "        [-0.01847707],\n",
       "        [ 0.22790278],\n",
       "        [ 0.26914006],\n",
       "        [ 0.1054786 ],\n",
       "        [ 0.3211282 ],\n",
       "        [-0.03797566],\n",
       "        [ 0.23409145],\n",
       "        [ 0.06710692],\n",
       "        [ 0.07124232],\n",
       "        [ 0.42133045],\n",
       "        [ 0.27137613],\n",
       "        [ 0.3588739 ],\n",
       "        [-0.07211779],\n",
       "        [ 0.21706025],\n",
       "        [ 0.1067495 ],\n",
       "        [ 0.46032876],\n",
       "        [ 0.44297856],\n",
       "        [ 0.76154995],\n",
       "        [ 0.12211882],\n",
       "        [ 0.54362035],\n",
       "        [ 0.38497174],\n",
       "        [ 0.01586045],\n",
       "        [ 0.39697233],\n",
       "        [-0.0385557 ]], dtype=float32))"
      ]
     },
     "execution_count": 63,
     "metadata": {},
     "output_type": "execute_result"
    }
   ],
   "source": [
    "# 获取两个输出层对测试集数据的预测值\n",
    "y_pred_main, y_pred_aux = model_4.predict([X_test_A, X_test_B])\n",
    "y_pred_main, y_pred_aux"
   ]
  },
  {
   "cell_type": "markdown",
   "metadata": {},
   "source": [
    "# Subclassing API"
   ]
  },
  {
   "cell_type": "code",
   "execution_count": 64,
   "metadata": {},
   "outputs": [],
   "source": [
    "class WideAndDeepModel(keras.models.Model):\n",
    "    \"\"\"建立动态模型\"\"\"\n",
    "    def __init__(self, units=30, activation=\"relu\", **kwargs):\n",
    "        super().__init__(**kwargs)\n",
    "        self.hidden1 = keras.layers.Dense(units, activation=activation)\n",
    "        self.hidden2 = keras.layers.Dense(units, activation=activation)\n",
    "        self.main_output = keras.layers.Dense(1)\n",
    "        self.aux_output = keras.layers.Dense(1)\n",
    "        \n",
    "    def call(self, inputs):\n",
    "        input_A, input_B = inputs\n",
    "        hidden1 = self.hidden1(input_B)\n",
    "        hidden2 = self.hidden2(hidden1)\n",
    "        concat = keras.layers.concatenate([input_A, hidden2])\n",
    "        main_output = self.main_output(concat)\n",
    "        aux_output = self.aux_output(hidden2)\n",
    "        return main_output, aux_output"
   ]
  },
  {
   "cell_type": "code",
   "execution_count": 65,
   "metadata": {},
   "outputs": [],
   "source": [
    "# 构建二输入、二输出的正则化神经网络模型\n",
    "model_5 = WideAndDeepModel(30, activation=\"relu\")"
   ]
  },
  {
   "cell_type": "code",
   "execution_count": 66,
   "metadata": {},
   "outputs": [],
   "source": [
    "# 选择模型的损失函数、优化器、各输出层的权重\n",
    "model_5.compile(loss=\"mse\",\n",
    "                loss_weights=[0.9, 0.1],\n",
    "                optimizer=keras.optimizers.Adam())"
   ]
  },
  {
   "cell_type": "code",
   "execution_count": 67,
   "metadata": {},
   "outputs": [
    {
     "name": "stdout",
     "output_type": "stream",
     "text": [
      "Train on 234 samples, validate on 78 samples\n",
      "Epoch 1/30\n",
      "234/234 [==============================] - 0s 2ms/sample - loss: 9.4641 - output_1_loss: 5.1975 - output_2_loss: 47.0856 - val_loss: 5.5524 - val_output_1_loss: 5.1360 - val_output_2_loss: 21.7310\n",
      "Epoch 2/30\n",
      "234/234 [==============================] - 0s 93us/sample - loss: 5.0205 - output_1_loss: 3.4417 - output_2_loss: 16.7727 - val_loss: 3.4833 - val_output_1_loss: 4.1227 - val_output_2_loss: 8.3973\n",
      "Epoch 3/30\n",
      "234/234 [==============================] - 0s 69us/sample - loss: 2.6380 - output_1_loss: 2.0555 - output_2_loss: 7.1477 - val_loss: 2.0225 - val_output_1_loss: 2.7537 - val_output_2_loss: 3.6437\n",
      "Epoch 4/30\n",
      "234/234 [==============================] - 0s 90us/sample - loss: 1.8756 - output_1_loss: 1.6846 - output_2_loss: 2.6681 - val_loss: 1.3985 - val_output_1_loss: 2.1135 - val_output_2_loss: 1.2944\n",
      "Epoch 5/30\n",
      "234/234 [==============================] - 0s 93us/sample - loss: 1.2047 - output_1_loss: 1.1595 - output_2_loss: 1.0698 - val_loss: 1.0178 - val_output_1_loss: 1.5423 - val_output_2_loss: 1.5262\n",
      "Epoch 6/30\n",
      "234/234 [==============================] - 0s 77us/sample - loss: 0.9466 - output_1_loss: 1.5790 - output_2_loss: 1.3314 - val_loss: 0.8199 - val_output_1_loss: 1.1508 - val_output_2_loss: 1.8151\n",
      "Epoch 7/30\n",
      "234/234 [==============================] - 0s 71us/sample - loss: 0.7263 - output_1_loss: 0.6398 - output_2_loss: 1.1327 - val_loss: 0.6142 - val_output_1_loss: 0.7968 - val_output_2_loss: 1.4059\n",
      "Epoch 8/30\n",
      "234/234 [==============================] - 0s 75us/sample - loss: 0.5653 - output_1_loss: 0.4976 - output_2_loss: 0.9098 - val_loss: 0.4808 - val_output_1_loss: 0.5842 - val_output_2_loss: 1.2829\n",
      "Epoch 9/30\n",
      "234/234 [==============================] - 0s 77us/sample - loss: 0.4670 - output_1_loss: 0.3940 - output_2_loss: 0.8414 - val_loss: 0.3749 - val_output_1_loss: 0.4157 - val_output_2_loss: 1.1495\n",
      "Epoch 10/30\n",
      "234/234 [==============================] - 0s 73us/sample - loss: 0.3813 - output_1_loss: 0.3109 - output_2_loss: 0.8096 - val_loss: 0.3380 - val_output_1_loss: 0.3521 - val_output_2_loss: 1.0766\n",
      "Epoch 11/30\n",
      "234/234 [==============================] - 0s 78us/sample - loss: 0.3382 - output_1_loss: 0.2854 - output_2_loss: 0.7469 - val_loss: 0.3370 - val_output_1_loss: 0.3306 - val_output_2_loss: 1.0540\n",
      "Epoch 12/30\n",
      "234/234 [==============================] - 0s 75us/sample - loss: 0.3081 - output_1_loss: 0.2478 - output_2_loss: 0.6945 - val_loss: 0.3133 - val_output_1_loss: 0.2929 - val_output_2_loss: 0.9917\n",
      "Epoch 13/30\n",
      "234/234 [==============================] - 0s 77us/sample - loss: 0.2869 - output_1_loss: 0.2245 - output_2_loss: 0.7076 - val_loss: 0.3267 - val_output_1_loss: 0.3003 - val_output_2_loss: 0.9579\n",
      "Epoch 14/30\n",
      "234/234 [==============================] - 0s 75us/sample - loss: 0.2705 - output_1_loss: 0.2113 - output_2_loss: 0.6645 - val_loss: 0.2906 - val_output_1_loss: 0.2558 - val_output_2_loss: 0.8756\n",
      "Epoch 15/30\n",
      "234/234 [==============================] - 0s 75us/sample - loss: 0.2488 - output_1_loss: 0.1892 - output_2_loss: 0.6037 - val_loss: 0.2833 - val_output_1_loss: 0.2474 - val_output_2_loss: 0.8173\n",
      "Epoch 16/30\n",
      "234/234 [==============================] - 0s 73us/sample - loss: 0.2313 - output_1_loss: 0.1754 - output_2_loss: 0.6220 - val_loss: 0.2783 - val_output_1_loss: 0.2431 - val_output_2_loss: 0.7708\n",
      "Epoch 17/30\n",
      "234/234 [==============================] - 0s 75us/sample - loss: 0.2224 - output_1_loss: 0.1761 - output_2_loss: 0.5907 - val_loss: 0.2814 - val_output_1_loss: 0.2434 - val_output_2_loss: 0.7358\n",
      "Epoch 18/30\n",
      "234/234 [==============================] - 0s 77us/sample - loss: 0.2081 - output_1_loss: 0.1689 - output_2_loss: 0.5599 - val_loss: 0.2865 - val_output_1_loss: 0.2515 - val_output_2_loss: 0.6899\n",
      "Epoch 19/30\n",
      "234/234 [==============================] - 0s 75us/sample - loss: 0.1988 - output_1_loss: 0.1565 - output_2_loss: 0.5365 - val_loss: 0.2577 - val_output_1_loss: 0.2284 - val_output_2_loss: 0.6259\n",
      "Epoch 20/30\n",
      "234/234 [==============================] - 0s 77us/sample - loss: 0.1877 - output_1_loss: 0.1434 - output_2_loss: 0.5108 - val_loss: 0.2616 - val_output_1_loss: 0.2359 - val_output_2_loss: 0.5908\n",
      "Epoch 21/30\n",
      "234/234 [==============================] - 0s 77us/sample - loss: 0.1795 - output_1_loss: 0.1350 - output_2_loss: 0.4527 - val_loss: 0.2635 - val_output_1_loss: 0.2364 - val_output_2_loss: 0.5642\n",
      "Epoch 22/30\n",
      "234/234 [==============================] - 0s 75us/sample - loss: 0.1698 - output_1_loss: 0.1283 - output_2_loss: 0.4397 - val_loss: 0.2440 - val_output_1_loss: 0.2174 - val_output_2_loss: 0.5285\n",
      "Epoch 23/30\n",
      "234/234 [==============================] - 0s 75us/sample - loss: 0.1604 - output_1_loss: 0.1265 - output_2_loss: 0.4271 - val_loss: 0.2487 - val_output_1_loss: 0.2245 - val_output_2_loss: 0.4929\n",
      "Epoch 24/30\n",
      "234/234 [==============================] - 0s 76us/sample - loss: 0.1538 - output_1_loss: 0.1527 - output_2_loss: 0.4592 - val_loss: 0.2411 - val_output_1_loss: 0.2178 - val_output_2_loss: 0.4607\n",
      "Epoch 25/30\n",
      "234/234 [==============================] - 0s 76us/sample - loss: 0.1472 - output_1_loss: 0.1235 - output_2_loss: 0.4058 - val_loss: 0.2102 - val_output_1_loss: 0.1838 - val_output_2_loss: 0.4228\n",
      "Epoch 26/30\n",
      "234/234 [==============================] - 0s 73us/sample - loss: 0.1423 - output_1_loss: 0.1065 - output_2_loss: 0.3771 - val_loss: 0.2104 - val_output_1_loss: 0.1781 - val_output_2_loss: 0.4025\n",
      "Epoch 27/30\n",
      "234/234 [==============================] - 0s 77us/sample - loss: 0.1328 - output_1_loss: 0.0993 - output_2_loss: 0.3595 - val_loss: 0.2104 - val_output_1_loss: 0.1791 - val_output_2_loss: 0.3854\n",
      "Epoch 28/30\n",
      "234/234 [==============================] - 0s 74us/sample - loss: 0.1257 - output_1_loss: 0.1001 - output_2_loss: 0.3449 - val_loss: 0.2169 - val_output_1_loss: 0.1885 - val_output_2_loss: 0.3683\n",
      "Epoch 29/30\n",
      "234/234 [==============================] - 0s 80us/sample - loss: 0.1224 - output_1_loss: 0.0906 - output_2_loss: 0.3168 - val_loss: 0.2026 - val_output_1_loss: 0.1786 - val_output_2_loss: 0.3345\n",
      "Epoch 30/30\n",
      "234/234 [==============================] - 0s 82us/sample - loss: 0.1209 - output_1_loss: 0.0927 - output_2_loss: 0.3183 - val_loss: 0.2247 - val_output_1_loss: 0.2047 - val_output_2_loss: 0.3141\n"
     ]
    }
   ],
   "source": [
    "# 训练模型\n",
    "history_5 = model_5.fit((np.array(X_train_A), np.array(X_train_B)), (np.array(y_train), np.array(y_train)),\n",
    "                        epochs=30, validation_data=((np.array(X_valid_A), np.array(X_valid_B)),(np.array(y_valid), np.array(y_valid))))"
   ]
  },
  {
   "cell_type": "code",
   "execution_count": 68,
   "metadata": {},
   "outputs": [
    {
     "name": "stdout",
     "output_type": "stream",
     "text": [
      "78/78 [==============================] - 0s 55us/sample - loss: 0.2742 - output_1_loss: 0.2672 - output_2_loss: 0.4391\n"
     ]
    }
   ],
   "source": [
    "# # 获取整个神经网络的损失函数值及单个输出层的损失函数值\n",
    "total_loss, main_loss, aux_loss = model_5.evaluate((X_test_A, X_test_B), (y_test, y_test))"
   ]
  },
  {
   "cell_type": "code",
   "execution_count": 69,
   "metadata": {},
   "outputs": [
    {
     "data": {
      "image/png": "[encoded data removed]",
      "text/plain": [
       "<Figure size 576x288 with 1 Axes>"
      ]
     },
     "metadata": {
      "needs_background": "light"
     },
     "output_type": "display_data"
    },
    {
     "name": "stdout",
     "output_type": "stream",
     "text": [
      "Saving figure learning_curves_5\n"
     ]
    },
    {
     "data": {
      "text/plain": [
       "<Figure size 432x288 with 0 Axes>"
      ]
     },
     "metadata": {},
     "output_type": "display_data"
    }
   ],
   "source": [
    "loss_compared(history_5)\n",
    "save_fig(\"learning_curves_5\")"
   ]
  },
  {
   "cell_type": "markdown",
   "metadata": {},
   "source": [
    "# Fine-Tuning Hyparameters"
   ]
  },
  {
   "cell_type": "code",
   "execution_count": 82,
   "metadata": {},
   "outputs": [],
   "source": [
    "# 摧毁掉当前的tf图\n",
    "keras.backend.clear_session()\n",
    "np.random.seed(42)\n",
    "tf.random.set_seed(42)"
   ]
  },
  {
   "cell_type": "code",
   "execution_count": 89,
   "metadata": {},
   "outputs": [],
   "source": [
    "def build_model(n_hidden=1, n_neurons=30, learning_rate=3e-3, input_shape=[16]):\n",
    "    \"\"\"\n",
    "    搭建简单全连接的DNN\n",
    "    \n",
    "    :param n_hidden: 隐藏层的层数\n",
    "    :param n_neurons: 单层神经元个数\n",
    "    :param learning_rate: 学习率\n",
    "    :param input_shape: 训练集的特征维度\n",
    "    \"\"\"\n",
    "    model = keras.models.Sequential()\n",
    "    model.add(keras.layers.InputLayer(input_shape=input_shape))\n",
    "    for layer in range(n_hidden):\n",
    "        model.add(keras.layers.Dense(n_neurons, activation=\"relu\"))\n",
    "    model.add(keras.layers.Dense(1))\n",
    "    optimizer = keras.optimizers.SGD(lr=learning_rate)\n",
    "    model.compile(loss=\"mse\", optimizer=optimizer)\n",
    "    return model"
   ]
  },
  {
   "cell_type": "code",
   "execution_count": 90,
   "metadata": {},
   "outputs": [],
   "source": [
    "# 调用构建好的模型，同scikit_learn库结合\n",
    "keras_reg = keras.wrappers.scikit_learn.KerasRegressor(build_model)"
   ]
  },
  {
   "cell_type": "code",
   "execution_count": 91,
   "metadata": {},
   "outputs": [
    {
     "name": "stdout",
     "output_type": "stream",
     "text": [
      "Train on 234 samples, validate on 78 samples\n",
      "Epoch 1/100\n",
      "234/234 [==============================] - 0s 845us/sample - loss: 3726.3762 - val_loss: 0.5394\n",
      "Epoch 2/100\n",
      "234/234 [==============================] - 0s 64us/sample - loss: 0.5047 - val_loss: 0.4532\n",
      "Epoch 3/100\n",
      "234/234 [==============================] - 0s 68us/sample - loss: 0.4421 - val_loss: 0.3963\n",
      "Epoch 4/100\n",
      "234/234 [==============================] - 0s 69us/sample - loss: 0.3947 - val_loss: 0.3503\n",
      "Epoch 5/100\n",
      "234/234 [==============================] - 0s 67us/sample - loss: 0.3566 - val_loss: 0.3118\n",
      "Epoch 6/100\n",
      "234/234 [==============================] - 0s 66us/sample - loss: 0.3234 - val_loss: 0.2805\n",
      "Epoch 7/100\n",
      "234/234 [==============================] - 0s 66us/sample - loss: 0.2952 - val_loss: 0.2531\n",
      "Epoch 8/100\n",
      "234/234 [==============================] - 0s 63us/sample - loss: 0.2704 - val_loss: 0.2302\n",
      "Epoch 9/100\n",
      "234/234 [==============================] - 0s 63us/sample - loss: 0.2482 - val_loss: 0.2104\n",
      "Epoch 10/100\n",
      "234/234 [==============================] - 0s 64us/sample - loss: 0.2282 - val_loss: 0.1927\n",
      "Epoch 11/100\n",
      "234/234 [==============================] - 0s 57us/sample - loss: 0.2103 - val_loss: 0.1766\n",
      "Epoch 12/100\n",
      "234/234 [==============================] - 0s 56us/sample - loss: 0.1939 - val_loss: 0.1620\n",
      "Epoch 13/100\n",
      "234/234 [==============================] - 0s 58us/sample - loss: 0.1791 - val_loss: 0.1493\n",
      "Epoch 14/100\n",
      "234/234 [==============================] - 0s 61us/sample - loss: 0.1661 - val_loss: 0.1374\n",
      "Epoch 15/100\n",
      "234/234 [==============================] - 0s 56us/sample - loss: 0.1539 - val_loss: 0.1267\n",
      "Epoch 16/100\n",
      "234/234 [==============================] - 0s 60us/sample - loss: 0.1429 - val_loss: 0.1171\n",
      "Epoch 17/100\n",
      "234/234 [==============================] - 0s 57us/sample - loss: 0.1331 - val_loss: 0.1085\n",
      "Epoch 18/100\n",
      "234/234 [==============================] - 0s 56us/sample - loss: 0.1241 - val_loss: 0.1006\n",
      "Epoch 19/100\n",
      "234/234 [==============================] - 0s 55us/sample - loss: 0.1161 - val_loss: 0.0937\n",
      "Epoch 20/100\n",
      "234/234 [==============================] - 0s 61us/sample - loss: 0.1090 - val_loss: 0.0873\n",
      "Epoch 21/100\n",
      "234/234 [==============================] - 0s 55us/sample - loss: 0.1023 - val_loss: 0.0815\n",
      "Epoch 22/100\n",
      "234/234 [==============================] - 0s 55us/sample - loss: 0.0963 - val_loss: 0.0763\n",
      "Epoch 23/100\n",
      "234/234 [==============================] - 0s 57us/sample - loss: 0.0909 - val_loss: 0.0719\n",
      "Epoch 24/100\n",
      "234/234 [==============================] - 0s 56us/sample - loss: 0.0862 - val_loss: 0.0676\n",
      "Epoch 25/100\n",
      "234/234 [==============================] - 0s 55us/sample - loss: 0.0817 - val_loss: 0.0638\n",
      "Epoch 26/100\n",
      "234/234 [==============================] - 0s 62us/sample - loss: 0.0776 - val_loss: 0.0602\n",
      "Epoch 27/100\n",
      "234/234 [==============================] - 0s 65us/sample - loss: 0.0738 - val_loss: 0.0570\n",
      "Epoch 28/100\n",
      "234/234 [==============================] - 0s 63us/sample - loss: 0.0704 - val_loss: 0.0542\n",
      "Epoch 29/100\n",
      "234/234 [==============================] - 0s 64us/sample - loss: 0.0674 - val_loss: 0.0516\n",
      "Epoch 30/100\n",
      "234/234 [==============================] - 0s 62us/sample - loss: 0.0646 - val_loss: 0.0493\n",
      "Epoch 31/100\n",
      "234/234 [==============================] - 0s 56us/sample - loss: 0.0621 - val_loss: 0.0471\n",
      "Epoch 32/100\n",
      "234/234 [==============================] - 0s 56us/sample - loss: 0.0597 - val_loss: 0.0453\n",
      "Epoch 33/100\n",
      "234/234 [==============================] - 0s 56us/sample - loss: 0.0577 - val_loss: 0.0438\n",
      "Epoch 34/100\n",
      "234/234 [==============================] - 0s 55us/sample - loss: 0.0560 - val_loss: 0.0423\n",
      "Epoch 35/100\n",
      "234/234 [==============================] - 0s 57us/sample - loss: 0.0544 - val_loss: 0.0409\n",
      "Epoch 36/100\n",
      "234/234 [==============================] - 0s 57us/sample - loss: 0.0528 - val_loss: 0.0397\n",
      "Epoch 37/100\n",
      "234/234 [==============================] - 0s 55us/sample - loss: 0.0514 - val_loss: 0.0386\n",
      "Epoch 38/100\n",
      "234/234 [==============================] - 0s 58us/sample - loss: 0.0501 - val_loss: 0.0377\n",
      "Epoch 39/100\n",
      "234/234 [==============================] - 0s 56us/sample - loss: 0.0491 - val_loss: 0.0367\n",
      "Epoch 40/100\n",
      "234/234 [==============================] - 0s 56us/sample - loss: 0.0480 - val_loss: 0.0359\n",
      "Epoch 41/100\n",
      "234/234 [==============================] - 0s 62us/sample - loss: 0.0470 - val_loss: 0.0351\n",
      "Epoch 42/100\n",
      "234/234 [==============================] - 0s 58us/sample - loss: 0.0461 - val_loss: 0.0345\n",
      "Epoch 43/100\n",
      "234/234 [==============================] - 0s 59us/sample - loss: 0.0453 - val_loss: 0.0339\n",
      "Epoch 44/100\n",
      "234/234 [==============================] - 0s 57us/sample - loss: 0.0446 - val_loss: 0.0333\n",
      "Epoch 45/100\n",
      "234/234 [==============================] - 0s 55us/sample - loss: 0.0439 - val_loss: 0.0329\n",
      "Epoch 46/100\n",
      "234/234 [==============================] - 0s 58us/sample - loss: 0.0433 - val_loss: 0.0324\n",
      "Epoch 47/100\n",
      "234/234 [==============================] - 0s 58us/sample - loss: 0.0427 - val_loss: 0.0320\n",
      "Epoch 48/100\n",
      "234/234 [==============================] - 0s 56us/sample - loss: 0.0422 - val_loss: 0.0317\n",
      "Epoch 49/100\n",
      "234/234 [==============================] - 0s 58us/sample - loss: 0.0418 - val_loss: 0.0314\n",
      "Epoch 50/100\n",
      "234/234 [==============================] - 0s 55us/sample - loss: 0.0414 - val_loss: 0.0312\n",
      "Epoch 51/100\n",
      "234/234 [==============================] - 0s 54us/sample - loss: 0.0411 - val_loss: 0.0309\n",
      "Epoch 52/100\n",
      "234/234 [==============================] - 0s 56us/sample - loss: 0.0407 - val_loss: 0.0307\n",
      "Epoch 53/100\n",
      "234/234 [==============================] - 0s 65us/sample - loss: 0.0404 - val_loss: 0.0306\n",
      "Epoch 54/100\n",
      "234/234 [==============================] - 0s 58us/sample - loss: 0.0402 - val_loss: 0.0304\n",
      "Epoch 55/100\n",
      "234/234 [==============================] - 0s 59us/sample - loss: 0.0399 - val_loss: 0.0302\n",
      "Epoch 56/100\n",
      "234/234 [==============================] - 0s 61us/sample - loss: 0.0397 - val_loss: 0.0301\n",
      "Epoch 57/100\n",
      "234/234 [==============================] - 0s 58us/sample - loss: 0.0394 - val_loss: 0.0300\n",
      "Epoch 58/100\n",
      "234/234 [==============================] - 0s 56us/sample - loss: 0.0393 - val_loss: 0.0299\n",
      "Epoch 59/100\n",
      "234/234 [==============================] - 0s 56us/sample - loss: 0.0391 - val_loss: 0.0298\n",
      "Epoch 60/100\n",
      "234/234 [==============================] - 0s 57us/sample - loss: 0.0389 - val_loss: 0.0297\n",
      "Epoch 61/100\n",
      "234/234 [==============================] - 0s 69us/sample - loss: 0.0388 - val_loss: 0.0296\n",
      "Epoch 62/100\n",
      "234/234 [==============================] - 0s 68us/sample - loss: 0.0387 - val_loss: 0.0296\n",
      "Epoch 63/100\n",
      "234/234 [==============================] - 0s 66us/sample - loss: 0.0386 - val_loss: 0.0295\n",
      "Epoch 64/100\n",
      "234/234 [==============================] - 0s 71us/sample - loss: 0.0384 - val_loss: 0.0295\n",
      "Epoch 65/100\n",
      "234/234 [==============================] - 0s 73us/sample - loss: 0.0383 - val_loss: 0.0294\n",
      "Epoch 66/100\n",
      "234/234 [==============================] - 0s 79us/sample - loss: 0.0382 - val_loss: 0.0294\n",
      "Epoch 67/100\n",
      "234/234 [==============================] - 0s 70us/sample - loss: 0.0382 - val_loss: 0.0294\n",
      "Epoch 68/100\n",
      "234/234 [==============================] - 0s 75us/sample - loss: 0.0381 - val_loss: 0.0294\n",
      "Epoch 69/100\n",
      "234/234 [==============================] - 0s 73us/sample - loss: 0.0381 - val_loss: 0.0293\n",
      "Epoch 70/100\n",
      "234/234 [==============================] - 0s 71us/sample - loss: 0.0380 - val_loss: 0.0293\n",
      "Epoch 71/100\n",
      "234/234 [==============================] - 0s 73us/sample - loss: 0.0380 - val_loss: 0.0293\n",
      "Epoch 72/100\n",
      "234/234 [==============================] - 0s 76us/sample - loss: 0.0379 - val_loss: 0.0293\n",
      "Epoch 73/100\n",
      "234/234 [==============================] - 0s 69us/sample - loss: 0.0379 - val_loss: 0.0293\n",
      "Epoch 74/100\n",
      "234/234 [==============================] - 0s 71us/sample - loss: 0.0378 - val_loss: 0.0293\n",
      "Epoch 75/100\n",
      "234/234 [==============================] - 0s 76us/sample - loss: 0.0378 - val_loss: 0.0293\n",
      "Epoch 76/100\n",
      "234/234 [==============================] - 0s 74us/sample - loss: 0.0377 - val_loss: 0.0293\n",
      "Epoch 77/100\n",
      "234/234 [==============================] - 0s 77us/sample - loss: 0.0377 - val_loss: 0.0293\n",
      "Epoch 78/100\n"
     ]
    },
    {
     "name": "stdout",
     "output_type": "stream",
     "text": [
      "234/234 [==============================] - 0s 72us/sample - loss: 0.0377 - val_loss: 0.0293\n",
      "Epoch 79/100\n",
      "234/234 [==============================] - 0s 69us/sample - loss: 0.0377 - val_loss: 0.0293\n",
      "Epoch 80/100\n",
      "234/234 [==============================] - 0s 67us/sample - loss: 0.0377 - val_loss: 0.0293\n",
      "Epoch 81/100\n",
      "234/234 [==============================] - 0s 60us/sample - loss: 0.0376 - val_loss: 0.0293\n",
      "Epoch 82/100\n",
      "234/234 [==============================] - 0s 60us/sample - loss: 0.0376 - val_loss: 0.0293\n",
      "Epoch 83/100\n",
      "234/234 [==============================] - 0s 59us/sample - loss: 0.0376 - val_loss: 0.0293\n",
      "Epoch 84/100\n",
      "234/234 [==============================] - 0s 60us/sample - loss: 0.0376 - val_loss: 0.0293\n",
      "Epoch 85/100\n",
      "234/234 [==============================] - 0s 60us/sample - loss: 0.0375 - val_loss: 0.0293\n",
      "Epoch 86/100\n",
      "234/234 [==============================] - 0s 60us/sample - loss: 0.0375 - val_loss: 0.0293\n",
      "Epoch 87/100\n",
      "234/234 [==============================] - 0s 58us/sample - loss: 0.0375 - val_loss: 0.0293\n",
      "Epoch 88/100\n",
      "234/234 [==============================] - 0s 60us/sample - loss: 0.0375 - val_loss: 0.0293\n"
     ]
    },
    {
     "data": {
      "text/plain": [
       "<tensorflow.python.keras.callbacks.History at 0x142602b10>"
      ]
     },
     "execution_count": 91,
     "metadata": {},
     "output_type": "execute_result"
    }
   ],
   "source": [
    "# 训练模型，使用早停法\n",
    "keras_reg.fit(X_train, y_train, epochs=100,\n",
    "              validation_data=(X_valid, y_valid),\n",
    "              callbacks=[keras.callbacks.EarlyStopping(patience=10)])"
   ]
  },
  {
   "cell_type": "code",
   "execution_count": 93,
   "metadata": {},
   "outputs": [
    {
     "name": "stdout",
     "output_type": "stream",
     "text": [
      "78/78 [==============================] - 0s 102us/sample - loss: 0.0793\n"
     ]
    }
   ],
   "source": [
    "# 获取模型评分\n",
    "mse_test = keras_reg.score(X_test, y_test)"
   ]
  },
  {
   "cell_type": "code",
   "execution_count": 104,
   "metadata": {},
   "outputs": [],
   "source": [
    "# 模型对测试集的预测值\n",
    "y_pred = keras_reg.predict(X_test)"
   ]
  },
  {
   "cell_type": "code",
   "execution_count": 97,
   "metadata": {},
   "outputs": [
    {
     "name": "stdout",
     "output_type": "stream",
     "text": [
      "Fitting 3 folds for each of 10 candidates, totalling 30 fits\n"
     ]
    },
    {
     "name": "stderr",
     "output_type": "stream",
     "text": [
      "[Parallel(n_jobs=-1)]: Using backend LokyBackend with 8 concurrent workers.\n",
      "[Parallel(n_jobs=-1)]: Done  30 out of  30 | elapsed:   13.2s finished\n",
      "/usr/local/lib/python3.7/site-packages/sklearn/model_selection/_search.py:814: DeprecationWarning: The default of the `iid` parameter will change from True to False in version 0.22 and will be removed in 0.24. This will change numeric results when test-set sizes are unequal.\n",
      "  DeprecationWarning)\n"
     ]
    },
    {
     "name": "stdout",
     "output_type": "stream",
     "text": [
      "Train on 234 samples, validate on 78 samples\n",
      "Epoch 1/100\n",
      "234/234 [==============================] - 0s 1ms/sample - loss: 70.3826 - val_loss: 0.7059\n",
      "Epoch 2/100\n",
      "234/234 [==============================] - 0s 68us/sample - loss: 0.4210 - val_loss: 0.4175\n",
      "Epoch 3/100\n",
      "234/234 [==============================] - 0s 69us/sample - loss: 0.2537 - val_loss: 0.2808\n",
      "Epoch 4/100\n",
      "234/234 [==============================] - 0s 69us/sample - loss: 0.1692 - val_loss: 0.2068\n",
      "Epoch 5/100\n",
      "234/234 [==============================] - 0s 67us/sample - loss: 0.1291 - val_loss: 0.1634\n",
      "Epoch 6/100\n",
      "234/234 [==============================] - 0s 66us/sample - loss: 0.1062 - val_loss: 0.1483\n",
      "Epoch 7/100\n",
      "234/234 [==============================] - 0s 61us/sample - loss: 0.0913 - val_loss: 0.1328\n",
      "Epoch 8/100\n",
      "234/234 [==============================] - 0s 61us/sample - loss: 0.0838 - val_loss: 0.1250\n",
      "Epoch 9/100\n",
      "234/234 [==============================] - 0s 60us/sample - loss: 0.0781 - val_loss: 0.1160\n",
      "Epoch 10/100\n",
      "234/234 [==============================] - 0s 61us/sample - loss: 0.0715 - val_loss: 0.1095\n",
      "Epoch 11/100\n",
      "234/234 [==============================] - 0s 62us/sample - loss: 0.0677 - val_loss: 0.1026\n",
      "Epoch 12/100\n",
      "234/234 [==============================] - 0s 61us/sample - loss: 0.0649 - val_loss: 0.0975\n",
      "Epoch 13/100\n",
      "234/234 [==============================] - 0s 60us/sample - loss: 0.0648 - val_loss: 0.1011\n",
      "Epoch 14/100\n",
      "234/234 [==============================] - 0s 61us/sample - loss: 0.0628 - val_loss: 0.1276\n",
      "Epoch 15/100\n",
      "234/234 [==============================] - 0s 59us/sample - loss: 0.0644 - val_loss: 0.0924\n",
      "Epoch 16/100\n",
      "234/234 [==============================] - 0s 59us/sample - loss: 0.0582 - val_loss: 0.0871\n",
      "Epoch 17/100\n",
      "234/234 [==============================] - 0s 59us/sample - loss: 0.0578 - val_loss: 0.0881\n",
      "Epoch 18/100\n",
      "234/234 [==============================] - 0s 61us/sample - loss: 0.0564 - val_loss: 0.0845\n",
      "Epoch 19/100\n",
      "234/234 [==============================] - 0s 58us/sample - loss: 0.0537 - val_loss: 0.0824\n",
      "Epoch 20/100\n",
      "234/234 [==============================] - 0s 59us/sample - loss: 0.0547 - val_loss: 0.0847\n",
      "Epoch 21/100\n",
      "234/234 [==============================] - 0s 58us/sample - loss: 0.0501 - val_loss: 0.0785\n",
      "Epoch 22/100\n",
      "234/234 [==============================] - 0s 60us/sample - loss: 0.0510 - val_loss: 0.0770\n",
      "Epoch 23/100\n",
      "234/234 [==============================] - 0s 58us/sample - loss: 0.0503 - val_loss: 0.0909\n",
      "Epoch 24/100\n",
      "234/234 [==============================] - 0s 58us/sample - loss: 0.0507 - val_loss: 0.0740\n",
      "Epoch 25/100\n",
      "234/234 [==============================] - 0s 58us/sample - loss: 0.0502 - val_loss: 0.0761\n",
      "Epoch 26/100\n",
      "234/234 [==============================] - 0s 60us/sample - loss: 0.0482 - val_loss: 0.0740\n",
      "Epoch 27/100\n",
      "234/234 [==============================] - 0s 57us/sample - loss: 0.0481 - val_loss: 0.0699\n",
      "Epoch 28/100\n",
      "234/234 [==============================] - 0s 57us/sample - loss: 0.0466 - val_loss: 0.0694\n",
      "Epoch 29/100\n",
      "234/234 [==============================] - 0s 59us/sample - loss: 0.0457 - val_loss: 0.0683\n",
      "Epoch 30/100\n",
      "234/234 [==============================] - 0s 57us/sample - loss: 0.0454 - val_loss: 0.0692\n",
      "Epoch 31/100\n",
      "234/234 [==============================] - 0s 58us/sample - loss: 0.0451 - val_loss: 0.0669\n",
      "Epoch 32/100\n",
      "234/234 [==============================] - 0s 58us/sample - loss: 0.0455 - val_loss: 0.0661\n",
      "Epoch 33/100\n",
      "234/234 [==============================] - 0s 61us/sample - loss: 0.0459 - val_loss: 0.0821\n",
      "Epoch 34/100\n",
      "234/234 [==============================] - 0s 57us/sample - loss: 0.0467 - val_loss: 0.0673\n",
      "Epoch 35/100\n",
      "234/234 [==============================] - 0s 59us/sample - loss: 0.0441 - val_loss: 0.0670\n",
      "Epoch 36/100\n",
      "234/234 [==============================] - 0s 59us/sample - loss: 0.0424 - val_loss: 0.0657\n",
      "Epoch 37/100\n",
      "234/234 [==============================] - 0s 59us/sample - loss: 0.0449 - val_loss: 0.0649\n",
      "Epoch 38/100\n",
      "234/234 [==============================] - 0s 59us/sample - loss: 0.0420 - val_loss: 0.0802\n",
      "Epoch 39/100\n",
      "234/234 [==============================] - 0s 58us/sample - loss: 0.0433 - val_loss: 0.0620\n",
      "Epoch 40/100\n",
      "234/234 [==============================] - 0s 62us/sample - loss: 0.0431 - val_loss: 0.0618\n",
      "Epoch 41/100\n",
      "234/234 [==============================] - 0s 60us/sample - loss: 0.0404 - val_loss: 0.0612\n",
      "Epoch 42/100\n",
      "234/234 [==============================] - 0s 60us/sample - loss: 0.0409 - val_loss: 0.0643\n",
      "Epoch 43/100\n",
      "234/234 [==============================] - 0s 62us/sample - loss: 0.0402 - val_loss: 0.0771\n",
      "Epoch 44/100\n",
      "234/234 [==============================] - 0s 59us/sample - loss: 0.0414 - val_loss: 0.0586\n",
      "Epoch 45/100\n",
      "234/234 [==============================] - 0s 59us/sample - loss: 0.0398 - val_loss: 0.0584\n",
      "Epoch 46/100\n",
      "234/234 [==============================] - 0s 58us/sample - loss: 0.0389 - val_loss: 0.0587\n",
      "Epoch 47/100\n",
      "234/234 [==============================] - 0s 61us/sample - loss: 0.0390 - val_loss: 0.0577\n",
      "Epoch 48/100\n",
      "234/234 [==============================] - 0s 60us/sample - loss: 0.0397 - val_loss: 0.0570\n",
      "Epoch 49/100\n",
      "234/234 [==============================] - 0s 79us/sample - loss: 0.0387 - val_loss: 0.0566\n",
      "Epoch 50/100\n",
      "234/234 [==============================] - 0s 61us/sample - loss: 0.0375 - val_loss: 0.0608\n",
      "Epoch 51/100\n",
      "234/234 [==============================] - 0s 62us/sample - loss: 0.0373 - val_loss: 0.0588\n",
      "Epoch 52/100\n",
      "234/234 [==============================] - 0s 61us/sample - loss: 0.0383 - val_loss: 0.0551\n",
      "Epoch 53/100\n",
      "234/234 [==============================] - 0s 61us/sample - loss: 0.0368 - val_loss: 0.0783\n",
      "Epoch 54/100\n",
      "234/234 [==============================] - 0s 61us/sample - loss: 0.0381 - val_loss: 0.0544\n",
      "Epoch 55/100\n",
      "234/234 [==============================] - 0s 64us/sample - loss: 0.0372 - val_loss: 0.0540\n",
      "Epoch 56/100\n",
      "234/234 [==============================] - 0s 62us/sample - loss: 0.0381 - val_loss: 0.0553\n",
      "Epoch 57/100\n",
      "234/234 [==============================] - 0s 63us/sample - loss: 0.0353 - val_loss: 0.0531\n",
      "Epoch 58/100\n",
      "234/234 [==============================] - 0s 64us/sample - loss: 0.0363 - val_loss: 0.0543\n",
      "Epoch 59/100\n",
      "234/234 [==============================] - 0s 63us/sample - loss: 0.0357 - val_loss: 0.0517\n",
      "Epoch 60/100\n",
      "234/234 [==============================] - 0s 60us/sample - loss: 0.0380 - val_loss: 0.0523\n",
      "Epoch 61/100\n",
      "234/234 [==============================] - 0s 61us/sample - loss: 0.0352 - val_loss: 0.0509\n",
      "Epoch 62/100\n",
      "234/234 [==============================] - 0s 62us/sample - loss: 0.0344 - val_loss: 0.0539\n",
      "Epoch 63/100\n",
      "234/234 [==============================] - 0s 62us/sample - loss: 0.0342 - val_loss: 0.0516\n",
      "Epoch 64/100\n",
      "234/234 [==============================] - 0s 62us/sample - loss: 0.0340 - val_loss: 0.0497\n",
      "Epoch 65/100\n",
      "234/234 [==============================] - 0s 64us/sample - loss: 0.0335 - val_loss: 0.0555\n",
      "Epoch 66/100\n",
      "234/234 [==============================] - 0s 61us/sample - loss: 0.0348 - val_loss: 0.0506\n",
      "Epoch 67/100\n",
      "234/234 [==============================] - 0s 64us/sample - loss: 0.0347 - val_loss: 0.0481\n",
      "Epoch 68/100\n",
      "234/234 [==============================] - 0s 64us/sample - loss: 0.0337 - val_loss: 0.0482\n",
      "Epoch 69/100\n",
      "234/234 [==============================] - 0s 64us/sample - loss: 0.0316 - val_loss: 0.0658\n",
      "Epoch 70/100\n",
      "234/234 [==============================] - 0s 63us/sample - loss: 0.0389 - val_loss: 0.0474\n",
      "Epoch 71/100\n",
      "234/234 [==============================] - 0s 63us/sample - loss: 0.0312 - val_loss: 0.0471\n",
      "Epoch 72/100\n",
      "234/234 [==============================] - 0s 61us/sample - loss: 0.0317 - val_loss: 0.0462\n",
      "Epoch 73/100\n",
      "234/234 [==============================] - 0s 66us/sample - loss: 0.0310 - val_loss: 0.0473\n",
      "Epoch 74/100\n",
      "234/234 [==============================] - 0s 66us/sample - loss: 0.0317 - val_loss: 0.0458\n",
      "Epoch 75/100\n",
      "234/234 [==============================] - 0s 69us/sample - loss: 0.0308 - val_loss: 0.0473\n",
      "Epoch 76/100\n",
      "234/234 [==============================] - 0s 66us/sample - loss: 0.0308 - val_loss: 0.0457\n",
      "Epoch 77/100\n",
      "234/234 [==============================] - 0s 66us/sample - loss: 0.0307 - val_loss: 0.0522\n",
      "Epoch 78/100\n"
     ]
    },
    {
     "name": "stdout",
     "output_type": "stream",
     "text": [
      "234/234 [==============================] - 0s 62us/sample - loss: 0.0321 - val_loss: 0.0477\n",
      "Epoch 79/100\n",
      "234/234 [==============================] - 0s 69us/sample - loss: 0.0310 - val_loss: 0.0445\n",
      "Epoch 80/100\n",
      "234/234 [==============================] - 0s 64us/sample - loss: 0.0313 - val_loss: 0.0445\n",
      "Epoch 81/100\n",
      "234/234 [==============================] - 0s 61us/sample - loss: 0.0308 - val_loss: 0.0439\n",
      "Epoch 82/100\n",
      "234/234 [==============================] - 0s 64us/sample - loss: 0.0310 - val_loss: 0.0439\n",
      "Epoch 83/100\n",
      "234/234 [==============================] - 0s 62us/sample - loss: 0.0303 - val_loss: 0.0448\n",
      "Epoch 84/100\n",
      "234/234 [==============================] - 0s 63us/sample - loss: 0.0297 - val_loss: 0.0472\n",
      "Epoch 85/100\n",
      "234/234 [==============================] - 0s 63us/sample - loss: 0.0288 - val_loss: 0.0432\n",
      "Epoch 86/100\n",
      "234/234 [==============================] - 0s 65us/sample - loss: 0.0295 - val_loss: 0.0427\n",
      "Epoch 87/100\n",
      "234/234 [==============================] - 0s 64us/sample - loss: 0.0302 - val_loss: 0.0506\n",
      "Epoch 88/100\n",
      "234/234 [==============================] - 0s 64us/sample - loss: 0.0304 - val_loss: 0.0425\n",
      "Epoch 89/100\n",
      "234/234 [==============================] - 0s 67us/sample - loss: 0.0303 - val_loss: 0.0424\n",
      "Epoch 90/100\n",
      "234/234 [==============================] - 0s 60us/sample - loss: 0.0289 - val_loss: 0.0432\n",
      "Epoch 91/100\n",
      "234/234 [==============================] - 0s 63us/sample - loss: 0.0294 - val_loss: 0.0422\n",
      "Epoch 92/100\n",
      "234/234 [==============================] - 0s 63us/sample - loss: 0.0291 - val_loss: 0.0420\n",
      "Epoch 93/100\n",
      "234/234 [==============================] - 0s 59us/sample - loss: 0.0295 - val_loss: 0.0417\n",
      "Epoch 94/100\n",
      "234/234 [==============================] - 0s 62us/sample - loss: 0.0292 - val_loss: 0.0414\n",
      "Epoch 95/100\n",
      "234/234 [==============================] - 0s 61us/sample - loss: 0.0288 - val_loss: 0.0413\n",
      "Epoch 96/100\n",
      "234/234 [==============================] - 0s 61us/sample - loss: 0.0282 - val_loss: 0.0412\n",
      "Epoch 97/100\n",
      "234/234 [==============================] - 0s 64us/sample - loss: 0.0281 - val_loss: 0.0429\n",
      "Epoch 98/100\n",
      "234/234 [==============================] - 0s 61us/sample - loss: 0.0292 - val_loss: 0.0410\n",
      "Epoch 99/100\n",
      "234/234 [==============================] - 0s 62us/sample - loss: 0.0291 - val_loss: 0.0405\n",
      "Epoch 100/100\n",
      "234/234 [==============================] - 0s 62us/sample - loss: 0.0283 - val_loss: 0.0399\n"
     ]
    },
    {
     "data": {
      "text/plain": [
       "RandomizedSearchCV(cv=3, error_score='raise-deprecating',\n",
       "                   estimator=<tensorflow.python.keras.wrappers.scikit_learn.KerasRegressor object at 0x1425a3190>,\n",
       "                   iid='warn', n_iter=10, n_jobs=-1,\n",
       "                   param_distributions={'learning_rate': <scipy.stats._distn_infrastructure.rv_frozen object at 0x142a27290>,\n",
       "                                        'n_hidden': [0, 1, 2, 3],\n",
       "                                        'n_neurons': array([ 1,  2,  3,  4,  5,  6,  7,  8,  9, 10, 11, 12, 13...\n",
       "       18, 19, 20, 21, 22, 23, 24, 25, 26, 27, 28, 29, 30, 31, 32, 33, 34,\n",
       "       35, 36, 37, 38, 39, 40, 41, 42, 43, 44, 45, 46, 47, 48, 49, 50, 51,\n",
       "       52, 53, 54, 55, 56, 57, 58, 59, 60, 61, 62, 63, 64, 65, 66, 67, 68,\n",
       "       69, 70, 71, 72, 73, 74, 75, 76, 77, 78, 79, 80, 81, 82, 83, 84, 85,\n",
       "       86, 87, 88, 89, 90, 91, 92, 93, 94, 95, 96, 97, 98, 99])},\n",
       "                   pre_dispatch='2*n_jobs', random_state=None, refit=True,\n",
       "                   return_train_score=False, scoring=None, verbose=2)"
      ]
     },
     "execution_count": 97,
     "metadata": {},
     "output_type": "execute_result"
    }
   ],
   "source": [
    "from scipy.stats import reciprocal\n",
    "from sklearn.model_selection import RandomizedSearchCV\n",
    "\n",
    "# 超参数范围\n",
    "param_distribs = {\n",
    "    \"n_hidden\": [0, 1, 2, 3],\n",
    "    \"n_neurons\": np.arange(1, 100),\n",
    "    \"learning_rate\": reciprocal(3e-4, 3e-2),\n",
    "}\n",
    "\n",
    "# 进行超参数查找，设置交叉验证次数为3\n",
    "rnd_search_cv = RandomizedSearchCV(keras_reg, param_distribs, n_iter=10, cv=3, n_jobs=-1, verbose=2)\n",
    "rnd_search_cv.fit(X_train, y_train, epochs=100,\n",
    "                  validation_data=(X_valid, y_valid),\n",
    "                  callbacks=[keras.callbacks.EarlyStopping(patience=10)])"
   ]
  },
  {
   "cell_type": "code",
   "execution_count": 99,
   "metadata": {},
   "outputs": [
    {
     "data": {
      "text/plain": [
       "{'learning_rate': 0.00037192261022352417, 'n_hidden': 3, 'n_neurons': 80}"
      ]
     },
     "execution_count": 99,
     "metadata": {},
     "output_type": "execute_result"
    }
   ],
   "source": [
    "# 获取最优超参数\n",
    "rnd_search_cv.best_params_"
   ]
  },
  {
   "cell_type": "code",
   "execution_count": 100,
   "metadata": {},
   "outputs": [
    {
     "data": {
      "text/plain": [
       "-0.036759495130206786"
      ]
     },
     "execution_count": 100,
     "metadata": {},
     "output_type": "execute_result"
    }
   ],
   "source": [
    "# 获取最优模型评分，scikit_learn库使用loss函数的负数形式，即为效用函数\n",
    "rnd_search_cv.best_score_"
   ]
  },
  {
   "cell_type": "code",
   "execution_count": 101,
   "metadata": {},
   "outputs": [
    {
     "data": {
      "text/plain": [
       "<tensorflow.python.keras.wrappers.scikit_learn.KerasRegressor at 0x142db23d0>"
      ]
     },
     "execution_count": 101,
     "metadata": {},
     "output_type": "execute_result"
    }
   ],
   "source": [
    "# 获取最优评分的模型\n",
    "rnd_search_cv.best_estimator_"
   ]
  },
  {
   "cell_type": "code",
   "execution_count": 102,
   "metadata": {},
   "outputs": [
    {
     "name": "stdout",
     "output_type": "stream",
     "text": [
      "78/78 [==============================] - 0s 54us/sample - loss: 0.1182\n"
     ]
    },
    {
     "data": {
      "text/plain": [
       "-0.11823661587177178"
      ]
     },
     "execution_count": 102,
     "metadata": {},
     "output_type": "execute_result"
    }
   ],
   "source": [
    "# 获取最优模型的对测试集的评分\n",
    "rnd_search_cv.score(X_test, y_test)"
   ]
  }
 ],
 "metadata": {
  "kernelspec": {
   "display_name": "Python 3",
   "language": "python",
   "name": "python3"
  },
  "language_info": {
   "codemirror_mode": {
    "name": "ipython",
    "version": 3
   },
   "file_extension": ".py",
   "mimetype": "text/x-python",
   "name": "python",
   "nbconvert_exporter": "python",
   "pygments_lexer": "ipython3",
   "version": "3.7.6"
  }
 },
 "nbformat": 4,
 "nbformat_minor": 4
}

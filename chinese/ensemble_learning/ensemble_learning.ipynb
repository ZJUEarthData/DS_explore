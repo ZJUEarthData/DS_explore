{
 "cells": [
  {
   "cell_type": "code",
   "execution_count": 1,
   "metadata": {},
   "outputs": [],
   "source": [
    "# 使下面的代码支持python2和python3\n",
    "from __future__ import division, print_function, unicode_literals\n",
    "\n",
    "# 查看python的版本是否为3.5及以上\n",
    "import sys\n",
    "assert sys.version_info >= (3, 5)\n",
    "\n",
    "# 查看sklearn的版本是否为0.20及以上\n",
    "import sklearn\n",
    "assert sklearn.__version__ >= \"0.20\"\n",
    "\n",
    "import numpy as np\n",
    "import pandas as pd\n",
    "from matplotlib import pyplot as plt\n",
    "import os \n",
    "\n",
    "# 在每一次的运行后获得的结果与这个notebook的结果相同\n",
    "np.random.seed(42) \n",
    "\n",
    "# 让matplotlib的图效果更好\n",
    "%matplotlib inline\n",
    "import matplotlib as mpl\n",
    "mpl.rc('axes', labelsize=14)\n",
    "mpl.rc('xtick', labelsize=12)\n",
    "mpl.rc('ytick', labelsize=12)\n",
    "\n",
    "# 设置保存图片的途径\n",
    "PROJECT_ROOT_DIR = \".\"\n",
    "IMAGE_PATH = os.path.join(PROJECT_ROOT_DIR, \"images\")\n",
    "os.makedirs(IMAGE_PATH, exist_ok=True)\n",
    "\n",
    "def save_fig(fig_id, tight_layout=True):\n",
    "    '''\n",
    "    运行即可保存自动图片\n",
    "    \n",
    "    :param fig_id: 图片名称\n",
    "    '''\n",
    "    path = os.path.join(PROJECT_ROOT_DIR, \"images\", fig_id + \".png\")\n",
    "    print(\"Saving figure\", fig_id)\n",
    "    if tight_layout:\n",
    "        plt.tight_layout()\n",
    "    plt.savefig(path, format='png', dpi=300)\n",
    "\n",
    "# 忽略没必要的警告\n",
    "import warnings\n",
    "warnings.filterwarnings(action=\"ignore\", message=\"^internal gelsd\")"
   ]
  },
  {
   "cell_type": "code",
   "execution_count": 3,
   "metadata": {},
   "outputs": [],
   "source": [
    "# 读取文件\n",
    "raw_data = pd.read_excel(\"data.xlsx\", engine=\"openpyxl\")"
   ]
  },
  {
   "cell_type": "code",
   "execution_count": 4,
   "metadata": {},
   "outputs": [
    {
     "name": "stdout",
     "output_type": "stream",
     "text": [
      "<class 'pandas.core.frame.DataFrame'>\n",
      "RangeIndex: 2358 entries, 0 to 2357\n",
      "Data columns (total 26 columns):\n",
      " #   Column      Non-Null Count  Dtype  \n",
      "---  ------      --------------  -----  \n",
      " 0   TRUE VALUE  2358 non-null   int64  \n",
      " 1   SIO2(WT%)   2358 non-null   float64\n",
      " 2   TIO2(WT%)   2358 non-null   float64\n",
      " 3   AL2O3(WT%)  2358 non-null   float64\n",
      " 4   CR2O3(WT%)  2358 non-null   float64\n",
      " 5   FEOT(WT%)   2358 non-null   float64\n",
      " 6   CAO(WT%)    2358 non-null   float64\n",
      " 7   MGO(WT%)    2358 non-null   float64\n",
      " 8   MNO(WT%)    2358 non-null   float64\n",
      " 9   NA2O(WT%)   2358 non-null   float64\n",
      " 10  SR(PPB)     2358 non-null   float64\n",
      " 11  Y(PPB)      2358 non-null   float64\n",
      " 12  ZR(PPB)     2358 non-null   float64\n",
      " 13  NB(PPB)     2358 non-null   float64\n",
      " 14  LA(PPB)     2358 non-null   float64\n",
      " 15  CE(PPB)     2358 non-null   float64\n",
      " 16  PR(PPB)     2358 non-null   float64\n",
      " 17  ND(PPB)     2358 non-null   float64\n",
      " 18  SM(PPB)     2358 non-null   float64\n",
      " 19  EU(PPB)     2358 non-null   float64\n",
      " 20  GD(PPB)     2358 non-null   float64\n",
      " 21  DY(PPB)     2358 non-null   float64\n",
      " 22  ER(PPB)     2358 non-null   float64\n",
      " 23  YB(PPB)     2358 non-null   float64\n",
      " 24  LU(PPB)     2358 non-null   float64\n",
      " 25  TH(PPB)     2358 non-null   float64\n",
      "dtypes: float64(25), int64(1)\n",
      "memory usage: 479.1 KB\n"
     ]
    }
   ],
   "source": [
    "# 检查是否有空值\n",
    "raw_data.info()"
   ]
  },
  {
   "cell_type": "code",
   "execution_count": 4,
   "metadata": {},
   "outputs": [],
   "source": [
    "# 如果有空值，需插值\n",
    "# raw_data.fillna(0, inplace=True)"
   ]
  },
  {
   "cell_type": "code",
   "execution_count": 5,
   "metadata": {},
   "outputs": [
    {
     "data": {
      "text/html": [
       "<div>\n",
       "<style scoped>\n",
       "    .dataframe tbody tr th:only-of-type {\n",
       "        vertical-align: middle;\n",
       "    }\n",
       "\n",
       "    .dataframe tbody tr th {\n",
       "        vertical-align: top;\n",
       "    }\n",
       "\n",
       "    .dataframe thead th {\n",
       "        text-align: right;\n",
       "    }\n",
       "</style>\n",
       "<table border=\"1\" class=\"dataframe\">\n",
       "  <thead>\n",
       "    <tr style=\"text-align: right;\">\n",
       "      <th></th>\n",
       "      <th>TRUE VALUE</th>\n",
       "      <th>SIO2(WT%)</th>\n",
       "      <th>TIO2(WT%)</th>\n",
       "      <th>AL2O3(WT%)</th>\n",
       "      <th>CR2O3(WT%)</th>\n",
       "      <th>FEOT(WT%)</th>\n",
       "      <th>CAO(WT%)</th>\n",
       "      <th>MGO(WT%)</th>\n",
       "      <th>MNO(WT%)</th>\n",
       "      <th>NA2O(WT%)</th>\n",
       "      <th>...</th>\n",
       "      <th>PR(PPB)</th>\n",
       "      <th>ND(PPB)</th>\n",
       "      <th>SM(PPB)</th>\n",
       "      <th>EU(PPB)</th>\n",
       "      <th>GD(PPB)</th>\n",
       "      <th>DY(PPB)</th>\n",
       "      <th>ER(PPB)</th>\n",
       "      <th>YB(PPB)</th>\n",
       "      <th>LU(PPB)</th>\n",
       "      <th>TH(PPB)</th>\n",
       "    </tr>\n",
       "  </thead>\n",
       "  <tbody>\n",
       "    <tr>\n",
       "      <th>count</th>\n",
       "      <td>2358.000000</td>\n",
       "      <td>2358.000000</td>\n",
       "      <td>2358.000000</td>\n",
       "      <td>2358.000000</td>\n",
       "      <td>2358.000000</td>\n",
       "      <td>2358.000000</td>\n",
       "      <td>2358.000000</td>\n",
       "      <td>2358.000000</td>\n",
       "      <td>2358.000000</td>\n",
       "      <td>2358.000000</td>\n",
       "      <td>...</td>\n",
       "      <td>2358.000000</td>\n",
       "      <td>2.358000e+03</td>\n",
       "      <td>2358.000000</td>\n",
       "      <td>2358.000000</td>\n",
       "      <td>2358.000000</td>\n",
       "      <td>2358.000000</td>\n",
       "      <td>2358.000000</td>\n",
       "      <td>2.358000e+03</td>\n",
       "      <td>2358.000000</td>\n",
       "      <td>2358.000000</td>\n",
       "    </tr>\n",
       "    <tr>\n",
       "      <th>mean</th>\n",
       "      <td>-0.005089</td>\n",
       "      <td>51.681705</td>\n",
       "      <td>0.655519</td>\n",
       "      <td>3.693616</td>\n",
       "      <td>0.268017</td>\n",
       "      <td>7.949013</td>\n",
       "      <td>20.180592</td>\n",
       "      <td>14.044880</td>\n",
       "      <td>0.258502</td>\n",
       "      <td>1.174875</td>\n",
       "      <td>...</td>\n",
       "      <td>8532.865183</td>\n",
       "      <td>4.426176e+04</td>\n",
       "      <td>13162.822585</td>\n",
       "      <td>1558.301211</td>\n",
       "      <td>13680.478334</td>\n",
       "      <td>13579.191856</td>\n",
       "      <td>7164.014578</td>\n",
       "      <td>8.246328e+03</td>\n",
       "      <td>3722.165374</td>\n",
       "      <td>2430.659623</td>\n",
       "    </tr>\n",
       "    <tr>\n",
       "      <th>std</th>\n",
       "      <td>1.000199</td>\n",
       "      <td>2.756965</td>\n",
       "      <td>0.828954</td>\n",
       "      <td>2.874760</td>\n",
       "      <td>0.400432</td>\n",
       "      <td>6.638360</td>\n",
       "      <td>3.471003</td>\n",
       "      <td>3.849389</td>\n",
       "      <td>0.302705</td>\n",
       "      <td>1.613768</td>\n",
       "      <td>...</td>\n",
       "      <td>13743.499374</td>\n",
       "      <td>6.816161e+04</td>\n",
       "      <td>20021.737086</td>\n",
       "      <td>11366.096597</td>\n",
       "      <td>21193.325767</td>\n",
       "      <td>22353.039123</td>\n",
       "      <td>15329.950936</td>\n",
       "      <td>5.423004e+04</td>\n",
       "      <td>33841.913250</td>\n",
       "      <td>35781.229175</td>\n",
       "    </tr>\n",
       "    <tr>\n",
       "      <th>min</th>\n",
       "      <td>-1.000000</td>\n",
       "      <td>38.590000</td>\n",
       "      <td>0.000000</td>\n",
       "      <td>0.000000</td>\n",
       "      <td>0.000000</td>\n",
       "      <td>0.000000</td>\n",
       "      <td>0.330000</td>\n",
       "      <td>0.178700</td>\n",
       "      <td>0.000000</td>\n",
       "      <td>0.000100</td>\n",
       "      <td>...</td>\n",
       "      <td>0.000000</td>\n",
       "      <td>0.000000e+00</td>\n",
       "      <td>0.000000</td>\n",
       "      <td>0.000000</td>\n",
       "      <td>0.000000</td>\n",
       "      <td>0.000000</td>\n",
       "      <td>0.000000</td>\n",
       "      <td>0.000000e+00</td>\n",
       "      <td>0.000000</td>\n",
       "      <td>0.000000</td>\n",
       "    </tr>\n",
       "    <tr>\n",
       "      <th>25%</th>\n",
       "      <td>-1.000000</td>\n",
       "      <td>50.100000</td>\n",
       "      <td>0.150000</td>\n",
       "      <td>1.201750</td>\n",
       "      <td>0.000100</td>\n",
       "      <td>3.090000</td>\n",
       "      <td>18.977646</td>\n",
       "      <td>12.505207</td>\n",
       "      <td>0.080000</td>\n",
       "      <td>0.323070</td>\n",
       "      <td>...</td>\n",
       "      <td>934.495359</td>\n",
       "      <td>4.610925e+03</td>\n",
       "      <td>1276.567717</td>\n",
       "      <td>418.038663</td>\n",
       "      <td>1272.812500</td>\n",
       "      <td>886.809559</td>\n",
       "      <td>466.387719</td>\n",
       "      <td>3.848555e+02</td>\n",
       "      <td>60.325000</td>\n",
       "      <td>33.550000</td>\n",
       "    </tr>\n",
       "    <tr>\n",
       "      <th>50%</th>\n",
       "      <td>-1.000000</td>\n",
       "      <td>51.916500</td>\n",
       "      <td>0.391000</td>\n",
       "      <td>3.057667</td>\n",
       "      <td>0.036100</td>\n",
       "      <td>6.309000</td>\n",
       "      <td>20.883750</td>\n",
       "      <td>14.998294</td>\n",
       "      <td>0.131465</td>\n",
       "      <td>0.600000</td>\n",
       "      <td>...</td>\n",
       "      <td>2534.488634</td>\n",
       "      <td>1.253260e+04</td>\n",
       "      <td>2964.581417</td>\n",
       "      <td>852.588154</td>\n",
       "      <td>3120.524124</td>\n",
       "      <td>3058.564272</td>\n",
       "      <td>1520.000000</td>\n",
       "      <td>1.487350e+03</td>\n",
       "      <td>214.137110</td>\n",
       "      <td>79.896295</td>\n",
       "    </tr>\n",
       "    <tr>\n",
       "      <th>75%</th>\n",
       "      <td>1.000000</td>\n",
       "      <td>53.745174</td>\n",
       "      <td>0.770000</td>\n",
       "      <td>5.589235</td>\n",
       "      <td>0.440000</td>\n",
       "      <td>9.527363</td>\n",
       "      <td>22.280598</td>\n",
       "      <td>16.602250</td>\n",
       "      <td>0.320750</td>\n",
       "      <td>1.492327</td>\n",
       "      <td>...</td>\n",
       "      <td>7418.439460</td>\n",
       "      <td>3.882795e+04</td>\n",
       "      <td>10355.419853</td>\n",
       "      <td>1627.283467</td>\n",
       "      <td>10200.360727</td>\n",
       "      <td>7650.000000</td>\n",
       "      <td>3397.965597</td>\n",
       "      <td>4.002933e+03</td>\n",
       "      <td>816.090663</td>\n",
       "      <td>239.135062</td>\n",
       "    </tr>\n",
       "    <tr>\n",
       "      <th>max</th>\n",
       "      <td>1.000000</td>\n",
       "      <td>57.580000</td>\n",
       "      <td>5.960000</td>\n",
       "      <td>19.956000</td>\n",
       "      <td>2.714000</td>\n",
       "      <td>42.302240</td>\n",
       "      <td>26.170000</td>\n",
       "      <td>39.440000</td>\n",
       "      <td>3.740000</td>\n",
       "      <td>13.200000</td>\n",
       "      <td>...</td>\n",
       "      <td>246750.209000</td>\n",
       "      <td>1.002405e+06</td>\n",
       "      <td>208961.515800</td>\n",
       "      <td>543000.000000</td>\n",
       "      <td>199337.362200</td>\n",
       "      <td>148514.145400</td>\n",
       "      <td>487000.000000</td>\n",
       "      <td>1.862000e+06</td>\n",
       "      <td>755000.000000</td>\n",
       "      <td>979000.000000</td>\n",
       "    </tr>\n",
       "  </tbody>\n",
       "</table>\n",
       "<p>8 rows × 26 columns</p>\n",
       "</div>"
      ],
      "text/plain": [
       "        TRUE VALUE    SIO2(WT%)    TIO2(WT%)   AL2O3(WT%)   CR2O3(WT%)  \\\n",
       "count  2358.000000  2358.000000  2358.000000  2358.000000  2358.000000   \n",
       "mean     -0.005089    51.681705     0.655519     3.693616     0.268017   \n",
       "std       1.000199     2.756965     0.828954     2.874760     0.400432   \n",
       "min      -1.000000    38.590000     0.000000     0.000000     0.000000   \n",
       "25%      -1.000000    50.100000     0.150000     1.201750     0.000100   \n",
       "50%      -1.000000    51.916500     0.391000     3.057667     0.036100   \n",
       "75%       1.000000    53.745174     0.770000     5.589235     0.440000   \n",
       "max       1.000000    57.580000     5.960000    19.956000     2.714000   \n",
       "\n",
       "         FEOT(WT%)     CAO(WT%)     MGO(WT%)     MNO(WT%)    NA2O(WT%)  ...  \\\n",
       "count  2358.000000  2358.000000  2358.000000  2358.000000  2358.000000  ...   \n",
       "mean      7.949013    20.180592    14.044880     0.258502     1.174875  ...   \n",
       "std       6.638360     3.471003     3.849389     0.302705     1.613768  ...   \n",
       "min       0.000000     0.330000     0.178700     0.000000     0.000100  ...   \n",
       "25%       3.090000    18.977646    12.505207     0.080000     0.323070  ...   \n",
       "50%       6.309000    20.883750    14.998294     0.131465     0.600000  ...   \n",
       "75%       9.527363    22.280598    16.602250     0.320750     1.492327  ...   \n",
       "max      42.302240    26.170000    39.440000     3.740000    13.200000  ...   \n",
       "\n",
       "             PR(PPB)       ND(PPB)        SM(PPB)        EU(PPB)  \\\n",
       "count    2358.000000  2.358000e+03    2358.000000    2358.000000   \n",
       "mean     8532.865183  4.426176e+04   13162.822585    1558.301211   \n",
       "std     13743.499374  6.816161e+04   20021.737086   11366.096597   \n",
       "min         0.000000  0.000000e+00       0.000000       0.000000   \n",
       "25%       934.495359  4.610925e+03    1276.567717     418.038663   \n",
       "50%      2534.488634  1.253260e+04    2964.581417     852.588154   \n",
       "75%      7418.439460  3.882795e+04   10355.419853    1627.283467   \n",
       "max    246750.209000  1.002405e+06  208961.515800  543000.000000   \n",
       "\n",
       "             GD(PPB)        DY(PPB)        ER(PPB)       YB(PPB)  \\\n",
       "count    2358.000000    2358.000000    2358.000000  2.358000e+03   \n",
       "mean    13680.478334   13579.191856    7164.014578  8.246328e+03   \n",
       "std     21193.325767   22353.039123   15329.950936  5.423004e+04   \n",
       "min         0.000000       0.000000       0.000000  0.000000e+00   \n",
       "25%      1272.812500     886.809559     466.387719  3.848555e+02   \n",
       "50%      3120.524124    3058.564272    1520.000000  1.487350e+03   \n",
       "75%     10200.360727    7650.000000    3397.965597  4.002933e+03   \n",
       "max    199337.362200  148514.145400  487000.000000  1.862000e+06   \n",
       "\n",
       "             LU(PPB)        TH(PPB)  \n",
       "count    2358.000000    2358.000000  \n",
       "mean     3722.165374    2430.659623  \n",
       "std     33841.913250   35781.229175  \n",
       "min         0.000000       0.000000  \n",
       "25%        60.325000      33.550000  \n",
       "50%       214.137110      79.896295  \n",
       "75%       816.090663     239.135062  \n",
       "max    755000.000000  979000.000000  \n",
       "\n",
       "[8 rows x 26 columns]"
      ]
     },
     "execution_count": 5,
     "metadata": {},
     "output_type": "execute_result"
    }
   ],
   "source": [
    "# 检查插完值后的表\n",
    "raw_data.describe()"
   ]
  },
  {
   "cell_type": "code",
   "execution_count": 6,
   "metadata": {},
   "outputs": [
    {
     "data": {
      "text/html": [
       "<div>\n",
       "<style scoped>\n",
       "    .dataframe tbody tr th:only-of-type {\n",
       "        vertical-align: middle;\n",
       "    }\n",
       "\n",
       "    .dataframe tbody tr th {\n",
       "        vertical-align: top;\n",
       "    }\n",
       "\n",
       "    .dataframe thead th {\n",
       "        text-align: right;\n",
       "    }\n",
       "</style>\n",
       "<table border=\"1\" class=\"dataframe\">\n",
       "  <thead>\n",
       "    <tr style=\"text-align: right;\">\n",
       "      <th></th>\n",
       "      <th>TRUE VALUE</th>\n",
       "      <th>SIO2(WT%)</th>\n",
       "      <th>TIO2(WT%)</th>\n",
       "      <th>AL2O3(WT%)</th>\n",
       "      <th>CR2O3(WT%)</th>\n",
       "      <th>FEOT(WT%)</th>\n",
       "      <th>CAO(WT%)</th>\n",
       "      <th>MGO(WT%)</th>\n",
       "      <th>MNO(WT%)</th>\n",
       "      <th>NA2O(WT%)</th>\n",
       "      <th>...</th>\n",
       "      <th>PR(PPB)</th>\n",
       "      <th>ND(PPB)</th>\n",
       "      <th>SM(PPB)</th>\n",
       "      <th>EU(PPB)</th>\n",
       "      <th>GD(PPB)</th>\n",
       "      <th>DY(PPB)</th>\n",
       "      <th>ER(PPB)</th>\n",
       "      <th>YB(PPB)</th>\n",
       "      <th>LU(PPB)</th>\n",
       "      <th>TH(PPB)</th>\n",
       "    </tr>\n",
       "  </thead>\n",
       "  <tbody>\n",
       "    <tr>\n",
       "      <th>0</th>\n",
       "      <td>1</td>\n",
       "      <td>49.4200</td>\n",
       "      <td>0.7771</td>\n",
       "      <td>0.5047</td>\n",
       "      <td>0.0196</td>\n",
       "      <td>23.2200</td>\n",
       "      <td>17.8500</td>\n",
       "      <td>6.6800</td>\n",
       "      <td>0.8421</td>\n",
       "      <td>0.2652</td>\n",
       "      <td>...</td>\n",
       "      <td>3722.193112</td>\n",
       "      <td>15286.752450</td>\n",
       "      <td>2496.972275</td>\n",
       "      <td>771.341005</td>\n",
       "      <td>1615.571766</td>\n",
       "      <td>1043.106268</td>\n",
       "      <td>679.293908</td>\n",
       "      <td>620.002530</td>\n",
       "      <td>99.000000</td>\n",
       "      <td>2117.083155</td>\n",
       "    </tr>\n",
       "    <tr>\n",
       "      <th>1</th>\n",
       "      <td>-1</td>\n",
       "      <td>55.4236</td>\n",
       "      <td>0.2302</td>\n",
       "      <td>7.9009</td>\n",
       "      <td>0.0768</td>\n",
       "      <td>3.1775</td>\n",
       "      <td>15.0067</td>\n",
       "      <td>13.6203</td>\n",
       "      <td>0.0780</td>\n",
       "      <td>3.5551</td>\n",
       "      <td>...</td>\n",
       "      <td>1404.899518</td>\n",
       "      <td>7334.225012</td>\n",
       "      <td>1581.714783</td>\n",
       "      <td>440.534631</td>\n",
       "      <td>1075.024781</td>\n",
       "      <td>456.772767</td>\n",
       "      <td>106.450006</td>\n",
       "      <td>56.000000</td>\n",
       "      <td>7.190000</td>\n",
       "      <td>18.012303</td>\n",
       "    </tr>\n",
       "    <tr>\n",
       "      <th>2</th>\n",
       "      <td>1</td>\n",
       "      <td>55.7368</td>\n",
       "      <td>0.2486</td>\n",
       "      <td>5.8661</td>\n",
       "      <td>0.1236</td>\n",
       "      <td>2.9318</td>\n",
       "      <td>16.6816</td>\n",
       "      <td>14.8219</td>\n",
       "      <td>0.0767</td>\n",
       "      <td>3.2461</td>\n",
       "      <td>...</td>\n",
       "      <td>2045.355178</td>\n",
       "      <td>9016.002637</td>\n",
       "      <td>2564.537120</td>\n",
       "      <td>1118.437460</td>\n",
       "      <td>2882.436657</td>\n",
       "      <td>4479.791591</td>\n",
       "      <td>2590.481678</td>\n",
       "      <td>2645.268490</td>\n",
       "      <td>275.616274</td>\n",
       "      <td>343.599927</td>\n",
       "    </tr>\n",
       "    <tr>\n",
       "      <th>3</th>\n",
       "      <td>1</td>\n",
       "      <td>54.8200</td>\n",
       "      <td>0.2900</td>\n",
       "      <td>3.4300</td>\n",
       "      <td>0.2200</td>\n",
       "      <td>5.9200</td>\n",
       "      <td>17.4100</td>\n",
       "      <td>14.1700</td>\n",
       "      <td>0.0001</td>\n",
       "      <td>3.1700</td>\n",
       "      <td>...</td>\n",
       "      <td>2574.159825</td>\n",
       "      <td>14995.256360</td>\n",
       "      <td>4145.128868</td>\n",
       "      <td>1432.173091</td>\n",
       "      <td>4015.452788</td>\n",
       "      <td>2864.960991</td>\n",
       "      <td>1020.780199</td>\n",
       "      <td>696.964682</td>\n",
       "      <td>82.247877</td>\n",
       "      <td>42.500000</td>\n",
       "    </tr>\n",
       "    <tr>\n",
       "      <th>4</th>\n",
       "      <td>-1</td>\n",
       "      <td>54.7000</td>\n",
       "      <td>0.1700</td>\n",
       "      <td>1.5400</td>\n",
       "      <td>0.0200</td>\n",
       "      <td>6.8800</td>\n",
       "      <td>19.1400</td>\n",
       "      <td>14.3900</td>\n",
       "      <td>0.0001</td>\n",
       "      <td>2.1800</td>\n",
       "      <td>...</td>\n",
       "      <td>1080.000000</td>\n",
       "      <td>3790.000000</td>\n",
       "      <td>458.000000</td>\n",
       "      <td>119.600000</td>\n",
       "      <td>260.000000</td>\n",
       "      <td>61.500000</td>\n",
       "      <td>8.470000</td>\n",
       "      <td>2.580000</td>\n",
       "      <td>0.620000</td>\n",
       "      <td>184.200000</td>\n",
       "    </tr>\n",
       "  </tbody>\n",
       "</table>\n",
       "<p>5 rows × 26 columns</p>\n",
       "</div>"
      ],
      "text/plain": [
       "   TRUE VALUE  SIO2(WT%)  TIO2(WT%)  AL2O3(WT%)  CR2O3(WT%)  FEOT(WT%)  \\\n",
       "0           1    49.4200     0.7771      0.5047      0.0196    23.2200   \n",
       "1          -1    55.4236     0.2302      7.9009      0.0768     3.1775   \n",
       "2           1    55.7368     0.2486      5.8661      0.1236     2.9318   \n",
       "3           1    54.8200     0.2900      3.4300      0.2200     5.9200   \n",
       "4          -1    54.7000     0.1700      1.5400      0.0200     6.8800   \n",
       "\n",
       "   CAO(WT%)  MGO(WT%)  MNO(WT%)  NA2O(WT%)  ...      PR(PPB)       ND(PPB)  \\\n",
       "0   17.8500    6.6800    0.8421     0.2652  ...  3722.193112  15286.752450   \n",
       "1   15.0067   13.6203    0.0780     3.5551  ...  1404.899518   7334.225012   \n",
       "2   16.6816   14.8219    0.0767     3.2461  ...  2045.355178   9016.002637   \n",
       "3   17.4100   14.1700    0.0001     3.1700  ...  2574.159825  14995.256360   \n",
       "4   19.1400   14.3900    0.0001     2.1800  ...  1080.000000   3790.000000   \n",
       "\n",
       "       SM(PPB)      EU(PPB)      GD(PPB)      DY(PPB)      ER(PPB)  \\\n",
       "0  2496.972275   771.341005  1615.571766  1043.106268   679.293908   \n",
       "1  1581.714783   440.534631  1075.024781   456.772767   106.450006   \n",
       "2  2564.537120  1118.437460  2882.436657  4479.791591  2590.481678   \n",
       "3  4145.128868  1432.173091  4015.452788  2864.960991  1020.780199   \n",
       "4   458.000000   119.600000   260.000000    61.500000     8.470000   \n",
       "\n",
       "       YB(PPB)     LU(PPB)      TH(PPB)  \n",
       "0   620.002530   99.000000  2117.083155  \n",
       "1    56.000000    7.190000    18.012303  \n",
       "2  2645.268490  275.616274   343.599927  \n",
       "3   696.964682   82.247877    42.500000  \n",
       "4     2.580000    0.620000   184.200000  \n",
       "\n",
       "[5 rows x 26 columns]"
      ]
     },
     "execution_count": 6,
     "metadata": {},
     "output_type": "execute_result"
    }
   ],
   "source": [
    "raw_data.head()"
   ]
  },
  {
   "cell_type": "code",
   "execution_count": 7,
   "metadata": {},
   "outputs": [],
   "source": [
    "# 分开特征和标签\n",
    "X = raw_data.drop([\"TRUE VALUE\"], axis=1).copy()\n",
    "y = raw_data[\"TRUE VALUE\"]"
   ]
  },
  {
   "cell_type": "code",
   "execution_count": 8,
   "metadata": {},
   "outputs": [],
   "source": [
    "from sklearn.model_selection import train_test_split\n",
    "\n",
    "# 分成训练集、验证集和测试集\n",
    "X_train_val, X_test, y_train_val, y_test = train_test_split(X, y, test_size=0.2, random_state=42)\n",
    "X_train, X_val, y_train, y_val = train_test_split(X_train_val, y_train_val, test_size=0.2, random_state=42)"
   ]
  },
  {
   "cell_type": "markdown",
   "metadata": {},
   "source": [
    "![1](./learning_images/1.png)"
   ]
  },
  {
   "cell_type": "markdown",
   "metadata": {},
   "source": [
    "# voting classifier 投票分类器"
   ]
  },
  {
   "cell_type": "code",
   "execution_count": 9,
   "metadata": {},
   "outputs": [],
   "source": [
    "from sklearn.ensemble import RandomForestClassifier, ExtraTreesClassifier\n",
    "from sklearn.linear_model import LogisticRegression\n",
    "from sklearn.svm import LinearSVC\n",
    "from sklearn.neural_network import MLPClassifier\n",
    "from sklearn.neighbors import KNeighborsClassifier "
   ]
  },
  {
   "cell_type": "code",
   "execution_count": 10,
   "metadata": {},
   "outputs": [],
   "source": [
    "# 常见的分类器模型\n",
    "random_forest_clf = RandomForestClassifier(n_estimators=10, random_state=42)\n",
    "extra_trees_clf = ExtraTreesClassifier(n_estimators=10, random_state=42)\n",
    "log_clf = LogisticRegression(solver=\"lbfgs\", random_state=42)\n",
    "svm_clf = LinearSVC(max_iter=10000, tol=0.001, random_state=42)\n",
    "mlp_clf = MLPClassifier(max_iter=10000, random_state=42)"
   ]
  },
  {
   "cell_type": "code",
   "execution_count": 11,
   "metadata": {},
   "outputs": [
    {
     "name": "stdout",
     "output_type": "stream",
     "text": [
      "..........\n",
      "Training the RandomForestClassifier(n_estimators=10, random_state=42)\n",
      "..........\n",
      "Training the ExtraTreesClassifier(n_estimators=10, random_state=42)\n",
      "..........\n",
      "Training the LogisticRegression(random_state=42)\n",
      "..........\n",
      "Training the LinearSVC(max_iter=10000, random_state=42, tol=0.001)\n"
     ]
    },
    {
     "name": "stderr",
     "output_type": "stream",
     "text": [
      "/usr/local/lib/python3.9/site-packages/sklearn/linear_model/_logistic.py:762: ConvergenceWarning: lbfgs failed to converge (status=1):\n",
      "STOP: TOTAL NO. of ITERATIONS REACHED LIMIT.\n",
      "\n",
      "Increase the number of iterations (max_iter) or scale the data as shown in:\n",
      "    https://scikit-learn.org/stable/modules/preprocessing.html\n",
      "Please also refer to the documentation for alternative solver options:\n",
      "    https://scikit-learn.org/stable/modules/linear_model.html#logistic-regression\n",
      "  n_iter_i = _check_optimize_result(\n",
      "/usr/local/lib/python3.9/site-packages/sklearn/svm/_base.py:976: ConvergenceWarning: Liblinear failed to converge, increase the number of iterations.\n",
      "  warnings.warn(\"Liblinear failed to converge, increase \"\n"
     ]
    },
    {
     "name": "stdout",
     "output_type": "stream",
     "text": [
      "..........\n",
      "Training the MLPClassifier(max_iter=10000, random_state=42)\n"
     ]
    }
   ],
   "source": [
    "estimators = [random_forest_clf, extra_trees_clf, log_clf, svm_clf, mlp_clf]\n",
    "for estimator in estimators:\n",
    "    print(\".\" * 10)\n",
    "    print(\"Training the\", estimator)\n",
    "    estimator.fit(X_train, y_train)"
   ]
  },
  {
   "cell_type": "code",
   "execution_count": 12,
   "metadata": {},
   "outputs": [],
   "source": [
    "def scores(estimators):\n",
    "    \"\"\"\n",
    "    单个分类器的评分\n",
    "    \n",
    "    :param estimators: 含有所有单个分类器的列表\n",
    "    \"\"\"\n",
    "    scores = [estimator.score(X_val, y_val) for estimator in estimators]\n",
    "    for estimator, score in zip(estimators, scores) :\n",
    "        print(estimator.__class__.__name__, \":\", score)"
   ]
  },
  {
   "cell_type": "code",
   "execution_count": 13,
   "metadata": {},
   "outputs": [
    {
     "name": "stdout",
     "output_type": "stream",
     "text": [
      "RandomForestClassifier : 0.9338624338624338\n",
      "ExtraTreesClassifier : 0.9312169312169312\n",
      "LogisticRegression : 0.828042328042328\n",
      "LinearSVC : 0.8465608465608465\n",
      "MLPClassifier : 0.91005291005291\n"
     ]
    }
   ],
   "source": [
    "# 单个分类器的准确率\n",
    "scores(estimators)"
   ]
  },
  {
   "cell_type": "code",
   "execution_count": 14,
   "metadata": {},
   "outputs": [],
   "source": [
    "named_estimators = [\n",
    "    (\"random_forest_clf\", random_forest_clf),\n",
    "    (\"extra_trees_clf\", extra_trees_clf),\n",
    "    (\"log_clf\", log_clf),\n",
    "    (\"svm_clf\", svm_clf),\n",
    "    (\"mlp_clf\", mlp_clf),\n",
    "]"
   ]
  },
  {
   "cell_type": "code",
   "execution_count": 15,
   "metadata": {},
   "outputs": [
    {
     "name": "stderr",
     "output_type": "stream",
     "text": [
      "/usr/local/lib/python3.9/site-packages/sklearn/linear_model/_logistic.py:762: ConvergenceWarning: lbfgs failed to converge (status=1):\n",
      "STOP: TOTAL NO. of ITERATIONS REACHED LIMIT.\n",
      "\n",
      "Increase the number of iterations (max_iter) or scale the data as shown in:\n",
      "    https://scikit-learn.org/stable/modules/preprocessing.html\n",
      "Please also refer to the documentation for alternative solver options:\n",
      "    https://scikit-learn.org/stable/modules/linear_model.html#logistic-regression\n",
      "  n_iter_i = _check_optimize_result(\n",
      "/usr/local/lib/python3.9/site-packages/sklearn/svm/_base.py:976: ConvergenceWarning: Liblinear failed to converge, increase the number of iterations.\n",
      "  warnings.warn(\"Liblinear failed to converge, increase \"\n"
     ]
    },
    {
     "data": {
      "text/plain": [
       "VotingClassifier(estimators=[('random_forest_clf',\n",
       "                              RandomForestClassifier(n_estimators=10,\n",
       "                                                     random_state=42)),\n",
       "                             ('extra_trees_clf',\n",
       "                              ExtraTreesClassifier(n_estimators=10,\n",
       "                                                   random_state=42)),\n",
       "                             ('log_clf', LogisticRegression(random_state=42)),\n",
       "                             ('svm_clf',\n",
       "                              LinearSVC(max_iter=10000, random_state=42,\n",
       "                                        tol=0.001)),\n",
       "                             ('mlp_clf',\n",
       "                              MLPClassifier(max_iter=10000, random_state=42))])"
      ]
     },
     "execution_count": 15,
     "metadata": {},
     "output_type": "execute_result"
    }
   ],
   "source": [
    "from sklearn.ensemble import VotingClassifier\n",
    "\n",
    "# 硬投票分类器(voting=\"hard\")，选取所有分类器中，预测结果出现次数最多的作为最终的预测结果\n",
    "voting_clf = VotingClassifier(named_estimators, voting=\"hard\")\n",
    "voting_clf.fit(X_train, y_train)"
   ]
  },
  {
   "cell_type": "code",
   "execution_count": 16,
   "metadata": {},
   "outputs": [
    {
     "data": {
      "text/plain": [
       "0.9338624338624338"
      ]
     },
     "execution_count": 16,
     "metadata": {},
     "output_type": "execute_result"
    }
   ],
   "source": [
    "# 硬投票分类器的准确率\n",
    "voting_clf.score(X_val, y_val)"
   ]
  },
  {
   "cell_type": "code",
   "execution_count": 17,
   "metadata": {},
   "outputs": [
    {
     "data": {
      "text/plain": [
       "[RandomForestClassifier(n_estimators=10, random_state=42),\n",
       " ExtraTreesClassifier(n_estimators=10, random_state=42),\n",
       " LogisticRegression(random_state=42),\n",
       " LinearSVC(max_iter=10000, random_state=42, tol=0.001),\n",
       " MLPClassifier(max_iter=10000, random_state=42)]"
      ]
     },
     "execution_count": 17,
     "metadata": {},
     "output_type": "execute_result"
    }
   ],
   "source": [
    "# 投票分类器里所含的分类器\n",
    "voting_clf.estimators_"
   ]
  },
  {
   "cell_type": "code",
   "execution_count": 18,
   "metadata": {},
   "outputs": [
    {
     "name": "stdout",
     "output_type": "stream",
     "text": [
      "RandomForestClassifier : 0.47354497354497355\n",
      "ExtraTreesClassifier : 0.48412698412698413\n",
      "LogisticRegression : 0.4417989417989418\n",
      "LinearSVC : 0.46825396825396826\n",
      "MLPClassifier : 0.4708994708994709\n"
     ]
    }
   ],
   "source": [
    "# 投票分类器里单个分类器的评分\n",
    "scores(voting_clf.estimators_)"
   ]
  },
  {
   "cell_type": "code",
   "execution_count": 19,
   "metadata": {},
   "outputs": [],
   "source": [
    "# 从投票分类器中删除掉准确率较低的分类器（LogisticRegression和LinearSVC），能有效提高投票分类器精度\n",
    "del voting_clf.estimators_[2:4]"
   ]
  },
  {
   "cell_type": "code",
   "execution_count": 20,
   "metadata": {},
   "outputs": [
    {
     "data": {
      "text/plain": [
       "[RandomForestClassifier(n_estimators=10, random_state=42),\n",
       " ExtraTreesClassifier(n_estimators=10, random_state=42),\n",
       " MLPClassifier(max_iter=10000, random_state=42)]"
      ]
     },
     "execution_count": 20,
     "metadata": {},
     "output_type": "execute_result"
    }
   ],
   "source": [
    "voting_clf.estimators_"
   ]
  },
  {
   "cell_type": "code",
   "execution_count": 21,
   "metadata": {},
   "outputs": [
    {
     "data": {
      "text/plain": [
       "0.9391534391534392"
      ]
     },
     "execution_count": 21,
     "metadata": {},
     "output_type": "execute_result"
    }
   ],
   "source": [
    "# 硬投票分类器在验证集上的准确率\n",
    "voting_clf.score(X_val, y_val)"
   ]
  },
  {
   "cell_type": "code",
   "execution_count": 22,
   "metadata": {},
   "outputs": [
    {
     "data": {
      "text/plain": [
       "0.9470338983050848"
      ]
     },
     "execution_count": 22,
     "metadata": {},
     "output_type": "execute_result"
    }
   ],
   "source": [
    "# 硬投票分类器在测试集上的准确率\n",
    "voting_clf.score(X_test, y_test)"
   ]
  },
  {
   "cell_type": "code",
   "execution_count": 23,
   "metadata": {},
   "outputs": [],
   "source": [
    "# 软投票分类器，需要保证所有的分类器（svm需要设置probability=True）都能预测类别的概率\n",
    "# 取所有分类器中预测的最高概率的分类标签作为最终的预测结果\n",
    "voting_clf.voting = \"soft\""
   ]
  },
  {
   "cell_type": "code",
   "execution_count": 24,
   "metadata": {},
   "outputs": [
    {
     "data": {
      "text/plain": [
       "0.9365079365079365"
      ]
     },
     "execution_count": 24,
     "metadata": {},
     "output_type": "execute_result"
    }
   ],
   "source": [
    "# 软投票分类器在验证集上的准确率\n",
    "voting_clf.score(X_val, y_val)"
   ]
  },
  {
   "cell_type": "code",
   "execution_count": 25,
   "metadata": {},
   "outputs": [
    {
     "data": {
      "text/plain": [
       "0.9322033898305084"
      ]
     },
     "execution_count": 25,
     "metadata": {},
     "output_type": "execute_result"
    }
   ],
   "source": [
    "# 软投票分类器在测试集上的准确率\n",
    "voting_clf.score(X_test, y_test)"
   ]
  },
  {
   "cell_type": "code",
   "execution_count": 26,
   "metadata": {},
   "outputs": [
    {
     "name": "stdout",
     "output_type": "stream",
     "text": [
      "RandomForestClassifier : 0.47354497354497355\n",
      "ExtraTreesClassifier : 0.48412698412698413\n",
      "MLPClassifier : 0.4708994708994709\n"
     ]
    }
   ],
   "source": [
    "# 投票分类器里单个分类器的评分\n",
    "scores(voting_clf.estimators_)"
   ]
  },
  {
   "cell_type": "markdown",
   "metadata": {},
   "source": [
    "# Bagging and Pasting 有放回采样和无放回采样"
   ]
  },
  {
   "cell_type": "code",
   "execution_count": 27,
   "metadata": {},
   "outputs": [],
   "source": [
    "from sklearn.ensemble import BaggingClassifier\n",
    "from sklearn.tree import DecisionTreeClassifier\n",
    "from sklearn.base import clone\n",
    "\n",
    "# 以决策树作为基分类器，允许多个分类器对相同的训练集重复采样，bootstrap=True时为有放回采样\n",
    "bag_clf = BaggingClassifier(DecisionTreeClassifier(), n_estimators=500,\n",
    "                            max_samples=100, bootstrap=True, n_jobs=-1,\n",
    "                            random_state=42)\n",
    "# 拷贝分类器，为之后可视化作准备\n",
    "bag_clf_reduced = clone(bag_clf)\n",
    "bag_clf.fit(X_train, y_train)\n",
    "y_pred = bag_clf.predict(X_test)"
   ]
  },
  {
   "cell_type": "code",
   "execution_count": 28,
   "metadata": {},
   "outputs": [
    {
     "data": {
      "text/plain": [
       "0.9088983050847458"
      ]
     },
     "execution_count": 28,
     "metadata": {},
     "output_type": "execute_result"
    }
   ],
   "source": [
    "from sklearn.metrics import accuracy_score\n",
    "accuracy_score(y_test, y_pred)"
   ]
  },
  {
   "cell_type": "code",
   "execution_count": 29,
   "metadata": {},
   "outputs": [
    {
     "data": {
      "text/plain": [
       "0.8940677966101694"
      ]
     },
     "execution_count": 29,
     "metadata": {},
     "output_type": "execute_result"
    }
   ],
   "source": [
    "tree_clf = DecisionTreeClassifier(random_state=42)\n",
    "\n",
    "# 拷贝分类器，为之后可视化作准备\n",
    "tree_clf_reduced = clone(tree_clf)\n",
    "tree_clf.fit(X_train, y_train)\n",
    "y_pred_tree = tree_clf.predict(X_test)\n",
    "\n",
    "# 单个分类器的评分\n",
    "accuracy_score(y_test, y_pred_tree)"
   ]
  },
  {
   "cell_type": "markdown",
   "metadata": {},
   "source": [
    "##### 降维，可视化Bagging"
   ]
  },
  {
   "cell_type": "code",
   "execution_count": 30,
   "metadata": {},
   "outputs": [],
   "source": [
    "from sklearn.decomposition import PCA\n",
    "\n",
    "# 将特征降至二维，可视化\n",
    "pca = PCA(n_components=2)\n",
    "reduced_X = pca.fit_transform(X)"
   ]
  },
  {
   "cell_type": "code",
   "execution_count": 31,
   "metadata": {},
   "outputs": [],
   "source": [
    "# 获取二维特征值的训练集和测试集\n",
    "reduced_X_train = pd.DataFrame(reduced_X).iloc[y_train.index]\n",
    "reduced_X_test = pd.DataFrame(reduced_X).iloc[y_test.index]"
   ]
  },
  {
   "cell_type": "code",
   "execution_count": 32,
   "metadata": {},
   "outputs": [
    {
     "data": {
      "text/plain": [
       "DecisionTreeClassifier(random_state=42)"
      ]
     },
     "execution_count": 32,
     "metadata": {},
     "output_type": "execute_result"
    }
   ],
   "source": [
    "# 用二维特征值训练拷贝的分类器\n",
    "bag_clf_reduced.fit(reduced_X_train, y_train)\n",
    "tree_clf_reduced.fit(reduced_X_train, y_train)"
   ]
  },
  {
   "cell_type": "code",
   "execution_count": 33,
   "metadata": {},
   "outputs": [],
   "source": [
    "from matplotlib.colors import ListedColormap\n",
    "\n",
    "def plot_decision_boundary(clf, X, y, resolution=1000, alpha=0.5,\n",
    "                           show_title=None, contour=True):\n",
    "    \"\"\"\n",
    "    画出分类器的决策边界\n",
    "    \n",
    "    :param clf: 分类器模型\n",
    "    :param X: 只含特征的数据集\n",
    "    :param y: 只含标签的数据集\n",
    "    :param resolutino: 填充颜色的最小单位块\n",
    "    :param alpha: 颜色的透明度\n",
    "    :param show_title: 有值，则图片有名称\n",
    "    :param contour: 为真，则决策边界能被画出来\n",
    "    \"\"\"\n",
    "    x1s = np.linspace(X[:, 0].min(axis=0), X[:, 0].max(axis=0), resolution)\n",
    "    x2s = np.linspace(X[:, 1].min(axis=0), X[:, 1].max(axis=0), resolution)\n",
    "    x1, x2 = np.meshgrid(x1s, x2s)\n",
    "    X_new = np.c_[x1.ravel(), x2.ravel()]\n",
    "    y_pred = clf.predict(X_new).reshape(x1.shape)\n",
    "    custom_cmap = ListedColormap(['#fafab0', '#9898ff', '#a0faa0'])\n",
    "    plt.contourf(x1, x2, y_pred, alpha=0.3, cmap=custom_cmap)\n",
    "    if contour:\n",
    "        custom_cmap2 = ListedColormap(['#7d7d58', '#4c4c7f', '#507d50'])\n",
    "        plt.contour(x1, x2, y_pred, cmap=custom_cmap2, alpha=0.8)\n",
    "    if show_title:\n",
    "        plt.title(show_title, fontsize=14)\n",
    "    plt.plot(X[:, 0][y==0], X[:, 1][y==0], \"yo\", alpha=alpha)\n",
    "    plt.plot(X[:, 0][y==1], X[:, 1][y==1], \"bs\", alpha=alpha)\n",
    "    #plt.axis(axes)\n",
    "    plt.xlabel(r\"$x_1$\", fontsize=18)\n",
    "    plt.ylabel(r\"$x_2$\", fontsize=18, rotation=0)"
   ]
  },
  {
   "cell_type": "code",
   "execution_count": 34,
   "metadata": {},
   "outputs": [
    {
     "name": "stdout",
     "output_type": "stream",
     "text": [
      "Saving figure decision_tree_without_and_with_bagging_plot\n"
     ]
    },
    {
     "data": {
      "image/png": "[encoded data removed]",
      "text/plain": [
       "<Figure size 792x288 with 2 Axes>"
      ]
     },
     "metadata": {
      "needs_background": "light"
     },
     "output_type": "display_data"
    }
   ],
   "source": [
    "plt.figure(figsize=(11, 4))\n",
    "plt.subplot(121)\n",
    "plot_decision_boundary(tree_clf_reduced, reduced_X, y, show_title=\"Decision Tree\")\n",
    "plt.subplot(122)\n",
    "plot_decision_boundary(bag_clf_reduced, reduced_X, y, show_title=\"Decision Trees with Bagging\")\n",
    "save_fig(\"decision_tree_without_and_with_bagging_plot\")\n",
    "plt.show()"
   ]
  },
  {
   "cell_type": "code",
   "execution_count": 35,
   "metadata": {},
   "outputs": [
    {
     "data": {
      "text/plain": [
       "DecisionTreeClassifier(random_state=42)"
      ]
     },
     "execution_count": 35,
     "metadata": {},
     "output_type": "execute_result"
    }
   ],
   "source": [
    "from sklearn.model_selection import train_test_split\n",
    "from sklearn.datasets import make_moons\n",
    "\n",
    "# 为了更好观察集成学习的效果，使用sklearn提供的数据集作参考\n",
    "moons_X, moons_y = make_moons(n_samples=500, noise=0.30, random_state=42)\n",
    "moons_X_train, moons_X_test, moons_y_train, moons_y_test = train_test_split(moons_X, moons_y, random_state=42)\n",
    "\n",
    "bag_clf.fit(moons_X_train, moons_y_train)\n",
    "tree_clf.fit(moons_X_train, moons_y_train)"
   ]
  },
  {
   "cell_type": "code",
   "execution_count": 36,
   "metadata": {},
   "outputs": [
    {
     "name": "stdout",
     "output_type": "stream",
     "text": [
      "Saving figure exp_decision_tree_without_and_with_bagging_plot\n"
     ]
    },
    {
     "data": {
      "image/png": "[encoded data removed]",
      "text/plain": [
       "<Figure size 792x288 with 2 Axes>"
      ]
     },
     "metadata": {
      "needs_background": "light"
     },
     "output_type": "display_data"
    }
   ],
   "source": [
    "plt.figure(figsize=(11, 4))\n",
    "plt.subplot(121)\n",
    "plot_decision_boundary(tree_clf, moons_X, moons_y, show_title=\"Decision Tree\")\n",
    "plt.subplot(122)\n",
    "plot_decision_boundary(bag_clf, moons_X, moons_y, show_title=\"Decision Trees with Bagging\")\n",
    "save_fig(\"exp_decision_tree_without_and_with_bagging_plot\")\n",
    "plt.show()"
   ]
  },
  {
   "cell_type": "markdown",
   "metadata": {},
   "source": [
    "##### Out-of-Bag 评价"
   ]
  },
  {
   "cell_type": "code",
   "execution_count": 37,
   "metadata": {},
   "outputs": [
    {
     "data": {
      "text/plain": [
       "0.8879310344827587"
      ]
     },
     "execution_count": 37,
     "metadata": {},
     "output_type": "execute_result"
    }
   ],
   "source": [
    "# oob_score=True表明可用oob评价作为评估，此时，类似交叉验证的验证集\n",
    "bag_clf = BaggingClassifier(\n",
    "    MLPClassifier(random_state=42), n_estimators=100, bootstrap=True,\n",
    "    max_samples=0.8, n_jobs=-1, oob_score=True, random_state=40)\n",
    "bag_clf.fit(X_train, y_train)\n",
    "bag_clf.oob_score_"
   ]
  },
  {
   "cell_type": "code",
   "execution_count": 38,
   "metadata": {},
   "outputs": [
    {
     "data": {
      "text/plain": [
       "0.8792372881355932"
      ]
     },
     "execution_count": 38,
     "metadata": {},
     "output_type": "execute_result"
    }
   ],
   "source": [
    "from sklearn.metrics import accuracy_score\n",
    "y_pred = bag_clf.predict(X_test)\n",
    "accuracy_score(y_test, y_pred)"
   ]
  },
  {
   "cell_type": "code",
   "execution_count": 39,
   "metadata": {},
   "outputs": [
    {
     "data": {
      "text/plain": [
       "2"
      ]
     },
     "execution_count": 39,
     "metadata": {},
     "output_type": "execute_result"
    }
   ],
   "source": [
    "# 分类器预测的类别数量\n",
    "bag_clf.n_classes_"
   ]
  },
  {
   "cell_type": "code",
   "execution_count": 40,
   "metadata": {},
   "outputs": [
    {
     "data": {
      "text/plain": [
       "array([[0.        , 1.        ],\n",
       "       [0.025     , 0.975     ],\n",
       "       [0.97916667, 0.02083333],\n",
       "       ...,\n",
       "       [0.15384616, 0.84615384],\n",
       "       [0.        , 1.        ],\n",
       "       [0.        , 1.        ]])"
      ]
     },
     "execution_count": 40,
     "metadata": {},
     "output_type": "execute_result"
    }
   ],
   "source": [
    "# 当基分类器有predict_proba()时，决策函数会返回对每个训练实例的类别概率\n",
    "bag_clf.oob_decision_function_"
   ]
  },
  {
   "cell_type": "markdown",
   "metadata": {},
   "source": [
    "##### 采样特征"
   ]
  },
  {
   "cell_type": "code",
   "execution_count": 41,
   "metadata": {},
   "outputs": [
    {
     "data": {
      "text/plain": [
       "0.75"
      ]
     },
     "execution_count": 41,
     "metadata": {},
     "output_type": "execute_result"
    }
   ],
   "source": [
    "from sklearn.svm import SVC\n",
    "\n",
    "# 可以对特征进行采样，而非对数据集进行采样\n",
    "bag_clf = BaggingClassifier(\n",
    "    SVC(probability=True, gamma=\"scale\", random_state=42), n_estimators=50, \n",
    "    bootstrap=True, max_samples=0.8, bootstrap_features=True, max_features=0.8,\n",
    "    oob_score=True, n_jobs=-1, random_state=40)\n",
    "bag_clf.fit(X_train, y_train)\n",
    "bag_clf.oob_score_"
   ]
  },
  {
   "cell_type": "code",
   "execution_count": 42,
   "metadata": {},
   "outputs": [
    {
     "data": {
      "text/plain": [
       "array([[0.19116329, 0.80883671],\n",
       "       [0.3251    , 0.6749    ],\n",
       "       [0.55393456, 0.44606544],\n",
       "       ...,\n",
       "       [0.41527472, 0.58472528],\n",
       "       [0.30735334, 0.69264666],\n",
       "       [0.25929721, 0.74070279]])"
      ]
     },
     "execution_count": 42,
     "metadata": {},
     "output_type": "execute_result"
    }
   ],
   "source": [
    "# 每个训练实例的类别概率\n",
    "bag_clf.oob_decision_function_"
   ]
  },
  {
   "cell_type": "markdown",
   "metadata": {},
   "source": [
    "##### 随机森林"
   ]
  },
  {
   "cell_type": "code",
   "execution_count": 43,
   "metadata": {},
   "outputs": [],
   "source": [
    "# 使用有放回抽样的集成学习近似于随机森林的效果\n",
    "bag_clf = BaggingClassifier(\n",
    "    DecisionTreeClassifier(splitter=\"random\", max_leaf_nodes=16, random_state=42),\n",
    "    n_estimators=500, max_samples=1.0, bootstrap=True, n_jobs=-1, random_state=42)\n",
    "\n",
    "bag_clf.fit(X_train, y_train)\n",
    "y_pred = bag_clf.predict(X_test)"
   ]
  },
  {
   "cell_type": "code",
   "execution_count": 44,
   "metadata": {},
   "outputs": [],
   "source": [
    "from sklearn.ensemble import RandomForestClassifier\n",
    "\n",
    "# 使用随机森林分类器模型\n",
    "rnd_clf = RandomForestClassifier(n_estimators=500, max_leaf_nodes=16,\n",
    "                                 n_jobs=-1, random_state=42)\n",
    "rnd_clf.fit(X_train, y_train)\n",
    "y_pred_rf = rnd_clf.predict(X_test)"
   ]
  },
  {
   "cell_type": "code",
   "execution_count": 45,
   "metadata": {},
   "outputs": [
    {
     "data": {
      "text/plain": [
       "0.8983050847457628"
      ]
     },
     "execution_count": 45,
     "metadata": {},
     "output_type": "execute_result"
    }
   ],
   "source": [
    "# 比较放回抽样的集成学习与随机森林的预测值相似度\n",
    "np.sum(y_pred == y_pred_rf) / len(y_pred)"
   ]
  },
  {
   "cell_type": "code",
   "execution_count": 46,
   "metadata": {},
   "outputs": [
    {
     "data": {
      "text/plain": [
       "Index(['SIO2(WT%)', 'TIO2(WT%)', 'AL2O3(WT%)', 'CR2O3(WT%)', 'FEOT(WT%)',\n",
       "       'CAO(WT%)', 'MGO(WT%)', 'MNO(WT%)', 'NA2O(WT%)', 'SR(PPB)', 'Y(PPB)',\n",
       "       'ZR(PPB)', 'NB(PPB)', 'LA(PPB)', 'CE(PPB)', 'PR(PPB)', 'ND(PPB)',\n",
       "       'SM(PPB)', 'EU(PPB)', 'GD(PPB)', 'DY(PPB)', 'ER(PPB)', 'YB(PPB)',\n",
       "       'LU(PPB)', 'TH(PPB)'],\n",
       "      dtype='object')"
      ]
     },
     "execution_count": 46,
     "metadata": {},
     "output_type": "execute_result"
    }
   ],
   "source": [
    "# 特征的名称\n",
    "X.columns"
   ]
  },
  {
   "cell_type": "code",
   "execution_count": 47,
   "metadata": {},
   "outputs": [
    {
     "data": {
      "text/plain": [
       "array([0.00438949, 0.00206521, 0.00121714, 0.00068749, 0.00150388,\n",
       "       0.00178637, 0.00139185, 0.00103351, 0.00199074, 0.04205354,\n",
       "       0.10987124, 0.0694873 , 0.13006902, 0.03913397, 0.03069537,\n",
       "       0.03632377, 0.03674074, 0.05429722, 0.01785234, 0.08284032,\n",
       "       0.1402314 , 0.08873374, 0.04845547, 0.0259079 , 0.03124097])"
      ]
     },
     "execution_count": 47,
     "metadata": {},
     "output_type": "execute_result"
    }
   ],
   "source": [
    "# 特征的权重\n",
    "rnd_clf.feature_importances_"
   ]
  },
  {
   "cell_type": "code",
   "execution_count": 48,
   "metadata": {},
   "outputs": [
    {
     "name": "stdout",
     "output_type": "stream",
     "text": [
      "SIO2(WT%) : 0.004389494380536179\n",
      "TIO2(WT%) : 0.0020652136712934186\n",
      "AL2O3(WT%) : 0.0012171363501104458\n",
      "CR2O3(WT%) : 0.000687490678313127\n",
      "FEOT(WT%) : 0.0015038835165836345\n",
      "CAO(WT%) : 0.001786366753551389\n",
      "MGO(WT%) : 0.0013918539055258168\n",
      "MNO(WT%) : 0.0010335054041048688\n",
      "NA2O(WT%) : 0.0019907406101402378\n",
      "SR(PPB) : 0.042053544649760924\n",
      "Y(PPB) : 0.10987124135034955\n",
      "ZR(PPB) : 0.06948730096812597\n",
      "NB(PPB) : 0.13006901882147787\n",
      "LA(PPB) : 0.03913396891702595\n",
      "CE(PPB) : 0.030695367927998894\n",
      "PR(PPB) : 0.03632376893757838\n",
      "ND(PPB) : 0.03674074104480148\n",
      "SM(PPB) : 0.0542972172765299\n",
      "EU(PPB) : 0.017852342268801454\n",
      "GD(PPB) : 0.08284032236904766\n",
      "DY(PPB) : 0.14023140264808245\n",
      "ER(PPB) : 0.08873373674522139\n",
      "YB(PPB) : 0.04845547101072998\n",
      "LU(PPB) : 0.025907896570442086\n",
      "TH(PPB) : 0.031240973223866778\n"
     ]
    }
   ],
   "source": [
    "# 展现每个特征的权重\n",
    "for feature_name, score in zip(list(X.columns), rnd_clf.feature_importances_):\n",
    "    print(feature_name, \":\", score)"
   ]
  },
  {
   "cell_type": "code",
   "execution_count": 49,
   "metadata": {},
   "outputs": [],
   "source": [
    "columns_name = list(X.columns)"
   ]
  },
  {
   "cell_type": "code",
   "execution_count": 50,
   "metadata": {},
   "outputs": [
    {
     "name": "stdout",
     "output_type": "stream",
     "text": [
      "Saving figure rnd_feature_importance\n"
     ]
    },
    {
     "data": {
      "image/png": "[encoded data removed]",
      "text/plain": [
       "<Figure size 2880x432 with 1 Axes>"
      ]
     },
     "metadata": {
      "needs_background": "light"
     },
     "output_type": "display_data"
    }
   ],
   "source": [
    "plt.figure(figsize=(40, 6))\n",
    "# 柱状图显示随机森林预测的特征的权重\n",
    "plt.bar(range(len(columns_name)), rnd_clf.feature_importances_, tick_label=columns_name)\n",
    "save_fig(\"rnd_feature_importance\")"
   ]
  },
  {
   "cell_type": "markdown",
   "metadata": {},
   "source": [
    "# Adaboost 适应性提升"
   ]
  },
  {
   "cell_type": "markdown",
   "metadata": {},
   "source": [
    "![2](./learning_images/2.png)"
   ]
  },
  {
   "cell_type": "code",
   "execution_count": 51,
   "metadata": {},
   "outputs": [
    {
     "data": {
      "text/plain": [
       "AdaBoostClassifier(base_estimator=DecisionTreeClassifier(max_depth=1),\n",
       "                   learning_rate=0.5, n_estimators=200, random_state=42)"
      ]
     },
     "execution_count": 51,
     "metadata": {},
     "output_type": "execute_result"
    }
   ],
   "source": [
    "from sklearn.ensemble import AdaBoostClassifier\n",
    "from sklearn.base import clone\n",
    "\n",
    "# 以决策树作为AdaBoost的基分类器, algorithm=\"SAMME.R\" 表明最终的预测值依赖与类别的概率\n",
    "ada_clf = AdaBoostClassifier(\n",
    "    DecisionTreeClassifier(max_depth=1), n_estimators=200,\n",
    "    algorithm=\"SAMME.R\", learning_rate=0.5, random_state=42)\n",
    "ada_clf_reduced = clone(ada_clf)\n",
    "# 分别使用sklearn提供的数据集和自己的经降维后的数据集训练ada模型\n",
    "ada_clf.fit(moons_X_train, moons_y_train)\n",
    "ada_clf_reduced.fit(reduced_X_train, y_train)"
   ]
  },
  {
   "cell_type": "code",
   "execution_count": 52,
   "metadata": {},
   "outputs": [
    {
     "data": {
      "text/plain": [
       "0.7584745762711864"
      ]
     },
     "execution_count": 52,
     "metadata": {},
     "output_type": "execute_result"
    }
   ],
   "source": [
    "from sklearn.metrics import accuracy_score\n",
    "\n",
    "# 降维后的数据训练获得的模型准确率\n",
    "y_pred_ada_reduced = ada_clf_reduced.predict(reduced_X_test)\n",
    "accuracy_score(y_pred_ada_reduced, y_test)"
   ]
  },
  {
   "cell_type": "code",
   "execution_count": 53,
   "metadata": {},
   "outputs": [
    {
     "data": {
      "image/png": "[encoded data removed]",
      "text/plain": [
       "<Figure size 432x288 with 1 Axes>"
      ]
     },
     "metadata": {
      "needs_background": "light"
     },
     "output_type": "display_data"
    }
   ],
   "source": [
    "plot_decision_boundary(ada_clf, reduced_X, y, show_title=\"adaboost\")"
   ]
  },
  {
   "cell_type": "code",
   "execution_count": 54,
   "metadata": {},
   "outputs": [
    {
     "data": {
      "image/png": "[encoded data removed]",
      "text/plain": [
       "<Figure size 432x288 with 1 Axes>"
      ]
     },
     "metadata": {
      "needs_background": "light"
     },
     "output_type": "display_data"
    }
   ],
   "source": [
    "plot_decision_boundary(ada_clf, moons_X, moons_y, show_title=\"exa_adaboost\")"
   ]
  },
  {
   "cell_type": "code",
   "execution_count": 55,
   "metadata": {},
   "outputs": [
    {
     "data": {
      "text/plain": [
       "0.923728813559322"
      ]
     },
     "execution_count": 55,
     "metadata": {},
     "output_type": "execute_result"
    }
   ],
   "source": [
    "# 未降维的数据集训练的模型的准确率\n",
    "ada_clf.fit(X_train, y_train)\n",
    "y_pred_ada = ada_clf.predict(X_test)\n",
    "accuracy_score(y_pred_ada, y_test)"
   ]
  },
  {
   "cell_type": "code",
   "execution_count": 56,
   "metadata": {},
   "outputs": [
    {
     "name": "stdout",
     "output_type": "stream",
     "text": [
      "SIO2(WT%) : 0.02\n",
      "TIO2(WT%) : 0.025\n",
      "AL2O3(WT%) : 0.005\n",
      "CR2O3(WT%) : 0.0\n",
      "FEOT(WT%) : 0.0\n",
      "CAO(WT%) : 0.01\n",
      "MGO(WT%) : 0.005\n",
      "MNO(WT%) : 0.035\n",
      "NA2O(WT%) : 0.015\n",
      "SR(PPB) : 0.12\n",
      "Y(PPB) : 0.05\n",
      "ZR(PPB) : 0.145\n",
      "NB(PPB) : 0.08\n",
      "LA(PPB) : 0.05\n",
      "CE(PPB) : 0.025\n",
      "PR(PPB) : 0.025\n",
      "ND(PPB) : 0.05\n",
      "SM(PPB) : 0.09\n",
      "EU(PPB) : 0.005\n",
      "GD(PPB) : 0.01\n",
      "DY(PPB) : 0.085\n",
      "ER(PPB) : 0.025\n",
      "YB(PPB) : 0.045\n",
      "LU(PPB) : 0.03\n",
      "TH(PPB) : 0.05\n"
     ]
    }
   ],
   "source": [
    "# adaboost模型的特征重要性\n",
    "for feature_name, score in zip(list(X.columns), ada_clf.feature_importances_):\n",
    "    print(feature_name, \":\", score)"
   ]
  },
  {
   "cell_type": "code",
   "execution_count": 57,
   "metadata": {},
   "outputs": [
    {
     "name": "stdout",
     "output_type": "stream",
     "text": [
      "Saving figure ada_feature_importance\n"
     ]
    },
    {
     "data": {
      "image/png": "[encoded data removed]",
      "text/plain": [
       "<Figure size 2880x432 with 1 Axes>"
      ]
     },
     "metadata": {
      "needs_background": "light"
     },
     "output_type": "display_data"
    }
   ],
   "source": [
    "# 柱状图呈现Adaboost预测的特征权重\n",
    "plt.figure(figsize=(40, 6))\n",
    "plt.bar(range(len(columns_name)), ada_clf.feature_importances_, tick_label=columns_name)\n",
    "save_fig(\"ada_feature_importance\")"
   ]
  },
  {
   "cell_type": "code",
   "execution_count": 58,
   "metadata": {},
   "outputs": [
    {
     "data": {
      "text/plain": [
       "AdaBoostClassifier(base_estimator=SVC(probability=True, random_state=42),\n",
       "                   learning_rate=0.5, n_estimators=5, random_state=42)"
      ]
     },
     "execution_count": 58,
     "metadata": {},
     "output_type": "execute_result"
    }
   ],
   "source": [
    "# 以svm作为Adaboost的基分类器\n",
    "ada_clf_svm = AdaBoostClassifier(\n",
    "    SVC(probability=True, gamma=\"scale\", random_state=42), n_estimators=5, algorithm=\"SAMME.R\",\n",
    "        learning_rate=0.5, random_state=42)\n",
    "ada_clf_svm_reduced =clone(ada_clf_svm)\n",
    "ada_clf_svm.fit(X_train, y_train)\n",
    "ada_clf_svm_reduced.fit(reduced_X_train, y_train)"
   ]
  },
  {
   "cell_type": "code",
   "execution_count": 59,
   "metadata": {},
   "outputs": [
    {
     "data": {
      "text/plain": [
       "0.6970338983050848"
      ]
     },
     "execution_count": 59,
     "metadata": {},
     "output_type": "execute_result"
    }
   ],
   "source": [
    "y_pred_svm_ada = ada_clf_svm.predict(X_test)\n",
    "accuracy_score(y_pred_svm_ada, y_test)"
   ]
  },
  {
   "cell_type": "markdown",
   "metadata": {},
   "source": [
    "# GradientBoosting 梯度提升"
   ]
  },
  {
   "cell_type": "markdown",
   "metadata": {},
   "source": [
    "![3](./learning_images/3.png)"
   ]
  },
  {
   "cell_type": "code",
   "execution_count": 60,
   "metadata": {},
   "outputs": [],
   "source": [
    "from sklearn.ensemble import GradientBoostingClassifier\n",
    "\n",
    "# GradientBoosting是基于树模型的集成学习\n",
    "gbct_clf1 = GradientBoostingClassifier(loss=\"deviance\", learning_rate=0.5, n_estimators=100, random_state=42)\n",
    "gbct_clf1.fit(X_train, y_train)\n",
    "y_pred_gbct1 = gbct_clf1.predict(X_test)"
   ]
  },
  {
   "cell_type": "code",
   "execution_count": 61,
   "metadata": {},
   "outputs": [
    {
     "data": {
      "text/plain": [
       "0.961864406779661"
      ]
     },
     "execution_count": 61,
     "metadata": {},
     "output_type": "execute_result"
    }
   ],
   "source": [
    "from sklearn.metrics import accuracy_score\n",
    "\n",
    "accuracy_score(y_pred_gbct1, y_test)"
   ]
  },
  {
   "cell_type": "code",
   "execution_count": 62,
   "metadata": {},
   "outputs": [
    {
     "name": "stdout",
     "output_type": "stream",
     "text": [
      "SIO2(WT%) : 0.007011021967331495\n",
      "TIO2(WT%) : 0.0026291750991231885\n",
      "AL2O3(WT%) : 0.0017888991858181517\n",
      "CR2O3(WT%) : 0.0003083983961534259\n",
      "FEOT(WT%) : 0.0014590596860187335\n",
      "CAO(WT%) : 0.00895787535210432\n",
      "MGO(WT%) : 0.00045433957085825574\n",
      "MNO(WT%) : 0.0015796474161836487\n",
      "NA2O(WT%) : 0.0004230113637764534\n",
      "SR(PPB) : 0.06578898461013698\n",
      "Y(PPB) : 0.0446488452557855\n",
      "ZR(PPB) : 0.08351028720419457\n",
      "NB(PPB) : 0.21702565553703895\n",
      "LA(PPB) : 0.011846797921542165\n",
      "CE(PPB) : 0.023898360274350834\n",
      "PR(PPB) : 0.012595135221833436\n",
      "ND(PPB) : 0.00627050376244681\n",
      "SM(PPB) : 0.01726393910997194\n",
      "EU(PPB) : 0.0030748585577469313\n",
      "GD(PPB) : 0.046048253585603154\n",
      "DY(PPB) : 0.3310072974275133\n",
      "ER(PPB) : 0.04396116588034052\n",
      "YB(PPB) : 0.014816784234094956\n",
      "LU(PPB) : 0.02600368361836196\n",
      "TH(PPB) : 0.027628019761670335\n"
     ]
    }
   ],
   "source": [
    "# GradientBoosting模型的特征重要性\n",
    "for feature_name, score in zip(list(X.columns), gbct_clf1.feature_importances_):\n",
    "    print(feature_name, \":\", score)"
   ]
  },
  {
   "cell_type": "code",
   "execution_count": 63,
   "metadata": {},
   "outputs": [
    {
     "name": "stdout",
     "output_type": "stream",
     "text": [
      "Saving figure gbct_feature_importance\n"
     ]
    },
    {
     "data": {
      "image/png": "[encoded data removed]",
      "text/plain": [
       "<Figure size 2880x432 with 1 Axes>"
      ]
     },
     "metadata": {
      "needs_background": "light"
     },
     "output_type": "display_data"
    }
   ],
   "source": [
    "# 柱状图呈现GradientBoosting预测的特征权重\n",
    "plt.figure(figsize=(40, 6))\n",
    "plt.bar(range(len(columns_name)), gbct_clf1.feature_importances_, tick_label=columns_name)\n",
    "save_fig(\"gbct_feature_importance\")"
   ]
  },
  {
   "cell_type": "markdown",
   "metadata": {},
   "source": [
    "##### Warm start"
   ]
  },
  {
   "cell_type": "code",
   "execution_count": 64,
   "metadata": {},
   "outputs": [],
   "source": [
    "from sklearn.metrics import accuracy_score\n",
    "\n",
    "# warm_start=True允许GBCT保留现有树，并允许增量训练\n",
    "gbct_clf2 = GradientBoostingClassifier(max_depth=3, warm_start=True, random_state=42)\n",
    "accuracy = []\n",
    "for n_estimators in range(1, 120):\n",
    "    gbct_clf2.n_estimators = n_estimators\n",
    "    gbct_clf2.fit(X_train, y_train)\n",
    "    y_pred_gbct2 = gbct_clf2.predict(X_val)\n",
    "    accuracy.append(accuracy_score(y_pred_gbct2, y_val))"
   ]
  },
  {
   "cell_type": "code",
   "execution_count": 65,
   "metadata": {},
   "outputs": [
    {
     "name": "stdout",
     "output_type": "stream",
     "text": [
      "Saving figure gbct_warm_start\n"
     ]
    },
    {
     "data": {
      "image/png": "[encoded data removed]",
      "text/plain": [
       "<Figure size 432x288 with 1 Axes>"
      ]
     },
     "metadata": {
      "needs_background": "light"
     },
     "output_type": "display_data"
    }
   ],
   "source": [
    "plt.plot(range(1, 120), accuracy)\n",
    "plt.xlabel(\"n_trees\")\n",
    "plt.ylabel(\"accuracy\")\n",
    "save_fig(\"gbct_warm_start\")"
   ]
  },
  {
   "cell_type": "code",
   "execution_count": 66,
   "metadata": {},
   "outputs": [
    {
     "data": {
      "text/plain": [
       "0.9597457627118644"
      ]
     },
     "execution_count": 66,
     "metadata": {},
     "output_type": "execute_result"
    }
   ],
   "source": [
    "# 找到使准确率最高的树的数量\n",
    "best_tree_number = np.argmax(accuracy) + 1\n",
    "gbct_clf3 = GradientBoostingClassifier(max_depth=3, n_estimators=best_tree_number, random_state=42)\n",
    "gbct_clf3.fit(X_train, y_train)\n",
    "y_pred_gbct3 = gbct_clf3.predict(X_test)\n",
    "accuracy_score(y_pred_gbct3, y_test)"
   ]
  },
  {
   "cell_type": "code",
   "execution_count": 67,
   "metadata": {},
   "outputs": [
    {
     "data": {
      "text/plain": [
       "GradientBoostingClassifier(learning_rate=0.5, random_state=42)"
      ]
     },
     "execution_count": 67,
     "metadata": {},
     "output_type": "execute_result"
    }
   ],
   "source": [
    "# 用sklearn提供的数据集训练模型，可视化过程\n",
    "gbct_clf4 = GradientBoostingClassifier(n_estimators=100, learning_rate=0.5, random_state=42)\n",
    "gbct_clf4.fit(moons_X_train, moons_y_train)"
   ]
  },
  {
   "cell_type": "code",
   "execution_count": 68,
   "metadata": {},
   "outputs": [
    {
     "data": {
      "image/png": "[encoded data removed]",
      "text/plain": [
       "<Figure size 432x288 with 1 Axes>"
      ]
     },
     "metadata": {
      "needs_background": "light"
     },
     "output_type": "display_data"
    }
   ],
   "source": [
    "plot_decision_boundary(gbct_clf4, moons_X, moons_y, show_title=\"exa_gbct\")"
   ]
  },
  {
   "cell_type": "markdown",
   "metadata": {},
   "source": [
    "##### Early stopping"
   ]
  },
  {
   "cell_type": "code",
   "execution_count": 69,
   "metadata": {},
   "outputs": [
    {
     "data": {
      "text/plain": [
       "GradientBoostingClassifier(max_depth=2, n_estimators=111, random_state=42)"
      ]
     },
     "execution_count": 69,
     "metadata": {},
     "output_type": "execute_result"
    }
   ],
   "source": [
    "import numpy as np\n",
    "from sklearn.metrics import accuracy_score\n",
    "from sklearn.ensemble import GradientBoostingClassifier\n",
    "\n",
    "gbct_clf5 = GradientBoostingClassifier(max_depth=2, n_estimators=120, random_state=42)\n",
    "gbct_clf5.fit(X_train, y_train)\n",
    "\n",
    "# 使用staged_predict()去找到树的最佳数量\n",
    "accuracy = [accuracy_score(y_val, y_pred_gbct5)\n",
    "          for y_pred_gbct5 in gbct_clf5.staged_predict(X_val)]\n",
    "bst_n_estimators = np.argmax(accuracy) + 1\n",
    "\n",
    "# 最好的模型\n",
    "gbct_best = GradientBoostingClassifier(max_depth=2, n_estimators=bst_n_estimators, random_state=42)\n",
    "gbct_best.fit(X_train, y_train)"
   ]
  },
  {
   "cell_type": "code",
   "execution_count": 70,
   "metadata": {},
   "outputs": [
    {
     "name": "stdout",
     "output_type": "stream",
     "text": [
      "Saving figure early_stopping\n"
     ]
    },
    {
     "data": {
      "image/png": "[encoded data removed]",
      "text/plain": [
       "<Figure size 432x288 with 1 Axes>"
      ]
     },
     "metadata": {
      "needs_background": "light"
     },
     "output_type": "display_data"
    }
   ],
   "source": [
    "# 找到最大值\n",
    "max_accuracy = np.max(accuracy)\n",
    "\n",
    "plt.figure(figsize=(6, 4))\n",
    "plt.plot(accuracy, \"b.-\")\n",
    "plt.plot([bst_n_estimators, bst_n_estimators], [0, max_accuracy], \"k--\")\n",
    "plt.plot([0, 120], [max_accuracy, max_accuracy], \"k--\")\n",
    "plt.plot(bst_n_estimators, max_accuracy, \"ko\")\n",
    "plt.text(bst_n_estimators, max_accuracy*0.8, \"Maximum\", ha=\"center\", fontsize=14)\n",
    "plt.axis([0, 120, 0, 1])\n",
    "plt.xlabel(\"Number of trees\")\n",
    "plt.ylabel(\"Accuracy\", fontsize=16)\n",
    "plt.title(\"Validation accuracy\", fontsize=14)\n",
    "save_fig(\"early_stopping\")"
   ]
  },
  {
   "cell_type": "code",
   "execution_count": 71,
   "metadata": {},
   "outputs": [],
   "source": [
    "gbct_clf6 = GradientBoostingClassifier(max_depth=2, warm_start=True, random_state=42)\n",
    "\n",
    "max_val_accuracy = -float(\"inf\")\n",
    "accuracy_going_down = 0\n",
    "# 如果验证集的准确率连续5轮都没有提高，则停止训练\n",
    "for n_estimators in range(1, 120):\n",
    "    gbct_clf6.n_estimators = n_estimators\n",
    "    gbct_clf6.fit(X_train, y_train)\n",
    "    y_pred = gbct_clf6.predict(X_val)\n",
    "    val_accuracy = accuracy_score(y_val, y_pred)\n",
    "    if val_accuracy > max_val_accuracy:\n",
    "        max_val_accuracy = val_accuracy\n",
    "        accuracy_going_down = 0\n",
    "    else:\n",
    "        accuracy_going_down += 1\n",
    "        if accuracy_going_down == 5:\n",
    "            break  # 早期停止算法"
   ]
  },
  {
   "cell_type": "code",
   "execution_count": 72,
   "metadata": {},
   "outputs": [
    {
     "name": "stdout",
     "output_type": "stream",
     "text": [
      "7\n"
     ]
    }
   ],
   "source": [
    "# 避免过拟合的树的最优数量\n",
    "print(gbct_clf6.n_estimators)"
   ]
  },
  {
   "cell_type": "markdown",
   "metadata": {},
   "source": [
    "##### XGBoost"
   ]
  },
  {
   "cell_type": "code",
   "execution_count": 73,
   "metadata": {},
   "outputs": [],
   "source": [
    "# 可在docs或terminal使用pip3 install xgboost\n",
    "try:\n",
    "    import xgboost\n",
    "except ImportError as ex:\n",
    "    print(\"Error: the xgboost library is not installed\")\n",
    "    xgboost = None"
   ]
  },
  {
   "cell_type": "code",
   "execution_count": 74,
   "metadata": {},
   "outputs": [
    {
     "name": "stdout",
     "output_type": "stream",
     "text": [
      "[17:41:52] WARNING: /Users/travis/build/dmlc/xgboost/src/learner.cc:1061: Starting in XGBoost 1.3.0, the default evaluation metric used with the objective 'binary:logistic' was changed from 'error' to 'logloss'. Explicitly set eval_metric if you'd like to restore the old behavior.\n",
      "0.9555084745762712\n"
     ]
    },
    {
     "name": "stderr",
     "output_type": "stream",
     "text": [
      "/usr/local/lib/python3.9/site-packages/xgboost/sklearn.py:892: UserWarning: The use of label encoder in XGBClassifier is deprecated and will be removed in a future release. To remove this warning, do the following: 1) Pass option use_label_encoder=False when constructing XGBClassifier object; and 2) Encode your labels (y) as integers starting with 0, i.e. 0, 1, 2, ..., [num_class - 1].\n",
      "  warnings.warn(label_encoder_deprecation_msg, UserWarning)\n"
     ]
    }
   ],
   "source": [
    "if xgboost:\n",
    "    xgb_clf = xgboost.XGBClassifier(max_depth=4, learning_rate=0.1,\n",
    "                                    n_estimators=100, random_state=42)\n",
    "    xgb_clf.fit(X_train, y_train)\n",
    "    y_pred_xgb = xgb_clf.predict(X_test)\n",
    "    accuracy = accuracy_score(y_pred_xgb, y_test)\n",
    "    print(accuracy)"
   ]
  },
  {
   "cell_type": "code",
   "execution_count": 75,
   "metadata": {},
   "outputs": [
    {
     "name": "stdout",
     "output_type": "stream",
     "text": [
      "[17:42:13] WARNING: /Users/travis/build/dmlc/xgboost/src/learner.cc:1061: Starting in XGBoost 1.3.0, the default evaluation metric used with the objective 'binary:logistic' was changed from 'error' to 'logloss'. Explicitly set eval_metric if you'd like to restore the old behavior.\n",
      "[0]\tvalidation_0-logloss:0.63439\n",
      "[1]\tvalidation_0-logloss:0.58465\n",
      "[2]\tvalidation_0-logloss:0.54380\n",
      "[3]\tvalidation_0-logloss:0.50850\n",
      "[4]\tvalidation_0-logloss:0.47910\n",
      "[5]\tvalidation_0-logloss:0.45309\n",
      "[6]\tvalidation_0-logloss:0.43112\n",
      "[7]\tvalidation_0-logloss:0.41240\n",
      "[8]\tvalidation_0-logloss:0.39467\n",
      "[9]\tvalidation_0-logloss:0.37997\n",
      "[10]\tvalidation_0-logloss:0.36633\n",
      "[11]\tvalidation_0-logloss:0.35300\n",
      "[12]\tvalidation_0-logloss:0.34086\n",
      "[13]\tvalidation_0-logloss:0.33129\n",
      "[14]\tvalidation_0-logloss:0.32173\n",
      "[15]\tvalidation_0-logloss:0.31365\n",
      "[16]\tvalidation_0-logloss:0.30290\n",
      "[17]\tvalidation_0-logloss:0.29625\n",
      "[18]\tvalidation_0-logloss:0.28600\n",
      "[19]\tvalidation_0-logloss:0.27833\n",
      "[20]\tvalidation_0-logloss:0.27367\n",
      "[21]\tvalidation_0-logloss:0.26696\n",
      "[22]\tvalidation_0-logloss:0.25948\n",
      "[23]\tvalidation_0-logloss:0.25389\n",
      "[24]\tvalidation_0-logloss:0.24815\n",
      "[25]\tvalidation_0-logloss:0.24298\n",
      "[26]\tvalidation_0-logloss:0.23740\n",
      "[27]\tvalidation_0-logloss:0.23509\n",
      "[28]\tvalidation_0-logloss:0.23185\n",
      "[29]\tvalidation_0-logloss:0.22781\n",
      "[30]\tvalidation_0-logloss:0.22541\n",
      "[31]\tvalidation_0-logloss:0.22178\n",
      "[32]\tvalidation_0-logloss:0.21903\n",
      "[33]\tvalidation_0-logloss:0.21483\n",
      "[34]\tvalidation_0-logloss:0.21269\n",
      "[35]\tvalidation_0-logloss:0.21068\n",
      "[36]\tvalidation_0-logloss:0.20739\n",
      "[37]\tvalidation_0-logloss:0.20661\n",
      "[38]\tvalidation_0-logloss:0.20384\n",
      "[39]\tvalidation_0-logloss:0.20073\n",
      "[40]\tvalidation_0-logloss:0.19831\n",
      "[41]\tvalidation_0-logloss:0.19687\n",
      "[42]\tvalidation_0-logloss:0.19578\n",
      "[43]\tvalidation_0-logloss:0.19405\n",
      "[44]\tvalidation_0-logloss:0.19231\n",
      "[45]\tvalidation_0-logloss:0.18980\n",
      "[46]\tvalidation_0-logloss:0.18705\n",
      "[47]\tvalidation_0-logloss:0.18573\n",
      "[48]\tvalidation_0-logloss:0.18470\n",
      "[49]\tvalidation_0-logloss:0.18238\n",
      "[50]\tvalidation_0-logloss:0.18143\n",
      "[51]\tvalidation_0-logloss:0.18040\n",
      "[52]\tvalidation_0-logloss:0.17842\n",
      "[53]\tvalidation_0-logloss:0.17782\n",
      "[54]\tvalidation_0-logloss:0.17780\n",
      "[55]\tvalidation_0-logloss:0.17705\n",
      "[56]\tvalidation_0-logloss:0.17617\n",
      "[57]\tvalidation_0-logloss:0.17537\n",
      "[58]\tvalidation_0-logloss:0.17420\n",
      "[59]\tvalidation_0-logloss:0.17388\n",
      "[60]\tvalidation_0-logloss:0.17336\n",
      "[61]\tvalidation_0-logloss:0.17327\n",
      "[62]\tvalidation_0-logloss:0.17181\n",
      "[63]\tvalidation_0-logloss:0.17036\n",
      "[64]\tvalidation_0-logloss:0.16973\n",
      "[65]\tvalidation_0-logloss:0.16921\n",
      "[66]\tvalidation_0-logloss:0.16880\n",
      "[67]\tvalidation_0-logloss:0.16827\n",
      "[68]\tvalidation_0-logloss:0.16706\n",
      "[69]\tvalidation_0-logloss:0.16645\n",
      "[70]\tvalidation_0-logloss:0.16579\n",
      "[71]\tvalidation_0-logloss:0.16538\n",
      "[72]\tvalidation_0-logloss:0.16441\n",
      "[73]\tvalidation_0-logloss:0.16275\n",
      "[74]\tvalidation_0-logloss:0.16201\n",
      "[75]\tvalidation_0-logloss:0.16223\n",
      "[76]\tvalidation_0-logloss:0.16107\n",
      "[77]\tvalidation_0-logloss:0.16053\n",
      "[78]\tvalidation_0-logloss:0.15968\n",
      "[79]\tvalidation_0-logloss:0.15921\n",
      "[80]\tvalidation_0-logloss:0.15917\n",
      "[81]\tvalidation_0-logloss:0.15857\n",
      "[82]\tvalidation_0-logloss:0.15820\n",
      "[83]\tvalidation_0-logloss:0.15697\n",
      "[84]\tvalidation_0-logloss:0.15574\n",
      "[85]\tvalidation_0-logloss:0.15490\n",
      "[86]\tvalidation_0-logloss:0.15432\n",
      "[87]\tvalidation_0-logloss:0.15399\n",
      "[88]\tvalidation_0-logloss:0.15361\n",
      "[89]\tvalidation_0-logloss:0.15330\n",
      "[90]\tvalidation_0-logloss:0.15344\n",
      "[91]\tvalidation_0-logloss:0.15304\n",
      "[92]\tvalidation_0-logloss:0.15266\n",
      "[93]\tvalidation_0-logloss:0.15226\n",
      "[94]\tvalidation_0-logloss:0.15194\n",
      "[95]\tvalidation_0-logloss:0.15091\n",
      "[96]\tvalidation_0-logloss:0.14985\n",
      "[97]\tvalidation_0-logloss:0.14965\n",
      "[98]\tvalidation_0-logloss:0.14944\n",
      "[99]\tvalidation_0-logloss:0.14922\n",
      "Validation accuracy: 0.9470899470899471\n"
     ]
    }
   ],
   "source": [
    "if xgboost:\n",
    "    # 早期停止法\n",
    "    xgb_clf.fit(X_train, y_train,\n",
    "                eval_set=[(X_val, y_val)], early_stopping_rounds=5)\n",
    "    y_pred = xgb_clf.predict(X_val)\n",
    "    val_accuracy = accuracy_score(y_val, y_pred)  \n",
    "    print(\"Validation accuracy:\", val_accuracy)"
   ]
  },
  {
   "cell_type": "code",
   "execution_count": 76,
   "metadata": {},
   "outputs": [
    {
     "name": "stdout",
     "output_type": "stream",
     "text": [
      "SIO2(WT%) : 0.017526321\n",
      "TIO2(WT%) : 0.008290754\n",
      "AL2O3(WT%) : 0.008226149\n",
      "CR2O3(WT%) : 0.0067688655\n",
      "FEOT(WT%) : 0.0057260483\n",
      "CAO(WT%) : 0.011506431\n",
      "MGO(WT%) : 0.0067142393\n",
      "MNO(WT%) : 0.012201387\n",
      "NA2O(WT%) : 0.006672352\n",
      "SR(PPB) : 0.030502705\n",
      "Y(PPB) : 0.04569668\n",
      "ZR(PPB) : 0.03529168\n",
      "NB(PPB) : 0.12215777\n",
      "LA(PPB) : 0.021509757\n",
      "CE(PPB) : 0.020506568\n",
      "PR(PPB) : 0.046140604\n",
      "ND(PPB) : 0.034415357\n",
      "SM(PPB) : 0.03424005\n",
      "EU(PPB) : 0.015329148\n",
      "GD(PPB) : 0.091134645\n",
      "DY(PPB) : 0.27982146\n",
      "ER(PPB) : 0.06824005\n",
      "YB(PPB) : 0.01799907\n",
      "LU(PPB) : 0.026435392\n",
      "TH(PPB) : 0.026946569\n"
     ]
    }
   ],
   "source": [
    "# xgboost模型的特征重要性\n",
    "for feature_name, score in zip(list(X.columns), xgb_clf.feature_importances_):\n",
    "    print(feature_name, \":\", score)"
   ]
  },
  {
   "cell_type": "code",
   "execution_count": 77,
   "metadata": {},
   "outputs": [
    {
     "name": "stdout",
     "output_type": "stream",
     "text": [
      "Saving figure xgb_feature_importance\n"
     ]
    },
    {
     "data": {
      "image/png": "[encoded data removed]",
      "text/plain": [
       "<Figure size 2880x432 with 1 Axes>"
      ]
     },
     "metadata": {
      "needs_background": "light"
     },
     "output_type": "display_data"
    }
   ],
   "source": [
    "# 柱状图呈现XGBoost预测的特征权重\n",
    "plt.figure(figsize=(40, 6))\n",
    "plt.bar(range(len(columns_name)), xgb_clf.feature_importances_, tick_label=columns_name)\n",
    "save_fig(\"xgb_feature_importance\")"
   ]
  },
  {
   "cell_type": "code",
   "execution_count": 78,
   "metadata": {},
   "outputs": [
    {
     "name": "stdout",
     "output_type": "stream",
     "text": [
      "Saving figure xgb_feature_importance_fscore\n"
     ]
    },
    {
     "data": {
      "image/png": "[encoded data removed]",
      "text/plain": [
       "<Figure size 1008x576 with 1 Axes>"
      ]
     },
     "metadata": {
      "needs_background": "light"
     },
     "output_type": "display_data"
    }
   ],
   "source": [
    "# 根据重要性排序的特征重要图\n",
    "plt.rcParams[\"figure.figsize\"] = (14, 8)\n",
    "xgboost.plot_importance(xgb_clf)\n",
    "save_fig(\"xgb_feature_importance_fscore\")"
   ]
  },
  {
   "cell_type": "code",
   "execution_count": 79,
   "metadata": {},
   "outputs": [
    {
     "name": "stdout",
     "output_type": "stream",
     "text": [
      "[17:42:36] WARNING: /Users/travis/build/dmlc/xgboost/src/learner.cc:1061: Starting in XGBoost 1.3.0, the default evaluation metric used with the objective 'binary:logistic' was changed from 'error' to 'logloss'. Explicitly set eval_metric if you'd like to restore the old behavior.\n",
      "[17:42:36] WARNING: /Users/travis/build/dmlc/xgboost/src/learner.cc:1061: Starting in XGBoost 1.3.0, the default evaluation metric used with the objective 'binary:logistic' was changed from 'error' to 'logloss'. Explicitly set eval_metric if you'd like to restore the old behavior.\n",
      "[17:42:36] WARNING: /Users/travis/build/dmlc/xgboost/src/learner.cc:1061: Starting in XGBoost 1.3.0, the default evaluation metric used with the objective 'binary:logistic' was changed from 'error' to 'logloss'. Explicitly set eval_metric if you'd like to restore the old behavior.\n",
      "[17:42:36] WARNING: /Users/travis/build/dmlc/xgboost/src/learner.cc:1061: Starting in XGBoost 1.3.0, the default evaluation metric used with the objective 'binary:logistic' was changed from 'error' to 'logloss'. Explicitly set eval_metric if you'd like to restore the old behavior.\n",
      "[17:42:37] WARNING: /Users/travis/build/dmlc/xgboost/src/learner.cc:1061: Starting in XGBoost 1.3.0, the default evaluation metric used with the objective 'binary:logistic' was changed from 'error' to 'logloss'. Explicitly set eval_metric if you'd like to restore the old behavior.\n",
      "[17:42:37] WARNING: /Users/travis/build/dmlc/xgboost/src/learner.cc:1061: Starting in XGBoost 1.3.0, the default evaluation metric used with the objective 'binary:logistic' was changed from 'error' to 'logloss'. Explicitly set eval_metric if you'd like to restore the old behavior.\n",
      "[17:42:37] WARNING: /Users/travis/build/dmlc/xgboost/src/learner.cc:1061: Starting in XGBoost 1.3.0, the default evaluation metric used with the objective 'binary:logistic' was changed from 'error' to 'logloss'. Explicitly set eval_metric if you'd like to restore the old behavior.\n",
      "[17:42:37] WARNING: /Users/travis/build/dmlc/xgboost/src/learner.cc:1061: Starting in XGBoost 1.3.0, the default evaluation metric used with the objective 'binary:logistic' was changed from 'error' to 'logloss'. Explicitly set eval_metric if you'd like to restore the old behavior.\n",
      "[17:42:38] WARNING: /Users/travis/build/dmlc/xgboost/src/learner.cc:1061: Starting in XGBoost 1.3.0, the default evaluation metric used with the objective 'binary:logistic' was changed from 'error' to 'logloss'. Explicitly set eval_metric if you'd like to restore the old behavior.\n",
      "[17:42:38] WARNING: /Users/travis/build/dmlc/xgboost/src/learner.cc:1061: Starting in XGBoost 1.3.0, the default evaluation metric used with the objective 'binary:logistic' was changed from 'error' to 'logloss'. Explicitly set eval_metric if you'd like to restore the old behavior.\n",
      "[17:42:39] WARNING: /Users/travis/build/dmlc/xgboost/src/learner.cc:1061: Starting in XGBoost 1.3.0, the default evaluation metric used with the objective 'binary:logistic' was changed from 'error' to 'logloss'. Explicitly set eval_metric if you'd like to restore the old behavior.\n",
      "[17:42:39] WARNING: /Users/travis/build/dmlc/xgboost/src/learner.cc:1061: Starting in XGBoost 1.3.0, the default evaluation metric used with the objective 'binary:logistic' was changed from 'error' to 'logloss'. Explicitly set eval_metric if you'd like to restore the old behavior.\n",
      "[17:42:39] WARNING: /Users/travis/build/dmlc/xgboost/src/learner.cc:1061: Starting in XGBoost 1.3.0, the default evaluation metric used with the objective 'binary:logistic' was changed from 'error' to 'logloss'. Explicitly set eval_metric if you'd like to restore the old behavior.\n",
      "[17:42:40] WARNING: /Users/travis/build/dmlc/xgboost/src/learner.cc:1061: Starting in XGBoost 1.3.0, the default evaluation metric used with the objective 'binary:logistic' was changed from 'error' to 'logloss'. Explicitly set eval_metric if you'd like to restore the old behavior.\n",
      "[17:42:40] WARNING: /Users/travis/build/dmlc/xgboost/src/learner.cc:1061: Starting in XGBoost 1.3.0, the default evaluation metric used with the objective 'binary:logistic' was changed from 'error' to 'logloss'. Explicitly set eval_metric if you'd like to restore the old behavior.\n",
      "[17:42:40] WARNING: /Users/travis/build/dmlc/xgboost/src/learner.cc:1061: Starting in XGBoost 1.3.0, the default evaluation metric used with the objective 'binary:logistic' was changed from 'error' to 'logloss'. Explicitly set eval_metric if you'd like to restore the old behavior.\n",
      "[17:42:41] WARNING: /Users/travis/build/dmlc/xgboost/src/learner.cc:1061: Starting in XGBoost 1.3.0, the default evaluation metric used with the objective 'binary:logistic' was changed from 'error' to 'logloss'. Explicitly set eval_metric if you'd like to restore the old behavior.\n",
      "[17:42:41] WARNING: /Users/travis/build/dmlc/xgboost/src/learner.cc:1061: Starting in XGBoost 1.3.0, the default evaluation metric used with the objective 'binary:logistic' was changed from 'error' to 'logloss'. Explicitly set eval_metric if you'd like to restore the old behavior.\n",
      "[17:42:41] WARNING: /Users/travis/build/dmlc/xgboost/src/learner.cc:1061: Starting in XGBoost 1.3.0, the default evaluation metric used with the objective 'binary:logistic' was changed from 'error' to 'logloss'. Explicitly set eval_metric if you'd like to restore the old behavior.\n",
      "[17:42:42] WARNING: /Users/travis/build/dmlc/xgboost/src/learner.cc:1061: Starting in XGBoost 1.3.0, the default evaluation metric used with the objective 'binary:logistic' was changed from 'error' to 'logloss'. Explicitly set eval_metric if you'd like to restore the old behavior.\n",
      "[17:42:42] WARNING: /Users/travis/build/dmlc/xgboost/src/learner.cc:1061: Starting in XGBoost 1.3.0, the default evaluation metric used with the objective 'binary:logistic' was changed from 'error' to 'logloss'. Explicitly set eval_metric if you'd like to restore the old behavior.\n",
      "[17:42:42] WARNING: /Users/travis/build/dmlc/xgboost/src/learner.cc:1061: Starting in XGBoost 1.3.0, the default evaluation metric used with the objective 'binary:logistic' was changed from 'error' to 'logloss'. Explicitly set eval_metric if you'd like to restore the old behavior.\n",
      "[17:42:43] WARNING: /Users/travis/build/dmlc/xgboost/src/learner.cc:1061: Starting in XGBoost 1.3.0, the default evaluation metric used with the objective 'binary:logistic' was changed from 'error' to 'logloss'. Explicitly set eval_metric if you'd like to restore the old behavior.\n",
      "[17:42:43] WARNING: /Users/travis/build/dmlc/xgboost/src/learner.cc:1061: Starting in XGBoost 1.3.0, the default evaluation metric used with the objective 'binary:logistic' was changed from 'error' to 'logloss'. Explicitly set eval_metric if you'd like to restore the old behavior.\n",
      "[17:42:44] WARNING: /Users/travis/build/dmlc/xgboost/src/learner.cc:1061: Starting in XGBoost 1.3.0, the default evaluation metric used with the objective 'binary:logistic' was changed from 'error' to 'logloss'. Explicitly set eval_metric if you'd like to restore the old behavior.\n",
      "[17:42:44] WARNING: /Users/travis/build/dmlc/xgboost/src/learner.cc:1061: Starting in XGBoost 1.3.0, the default evaluation metric used with the objective 'binary:logistic' was changed from 'error' to 'logloss'. Explicitly set eval_metric if you'd like to restore the old behavior.\n",
      "[17:42:45] WARNING: /Users/travis/build/dmlc/xgboost/src/learner.cc:1061: Starting in XGBoost 1.3.0, the default evaluation metric used with the objective 'binary:logistic' was changed from 'error' to 'logloss'. Explicitly set eval_metric if you'd like to restore the old behavior.\n",
      "[17:42:45] WARNING: /Users/travis/build/dmlc/xgboost/src/learner.cc:1061: Starting in XGBoost 1.3.0, the default evaluation metric used with the objective 'binary:logistic' was changed from 'error' to 'logloss'. Explicitly set eval_metric if you'd like to restore the old behavior.\n",
      "[17:42:45] WARNING: /Users/travis/build/dmlc/xgboost/src/learner.cc:1061: Starting in XGBoost 1.3.0, the default evaluation metric used with the objective 'binary:logistic' was changed from 'error' to 'logloss'. Explicitly set eval_metric if you'd like to restore the old behavior.\n",
      "[17:42:46] WARNING: /Users/travis/build/dmlc/xgboost/src/learner.cc:1061: Starting in XGBoost 1.3.0, the default evaluation metric used with the objective 'binary:logistic' was changed from 'error' to 'logloss'. Explicitly set eval_metric if you'd like to restore the old behavior.\n"
     ]
    },
    {
     "name": "stdout",
     "output_type": "stream",
     "text": [
      "[17:42:46] WARNING: /Users/travis/build/dmlc/xgboost/src/learner.cc:1061: Starting in XGBoost 1.3.0, the default evaluation metric used with the objective 'binary:logistic' was changed from 'error' to 'logloss'. Explicitly set eval_metric if you'd like to restore the old behavior.\n",
      "[17:42:46] WARNING: /Users/travis/build/dmlc/xgboost/src/learner.cc:1061: Starting in XGBoost 1.3.0, the default evaluation metric used with the objective 'binary:logistic' was changed from 'error' to 'logloss'. Explicitly set eval_metric if you'd like to restore the old behavior.\n",
      "[17:42:47] WARNING: /Users/travis/build/dmlc/xgboost/src/learner.cc:1061: Starting in XGBoost 1.3.0, the default evaluation metric used with the objective 'binary:logistic' was changed from 'error' to 'logloss'. Explicitly set eval_metric if you'd like to restore the old behavior.\n",
      "[17:42:47] WARNING: /Users/travis/build/dmlc/xgboost/src/learner.cc:1061: Starting in XGBoost 1.3.0, the default evaluation metric used with the objective 'binary:logistic' was changed from 'error' to 'logloss'. Explicitly set eval_metric if you'd like to restore the old behavior.\n",
      "[17:42:48] WARNING: /Users/travis/build/dmlc/xgboost/src/learner.cc:1061: Starting in XGBoost 1.3.0, the default evaluation metric used with the objective 'binary:logistic' was changed from 'error' to 'logloss'. Explicitly set eval_metric if you'd like to restore the old behavior.\n",
      "[17:42:48] WARNING: /Users/travis/build/dmlc/xgboost/src/learner.cc:1061: Starting in XGBoost 1.3.0, the default evaluation metric used with the objective 'binary:logistic' was changed from 'error' to 'logloss'. Explicitly set eval_metric if you'd like to restore the old behavior.\n",
      "[17:42:49] WARNING: /Users/travis/build/dmlc/xgboost/src/learner.cc:1061: Starting in XGBoost 1.3.0, the default evaluation metric used with the objective 'binary:logistic' was changed from 'error' to 'logloss'. Explicitly set eval_metric if you'd like to restore the old behavior.\n",
      "[17:42:49] WARNING: /Users/travis/build/dmlc/xgboost/src/learner.cc:1061: Starting in XGBoost 1.3.0, the default evaluation metric used with the objective 'binary:logistic' was changed from 'error' to 'logloss'. Explicitly set eval_metric if you'd like to restore the old behavior.\n",
      "[17:42:49] WARNING: /Users/travis/build/dmlc/xgboost/src/learner.cc:1061: Starting in XGBoost 1.3.0, the default evaluation metric used with the objective 'binary:logistic' was changed from 'error' to 'logloss'. Explicitly set eval_metric if you'd like to restore the old behavior.\n",
      "[17:42:50] WARNING: /Users/travis/build/dmlc/xgboost/src/learner.cc:1061: Starting in XGBoost 1.3.0, the default evaluation metric used with the objective 'binary:logistic' was changed from 'error' to 'logloss'. Explicitly set eval_metric if you'd like to restore the old behavior.\n",
      "[17:42:50] WARNING: /Users/travis/build/dmlc/xgboost/src/learner.cc:1061: Starting in XGBoost 1.3.0, the default evaluation metric used with the objective 'binary:logistic' was changed from 'error' to 'logloss'. Explicitly set eval_metric if you'd like to restore the old behavior.\n",
      "[17:42:51] WARNING: /Users/travis/build/dmlc/xgboost/src/learner.cc:1061: Starting in XGBoost 1.3.0, the default evaluation metric used with the objective 'binary:logistic' was changed from 'error' to 'logloss'. Explicitly set eval_metric if you'd like to restore the old behavior.\n",
      "[17:42:51] WARNING: /Users/travis/build/dmlc/xgboost/src/learner.cc:1061: Starting in XGBoost 1.3.0, the default evaluation metric used with the objective 'binary:logistic' was changed from 'error' to 'logloss'. Explicitly set eval_metric if you'd like to restore the old behavior.\n",
      "[17:42:51] WARNING: /Users/travis/build/dmlc/xgboost/src/learner.cc:1061: Starting in XGBoost 1.3.0, the default evaluation metric used with the objective 'binary:logistic' was changed from 'error' to 'logloss'. Explicitly set eval_metric if you'd like to restore the old behavior.\n",
      "[17:42:52] WARNING: /Users/travis/build/dmlc/xgboost/src/learner.cc:1061: Starting in XGBoost 1.3.0, the default evaluation metric used with the objective 'binary:logistic' was changed from 'error' to 'logloss'. Explicitly set eval_metric if you'd like to restore the old behavior.\n",
      "[17:42:52] WARNING: /Users/travis/build/dmlc/xgboost/src/learner.cc:1061: Starting in XGBoost 1.3.0, the default evaluation metric used with the objective 'binary:logistic' was changed from 'error' to 'logloss'. Explicitly set eval_metric if you'd like to restore the old behavior.\n",
      "[17:42:53] WARNING: /Users/travis/build/dmlc/xgboost/src/learner.cc:1061: Starting in XGBoost 1.3.0, the default evaluation metric used with the objective 'binary:logistic' was changed from 'error' to 'logloss'. Explicitly set eval_metric if you'd like to restore the old behavior.\n",
      "[17:42:53] WARNING: /Users/travis/build/dmlc/xgboost/src/learner.cc:1061: Starting in XGBoost 1.3.0, the default evaluation metric used with the objective 'binary:logistic' was changed from 'error' to 'logloss'. Explicitly set eval_metric if you'd like to restore the old behavior.\n",
      "[17:42:53] WARNING: /Users/travis/build/dmlc/xgboost/src/learner.cc:1061: Starting in XGBoost 1.3.0, the default evaluation metric used with the objective 'binary:logistic' was changed from 'error' to 'logloss'. Explicitly set eval_metric if you'd like to restore the old behavior.\n",
      "[17:42:54] WARNING: /Users/travis/build/dmlc/xgboost/src/learner.cc:1061: Starting in XGBoost 1.3.0, the default evaluation metric used with the objective 'binary:logistic' was changed from 'error' to 'logloss'. Explicitly set eval_metric if you'd like to restore the old behavior.\n",
      "[17:42:54] WARNING: /Users/travis/build/dmlc/xgboost/src/learner.cc:1061: Starting in XGBoost 1.3.0, the default evaluation metric used with the objective 'binary:logistic' was changed from 'error' to 'logloss'. Explicitly set eval_metric if you'd like to restore the old behavior.\n",
      "[17:42:55] WARNING: /Users/travis/build/dmlc/xgboost/src/learner.cc:1061: Starting in XGBoost 1.3.0, the default evaluation metric used with the objective 'binary:logistic' was changed from 'error' to 'logloss'. Explicitly set eval_metric if you'd like to restore the old behavior.\n",
      "[17:42:55] WARNING: /Users/travis/build/dmlc/xgboost/src/learner.cc:1061: Starting in XGBoost 1.3.0, the default evaluation metric used with the objective 'binary:logistic' was changed from 'error' to 'logloss'. Explicitly set eval_metric if you'd like to restore the old behavior.\n",
      "[17:42:56] WARNING: /Users/travis/build/dmlc/xgboost/src/learner.cc:1061: Starting in XGBoost 1.3.0, the default evaluation metric used with the objective 'binary:logistic' was changed from 'error' to 'logloss'. Explicitly set eval_metric if you'd like to restore the old behavior.\n",
      "[17:42:56] WARNING: /Users/travis/build/dmlc/xgboost/src/learner.cc:1061: Starting in XGBoost 1.3.0, the default evaluation metric used with the objective 'binary:logistic' was changed from 'error' to 'logloss'. Explicitly set eval_metric if you'd like to restore the old behavior.\n",
      "[17:42:57] WARNING: /Users/travis/build/dmlc/xgboost/src/learner.cc:1061: Starting in XGBoost 1.3.0, the default evaluation metric used with the objective 'binary:logistic' was changed from 'error' to 'logloss'. Explicitly set eval_metric if you'd like to restore the old behavior.\n",
      "[17:42:57] WARNING: /Users/travis/build/dmlc/xgboost/src/learner.cc:1061: Starting in XGBoost 1.3.0, the default evaluation metric used with the objective 'binary:logistic' was changed from 'error' to 'logloss'. Explicitly set eval_metric if you'd like to restore the old behavior.\n",
      "[17:42:57] WARNING: /Users/travis/build/dmlc/xgboost/src/learner.cc:1061: Starting in XGBoost 1.3.0, the default evaluation metric used with the objective 'binary:logistic' was changed from 'error' to 'logloss'. Explicitly set eval_metric if you'd like to restore the old behavior.\n",
      "[17:42:58] WARNING: /Users/travis/build/dmlc/xgboost/src/learner.cc:1061: Starting in XGBoost 1.3.0, the default evaluation metric used with the objective 'binary:logistic' was changed from 'error' to 'logloss'. Explicitly set eval_metric if you'd like to restore the old behavior.\n",
      "[17:42:58] WARNING: /Users/travis/build/dmlc/xgboost/src/learner.cc:1061: Starting in XGBoost 1.3.0, the default evaluation metric used with the objective 'binary:logistic' was changed from 'error' to 'logloss'. Explicitly set eval_metric if you'd like to restore the old behavior.\n"
     ]
    },
    {
     "name": "stdout",
     "output_type": "stream",
     "text": [
      "[17:42:59] WARNING: /Users/travis/build/dmlc/xgboost/src/learner.cc:1061: Starting in XGBoost 1.3.0, the default evaluation metric used with the objective 'binary:logistic' was changed from 'error' to 'logloss'. Explicitly set eval_metric if you'd like to restore the old behavior.\n",
      "[17:42:59] WARNING: /Users/travis/build/dmlc/xgboost/src/learner.cc:1061: Starting in XGBoost 1.3.0, the default evaluation metric used with the objective 'binary:logistic' was changed from 'error' to 'logloss'. Explicitly set eval_metric if you'd like to restore the old behavior.\n",
      "[17:42:59] WARNING: /Users/travis/build/dmlc/xgboost/src/learner.cc:1061: Starting in XGBoost 1.3.0, the default evaluation metric used with the objective 'binary:logistic' was changed from 'error' to 'logloss'. Explicitly set eval_metric if you'd like to restore the old behavior.\n",
      "[17:43:00] WARNING: /Users/travis/build/dmlc/xgboost/src/learner.cc:1061: Starting in XGBoost 1.3.0, the default evaluation metric used with the objective 'binary:logistic' was changed from 'error' to 'logloss'. Explicitly set eval_metric if you'd like to restore the old behavior.\n",
      "[17:43:00] WARNING: /Users/travis/build/dmlc/xgboost/src/learner.cc:1061: Starting in XGBoost 1.3.0, the default evaluation metric used with the objective 'binary:logistic' was changed from 'error' to 'logloss'. Explicitly set eval_metric if you'd like to restore the old behavior.\n",
      "[17:43:00] WARNING: /Users/travis/build/dmlc/xgboost/src/learner.cc:1061: Starting in XGBoost 1.3.0, the default evaluation metric used with the objective 'binary:logistic' was changed from 'error' to 'logloss'. Explicitly set eval_metric if you'd like to restore the old behavior.\n",
      "[17:43:00] WARNING: /Users/travis/build/dmlc/xgboost/src/learner.cc:1061: Starting in XGBoost 1.3.0, the default evaluation metric used with the objective 'binary:logistic' was changed from 'error' to 'logloss'. Explicitly set eval_metric if you'd like to restore the old behavior.\n",
      "[17:43:01] WARNING: /Users/travis/build/dmlc/xgboost/src/learner.cc:1061: Starting in XGBoost 1.3.0, the default evaluation metric used with the objective 'binary:logistic' was changed from 'error' to 'logloss'. Explicitly set eval_metric if you'd like to restore the old behavior.\n",
      "[17:43:01] WARNING: /Users/travis/build/dmlc/xgboost/src/learner.cc:1061: Starting in XGBoost 1.3.0, the default evaluation metric used with the objective 'binary:logistic' was changed from 'error' to 'logloss'. Explicitly set eval_metric if you'd like to restore the old behavior.\n",
      "[17:43:02] WARNING: /Users/travis/build/dmlc/xgboost/src/learner.cc:1061: Starting in XGBoost 1.3.0, the default evaluation metric used with the objective 'binary:logistic' was changed from 'error' to 'logloss'. Explicitly set eval_metric if you'd like to restore the old behavior.\n",
      "[17:43:02] WARNING: /Users/travis/build/dmlc/xgboost/src/learner.cc:1061: Starting in XGBoost 1.3.0, the default evaluation metric used with the objective 'binary:logistic' was changed from 'error' to 'logloss'. Explicitly set eval_metric if you'd like to restore the old behavior.\n",
      "[17:43:02] WARNING: /Users/travis/build/dmlc/xgboost/src/learner.cc:1061: Starting in XGBoost 1.3.0, the default evaluation metric used with the objective 'binary:logistic' was changed from 'error' to 'logloss'. Explicitly set eval_metric if you'd like to restore the old behavior.\n",
      "[17:43:03] WARNING: /Users/travis/build/dmlc/xgboost/src/learner.cc:1061: Starting in XGBoost 1.3.0, the default evaluation metric used with the objective 'binary:logistic' was changed from 'error' to 'logloss'. Explicitly set eval_metric if you'd like to restore the old behavior.\n",
      "[17:43:03] WARNING: /Users/travis/build/dmlc/xgboost/src/learner.cc:1061: Starting in XGBoost 1.3.0, the default evaluation metric used with the objective 'binary:logistic' was changed from 'error' to 'logloss'. Explicitly set eval_metric if you'd like to restore the old behavior.\n",
      "[17:43:04] WARNING: /Users/travis/build/dmlc/xgboost/src/learner.cc:1061: Starting in XGBoost 1.3.0, the default evaluation metric used with the objective 'binary:logistic' was changed from 'error' to 'logloss'. Explicitly set eval_metric if you'd like to restore the old behavior.\n",
      "[17:43:04] WARNING: /Users/travis/build/dmlc/xgboost/src/learner.cc:1061: Starting in XGBoost 1.3.0, the default evaluation metric used with the objective 'binary:logistic' was changed from 'error' to 'logloss'. Explicitly set eval_metric if you'd like to restore the old behavior.\n",
      "[17:43:04] WARNING: /Users/travis/build/dmlc/xgboost/src/learner.cc:1061: Starting in XGBoost 1.3.0, the default evaluation metric used with the objective 'binary:logistic' was changed from 'error' to 'logloss'. Explicitly set eval_metric if you'd like to restore the old behavior.\n",
      "[17:43:05] WARNING: /Users/travis/build/dmlc/xgboost/src/learner.cc:1061: Starting in XGBoost 1.3.0, the default evaluation metric used with the objective 'binary:logistic' was changed from 'error' to 'logloss'. Explicitly set eval_metric if you'd like to restore the old behavior.\n",
      "[17:43:05] WARNING: /Users/travis/build/dmlc/xgboost/src/learner.cc:1061: Starting in XGBoost 1.3.0, the default evaluation metric used with the objective 'binary:logistic' was changed from 'error' to 'logloss'. Explicitly set eval_metric if you'd like to restore the old behavior.\n",
      "[17:43:06] WARNING: /Users/travis/build/dmlc/xgboost/src/learner.cc:1061: Starting in XGBoost 1.3.0, the default evaluation metric used with the objective 'binary:logistic' was changed from 'error' to 'logloss'. Explicitly set eval_metric if you'd like to restore the old behavior.\n",
      "[17:43:06] WARNING: /Users/travis/build/dmlc/xgboost/src/learner.cc:1061: Starting in XGBoost 1.3.0, the default evaluation metric used with the objective 'binary:logistic' was changed from 'error' to 'logloss'. Explicitly set eval_metric if you'd like to restore the old behavior.\n",
      "395 ms ± 25.1 ms per loop (mean ± std. dev. of 7 runs, 10 loops each)\n"
     ]
    }
   ],
   "source": [
    "# 测试XGBC运行时间\n",
    "%timeit xgboost.XGBClassifier().fit(X_train, y_train) if xgboost is not None else None"
   ]
  },
  {
   "cell_type": "code",
   "execution_count": 499,
   "metadata": {},
   "outputs": [
    {
     "name": "stdout",
     "output_type": "stream",
     "text": [
      "353 ms ± 28.7 ms per loop (mean ± std. dev. of 7 runs, 1 loop each)\n"
     ]
    }
   ],
   "source": [
    "# 测试GBCT运行时间\n",
    "%timeit GradientBoostingClassifier().fit(X_train, y_train)"
   ]
  },
  {
   "cell_type": "markdown",
   "metadata": {},
   "source": [
    "# Stacking Ensemble"
   ]
  },
  {
   "cell_type": "markdown",
   "metadata": {},
   "source": [
    "![4](./learning_images/4.png)"
   ]
  },
  {
   "cell_type": "code",
   "execution_count": 429,
   "metadata": {},
   "outputs": [],
   "source": [
    "X_val_predictions = np.empty((len(X_val), len(estimators)), dtype=np.float32)\n",
    "\n",
    "# 每一个分类器对验证集中所有实例数据点的预测分类类别\n",
    "for index, estimator in enumerate(estimators):\n",
    "    X_val_predictions[:, index] = estimator.predict(X_val)"
   ]
  },
  {
   "cell_type": "code",
   "execution_count": 430,
   "metadata": {},
   "outputs": [
    {
     "data": {
      "text/plain": [
       "array([[ 1.,  1.,  1.,  1.,  1.],\n",
       "       [-1., -1., -1., -1., -1.],\n",
       "       [ 1.,  1.,  1.,  1., -1.],\n",
       "       ...,\n",
       "       [ 1.,  1.,  1.,  1.,  1.],\n",
       "       [-1.,  1., -1.,  1., -1.],\n",
       "       [-1., -1., -1., -1., -1.]], dtype=float32)"
      ]
     },
     "execution_count": 430,
     "metadata": {},
     "output_type": "execute_result"
    }
   ],
   "source": [
    "X_val_predictions"
   ]
  },
  {
   "cell_type": "code",
   "execution_count": 433,
   "metadata": {},
   "outputs": [
    {
     "data": {
      "text/plain": [
       "RandomForestClassifier(bootstrap=True, class_weight=None, criterion='gini',\n",
       "                       max_depth=None, max_features='auto', max_leaf_nodes=None,\n",
       "                       min_impurity_decrease=0.0, min_impurity_split=None,\n",
       "                       min_samples_leaf=1, min_samples_split=2,\n",
       "                       min_weight_fraction_leaf=0.0, n_estimators=200,\n",
       "                       n_jobs=None, oob_score=True, random_state=42, verbose=0,\n",
       "                       warm_start=False)"
      ]
     },
     "execution_count": 433,
     "metadata": {},
     "output_type": "execute_result"
    }
   ],
   "source": [
    "# 以随机森林作为blender，可选MLP，SVM等其他分类器\n",
    "rnd_forest_blender = RandomForestClassifier(n_estimators=200, oob_score=True, random_state=42)\n",
    "rnd_forest_blender.fit(X_val_predictions, y_val)"
   ]
  },
  {
   "cell_type": "code",
   "execution_count": 435,
   "metadata": {},
   "outputs": [
    {
     "data": {
      "text/plain": [
       "0.9708994708994709"
      ]
     },
     "execution_count": 435,
     "metadata": {},
     "output_type": "execute_result"
    }
   ],
   "source": [
    "# 随机森林的out-of-bag评分\n",
    "rnd_forest_blender.oob_score_"
   ]
  },
  {
   "cell_type": "code",
   "execution_count": 436,
   "metadata": {},
   "outputs": [],
   "source": [
    "X_test_predictions = np.empty((len(X_test), len(estimators)), dtype=np.float32)\n",
    "\n",
    "# 每一个分类器对测试集所有训练实例的预测分类类别\n",
    "for index, estimator in enumerate(estimators):\n",
    "    X_test_predictions[:, index] = estimator.predict(X_test)"
   ]
  },
  {
   "cell_type": "code",
   "execution_count": 437,
   "metadata": {},
   "outputs": [],
   "source": [
    "y_pred = rnd_forest_blender.predict(X_test_predictions)"
   ]
  },
  {
   "cell_type": "code",
   "execution_count": 438,
   "metadata": {},
   "outputs": [
    {
     "data": {
      "text/plain": [
       "0.9427966101694916"
      ]
     },
     "execution_count": 438,
     "metadata": {},
     "output_type": "execute_result"
    }
   ],
   "source": [
    "from sklearn.metrics import accuracy_score\n",
    "\n",
    "accuracy_score(y_test, y_pred)"
   ]
  }
 ],
 "metadata": {
  "kernelspec": {
   "display_name": "Python 3",
   "language": "python",
   "name": "python3"
  },
  "language_info": {
   "codemirror_mode": {
    "name": "ipython",
    "version": 3
   },
   "file_extension": ".py",
   "mimetype": "text/x-python",
   "name": "python",
   "nbconvert_exporter": "python",
   "pygments_lexer": "ipython3",
   "version": "3.9.0"
  }
 },
 "nbformat": 4,
 "nbformat_minor": 4
}
